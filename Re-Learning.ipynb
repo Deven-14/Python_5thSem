{
 "cells": [
  {
   "cell_type": "markdown",
   "id": "08af731f",
   "metadata": {},
   "source": [
    "# list"
   ]
  },
  {
   "cell_type": "markdown",
   "id": "9778df47",
   "metadata": {},
   "source": [
    "append(value)\n",
    "\n",
    "extend(iterable), a[len(a): ] = b\n",
    "\n",
    "insert(i, val), a[i, i] = val\n",
    "\n",
    "remove(val) # throw error\n",
    "\n",
    "pop([index]) # doesn't throw error, if i not mentioned, then pop last item\n",
    "\n",
    "index(val, start, stop) # [start, stop)\n",
    "\n",
    "count(val)\n",
    "\n",
    "clear(), **del a[i:j:k]**\n",
    "\n",
    "copy(), a[:]\n",
    "\n",
    "sort(key=None, reverse=True) # key=str.lower, key is a function\n",
    "\n",
    "reverse()\n",
    "\n",
    "len(a)\n",
    "\n",
    "b = [x for x in range(1, 11, 2)]\n",
    "\n",
    "list(b)"
   ]
  },
  {
   "cell_type": "code",
   "execution_count": 15,
   "id": "4c21b426",
   "metadata": {},
   "outputs": [
    {
     "name": "stdout",
     "output_type": "stream",
     "text": [
      "[[1, 2], 3] [[1, 2], 4]\n",
      "[[1, 5], 3] [[1, 5], 4]\n"
     ]
    }
   ],
   "source": [
    "# copy\n",
    "a = [[1, 2], 3]\n",
    "b = a.copy() # RETURNS A SHALLOW COPY, I.E., equivalent to a[:]\n",
    "b[1] = 4\n",
    "print(a, b) # a - [[1, 2], 3], b - [[1, 2], 4]\n",
    "b[0][1] = 5  # a - [[1, 5], 3], b - [[1, 5], 4]\n",
    "print(a, b)"
   ]
  },
  {
   "cell_type": "code",
   "execution_count": 16,
   "id": "eadae9c4",
   "metadata": {},
   "outputs": [
    {
     "name": "stdout",
     "output_type": "stream",
     "text": [
      "lst3 [[2], [2], [2]]\n",
      "lst3 [[2], [], []]\n"
     ]
    }
   ],
   "source": [
    "# * operator\n",
    "lst3 = [[]] * 3\n",
    "lst3[0].append(2)\n",
    "print(\"lst3\", lst3)\n",
    "\n",
    "lst3 = [[] for _ in range(3)]\n",
    "lst3[0].append(2)\n",
    "print(\"lst3\", lst3)\n",
    "# lst *= 3"
   ]
  },
  {
   "cell_type": "code",
   "execution_count": 17,
   "id": "688cfe62",
   "metadata": {},
   "outputs": [],
   "source": [
    "# lst += lst2\n",
    "# lst[i:j] = lst2   # lst2 should be ITERABLE\n",
    "# lst[i:j:k] = lst2   # lst2 should be ITERABLE, lst[i:j:k] = 5 doesn't work"
   ]
  },
  {
   "cell_type": "markdown",
   "id": "f3be7bff",
   "metadata": {},
   "source": [
    "# range"
   ]
  },
  {
   "cell_type": "code",
   "execution_count": 18,
   "id": "32014aeb",
   "metadata": {},
   "outputs": [
    {
     "data": {
      "text/plain": [
       "(range(0, 20, 2), False, True, 5, 10, range(0, 10, 2), 18)"
      ]
     },
     "execution_count": 18,
     "metadata": {},
     "output_type": "execute_result"
    }
   ],
   "source": [
    "r = range(0, 20, 2)\n",
    "r, 11 in r, 10 in r, r.index(10), r[5], r[:5], r[-1]"
   ]
  },
  {
   "cell_type": "markdown",
   "id": "3fd3e753",
   "metadata": {},
   "source": [
    "# set / frozenset"
   ]
  },
  {
   "cell_type": "markdown",
   "id": "6ff88506",
   "metadata": {},
   "source": [
    "add(value)\n",
    "\n",
    "remove(val)\n",
    "\n",
    "discard(val)\n",
    "\n",
    "pop() # random\n",
    "\n",
    "copy()\n",
    "\n",
    "clear()\n",
    "<br><br><br>\n",
    "isdisjoint(other)\n",
    "\n",
    "issubset(other), s < s2, s <= s2\n",
    "\n",
    "issuperset(other), s > s2, s <= s2\n",
    "<br><br><br>\n",
    "RETURN NEW SET - \n",
    "\n",
    "union(*other), s | s2 | s3, (or | is union)\n",
    "\n",
    "intersection(*other), s & s2 & s3, (and & is intersection)\n",
    "\n",
    "difference(*other), s - s2 - s3, (minus - is difference)\n",
    "\n",
    "symmetric_difference(*other), s ^ s2 ^ s3, (xor ^ is symmetric_difference(either should be one, but not both))\n",
    "<br><br><br>\n",
    "UPDATE ON THE EXISTING SET - \n",
    "\n",
    "update(*other), s |= s2 | s3, (or |= is update)\n",
    "\n",
    "intersection_update(*other), s &= s2 & s3\n",
    "\n",
    "difference_update(*other), s -= s2 - s3\n",
    "\n",
    "symmetric_difference_update(*other), s ^= s2 ^ s3\n",
    "<br><br><br>\n",
    "s = {c for c in \"abracadabra\" if c not in \"abc\"}\n",
    "\n",
    "s = set() # {} for dict, won't work for set, u gotta do set()\n",
    "\n",
    "s = set(\"foobar\")\n",
    "\n",
    "s = set([1, 2, 3, 4, 4])"
   ]
  },
  {
   "cell_type": "markdown",
   "id": "2efd60ff",
   "metadata": {},
   "source": [
    "# dict"
   ]
  },
  {
   "cell_type": "code",
   "execution_count": 1,
   "id": "36ecd798",
   "metadata": {},
   "outputs": [
    {
     "data": {
      "text/plain": [
       "{0: 0, 1: 1, 2: 4, 3: 9, 4: 16, 5: 25, 6: 36, 7: 49, 8: 64, 9: 81}"
      ]
     },
     "execution_count": 1,
     "metadata": {},
     "output_type": "execute_result"
    }
   ],
   "source": [
    "d = {}\n",
    "d = {1:1, 2:2}\n",
    "d = {x:x**2 for x in range(10)}\n",
    "d"
   ]
  },
  {
   "cell_type": "code",
   "execution_count": 2,
   "id": "e322b8e3",
   "metadata": {},
   "outputs": [
    {
     "data": {
      "text/plain": [
       "{1: 0, 2: 0, 3: 0, 4: 0, 56: 0, 7: 0, 8: 0, 9: 0}"
      ]
     },
     "execution_count": 2,
     "metadata": {},
     "output_type": "execute_result"
    }
   ],
   "source": [
    "a = [1, 2, 1, 2, 3, 4, 56, 7, 8, 9, 8, 7, 9]\n",
    "d = dict.fromkeys(a, 0)\n",
    "d"
   ]
  },
  {
   "cell_type": "code",
   "execution_count": 4,
   "id": "b7ce4cdc",
   "metadata": {},
   "outputs": [
    {
     "data": {
      "text/plain": [
       "(8, 0, True, False)"
      ]
     },
     "execution_count": 4,
     "metadata": {},
     "output_type": "execute_result"
    }
   ],
   "source": [
    "len(d), d[2], 2 in d, 3 not in d"
   ]
  },
  {
   "cell_type": "code",
   "execution_count": 5,
   "id": "f27530ef",
   "metadata": {},
   "outputs": [],
   "source": [
    "del d[4]"
   ]
  },
  {
   "cell_type": "code",
   "execution_count": 6,
   "id": "042aa9a5",
   "metadata": {},
   "outputs": [
    {
     "data": {
      "text/plain": [
       "{1: 0, 2: 0, 3: 0, 56: 0, 7: 0, 8: 0, 9: 0}"
      ]
     },
     "execution_count": 6,
     "metadata": {},
     "output_type": "execute_result"
    }
   ],
   "source": [
    "d"
   ]
  },
  {
   "cell_type": "code",
   "execution_count": 7,
   "id": "687a9dcf",
   "metadata": {},
   "outputs": [
    {
     "data": {
      "text/plain": [
       "(dict_items([(1, 0), (2, 0), (3, 0), (56, 0), (7, 0), (8, 0), (9, 0)]),\n",
       " dict_keys([1, 2, 3, 56, 7, 8, 9]),\n",
       " dict_values([0, 0, 0, 0, 0, 0, 0]))"
      ]
     },
     "execution_count": 7,
     "metadata": {},
     "output_type": "execute_result"
    }
   ],
   "source": [
    "d.items(), d.keys(), d.values()"
   ]
  },
  {
   "cell_type": "markdown",
   "id": "f029d8f4",
   "metadata": {},
   "source": [
    "d.get(key, default), d.get(key)\n",
    "\n",
    "d.pop(key, default), d.pop(key)\n",
    "\n",
    "d.popitem() remove last item\n",
    "\n",
    "d.setdefault(key, default), d.setdefault(key) # default None\n",
    "\n",
    "d.update(other) # update d itself, d |= e\n",
    "\n",
    "d | e # return new dict"
   ]
  },
  {
   "cell_type": "code",
   "execution_count": 8,
   "id": "447d46a0",
   "metadata": {},
   "outputs": [
    {
     "data": {
      "text/plain": [
       "({1: 0, 2: 0, 3: 0, 56: 0, 7: 0, 8: 0, 9: 0}, None)"
      ]
     },
     "execution_count": 8,
     "metadata": {},
     "output_type": "execute_result"
    }
   ],
   "source": [
    "d.copy(), d.clear()"
   ]
  },
  {
   "cell_type": "code",
   "execution_count": 9,
   "id": "4bf06a56",
   "metadata": {},
   "outputs": [
    {
     "data": {
      "text/plain": [
       "{10: 11111}"
      ]
     },
     "execution_count": 9,
     "metadata": {},
     "output_type": "execute_result"
    }
   ],
   "source": [
    "d[10] = 11111\n",
    "d"
   ]
  },
  {
   "cell_type": "code",
   "execution_count": 11,
   "id": "b703025b",
   "metadata": {},
   "outputs": [
    {
     "data": {
      "text/plain": [
       "([10], [10], [(10, 11111)], [11111])"
      ]
     },
     "execution_count": 11,
     "metadata": {},
     "output_type": "execute_result"
    }
   ],
   "source": [
    "list(d), list(d.keys()), list(d.items()), list(d.values())"
   ]
  },
  {
   "cell_type": "code",
   "execution_count": 15,
   "id": "131e1e32",
   "metadata": {},
   "outputs": [
    {
     "data": {
      "text/plain": [
       "([10], [10])"
      ]
     },
     "execution_count": 15,
     "metadata": {},
     "output_type": "execute_result"
    }
   ],
   "source": [
    "list(reversed(d)), list(reversed(d.keys()))"
   ]
  },
  {
   "cell_type": "markdown",
   "id": "e3529407",
   "metadata": {},
   "source": [
    "# Collections"
   ]
  },
  {
   "cell_type": "markdown",
   "id": "81bf9ffd",
   "metadata": {},
   "source": [
    "### chainMap"
   ]
  },
  {
   "cell_type": "code",
   "execution_count": 16,
   "id": "97b1a2ea",
   "metadata": {},
   "outputs": [],
   "source": [
    "from collections import ChainMap"
   ]
  },
  {
   "cell_type": "markdown",
   "id": "0d78b5ba",
   "metadata": {},
   "source": [
    "d = ChainMap(a, b, c)\n",
    "\n",
    "d[1], d[5], d[\"dance\"]\n",
    "\n",
    "d.maps - [], d.parents - ChainMap()\n",
    "\n",
    "d.new_child(m=None, **kwargs)\n",
    "\n",
    "**del e[1] # says key not found in the first map, for deleting, key has to be present in the first map**"
   ]
  },
  {
   "cell_type": "code",
   "execution_count": 17,
   "id": "9c624028",
   "metadata": {},
   "outputs": [],
   "source": [
    "class DeepChainMap(ChainMap):\n",
    "    'Variant of ChainMap that allows direct updates to inner scopes'\n",
    "\n",
    "    def __setitem__(self, key, value):\n",
    "        for mapping in self.maps:\n",
    "            if key in mapping:\n",
    "                mapping[key] = value\n",
    "                return\n",
    "        self.maps[0][key] = value\n",
    "\n",
    "    def __delitem__(self, key):\n",
    "        for mapping in self.maps:\n",
    "            if key in mapping:\n",
    "                del mapping[key]\n",
    "                return\n",
    "        raise KeyError(key)"
   ]
  },
  {
   "cell_type": "markdown",
   "id": "86716ffb",
   "metadata": {},
   "source": [
    "### Counter"
   ]
  },
  {
   "cell_type": "code",
   "execution_count": 18,
   "id": "68a3d9e9",
   "metadata": {},
   "outputs": [],
   "source": [
    "from collections import Counter"
   ]
  },
  {
   "cell_type": "code",
   "execution_count": 19,
   "id": "4e130b64",
   "metadata": {},
   "outputs": [
    {
     "data": {
      "text/plain": [
       "(Counter(),\n",
       " Counter({'g': 1, 'a': 2, 'l': 2, 'n': 1, 'd': 1}),\n",
       " Counter({'red': 4, 'blue': 2}),\n",
       " Counter({'cats': 4, 'dogs': 8}),\n",
       " Counter({'eggs': 1, 'ham': 1}))"
      ]
     },
     "execution_count": 19,
     "metadata": {},
     "output_type": "execute_result"
    }
   ],
   "source": [
    "a = Counter()\n",
    "b = Counter(\"galland\")\n",
    "c = Counter({\"red\": 4, \"blue\": 2})\n",
    "d = Counter(cats=4, dogs=8)\n",
    "e = Counter([\"eggs\", \"ham\"]) # taken as 1 ND NOT 0******************\n",
    "a, b, c, d, e"
   ]
  },
  {
   "cell_type": "code",
   "execution_count": 20,
   "id": "d8185b54",
   "metadata": {},
   "outputs": [
    {
     "data": {
      "text/plain": [
       "Counter({'red': 2, 'blue': 3, 'green': 1})"
      ]
     },
     "execution_count": 20,
     "metadata": {},
     "output_type": "execute_result"
    }
   ],
   "source": [
    "Counter(['red', 'blue', 'red', 'green', 'blue', 'blue'])"
   ]
  },
  {
   "cell_type": "markdown",
   "id": "587b60e5",
   "metadata": {},
   "source": [
    "Find the ten most common words in Hamlet<br>\n",
    "import re <br>\n",
    "words = re.findall(r'\\w+', open('hamlet.txt').read().lower()) <br>\n",
    "Counter(words).most_common(10)"
   ]
  },
  {
   "cell_type": "code",
   "execution_count": 21,
   "id": "6edb464e",
   "metadata": {},
   "outputs": [
    {
     "name": "stdout",
     "output_type": "stream",
     "text": [
      "Counter({'eggs': 2, 'ham': 1})\n"
     ]
    }
   ],
   "source": [
    "c = Counter([\"eggs\", \"ham\"])\n",
    "c[\"eggs\"] += 1\n",
    "print(c) # it remembers insertion order, not modification order"
   ]
  },
  {
   "cell_type": "code",
   "execution_count": 22,
   "id": "51b1f21b",
   "metadata": {},
   "outputs": [],
   "source": [
    "c[\"sausage\"] = 0   # counter entry with a zero count\n",
    "del c[\"sausage\"]   # counter entry with a zero count\n",
    "# remember this, for iteration it will be required"
   ]
  },
  {
   "cell_type": "markdown",
   "id": "ca62c486",
   "metadata": {},
   "source": [
    "elements(), list(c.elements()), sorted(c.elements())\n",
    "\n",
    "most_common([n])\n",
    "\n",
    "subtract([iterable-or-mapping])\n",
    "\n",
    "update([iterable-or-mapping])\n",
    "\n",
    "total() # v3.10"
   ]
  },
  {
   "cell_type": "markdown",
   "id": "124d12cd",
   "metadata": {},
   "source": [
    "**Counter(dict(list_of_pairs))   # convert from a list of (elem, cnt) pairs**\n",
    "\n",
    "c.most_common()[:-n-1:-1]       # n least common elements\n",
    "\n",
    "sorted(c.most_common()[-n:], key=itemgetter(1)) # n least common eles in order of their first occurance\n",
    "\n",
    "+c                              # remove zero and negative counts\n",
    "\n",
    "-c # interchanges negative and positive and removes -ve and 0 values\n",
    "\n",
    "==, !=, <=, >=, >, < available\n",
    "\n",
    "items(), (elem, count) pairs"
   ]
  },
  {
   "cell_type": "markdown",
   "id": "4b28d3aa",
   "metadata": {},
   "source": [
    "### deque"
   ]
  },
  {
   "cell_type": "code",
   "execution_count": 24,
   "id": "f62327f8",
   "metadata": {},
   "outputs": [],
   "source": [
    "from collections import deque"
   ]
  },
  {
   "cell_type": "markdown",
   "id": "d3ac4f11",
   "metadata": {},
   "source": [
    "append(val), appendleft(val)\n",
    "\n",
    "extend(iterable), extendleft(iterable)\n",
    "\n",
    "pop(), popleft()\n",
    "\n",
    "clear(), copy()\n",
    "\n",
    "count(val)\n",
    "\n",
    "index(val)\n",
    "\n",
    "remove(val) # remove first occurance, ValueError not found\n",
    "\n",
    "reverse()\n",
    "\n",
    "rotate(n) +ve right rotate, -ve left rotate\n",
    "\n",
    ".maxlen"
   ]
  },
  {
   "cell_type": "code",
   "execution_count": 26,
   "id": "515b5bbe",
   "metadata": {},
   "outputs": [],
   "source": [
    "# same logic for sum of moving window\n",
    "def moving_average(iterable, n=3):\n",
    "    # moving_average([40, 30, 50, 46, 39, 44]) --> 40.0 42.0 45.0 43.0\n",
    "    # http://en.wikipedia.org/wiki/Moving_average\n",
    "    it = iter(iterable)\n",
    "    d = deque(itertools.islice(it, n-1))\n",
    "    d.appendleft(0)\n",
    "    s = sum(d)\n",
    "    for elem in it:\n",
    "        s += elem - d.popleft()\n",
    "        d.append(elem)\n",
    "        yield s / n"
   ]
  },
  {
   "cell_type": "code",
   "execution_count": 27,
   "id": "acd9c367",
   "metadata": {},
   "outputs": [],
   "source": [
    "def delete_nth(d, n):\n",
    "    d.rotate(-n)\n",
    "    d.popleft()\n",
    "    d.rotate(n)"
   ]
  },
  {
   "cell_type": "markdown",
   "id": "76bd712d",
   "metadata": {},
   "source": [
    "### defaultdict"
   ]
  },
  {
   "cell_type": "code",
   "execution_count": 28,
   "id": "9b030e96",
   "metadata": {},
   "outputs": [],
   "source": [
    "from collections import defaultdict"
   ]
  },
  {
   "cell_type": "code",
   "execution_count": 30,
   "id": "e9ca9c2f",
   "metadata": {},
   "outputs": [
    {
     "data": {
      "text/plain": [
       "<function __main__.<lambda>()>"
      ]
     },
     "execution_count": 30,
     "metadata": {},
     "output_type": "execute_result"
    }
   ],
   "source": [
    "lambda: 5 # lambda function with no argument"
   ]
  },
  {
   "cell_type": "code",
   "execution_count": 31,
   "id": "f468b31f",
   "metadata": {},
   "outputs": [
    {
     "data": {
      "text/plain": [
       "[('blue', [2, 4]), ('red', [1]), ('yellow', [1, 3])]"
      ]
     },
     "execution_count": 31,
     "metadata": {},
     "output_type": "execute_result"
    }
   ],
   "source": [
    "s = [('yellow', 1), ('blue', 2), ('yellow', 3), ('blue', 4), ('red', 1)]\n",
    "d = defaultdict(list)\n",
    "for k, v in s:\n",
    "    d[k].append(v)\n",
    "sorted(d.items())"
   ]
  },
  {
   "cell_type": "code",
   "execution_count": 32,
   "id": "69171070",
   "metadata": {},
   "outputs": [
    {
     "data": {
      "text/plain": [
       "[('i', 4), ('m', 1), ('p', 2), ('s', 4)]"
      ]
     },
     "execution_count": 32,
     "metadata": {},
     "output_type": "execute_result"
    }
   ],
   "source": [
    "s = 'mississippi'\n",
    "d = defaultdict(int) # for 0\n",
    "for k in s:\n",
    "    d[k] += 1\n",
    "sorted(d.items())"
   ]
  },
  {
   "cell_type": "code",
   "execution_count": 33,
   "id": "0f132eda",
   "metadata": {},
   "outputs": [],
   "source": [
    "def constant_factory(value):\n",
    "    return lambda: value"
   ]
  },
  {
   "cell_type": "code",
   "execution_count": 34,
   "id": "b59259cd",
   "metadata": {},
   "outputs": [
    {
     "name": "stdout",
     "output_type": "stream",
     "text": [
      "John ran to <missing>\n"
     ]
    }
   ],
   "source": [
    "d = defaultdict(constant_factory('<missing>'))\n",
    "d.update(name='John', action='ran')\n",
    "print(f'{d[\"name\"]} {d[\"action\"]} to {d[\"object\"]}')"
   ]
  },
  {
   "cell_type": "markdown",
   "id": "3bdac285",
   "metadata": {},
   "source": [
    "### namedtuple"
   ]
  },
  {
   "cell_type": "markdown",
   "id": "005c4aa8",
   "metadata": {},
   "source": [
    "namedtuple(typename, field_names, *, rename=False, defaults=None, module=None)"
   ]
  },
  {
   "cell_type": "code",
   "execution_count": 35,
   "id": "911a89eb",
   "metadata": {},
   "outputs": [],
   "source": [
    "from collections import namedtuple"
   ]
  },
  {
   "cell_type": "code",
   "execution_count": 36,
   "id": "be69fda4",
   "metadata": {},
   "outputs": [],
   "source": [
    "Point = namedtuple(\"Point\", ['x', 'y'], rename=True, defaults=(0, 0))"
   ]
  },
  {
   "cell_type": "code",
   "execution_count": 37,
   "id": "483b322a",
   "metadata": {},
   "outputs": [
    {
     "data": {
      "text/plain": [
       "(33, 11, 22, Point(x=11, y=22))"
      ]
     },
     "execution_count": 37,
     "metadata": {},
     "output_type": "execute_result"
    }
   ],
   "source": [
    "p = Point(11, y=22)\n",
    "p[0] + p[1], p.x, p.y, p"
   ]
  },
  {
   "cell_type": "code",
   "execution_count": 39,
   "id": "74bda133",
   "metadata": {},
   "outputs": [
    {
     "data": {
      "text/plain": [
       "(11, 22)"
      ]
     },
     "execution_count": 39,
     "metadata": {},
     "output_type": "execute_result"
    }
   ],
   "source": [
    "x, y = p\n",
    "x, y"
   ]
  },
  {
   "cell_type": "code",
   "execution_count": 44,
   "id": "1f04d4eb",
   "metadata": {},
   "outputs": [
    {
     "name": "stdout",
     "output_type": "stream",
     "text": [
      "Point(x=1, y=2) ('x', 'y') {'x': 0, 'y': 0}\n",
      "Point(x=5, y=69)\n"
     ]
    }
   ],
   "source": [
    "# Classmethods\n",
    "\n",
    "t = [1, 2] # iterable\n",
    "\n",
    "print(Point._make(t), Point._fields, Point._field_defaults)\n",
    "print(p._replace(x=5, y=69)) # normal method"
   ]
  },
  {
   "cell_type": "code",
   "execution_count": 45,
   "id": "8e40f8a7",
   "metadata": {},
   "outputs": [
    {
     "data": {
      "text/plain": [
       "11"
      ]
     },
     "execution_count": 45,
     "metadata": {},
     "output_type": "execute_result"
    }
   ],
   "source": [
    "getattr(p, 'x')"
   ]
  },
  {
   "cell_type": "code",
   "execution_count": 46,
   "id": "c10cee6e",
   "metadata": {},
   "outputs": [
    {
     "data": {
      "text/plain": [
       "Point(x=11, y=22)"
      ]
     },
     "execution_count": 46,
     "metadata": {},
     "output_type": "execute_result"
    }
   ],
   "source": [
    "x = {'x':11, 'y':22}\n",
    "Point(**x)"
   ]
  },
  {
   "cell_type": "markdown",
   "id": "faaf49ca",
   "metadata": {},
   "source": [
    "### OrderedDict"
   ]
  },
  {
   "cell_type": "code",
   "execution_count": 48,
   "id": "241d25dc",
   "metadata": {},
   "outputs": [],
   "source": [
    "from collections import OrderedDict"
   ]
  },
  {
   "cell_type": "markdown",
   "id": "db1e4973",
   "metadata": {},
   "source": [
    "OrderedDict.fromkeys(iterable, default)\n",
    "\n",
    "popitem(last=True)\n",
    "\n",
    "move_to_end(key, last=True)\n",
    "\n",
    "**LIFO order if last is true or FIFO order if false.**"
   ]
  },
  {
   "cell_type": "code",
   "execution_count": 49,
   "id": "b3d7a3dc",
   "metadata": {},
   "outputs": [],
   "source": [
    "d = OrderedDict.fromkeys(\"abcde\")"
   ]
  },
  {
   "cell_type": "code",
   "execution_count": 50,
   "id": "8449cdfb",
   "metadata": {},
   "outputs": [
    {
     "data": {
      "text/plain": [
       "(OrderedDict([('a', None),\n",
       "              ('c', None),\n",
       "              ('d', None),\n",
       "              ('e', None),\n",
       "              ('b', None)]),\n",
       " 'acdeb')"
      ]
     },
     "execution_count": 50,
     "metadata": {},
     "output_type": "execute_result"
    }
   ],
   "source": [
    "d.move_to_end('b')\n",
    "d, ''.join(d)"
   ]
  },
  {
   "cell_type": "code",
   "execution_count": 51,
   "id": "0bf0481e",
   "metadata": {},
   "outputs": [
    {
     "data": {
      "text/plain": [
       "'bacde'"
      ]
     },
     "execution_count": 51,
     "metadata": {},
     "output_type": "execute_result"
    }
   ],
   "source": [
    "d.move_to_end('b', last=False)\n",
    "''.join(d)"
   ]
  },
  {
   "cell_type": "code",
   "execution_count": 52,
   "id": "8dd76e65",
   "metadata": {},
   "outputs": [],
   "source": [
    "class LastUpdatedOrderedDict(OrderedDict):\n",
    "    'Store items in the order the keys were last added'\n",
    "\n",
    "    def __setitem__(self, key, value):\n",
    "        super().__setitem__(key, value)\n",
    "        self.move_to_end(key)"
   ]
  },
  {
   "cell_type": "markdown",
   "id": "ce9622c8",
   "metadata": {},
   "source": [
    "# Itertools"
   ]
  },
  {
   "cell_type": "markdown",
   "id": "0bde1b3d",
   "metadata": {},
   "source": [
    "infinite iterators\n",
    "\n",
    "count([start=0, [step=1]])\n",
    "\n",
    "cycle(iterable)\n",
    "\n",
    "repeat(ele, [n])"
   ]
  },
  {
   "cell_type": "code",
   "execution_count": 55,
   "id": "f6967642",
   "metadata": {},
   "outputs": [],
   "source": [
    "from itertools import count, cycle, repeat"
   ]
  },
  {
   "cell_type": "code",
   "execution_count": 56,
   "id": "9f77caef",
   "metadata": {},
   "outputs": [
    {
     "data": {
      "text/plain": [
       "[0, 1, 4, 9, 16, 25, 36, 49, 64, 81]"
      ]
     },
     "execution_count": 56,
     "metadata": {},
     "output_type": "execute_result"
    }
   ],
   "source": [
    "list(map(pow, range(10), repeat(2)))"
   ]
  },
  {
   "cell_type": "markdown",
   "id": "97089877",
   "metadata": {},
   "source": [
    "terminating iterables, **return iterator, so use list( )**\n",
    "\n",
    "accumulate(iterable, [func=operator.add, *, initial=None])\n",
    "\n",
    "chain(*iterables), chain.from_iterable(iterable)\n",
    "\n",
    "compress(iterable, selectors)\n",
    "\n",
    "dropwhile( func, iterable )\n",
    "\n",
    "filterfalse(func, iterable) **modify the iterable with the func then if bool of that item is false, it is taken, \n",
    "i.e if func(item) is False, eg: 0, or len=0 then it's val is returned**\n",
    "\n",
    "groupby(iterable, [key=None]) # below description\n",
    "\n",
    "islice(iterable, [start], stop, [step=1])\n",
    "#islice('ABCDEFG', 2, None) --> C D E F G, None for going till the **END**\n",
    "\n",
    "pairwise(iterable) # (p[0], p[1]), (p[1], p[2]) # 3.10\n",
    "#pairwise('ABCDEFG') --> AB BC CD DE EF FG\n",
    "\n",
    "starmap(func, iterable)\n",
    "\n",
    "takewhile( func, iterable )\n",
    "\n",
    "tee(iterable, n=2) **gives n independent iterators which all start from the begining**\n",
    "\n",
    "zip_longest(*iterables, fillvalue=None)"
   ]
  },
  {
   "cell_type": "markdown",
   "id": "f5fa9a5f",
   "metadata": {},
   "source": [
    "**The operation of groupby() is similar to the uniq filter in Unix. It generates a break or new group every time the value of the key function changes (which is why it is usually necessary to have sorted the data using the same key function). That behavior differs from SQL’s GROUP BY which aggregates common elements regardless of their input order.**"
   ]
  },
  {
   "cell_type": "code",
   "execution_count": 101,
   "id": "ba675199",
   "metadata": {},
   "outputs": [],
   "source": [
    "from itertools import accumulate, chain, compress, filterfalse\n",
    "from itertools import dropwhile, takewhile, groupby, islice\n",
    "from itertools import starmap, tee"
   ]
  },
  {
   "cell_type": "code",
   "execution_count": 87,
   "id": "6fcadfd1",
   "metadata": {},
   "outputs": [
    {
     "name": "stdout",
     "output_type": "stream",
     "text": [
      "999, 1007, 1016, 1020, 1028, 1034, 1038, 1041, 1043, "
     ]
    }
   ],
   "source": [
    "plus2 = lambda x, y: x + y + 2\n",
    "\n",
    "for i in accumulate([6, 7, 2, 6, 4, 2, 1, 0], plus2, initial=999):\n",
    "    print(i, end=\", \")"
   ]
  },
  {
   "cell_type": "code",
   "execution_count": 88,
   "id": "bef0677b",
   "metadata": {},
   "outputs": [
    {
     "data": {
      "text/plain": [
       "[3, 12, 72, 144, 144, 1296, 0, 0, 0, 0]"
      ]
     },
     "execution_count": 88,
     "metadata": {},
     "output_type": "execute_result"
    }
   ],
   "source": [
    "# running product\n",
    "from operator import mul\n",
    "data = [3, 4, 6, 2, 1, 9, 0, 7, 5, 8]\n",
    "list(accumulate(data, mul))"
   ]
  },
  {
   "cell_type": "code",
   "execution_count": 89,
   "id": "2019a6c7",
   "metadata": {},
   "outputs": [
    {
     "data": {
      "text/plain": [
       "[3, 4, 6, 6, 6, 9, 9, 9, 9, 9]"
      ]
     },
     "execution_count": 89,
     "metadata": {},
     "output_type": "execute_result"
    }
   ],
   "source": [
    "# RUNNING MAXIMUM\n",
    "list(accumulate(data, max))              # running maximum"
   ]
  },
  {
   "cell_type": "code",
   "execution_count": 90,
   "id": "204a4d73",
   "metadata": {},
   "outputs": [],
   "source": [
    "# functools.reduce - returns only the final accumulated value"
   ]
  },
  {
   "cell_type": "code",
   "execution_count": 91,
   "id": "2b13bd08",
   "metadata": {},
   "outputs": [
    {
     "data": {
      "text/plain": [
       "[0, 2, 4, 6, 8]"
      ]
     },
     "execution_count": 91,
     "metadata": {},
     "output_type": "execute_result"
    }
   ],
   "source": [
    "list(filterfalse(lambda x: x % 2, range(10)))"
   ]
  },
  {
   "cell_type": "code",
   "execution_count": 92,
   "id": "ae275005",
   "metadata": {},
   "outputs": [
    {
     "data": {
      "text/plain": [
       "[0]"
      ]
     },
     "execution_count": 92,
     "metadata": {},
     "output_type": "execute_result"
    }
   ],
   "source": [
    "list(filterfalse(None, range(10))) # If predicate is None, \n",
    "# return the items that are false. i.e., items whose bool value is False"
   ]
  },
  {
   "cell_type": "code",
   "execution_count": 93,
   "id": "10a75e05",
   "metadata": {},
   "outputs": [
    {
     "data": {
      "text/plain": [
       "[1, 3, 5, 7, 9]"
      ]
     },
     "execution_count": 93,
     "metadata": {},
     "output_type": "execute_result"
    }
   ],
   "source": [
    "list(filter(lambda x: x % 2, range(10)))"
   ]
  },
  {
   "cell_type": "code",
   "execution_count": 94,
   "id": "0662cf6d",
   "metadata": {},
   "outputs": [
    {
     "data": {
      "text/plain": [
       "[1, 2, 3, 4, 5, 6, 7, 8, 9]"
      ]
     },
     "execution_count": 94,
     "metadata": {},
     "output_type": "execute_result"
    }
   ],
   "source": [
    "list(filter(None, range(10))) # If predicate is None, \n",
    "# return the items that are true. i.e., items whose bool value is False"
   ]
  },
  {
   "cell_type": "code",
   "execution_count": 95,
   "id": "2d1d31f5",
   "metadata": {},
   "outputs": [
    {
     "data": {
      "text/plain": [
       "(['a', 'b', 'f'],\n",
       " [['A', 'a', 'a', 'a', 'a', 'a', 'a', 'A', 'A', 'A', 'A'],\n",
       "  ['b', 'b', 'b', 'B', 'B', 'B'],\n",
       "  ['f']])"
      ]
     },
     "execution_count": 95,
     "metadata": {},
     "output_type": "execute_result"
    }
   ],
   "source": [
    "data = \"AaababafabaBAABABA\"\n",
    "keyfunc = str.lower\n",
    "\n",
    "groups = []\n",
    "uniquekeys = []\n",
    "data = sorted(data, key=keyfunc)\n",
    "for k, g in groupby(data, keyfunc):\n",
    "    groups.append(list(g))      # Store group iterator as a list\n",
    "    uniquekeys.append(k)\n",
    "\n",
    "uniquekeys, groups\n",
    "# RETURNED DATA IS NOT AFFECTED BY THE key FUNCTION"
   ]
  },
  {
   "cell_type": "code",
   "execution_count": 97,
   "id": "a0884b43",
   "metadata": {},
   "outputs": [
    {
     "data": {
      "text/plain": [
       "['B', 'D', 'F']"
      ]
     },
     "execution_count": 97,
     "metadata": {},
     "output_type": "execute_result"
    }
   ],
   "source": [
    "list(islice('ABCDEFG', 1, None, 2))"
   ]
  },
  {
   "cell_type": "code",
   "execution_count": 98,
   "id": "f2859100",
   "metadata": {},
   "outputs": [
    {
     "data": {
      "text/plain": [
       "[32, 9, 1000]"
      ]
     },
     "execution_count": 98,
     "metadata": {},
     "output_type": "execute_result"
    }
   ],
   "source": [
    "list(starmap(pow, [(2,5), (3,2), (10,3)]))"
   ]
  },
  {
   "cell_type": "code",
   "execution_count": 99,
   "id": "40deb84b",
   "metadata": {},
   "outputs": [
    {
     "data": {
      "text/plain": [
       "[32, 9, 1000]"
      ]
     },
     "execution_count": 99,
     "metadata": {},
     "output_type": "execute_result"
    }
   ],
   "source": [
    "n = [2, 3, 10]\n",
    "powers = [5, 2, 3]\n",
    "list(map(pow, n, powers))"
   ]
  },
  {
   "cell_type": "code",
   "execution_count": 102,
   "id": "61499bd2",
   "metadata": {},
   "outputs": [
    {
     "data": {
      "text/plain": [
       "[(1, 2, 3), (2, 3, 4), (3, 4, 5), (4, 5, 6), (5, 6, 7)]"
      ]
     },
     "execution_count": 102,
     "metadata": {},
     "output_type": "execute_result"
    }
   ],
   "source": [
    "a, b, c = tee([1, 2, 3, 4, 5, 6, 7], 3)\n",
    "next(b)\n",
    "next(c)\n",
    "next(c)\n",
    "list(zip(a, b, c))"
   ]
  },
  {
   "cell_type": "markdown",
   "id": "73f799b4",
   "metadata": {},
   "source": [
    "### Combinatoric iterators"
   ]
  },
  {
   "cell_type": "markdown",
   "id": "da8df648",
   "metadata": {},
   "source": [
    "product(*iterables, [repeat=1])\n",
    "\n",
    "permutations(iterable, [r])\n",
    "\n",
    "combinations(iterable, r) **r doesn't have a default value**\n",
    "\n",
    "combinations_with_replacement(iterable, r) **r doesn't have a default value**"
   ]
  },
  {
   "cell_type": "markdown",
   "id": "87a5c246",
   "metadata": {},
   "source": [
    "RESULTS\n",
    "\n",
    "product('ABCD', repeat=2)\n",
    "\n",
    "AA AB AC AD BA BB BC BD CA CB CC CD DA DB DC DD\n",
    "\n",
    "permutations('ABCD', 2)\n",
    "\n",
    "AB AC AD BA BC BD CA CB CD DA DB DC\n",
    "\n",
    "combinations('ABCD', 2)\n",
    "\n",
    "AB AC AD BC BD CD\n",
    "\n",
    "**combinations_with_replacement**('ABCD', 2)\n",
    "\n",
    "AA AB AC AD BB BC BD CC CD DD"
   ]
  },
  {
   "cell_type": "code",
   "execution_count": 109,
   "id": "22c504a1",
   "metadata": {},
   "outputs": [],
   "source": [
    "from itertools import product, permutations, combinations\n",
    "from itertools import combinations_with_replacement"
   ]
  },
  {
   "cell_type": "code",
   "execution_count": 106,
   "id": "6a90dd42",
   "metadata": {},
   "outputs": [
    {
     "data": {
      "text/plain": [
       "[(0, 0, 0),\n",
       " (0, 0, 1),\n",
       " (0, 1, 0),\n",
       " (0, 1, 1),\n",
       " (1, 0, 0),\n",
       " (1, 0, 1),\n",
       " (1, 1, 0),\n",
       " (1, 1, 1)]"
      ]
     },
     "execution_count": 106,
     "metadata": {},
     "output_type": "execute_result"
    }
   ],
   "source": [
    "# FOR BINARY FORM OF NUMBERS\n",
    "list(product(range(2), repeat=3))"
   ]
  },
  {
   "cell_type": "code",
   "execution_count": 107,
   "id": "6e1ec7d1",
   "metadata": {},
   "outputs": [
    {
     "data": {
      "text/plain": [
       "[(0, 0, 0),\n",
       " (0, 0, 1),\n",
       " (0, 1, 0),\n",
       " (0, 1, 1),\n",
       " (1, 0, 0),\n",
       " (1, 0, 1),\n",
       " (1, 1, 0),\n",
       " (1, 1, 1)]"
      ]
     },
     "execution_count": 107,
     "metadata": {},
     "output_type": "execute_result"
    }
   ],
   "source": [
    "# can also be\n",
    "list(product([0, 1], repeat=3))"
   ]
  },
  {
   "cell_type": "code",
   "execution_count": 108,
   "id": "0d6c7acf",
   "metadata": {},
   "outputs": [
    {
     "name": "stdout",
     "output_type": "stream",
     "text": [
      "[('A', 'x', 'A', 'x'), ('A', 'x', 'A', 'y'), ('A', 'x', 'B', 'x'), ('A', 'x', 'B', 'y'), ('A', 'y', 'A', 'x'), ('A', 'y', 'A', 'y'), ('A', 'y', 'B', 'x'), ('A', 'y', 'B', 'y'), ('B', 'x', 'A', 'x'), ('B', 'x', 'A', 'y'), ('B', 'x', 'B', 'x'), ('B', 'x', 'B', 'y'), ('B', 'y', 'A', 'x'), ('B', 'y', 'A', 'y'), ('B', 'y', 'B', 'x'), ('B', 'y', 'B', 'y')]\n"
     ]
    }
   ],
   "source": [
    "print(list(product(\"AB\", \"xy\", repeat=2)))"
   ]
  },
  {
   "cell_type": "markdown",
   "id": "34a8d9d0",
   "metadata": {},
   "source": [
    "# operator"
   ]
  },
  {
   "cell_type": "markdown",
   "id": "ba2cc89f",
   "metadata": {},
   "source": [
    "attrgetter(*attr)\n",
    "\n",
    "itemgetter(*item)\n",
    "\n",
    "methodcaller(name, /, * args, ** kwargs)"
   ]
  },
  {
   "cell_type": "markdown",
   "id": "f11ee2fe",
   "metadata": {},
   "source": [
    "# heapq"
   ]
  },
  {
   "cell_type": "markdown",
   "id": "dbd2a3b2",
   "metadata": {},
   "source": [
    "heapify(heap)\n",
    "\n",
    "heappush(heap, val)\n",
    "\n",
    "heappop(heap)\n",
    "\n",
    "heappushpop(heap, val)\n",
    "\n",
    "heapreaplace(heap, val) # equivalent to heappoppush"
   ]
  },
  {
   "cell_type": "markdown",
   "id": "eed899e1",
   "metadata": {},
   "source": [
    "**To access the smallest item without popping it, use heap[0].**"
   ]
  },
  {
   "cell_type": "markdown",
   "id": "fb6f65a9",
   "metadata": {},
   "source": [
    "These two (top (a) and (b) points) make it possible to view the heap as a regular Python list without surprises: <br>\n",
    "**heap[0] is the smallest item,** and <br>\n",
    "**heap.sort() maintains the heap invariant!**"
   ]
  },
  {
   "cell_type": "markdown",
   "id": "ffeaeba2",
   "metadata": {},
   "source": [
    "#### The module also offers three general purpose functions based on heaps."
   ]
  },
  {
   "cell_type": "markdown",
   "id": "258e18bf",
   "metadata": {},
   "source": [
    "1 merge(* iterables, key=None, reverse=False)\n",
    "\n",
    "sorted inputs into a single sorted output <br>\n",
    "Similar to sorted(itertools.chain(* iterables))"
   ]
  },
  {
   "cell_type": "markdown",
   "id": "94125a31",
   "metadata": {},
   "source": [
    "2 nlargest(n, iterable, key=None)\n",
    "\n",
    "Equivalent to: sorted(iterable, key=key, reverse=True)[:n]."
   ]
  },
  {
   "cell_type": "markdown",
   "id": "a85c88d5",
   "metadata": {},
   "source": [
    "3 nsmallest(n, iterable, key=None)\n",
    "\n",
    "Equivalent to: sorted(iterable, key=key, reverse=False)[:n]."
   ]
  },
  {
   "cell_type": "code",
   "execution_count": 112,
   "id": "ace1fe85",
   "metadata": {},
   "outputs": [],
   "source": [
    "def heapsort(iterable):\n",
    "    h = []\n",
    "    for value in iterable:\n",
    "        heapq.heappush(h, value) # heapify if original iterable can change\n",
    "    return [heapq.heappop(h) for i in range(len(h))]"
   ]
  },
  {
   "cell_type": "markdown",
   "id": "8b58914a",
   "metadata": {},
   "source": [
    "#### Heap elements can be tuples. This is useful for assigning comparison values (such as task priorities) alongside the main record being tracked:"
   ]
  },
  {
   "cell_type": "markdown",
   "id": "9c2527d6",
   "metadata": {},
   "source": [
    "Sort stability: how do you get two tasks with equal priorities to be returned in the order they were originally added?\n",
    "\n",
    "Tuple comparison breaks for (priority, task) pairs if the priorities are equal and the tasks do not have a default comparison order.\n",
    "\n",
    "A solution to the first two challenges is to store entries as **3-element list including the priority, an entry count, and the task.** The entry count serves as a tie-breaker so that two tasks with the same priority are returned in the order they were added. And since no two entry counts are the same, the tuple comparison will never attempt to directly compare two tasks."
   ]
  },
  {
   "cell_type": "markdown",
   "id": "ef7ceae1",
   "metadata": {},
   "source": [
    "# functools"
   ]
  },
  {
   "cell_type": "markdown",
   "id": "118efbed",
   "metadata": {},
   "source": [
    "**functools.reduce(function, iterable[, initializer])**<br>\n",
    "\n",
    "functools.cmp_to_key(func)\n",
    "\n",
    "@functools.cache(user_function)"
   ]
  },
  {
   "cell_type": "code",
   "execution_count": 3,
   "id": "1a2abfa6",
   "metadata": {},
   "outputs": [],
   "source": [
    "from functools import cache\n",
    "@cache\n",
    "def factorial(n):\n",
    "    return n * factorial(n-1) if n else 1"
   ]
  },
  {
   "cell_type": "code",
   "execution_count": 5,
   "id": "ded0c423",
   "metadata": {},
   "outputs": [
    {
     "data": {
      "text/plain": [
       "15"
      ]
     },
     "execution_count": 5,
     "metadata": {},
     "output_type": "execute_result"
    }
   ],
   "source": [
    "from functools import reduce\n",
    "reduce(lambda x, y: x+y, [1, 2, 3, 4, 5])"
   ]
  },
  {
   "cell_type": "code",
   "execution_count": null,
   "id": "6284efca",
   "metadata": {},
   "outputs": [],
   "source": []
  }
 ],
 "metadata": {
  "kernelspec": {
   "display_name": "Python 3 (ipykernel)",
   "language": "python",
   "name": "python3"
  },
  "language_info": {
   "codemirror_mode": {
    "name": "ipython",
    "version": 3
   },
   "file_extension": ".py",
   "mimetype": "text/x-python",
   "name": "python",
   "nbconvert_exporter": "python",
   "pygments_lexer": "ipython3",
   "version": "3.9.6"
  }
 },
 "nbformat": 4,
 "nbformat_minor": 5
}
