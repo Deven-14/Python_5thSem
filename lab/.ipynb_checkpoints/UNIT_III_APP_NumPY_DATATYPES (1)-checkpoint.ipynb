{
 "cells": [
  {
   "cell_type": "markdown",
   "metadata": {
    "id": "eYGaUhs-PJPI"
   },
   "source": [
    "Data Types in Python\n",
    "\n",
    "strings: used to represent text data under quote marks like \"ABCD\".\n",
    "\n",
    "integer: used to represent integer numbers like 1, 2, 3, -1, -2, -3.\n",
    "\n",
    "float: used to represent real numbers like 1.2, 42.42.\n",
    "\n",
    "boolean: used to represent True or False.\n",
    "\n",
    "complex: used to represent complex numbers like 1.0 + 2.0j, 1.5 + 2.5j .\n",
    "\n",
    "Data Types in NumPy\n",
    "\n",
    "NumPy has some extra data types and refers them with one character, like i for integers, u for unsigned integers etc. List of all data types in NumPy and the characters used to represent them is as follows:\n",
    "\n",
    "\n",
    "Checking the Data Type of an Array\n",
    "\n",
    "The NumPy array object has a property called dtype that returns the data type of the array.\n"
   ]
  },
  {
   "cell_type": "markdown",
   "metadata": {
    "id": "CDpWm73chFxU"
   },
   "source": [
    "Data Types in NumPy\n",
    "NumPy has some extra data types, and refer to data types with one character, like i for integers, u for unsigned integers etc.\n",
    "\n",
    "\n",
    "Below is a list of all data types in NumPy and the characters used to represent them.\n",
    "\n",
    "\n",
    "i - integer\n",
    "\n",
    "b - boolean\n",
    "\n",
    "u - unsigned integer\n",
    "\n",
    "f - float\n",
    "\n",
    "c - complex float\n",
    "\n",
    "m - timedelta\n",
    "\n",
    "M - datetime\n",
    "\n",
    "O - object\n",
    "\n",
    "S - string\n",
    "\n",
    "U - unicode string\n",
    "\n",
    "V - fixed chunk of memory for other type ( void )\n",
    "\n"
   ]
  },
  {
   "cell_type": "markdown",
   "metadata": {
    "id": "HEBoDicLPLeQ"
   },
   "source": [
    "\n",
    "**Program 1: Get the data type of an array object.**"
   ]
  },
  {
   "cell_type": "code",
   "execution_count": 1,
   "metadata": {
    "colab": {
     "base_uri": "https://localhost:8080/"
    },
    "id": "ItcYShp6PM0Y",
    "outputId": "8deff8d2-3f5c-406a-9fac-e5004f22d3a9",
    "scrolled": true
   },
   "outputs": [
    {
     "name": "stdout",
     "output_type": "stream",
     "text": [
      "The data type of arr is: int32\n"
     ]
    }
   ],
   "source": [
    "import numpy as np\n",
    "arr = np.array([1, 2, 3, 4])\n",
    "print(\"The data type of arr is:\", arr.dtype)"
   ]
  },
  {
   "cell_type": "markdown",
   "metadata": {
    "id": "5oyZYccrPTYp"
   },
   "source": [
    "**Program 2: Get the data type of an array containing strings**."
   ]
  },
  {
   "cell_type": "code",
   "execution_count": 2,
   "metadata": {
    "colab": {
     "base_uri": "https://localhost:8080/"
    },
    "id": "M8ltQ9QHPVl5",
    "outputId": "555da7cf-a3d6-4100-beda-2e72398b9967"
   },
   "outputs": [
    {
     "name": "stdout",
     "output_type": "stream",
     "text": [
      "The data type of arr is: <U6\n"
     ]
    }
   ],
   "source": [
    "import numpy as np\n",
    "arr = np.array(['apple', 'banana', 'cherry'])\n",
    "print(\"The data type of arr is:\", arr.dtype)"
   ]
  },
  {
   "cell_type": "markdown",
   "metadata": {
    "id": "aOe5y1hFPZo4"
   },
   "source": [
    "**Program 3: Create an array with data type string**."
   ]
  },
  {
   "cell_type": "code",
   "execution_count": 3,
   "metadata": {
    "colab": {
     "base_uri": "https://localhost:8080/"
    },
    "id": "gT2ouaemPb2J",
    "outputId": "9d53bcad-9b1d-4f15-b797-064b3b2356b4"
   },
   "outputs": [
    {
     "name": "stdout",
     "output_type": "stream",
     "text": [
      "The value of arr is [b'1' b'2' b'3' b'4']\n",
      "The data type of arr is: |S1\n"
     ]
    }
   ],
   "source": [
    "import numpy as np\n",
    "arr = np.array([1, 2, 3, 4], dtype='S')\n",
    "print(\"The value of arr is\", arr)\n",
    "print(\"The data type of arr is:\", arr.dtype)"
   ]
  },
  {
   "cell_type": "markdown",
   "metadata": {
    "id": "jLxhgLYbPeYZ"
   },
   "source": [
    "What if a Value Can Not Be Converted?\n",
    "\n",
    "If a type is given in which elements can't be casted then NumPy will raise a ValueError. In Python, ValueError is raised when the type of passed argument to a function is unexpected/incorrect."
   ]
  },
  {
   "cell_type": "markdown",
   "metadata": {
    "id": "L2_IyAYBPqFJ"
   },
   "source": [
    "**Program 5: A non integer string like 'a' can not be converted to integer (will raise an error).**"
   ]
  },
  {
   "cell_type": "code",
   "execution_count": 4,
   "metadata": {
    "colab": {
     "base_uri": "https://localhost:8080/",
     "height": 200
    },
    "id": "1Cl1BtSbPsff",
    "outputId": "cd2a9a24-00da-424e-91ac-a0b42123fc05"
   },
   "outputs": [
    {
     "ename": "ValueError",
     "evalue": "invalid literal for int() with base 10: 'a'",
     "output_type": "error",
     "traceback": [
      "\u001b[1;31m---------------------------------------------------------------------------\u001b[0m",
      "\u001b[1;31mValueError\u001b[0m                                Traceback (most recent call last)",
      "\u001b[1;32m~\\AppData\\Local\\Temp/ipykernel_20156/2004014751.py\u001b[0m in \u001b[0;36m<module>\u001b[1;34m\u001b[0m\n\u001b[0;32m      1\u001b[0m \u001b[1;32mimport\u001b[0m \u001b[0mnumpy\u001b[0m \u001b[1;32mas\u001b[0m \u001b[0mnp\u001b[0m\u001b[1;33m\u001b[0m\u001b[1;33m\u001b[0m\u001b[0m\n\u001b[1;32m----> 2\u001b[1;33m \u001b[0marr\u001b[0m \u001b[1;33m=\u001b[0m \u001b[0mnp\u001b[0m\u001b[1;33m.\u001b[0m\u001b[0marray\u001b[0m\u001b[1;33m(\u001b[0m\u001b[1;33m[\u001b[0m\u001b[1;34m'a'\u001b[0m\u001b[1;33m,\u001b[0m \u001b[1;34m'2'\u001b[0m\u001b[1;33m,\u001b[0m \u001b[1;34m'3'\u001b[0m\u001b[1;33m]\u001b[0m\u001b[1;33m,\u001b[0m \u001b[0mdtype\u001b[0m\u001b[1;33m=\u001b[0m\u001b[1;34m'i'\u001b[0m\u001b[1;33m)\u001b[0m\u001b[1;33m\u001b[0m\u001b[1;33m\u001b[0m\u001b[0m\n\u001b[0m\u001b[0;32m      3\u001b[0m \u001b[0mprint\u001b[0m\u001b[1;33m(\u001b[0m\u001b[1;34m\"The value of arr is:\"\u001b[0m\u001b[1;33m,\u001b[0m \u001b[0marr\u001b[0m\u001b[1;33m)\u001b[0m\u001b[1;33m\u001b[0m\u001b[1;33m\u001b[0m\u001b[0m\n",
      "\u001b[1;31mValueError\u001b[0m: invalid literal for int() with base 10: 'a'"
     ]
    }
   ],
   "source": [
    "import numpy as np\n",
    "arr = np.array(['a', '2', '3'], dtype='i')\n",
    "print(\"The value of arr is:\", arr)"
   ]
  },
  {
   "cell_type": "markdown",
   "metadata": {
    "id": "ab3kfdCKPxcB"
   },
   "source": [
    "Converting Data Type on Existing Arrays\n",
    "\n",
    "The best way to change the data type of an existing array, is to make a copy of the array with the astype() method. The astype() function creates a copy of the array, and allows us to specify the data type as a parameter. The data type can be specified using a string, like 'f' for float, 'i' for integer etc. or we can use the data type directly like float for float and int for integer."
   ]
  },
  {
   "cell_type": "markdown",
   "metadata": {
    "id": "XQz9_p4WP9Gh"
   },
   "source": [
    "**Change data type from float to integer by using 'i' as parameter value**."
   ]
  },
  {
   "cell_type": "code",
   "execution_count": 5,
   "metadata": {
    "colab": {
     "base_uri": "https://localhost:8080/"
    },
    "id": "SN0iYx5KPwnJ",
    "outputId": "1a5097f5-a9a5-47ac-f418-1615ac014898"
   },
   "outputs": [
    {
     "name": "stdout",
     "output_type": "stream",
     "text": [
      "The value of newarr is: [1 2 3]\n",
      "The data type of newarr is: int32\n"
     ]
    }
   ],
   "source": [
    "import numpy as np\n",
    "arr = np.array([1.1, 2.1, 3.1])\n",
    "newarr = arr.astype('i')\n",
    "print(\"The value of newarr is:\", newarr)\n",
    "print(\"The data type of newarr is:\", newarr.dtype)"
   ]
  },
  {
   "cell_type": "code",
   "execution_count": 6,
   "metadata": {
    "colab": {
     "base_uri": "https://localhost:8080/"
    },
    "id": "U_d0Rj27QAXh",
    "outputId": "c864ddf6-3552-4f90-84b0-71a86cb9107d"
   },
   "outputs": [
    {
     "name": "stdout",
     "output_type": "stream",
     "text": [
      "The value of newarr is: [1 2 3]\n",
      "The data type of newarr is: int32\n"
     ]
    }
   ],
   "source": [
    "import numpy as np\n",
    "arr = np.array([1.1, 2.1, 3.1])\n",
    "newarr = arr.astype(int)\n",
    "print(\"The value of newarr is:\", newarr)\n",
    "print(\"The data type of newarr is:\", newarr.dtype)"
   ]
  },
  {
   "cell_type": "code",
   "execution_count": 7,
   "metadata": {
    "colab": {
     "base_uri": "https://localhost:8080/"
    },
    "id": "zASIp2uLQDsp",
    "outputId": "4e0a9e6b-918b-42ef-878d-20117ae2a8ed"
   },
   "outputs": [
    {
     "name": "stdout",
     "output_type": "stream",
     "text": [
      "The value of newarr is: [ True False  True]\n",
      "The data type of newarr is: bool\n"
     ]
    }
   ],
   "source": [
    "#Change data type from integer to boolean.\n",
    "\n",
    "import numpy as np\n",
    "arr = np.array([1, 0, 3])\n",
    "newarr = arr.astype(bool)\n",
    "print(\"The value of newarr is:\", newarr)\n",
    "print(\"The data type of newarr is:\", newarr.dtype)"
   ]
  },
  {
   "cell_type": "markdown",
   "metadata": {},
   "source": [
    "### class notes"
   ]
  },
  {
   "cell_type": "code",
   "execution_count": 17,
   "metadata": {},
   "outputs": [
    {
     "name": "stdout",
     "output_type": "stream",
     "text": [
      "[ 0  1  2  3  4  5  6  7  8  9 10 11]\n",
      "[[ 0  1  2  3]\n",
      " [ 4  5  6  7]\n",
      " [ 8  9 10 11]]\n",
      "C -\n",
      "[[ 0  1  2  3]\n",
      " [ 4  5  6  7]\n",
      " [ 8  9 10 11]]\n",
      "F -\n",
      "[[ 0  3  6  9]\n",
      " [ 1  4  7 10]\n",
      " [ 2  5  8 11]]\n",
      "A -\n",
      "[[ 0  1  2  3]\n",
      " [ 4  5  6  7]\n",
      " [ 8  9 10 11]]\n"
     ]
    }
   ],
   "source": [
    "a1 = np.arange(12)\n",
    "print(a1)\n",
    "print(a1.reshape((3, 4)))\n",
    "print(\"C -\", a1.reshape(3, 4, order='C'), sep='\\n')\n",
    "print(\"F -\", a1.reshape(3, 4, order='F'), sep='\\n')\n",
    "print(\"A -\", a1.reshape(3, 4, order='A'), sep='\\n')"
   ]
  },
  {
   "cell_type": "code",
   "execution_count": 21,
   "metadata": {},
   "outputs": [
    {
     "name": "stdout",
     "output_type": "stream",
     "text": [
      "a30 [[[ 1  2  3  4]\n",
      "  [ 5  6  7  8]\n",
      "  [ 9 10 11 12]]\n",
      "\n",
      " [[13 14 15 16]\n",
      "  [17 18 19 20]\n",
      "  [21 22 23 24]]]\n",
      "a31 [[[ 1  2  3  4]\n",
      "  [13 14 15 16]]\n",
      "\n",
      " [[ 5  6  7  8]\n",
      "  [17 18 19 20]]\n",
      "\n",
      " [[ 9 10 11 12]\n",
      "  [21 22 23 24]]]\n",
      "a32 [[[ 1 13]\n",
      "  [ 2 14]\n",
      "  [ 3 15]\n",
      "  [ 4 16]]\n",
      "\n",
      " [[ 5 17]\n",
      "  [ 6 18]\n",
      "  [ 7 19]\n",
      "  [ 8 20]]\n",
      "\n",
      " [[ 9 21]\n",
      "  [10 22]\n",
      "  [11 23]\n",
      "  [12 24]]]\n"
     ]
    }
   ],
   "source": [
    "a1 = np.arange(1, 13).reshape(3, -1)\n",
    "a2 = np.arange(13, 25).reshape(3, -1)\n",
    "a30 = np.stack((a1, a2))\n",
    "print(\"a30\", a30)\n",
    "a31 = np.stack((a1, a2), axis=1)\n",
    "print(\"a31\", a31)\n",
    "a32 = np.stack((a1, a2), axis=2)\n",
    "print(\"a32\", a32)"
   ]
  },
  {
   "cell_type": "code",
   "execution_count": null,
   "metadata": {},
   "outputs": [],
   "source": []
  }
 ],
 "metadata": {
  "colab": {
   "collapsed_sections": [],
   "name": "UNIT_III_APP_NumPY_DATATYPES.ipynb",
   "provenance": []
  },
  "kernelspec": {
   "display_name": "Python 3 (ipykernel)",
   "language": "python",
   "name": "python3"
  },
  "language_info": {
   "codemirror_mode": {
    "name": "ipython",
    "version": 3
   },
   "file_extension": ".py",
   "mimetype": "text/x-python",
   "name": "python",
   "nbconvert_exporter": "python",
   "pygments_lexer": "ipython3",
   "version": "3.9.6"
  }
 },
 "nbformat": 4,
 "nbformat_minor": 1
}
