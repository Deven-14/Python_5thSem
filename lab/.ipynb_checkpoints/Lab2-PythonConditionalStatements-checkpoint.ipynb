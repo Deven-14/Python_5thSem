{
 "cells": [
  {
   "cell_type": "markdown",
   "id": "67ae404c",
   "metadata": {},
   "source": [
    "### 1. Write a python program to check the given number is even or odd using if-else construct"
   ]
  },
  {
   "cell_type": "code",
   "execution_count": 1,
   "id": "e7885903",
   "metadata": {},
   "outputs": [
    {
     "name": "stdout",
     "output_type": "stream",
     "text": [
      "5\n",
      "Odd\n"
     ]
    }
   ],
   "source": [
    "num = int(input())\n",
    "if num % 2 == 0:\n",
    "    print(\"Even\")\n",
    "else:\n",
    "    print(\"Odd\")"
   ]
  },
  {
   "cell_type": "markdown",
   "id": "2228a9dd",
   "metadata": {},
   "source": [
    "### 2. Write a python program to print the largest of three numbers using if construct"
   ]
  },
  {
   "cell_type": "code",
   "execution_count": 5,
   "id": "8ea09a2b",
   "metadata": {},
   "outputs": [
    {
     "name": "stdout",
     "output_type": "stream",
     "text": [
      "Enter 3 integers : 7 6 9\n",
      "9\n"
     ]
    }
   ],
   "source": [
    "a, b, c = map(int, input(\"Enter 3 integers : \").split())\n",
    "if a >= b >= c:\n",
    "    print(a)\n",
    "elif b >= c:\n",
    "    print(b)\n",
    "else:\n",
    "    print(c)"
   ]
  },
  {
   "cell_type": "markdown",
   "id": "a2c89a3a",
   "metadata": {},
   "source": [
    "### 3. Write a program to check the given number is positive, negative or zero using if-else construct"
   ]
  },
  {
   "cell_type": "code",
   "execution_count": null,
   "id": "1021cf11",
   "metadata": {},
   "outputs": [],
   "source": []
  }
 ],
 "metadata": {
  "kernelspec": {
   "display_name": "Python 3 (ipykernel)",
   "language": "python",
   "name": "python3"
  },
  "language_info": {
   "codemirror_mode": {
    "name": "ipython",
    "version": 3
   },
   "file_extension": ".py",
   "mimetype": "text/x-python",
   "name": "python",
   "nbconvert_exporter": "python",
   "pygments_lexer": "ipython3",
   "version": "3.9.6"
  }
 },
 "nbformat": 4,
 "nbformat_minor": 5
}
