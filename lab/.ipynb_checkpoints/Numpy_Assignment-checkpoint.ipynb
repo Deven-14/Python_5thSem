{
 "cells": [
  {
   "cell_type": "markdown",
   "metadata": {
    "id": "RcZ1emwsE94X"
   },
   "source": [
    "# **The Basics of NumPy Arrays**"
   ]
  },
  {
   "cell_type": "code",
   "execution_count": 1,
   "metadata": {},
   "outputs": [],
   "source": [
    "import numpy as np"
   ]
  },
  {
   "cell_type": "markdown",
   "metadata": {
    "id": "OmnMHpPsFG26"
   },
   "source": [
    "**1)Create a Numpy array filled with all zeros[1d and 2d]**"
   ]
  },
  {
   "cell_type": "code",
   "execution_count": 3,
   "metadata": {
    "id": "3gPYhd86FMU6"
   },
   "outputs": [
    {
     "name": "stdout",
     "output_type": "stream",
     "text": [
      "[0. 0. 0. 0. 0.]\n",
      "[[0. 0. 0. 0. 0.]\n",
      " [0. 0. 0. 0. 0.]]\n"
     ]
    }
   ],
   "source": [
    "a = np.zeros(5)\n",
    "print(a)\n",
    "b = np.zeros((2, 5))\n",
    "print(b)"
   ]
  },
  {
   "cell_type": "markdown",
   "metadata": {
    "id": "36EfXqT3FLR-"
   },
   "source": [
    "**2)Create a Numpy array filled with all ones[1d and 2d]**"
   ]
  },
  {
   "cell_type": "code",
   "execution_count": 30,
   "metadata": {
    "id": "WQLqdNNSE9av"
   },
   "outputs": [
    {
     "name": "stdout",
     "output_type": "stream",
     "text": [
      "[1. 1. 1. 1. 1.] (5,)\n",
      "[[1. 1. 1. 1. 1.]\n",
      " [1. 1. 1. 1. 1.]]\n"
     ]
    }
   ],
   "source": [
    "a = np.ones(5)\n",
    "print(a, a.shape)\n",
    "b = np.ones((2, 5))\n",
    "print(b)"
   ]
  },
  {
   "cell_type": "markdown",
   "metadata": {
    "id": "WrkV54nIFiK7"
   },
   "source": [
    "**3)Slice elements from index 4 to the end of the array:**"
   ]
  },
  {
   "cell_type": "code",
   "execution_count": 49,
   "metadata": {
    "id": "4XlBBhWPHcHM"
   },
   "outputs": [
    {
     "data": {
      "text/plain": [
       "array([5, 6, 7, 8, 9, 0])"
      ]
     },
     "execution_count": 49,
     "metadata": {},
     "output_type": "execute_result"
    }
   ],
   "source": [
    "a = np.array([1, 2, 3, 4, 5, 6, 7, 8, 9, 0])\n",
    "a[4:]\n",
    "# doubt from index 1 to index 5 a[1:5]"
   ]
  },
  {
   "cell_type": "markdown",
   "metadata": {
    "id": "puOpqQN7HcZ9"
   },
   "source": [
    "**4)Slice from the index 3 from the end to index 1 from the end**"
   ]
  },
  {
   "cell_type": "code",
   "execution_count": 50,
   "metadata": {
    "id": "6lhHC9I4Hjed"
   },
   "outputs": [
    {
     "data": {
      "text/plain": [
       "array([8, 9, 0])"
      ]
     },
     "execution_count": 50,
     "metadata": {},
     "output_type": "execute_result"
    }
   ],
   "source": [
    "a[-3:]\n",
    "# doubt from index 3 to index 1 a[-3:-1]"
   ]
  },
  {
   "cell_type": "markdown",
   "metadata": {
    "id": "3LAaJzwOH_ZK"
   },
   "source": [
    "**5)write the necessary function to get below output**\n",
    "\n",
    "input-\n",
    "\n",
    "arr1 = np.array([[1, 2], [3, 4]])\n",
    "arr2 = np.array([[10, 20], [30, 40]])\n",
    "\n",
    "**output-[ 1  2  3  4 10 20 30 40]**\n"
   ]
  },
  {
   "cell_type": "code",
   "execution_count": 35,
   "metadata": {},
   "outputs": [
    {
     "data": {
      "text/plain": [
       "array([ 1,  2,  3,  4, 10, 20, 30, 40])"
      ]
     },
     "execution_count": 35,
     "metadata": {},
     "output_type": "execute_result"
    }
   ],
   "source": [
    "arr1 = np.array([[1, 2], [3, 4]])\n",
    "arr2 = arr1 * 10\n",
    "# cat1 = np.ndarray.flatten(arr1)\n",
    "# cat2 = np.ndarray.flatten(arr2) \n",
    "# cat1 = np.concatenate(arr1)\n",
    "# cat2 = np.concatenate(arr2)\n",
    "cat1 = arr1.reshape((-1,)) # or explicitely specify 4\n",
    "cat2 = arr2.reshape((-1,))\n",
    "output = np.concatenate([cat1, cat2])\n",
    "output"
   ]
  },
  {
   "cell_type": "markdown",
   "metadata": {
    "id": "1kLUmP_0Iec9"
   },
   "source": [
    "**6)arr1 = np.array([[1, 2], [3, 4]]) arr2 = np.array([[10, 20], [30, 40]])**\n",
    "\n",
    " **merge above arrays  along axis=0  and axis=1** "
   ]
  },
  {
   "cell_type": "code",
   "execution_count": 15,
   "metadata": {
    "id": "ns6yIfsoI0P4"
   },
   "outputs": [
    {
     "name": "stdout",
     "output_type": "stream",
     "text": [
      "axis0 [[ 1  2]\n",
      " [ 3  4]\n",
      " [10 20]\n",
      " [30 40]]\n",
      "axis1 [[ 1  2 10 20]\n",
      " [ 3  4 30 40]]\n"
     ]
    }
   ],
   "source": [
    "arr1 = np.array([[1, 2], [3, 4]])\n",
    "arr2 = arr1 * 10\n",
    "output = np.concatenate([arr1, arr2], axis=0)\n",
    "print(\"axis0\", output)\n",
    "output = np.concatenate([arr1, arr2], axis=1)\n",
    "print(\"axis1\", output)"
   ]
  },
  {
   "cell_type": "markdown",
   "metadata": {
    "id": "oIMfsSG0Jd96"
   },
   "source": [
    "**7)Create a numpy array and find the Sum of All the Elements in the Array**"
   ]
  },
  {
   "cell_type": "code",
   "execution_count": 17,
   "metadata": {
    "id": "u9D5lobqJkks"
   },
   "outputs": [
    {
     "name": "stdout",
     "output_type": "stream",
     "text": [
      "10\n"
     ]
    }
   ],
   "source": [
    "a = np.array([[1, 2], [3, 4]])\n",
    "print(np.sum(a))"
   ]
  },
  {
   "cell_type": "markdown",
   "metadata": {
    "id": "5PlsBLLWJk11"
   },
   "source": [
    "**8)Create a numpy array and find the Sum of Array Elements Along the Axis=0 & axis=1**"
   ]
  },
  {
   "cell_type": "code",
   "execution_count": 36,
   "metadata": {
    "id": "ynQhYtgAJwD-"
   },
   "outputs": [
    {
     "name": "stdout",
     "output_type": "stream",
     "text": [
      "axis0 [4 6]\n",
      "axis1 [3 7]\n"
     ]
    }
   ],
   "source": [
    "a = np.array([[1, 2], [3, 4]])\n",
    "print(\"axis0\", np.sum(a, axis=0))\n",
    "print(\"axis1\", np.sum(a, axis=1)) # SEE THIS TO UNDERSTAND axis"
   ]
  },
  {
   "cell_type": "markdown",
   "metadata": {
    "id": "03Kxv4ZMJwWa"
   },
   "source": [
    "**9)Generate a linear sequence from 0.2 (included) until 2 (excluded) with a step size of 0.1, so there will be (2 – 0.2)/0.1 – 1 = 20 elements in the sequence, which is the length of the resulting numpy array.**"
   ]
  },
  {
   "cell_type": "code",
   "execution_count": 37,
   "metadata": {},
   "outputs": [
    {
     "name": "stdout",
     "output_type": "stream",
     "text": [
      "[0.2 0.3 0.4 0.5 0.6 0.7 0.8 0.9 1.  1.1 1.2 1.3 1.4 1.5 1.6 1.7 1.8 1.9] 18\n"
     ]
    }
   ],
   "source": [
    "a = np.arange(0.2, 2, 0.1)\n",
    "print(a, a.size) # doubt"
   ]
  },
  {
   "cell_type": "markdown",
   "metadata": {
    "id": "FqXJvPu5KE_n"
   },
   "source": [
    "**10)Convert the 1-D array with 12 elements into a 4*3 2-D array.**\n"
   ]
  },
  {
   "cell_type": "code",
   "execution_count": 40,
   "metadata": {
    "id": "ewPAeI9GKORl"
   },
   "outputs": [
    {
     "name": "stdout",
     "output_type": "stream",
     "text": [
      "[ 0  1  2  3  4  5  6  7  8  9 10 11]\n",
      "[[ 0  1  2]\n",
      " [ 3  4  5]\n",
      " [ 6  7  8]\n",
      " [ 9 10 11]]\n"
     ]
    }
   ],
   "source": [
    "a = np.arange(12)\n",
    "b = a.reshape((4, 3))\n",
    "print(a, b, sep='\\n')"
   ]
  },
  {
   "cell_type": "markdown",
   "metadata": {
    "id": "2yVFsyO6KOyz"
   },
   "source": [
    "**11)Convert the  1-D array with 12 elements into a 2* 3 * 2  3-D array.**\n"
   ]
  },
  {
   "cell_type": "code",
   "execution_count": 41,
   "metadata": {
    "id": "t6Fwl_f9KYSa"
   },
   "outputs": [
    {
     "name": "stdout",
     "output_type": "stream",
     "text": [
      "[ 0  1  2  3  4  5  6  7  8  9 10 11]\n",
      "[[[ 0  1]\n",
      "  [ 2  3]\n",
      "  [ 4  5]]\n",
      "\n",
      " [[ 6  7]\n",
      "  [ 8  9]\n",
      "  [10 11]]]\n"
     ]
    }
   ],
   "source": [
    "a = np.arange(12)\n",
    "b = a.reshape((2, 3, 2))\n",
    "print(a, b, sep='\\n')"
   ]
  },
  {
   "cell_type": "markdown",
   "metadata": {
    "id": "hnsmgbe7Kqpx"
   },
   "source": [
    "**12)Assume the students are sitting in the form of 3x4 array. \n",
    "Write a program to create the array of students from the given array using slicing concept from Numpy**\n",
    "\n",
    "**Create slicing element from below index position:** \n",
    "\n",
    "\n",
    "\n",
    "1.   1nd Person in the 1st row\n",
    "2.   3th Person in the 2nd row\n",
    "3.   2rd Person in the 2st row\n"
   ]
  },
  {
   "cell_type": "code",
   "execution_count": 44,
   "metadata": {
    "id": "92qzf8uOLX97"
   },
   "outputs": [
    {
     "name": "stdout",
     "output_type": "stream",
     "text": [
      "[[ 0  1  2  3]\n",
      " [ 4  5  6  7]\n",
      " [ 8  9 10 11]]\n",
      "0\n",
      "6\n",
      "5\n"
     ]
    }
   ],
   "source": [
    "a = np.arange(12).reshape((3, 4))\n",
    "print(a)\n",
    "print(a[0, 0])\n",
    "print(a[1, 2])\n",
    "print(a[1, 1])"
   ]
  },
  {
   "cell_type": "markdown",
   "metadata": {
    "id": "LbHGLgPwO748"
   },
   "source": [
    "**13)Split the 2-D array into three 2-D arrays.**"
   ]
  },
  {
   "cell_type": "code",
   "execution_count": 51,
   "metadata": {
    "id": "AVeG_L7TO_8h"
   },
   "outputs": [
    {
     "name": "stdout",
     "output_type": "stream",
     "text": [
      "[[ 0  1  2  3]\n",
      " [ 4  5  6  7]\n",
      " [ 8  9 10 11]\n",
      " [12 13 14 15]]\n",
      "[[0 1 2 3]]\n",
      "[[4 5 6 7]]\n",
      "[[ 8  9 10 11]\n",
      " [12 13 14 15]]\n"
     ]
    }
   ],
   "source": [
    "a = np.arange(16).reshape((4, 4))\n",
    "print(a)\n",
    "# x1, x2, x3 = np.split(a, 3) will throw error because it doesn't \n",
    "x1, x2, x3 = np.split(a, [1, 2])\n",
    "print(x1, x2, x3, sep='\\n')"
   ]
  },
  {
   "cell_type": "markdown",
   "metadata": {
    "id": "lRqCKJB5O_Rv"
   },
   "source": [
    "**14)Split the 2-D array into three 2-D arrays along rows**"
   ]
  },
  {
   "cell_type": "code",
   "execution_count": 54,
   "metadata": {
    "id": "7a1ocXB6PFsu"
   },
   "outputs": [
    {
     "name": "stdout",
     "output_type": "stream",
     "text": [
      "[[ 0  1  2  3]\n",
      " [ 4  5  6  7]\n",
      " [ 8  9 10 11]\n",
      " [12 13 14 15]]\n",
      "[[0 1 2 3]]\n",
      "[[4 5 6 7]]\n",
      "[[ 8  9 10 11]]\n"
     ]
    }
   ],
   "source": [
    "a = np.arange(16).reshape((4, 4))\n",
    "print(a)\n",
    "# x1, x2, x3 = np.split(a, 3) will throw error because it doesn't \n",
    "x1, x2, x3, x4 = np.split(a, 4, axis=0)\n",
    "print(x1, x2, x3, sep='\\n')"
   ]
  },
  {
   "cell_type": "markdown",
   "metadata": {
    "id": "Koyuj0deE3IN"
   },
   "source": [
    "# **Aggregations: Min, Max, and Everything In Between** "
   ]
  },
  {
   "cell_type": "markdown",
   "metadata": {
    "id": "bE27nQoOFz5V"
   },
   "source": [
    " **1) Write the Python code to print the maximum of 4,12,43.3,19,100**"
   ]
  },
  {
   "cell_type": "code",
   "execution_count": null,
   "metadata": {
    "id": "rBQMqFshE5XH"
   },
   "outputs": [],
   "source": []
  },
  {
   "cell_type": "markdown",
   "metadata": {
    "id": "WD_1MwnKGIng"
   },
   "source": [
    "**2) Write the python code to print the minimum of 4,12,43.3,19,100**"
   ]
  },
  {
   "cell_type": "code",
   "execution_count": null,
   "metadata": {
    "id": "6nZkfay-GOwX"
   },
   "outputs": [],
   "source": []
  },
  {
   "cell_type": "markdown",
   "metadata": {
    "id": "sPnj29kXGPAn"
   },
   "source": [
    "\n",
    "**3) Check whether your able to find the minimum from the given set of values :: 4,12,43.3,19, \"HelloProgramming\"**"
   ]
  },
  {
   "cell_type": "code",
   "execution_count": null,
   "metadata": {
    "id": "QTQJb0sCHRp4"
   },
   "outputs": [],
   "source": []
  },
  {
   "cell_type": "markdown",
   "metadata": {
    "id": "iR6r4GdSHR75"
   },
   "source": [
    "**4) Write the python code to print the word occurring 1st among these in dict::**\n",
    "\"GoodMorning\", \"Evening\", \"algorithm\", \"programming\"\n"
   ]
  },
  {
   "cell_type": "code",
   "execution_count": null,
   "metadata": {
    "id": "wcP0U0lsOUyP"
   },
   "outputs": [],
   "source": []
  },
  {
   "cell_type": "markdown",
   "metadata": {
    "id": "CEP9Ki8MOVBr"
   },
   "source": [
    "**5) Write the python code to print the min and max values from the given list of tuple:**\n",
    "[(2, 3), (4, 7), (8, 11), (3, 6)]\n"
   ]
  },
  {
   "cell_type": "code",
   "execution_count": null,
   "metadata": {
    "id": "_Ew9Tgj3Oa7E"
   },
   "outputs": [],
   "source": []
  },
  {
   "cell_type": "markdown",
   "metadata": {
    "id": "O2TNRejrPqNq"
   },
   "source": [
    "# **SORTING**"
   ]
  },
  {
   "cell_type": "markdown",
   "metadata": {
    "id": "3UwJMZiaPsQt"
   },
   "source": [
    "***1)Create a list [[4,3,2],[2,1,4]], convert it to a numpy array  and sort it along axis 1 ***"
   ]
  },
  {
   "cell_type": "code",
   "execution_count": null,
   "metadata": {
    "id": "_xQAHK5cQbgP"
   },
   "outputs": [],
   "source": []
  },
  {
   "cell_type": "markdown",
   "metadata": {
    "id": "L8oiS6v9QbwH"
   },
   "source": [
    "**2)Implement a program to take fruits names from array of fruits. To sort the array in alphabetical manner and display their index position.**"
   ]
  },
  {
   "cell_type": "code",
   "execution_count": null,
   "metadata": {
    "id": "ebET03IoQfQd"
   },
   "outputs": [],
   "source": []
  },
  {
   "cell_type": "markdown",
   "metadata": {
    "id": "p97cBMUUQejm"
   },
   "source": [
    "**3) Write a NumPy program to partition a given array in a specified position and move all the smaller elements values to the left of the partition, and the remaining values to the right, in arbitrary order (based on random choice).**"
   ]
  },
  {
   "cell_type": "code",
   "execution_count": null,
   "metadata": {
    "id": "nO7iBTfSQnnH"
   },
   "outputs": [],
   "source": []
  }
 ],
 "metadata": {
  "colab": {
   "collapsed_sections": [],
   "name": "Numpy_Assignment.ipynb",
   "provenance": []
  },
  "kernelspec": {
   "display_name": "Python 3 (ipykernel)",
   "language": "python",
   "name": "python3"
  },
  "language_info": {
   "codemirror_mode": {
    "name": "ipython",
    "version": 3
   },
   "file_extension": ".py",
   "mimetype": "text/x-python",
   "name": "python",
   "nbconvert_exporter": "python",
   "pygments_lexer": "ipython3",
   "version": "3.9.6"
  }
 },
 "nbformat": 4,
 "nbformat_minor": 1
}
