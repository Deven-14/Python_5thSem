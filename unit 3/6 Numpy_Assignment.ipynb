{
 "cells": [
  {
   "cell_type": "markdown",
   "metadata": {
    "id": "RcZ1emwsE94X"
   },
   "source": [
    "# **The Basics of NumPy Arrays**"
   ]
  },
  {
   "cell_type": "code",
   "execution_count": 3,
   "metadata": {},
   "outputs": [],
   "source": [
    "import numpy as np"
   ]
  },
  {
   "cell_type": "markdown",
   "metadata": {
    "id": "OmnMHpPsFG26"
   },
   "source": [
    "**1)Create a Numpy array filled with all zeros[1d and 2d]**"
   ]
  },
  {
   "cell_type": "code",
   "execution_count": 3,
   "metadata": {
    "id": "3gPYhd86FMU6"
   },
   "outputs": [
    {
     "name": "stdout",
     "output_type": "stream",
     "text": [
      "[0. 0. 0. 0. 0.]\n",
      "[[0. 0. 0. 0. 0.]\n",
      " [0. 0. 0. 0. 0.]]\n"
     ]
    }
   ],
   "source": [
    "a = np.zeros(5)\n",
    "print(a)\n",
    "b = np.zeros((2, 5))\n",
    "print(b)"
   ]
  },
  {
   "cell_type": "markdown",
   "metadata": {
    "id": "36EfXqT3FLR-"
   },
   "source": [
    "**2)Create a Numpy array filled with all ones[1d and 2d]**"
   ]
  },
  {
   "cell_type": "code",
   "execution_count": 30,
   "metadata": {
    "id": "WQLqdNNSE9av"
   },
   "outputs": [
    {
     "name": "stdout",
     "output_type": "stream",
     "text": [
      "[1. 1. 1. 1. 1.] (5,)\n",
      "[[1. 1. 1. 1. 1.]\n",
      " [1. 1. 1. 1. 1.]]\n"
     ]
    }
   ],
   "source": [
    "a = np.ones(5)\n",
    "print(a, a.shape)\n",
    "b = np.ones((2, 5))\n",
    "print(b)"
   ]
  },
  {
   "cell_type": "markdown",
   "metadata": {
    "id": "WrkV54nIFiK7"
   },
   "source": [
    "**3)Slice elements from index 4 to the end of the array:**"
   ]
  },
  {
   "cell_type": "code",
   "execution_count": 49,
   "metadata": {
    "id": "4XlBBhWPHcHM"
   },
   "outputs": [
    {
     "data": {
      "text/plain": [
       "array([5, 6, 7, 8, 9, 0])"
      ]
     },
     "execution_count": 49,
     "metadata": {},
     "output_type": "execute_result"
    }
   ],
   "source": [
    "a = np.array([1, 2, 3, 4, 5, 6, 7, 8, 9, 0])\n",
    "a[4:]\n",
    "# doubt from index 1 to index 5 a[1:5]"
   ]
  },
  {
   "cell_type": "markdown",
   "metadata": {
    "id": "puOpqQN7HcZ9"
   },
   "source": [
    "**4)Slice from the index 3 from the end to index 1 from the end**"
   ]
  },
  {
   "cell_type": "code",
   "execution_count": 50,
   "metadata": {
    "id": "6lhHC9I4Hjed"
   },
   "outputs": [
    {
     "data": {
      "text/plain": [
       "array([8, 9, 0])"
      ]
     },
     "execution_count": 50,
     "metadata": {},
     "output_type": "execute_result"
    }
   ],
   "source": [
    "a[-3:]\n",
    "# doubt from index 3 to index 1 a[-3:-1]"
   ]
  },
  {
   "cell_type": "markdown",
   "metadata": {
    "id": "3LAaJzwOH_ZK"
   },
   "source": [
    "**5)write the necessary function to get below output**\n",
    "\n",
    "input-\n",
    "\n",
    "arr1 = np.array([[1, 2], [3, 4]])\n",
    "arr2 = np.array([[10, 20], [30, 40]])\n",
    "\n",
    "**output-[ 1  2  3  4 10 20 30 40]**\n"
   ]
  },
  {
   "cell_type": "code",
   "execution_count": 35,
   "metadata": {},
   "outputs": [
    {
     "data": {
      "text/plain": [
       "array([ 1,  2,  3,  4, 10, 20, 30, 40])"
      ]
     },
     "execution_count": 35,
     "metadata": {},
     "output_type": "execute_result"
    }
   ],
   "source": [
    "arr1 = np.array([[1, 2], [3, 4]])\n",
    "arr2 = arr1 * 10\n",
    "# cat1 = np.ndarray.flatten(arr1)\n",
    "# cat2 = np.ndarray.flatten(arr2) \n",
    "# cat1 = np.concatenate(arr1)\n",
    "# cat2 = np.concatenate(arr2)\n",
    "cat1 = arr1.reshape((-1,)) # or explicitely specify 4\n",
    "cat2 = arr2.reshape((-1,))\n",
    "output = np.concatenate([cat1, cat2])\n",
    "output"
   ]
  },
  {
   "cell_type": "markdown",
   "metadata": {
    "id": "1kLUmP_0Iec9"
   },
   "source": [
    "**6)arr1 = np.array([[1, 2], [3, 4]]) arr2 = np.array([[10, 20], [30, 40]])**\n",
    "\n",
    " **merge above arrays  along axis=0  and axis=1** "
   ]
  },
  {
   "cell_type": "code",
   "execution_count": 15,
   "metadata": {
    "id": "ns6yIfsoI0P4"
   },
   "outputs": [
    {
     "name": "stdout",
     "output_type": "stream",
     "text": [
      "axis0 [[ 1  2]\n",
      " [ 3  4]\n",
      " [10 20]\n",
      " [30 40]]\n",
      "axis1 [[ 1  2 10 20]\n",
      " [ 3  4 30 40]]\n"
     ]
    }
   ],
   "source": [
    "arr1 = np.array([[1, 2], [3, 4]])\n",
    "arr2 = arr1 * 10\n",
    "output = np.concatenate([arr1, arr2], axis=0)\n",
    "print(\"axis0\", output)\n",
    "output = np.concatenate([arr1, arr2], axis=1)\n",
    "print(\"axis1\", output)"
   ]
  },
  {
   "cell_type": "markdown",
   "metadata": {
    "id": "oIMfsSG0Jd96"
   },
   "source": [
    "**7)Create a numpy array and find the Sum of All the Elements in the Array**"
   ]
  },
  {
   "cell_type": "code",
   "execution_count": 17,
   "metadata": {
    "id": "u9D5lobqJkks"
   },
   "outputs": [
    {
     "name": "stdout",
     "output_type": "stream",
     "text": [
      "10\n"
     ]
    }
   ],
   "source": [
    "a = np.array([[1, 2], [3, 4]])\n",
    "print(np.sum(a))"
   ]
  },
  {
   "cell_type": "markdown",
   "metadata": {
    "id": "5PlsBLLWJk11"
   },
   "source": [
    "**8)Create a numpy array and find the Sum of Array Elements Along the Axis=0 & axis=1**"
   ]
  },
  {
   "cell_type": "code",
   "execution_count": 36,
   "metadata": {
    "id": "ynQhYtgAJwD-"
   },
   "outputs": [
    {
     "name": "stdout",
     "output_type": "stream",
     "text": [
      "axis0 [4 6]\n",
      "axis1 [3 7]\n"
     ]
    }
   ],
   "source": [
    "a = np.array([[1, 2], [3, 4]])\n",
    "print(\"axis0\", np.sum(a, axis=0))\n",
    "print(\"axis1\", np.sum(a, axis=1))"
   ]
  },
  {
   "cell_type": "markdown",
   "metadata": {
    "id": "03Kxv4ZMJwWa"
   },
   "source": [
    "**9)Generate a linear sequence from 0.2 (included) until 2 (excluded) with a step size of 0.1, so there will be (2 – 0.2)/0.1 – 1 = 20 elements in the sequence, which is the length of the resulting numpy array.**"
   ]
  },
  {
   "cell_type": "code",
   "execution_count": 37,
   "metadata": {},
   "outputs": [
    {
     "name": "stdout",
     "output_type": "stream",
     "text": [
      "[0.2 0.3 0.4 0.5 0.6 0.7 0.8 0.9 1.  1.1 1.2 1.3 1.4 1.5 1.6 1.7 1.8 1.9] 18\n"
     ]
    }
   ],
   "source": [
    "a = np.arange(0.2, 2, 0.1)\n",
    "print(a, a.size) # doubt"
   ]
  },
  {
   "cell_type": "markdown",
   "metadata": {
    "id": "FqXJvPu5KE_n"
   },
   "source": [
    "**10)Convert the 1-D array with 12 elements into a 4*3 2-D array.**\n"
   ]
  },
  {
   "cell_type": "code",
   "execution_count": 40,
   "metadata": {
    "id": "ewPAeI9GKORl"
   },
   "outputs": [
    {
     "name": "stdout",
     "output_type": "stream",
     "text": [
      "[ 0  1  2  3  4  5  6  7  8  9 10 11]\n",
      "[[ 0  1  2]\n",
      " [ 3  4  5]\n",
      " [ 6  7  8]\n",
      " [ 9 10 11]]\n"
     ]
    }
   ],
   "source": [
    "a = np.arange(12)\n",
    "b = a.reshape((4, 3))\n",
    "print(a, b, sep='\\n')"
   ]
  },
  {
   "cell_type": "markdown",
   "metadata": {
    "id": "2yVFsyO6KOyz"
   },
   "source": [
    "**11)Convert the  1-D array with 12 elements into a 2* 3 * 2  3-D array.**\n"
   ]
  },
  {
   "cell_type": "code",
   "execution_count": 41,
   "metadata": {
    "id": "t6Fwl_f9KYSa"
   },
   "outputs": [
    {
     "name": "stdout",
     "output_type": "stream",
     "text": [
      "[ 0  1  2  3  4  5  6  7  8  9 10 11]\n",
      "[[[ 0  1]\n",
      "  [ 2  3]\n",
      "  [ 4  5]]\n",
      "\n",
      " [[ 6  7]\n",
      "  [ 8  9]\n",
      "  [10 11]]]\n"
     ]
    }
   ],
   "source": [
    "a = np.arange(12)\n",
    "b = a.reshape((2, 3, 2))\n",
    "print(a, b, sep='\\n')"
   ]
  },
  {
   "cell_type": "markdown",
   "metadata": {
    "id": "hnsmgbe7Kqpx"
   },
   "source": [
    "**12)Assume the students are sitting in the form of 3x4 array. \n",
    "Write a program to create the array of students from the given array using slicing concept from Numpy**\n",
    "\n",
    "**Create slicing element from below index position:** \n",
    "\n",
    "\n",
    "\n",
    "1.   1nd Person in the 1st row\n",
    "2.   3th Person in the 2nd row\n",
    "3.   2rd Person in the 2st row\n"
   ]
  },
  {
   "cell_type": "code",
   "execution_count": 44,
   "metadata": {
    "id": "92qzf8uOLX97"
   },
   "outputs": [
    {
     "name": "stdout",
     "output_type": "stream",
     "text": [
      "[[ 0  1  2  3]\n",
      " [ 4  5  6  7]\n",
      " [ 8  9 10 11]]\n",
      "0\n",
      "6\n",
      "5\n"
     ]
    }
   ],
   "source": [
    "a = np.arange(12).reshape((3, 4))\n",
    "print(a)\n",
    "print(a[0, 0])\n",
    "print(a[1, 2])\n",
    "print(a[1, 1])"
   ]
  },
  {
   "cell_type": "markdown",
   "metadata": {
    "id": "LbHGLgPwO748"
   },
   "source": [
    "**13)Split the 2-D array into three 2-D arrays.**"
   ]
  },
  {
   "cell_type": "code",
   "execution_count": 51,
   "metadata": {
    "id": "AVeG_L7TO_8h"
   },
   "outputs": [
    {
     "name": "stdout",
     "output_type": "stream",
     "text": [
      "[[ 0  1  2  3]\n",
      " [ 4  5  6  7]\n",
      " [ 8  9 10 11]\n",
      " [12 13 14 15]]\n",
      "[[0 1 2 3]]\n",
      "[[4 5 6 7]]\n",
      "[[ 8  9 10 11]\n",
      " [12 13 14 15]]\n"
     ]
    }
   ],
   "source": [
    "a = np.arange(16).reshape((4, 4))\n",
    "print(a)\n",
    "# x1, x2, x3 = np.split(a, 3) will throw error because it doesn't \n",
    "x1, x2, x3 = np.split(a, [1, 2])\n",
    "print(x1, x2, x3, sep='\\n')"
   ]
  },
  {
   "cell_type": "markdown",
   "metadata": {
    "id": "lRqCKJB5O_Rv"
   },
   "source": [
    "**14)Split the 2-D array into three 2-D arrays along rows**"
   ]
  },
  {
   "cell_type": "code",
   "execution_count": 6,
   "metadata": {
    "id": "7a1ocXB6PFsu"
   },
   "outputs": [
    {
     "name": "stdout",
     "output_type": "stream",
     "text": [
      "[[ 0  1  2  3]\n",
      " [ 4  5  6  7]\n",
      " [ 8  9 10 11]\n",
      " [12 13 14 15]]\n",
      "[[0 1 2 3]]\n",
      "[[4 5 6 7]]\n",
      "[[ 8  9 10 11]\n",
      " [12 13 14 15]]\n"
     ]
    }
   ],
   "source": [
    "a = np.arange(16).reshape((4, 4))\n",
    "print(a)\n",
    "# x1, x2, x3 = np.split(a, 3) will throw error because it doesn't \n",
    "# x1, x2, x3, x4 = np.split(a, 4, axis=0)\n",
    "x1, x2, x3 = np.split(a, [1, 2], axis=0)\n",
    "# x1, x2, x3, x4 = np.split(a, 4, axis=1)\n",
    "print(x1, x2, x3, sep='\\n')"
   ]
  },
  {
   "cell_type": "code",
   "execution_count": 5,
   "metadata": {},
   "outputs": [
    {
     "name": "stdout",
     "output_type": "stream",
     "text": [
      "[[ 0  1  2  3]\n",
      " [ 4  5  6  7]\n",
      " [ 8  9 10 11]\n",
      " [12 13 14 15]]\n",
      "[[ 0]\n",
      " [ 4]\n",
      " [ 8]\n",
      " [12]]\n",
      "[[ 1]\n",
      " [ 5]\n",
      " [ 9]\n",
      " [13]]\n",
      "[[ 2]\n",
      " [ 6]\n",
      " [10]\n",
      " [14]]\n"
     ]
    }
   ],
   "source": [
    "a = np.arange(16).reshape((4, 4))\n",
    "print(a)\n",
    "x1, x2, x3, x4 = np.split(a, 4, axis=1)\n",
    "print(x1, x2, x3, sep='\\n')"
   ]
  },
  {
   "cell_type": "markdown",
   "metadata": {
    "id": "Koyuj0deE3IN"
   },
   "source": [
    "# **Aggregations: Min, Max, and Everything In Between** "
   ]
  },
  {
   "cell_type": "markdown",
   "metadata": {
    "id": "bE27nQoOFz5V"
   },
   "source": [
    " **1) Write the Python code to print the maximum of 4,12,43.3,19,100**"
   ]
  },
  {
   "cell_type": "code",
   "execution_count": 7,
   "metadata": {
    "id": "rBQMqFshE5XH"
   },
   "outputs": [
    {
     "data": {
      "text/plain": [
       "100.0"
      ]
     },
     "execution_count": 7,
     "metadata": {},
     "output_type": "execute_result"
    }
   ],
   "source": [
    "a = np.array([4, 12, 43.3, 19, 100])\n",
    "a.max() # or np.max(a)"
   ]
  },
  {
   "cell_type": "markdown",
   "metadata": {
    "id": "WD_1MwnKGIng"
   },
   "source": [
    "**2) Write the python code to print the minimum of 4,12,43.3,19,100**"
   ]
  },
  {
   "cell_type": "code",
   "execution_count": 8,
   "metadata": {
    "id": "6nZkfay-GOwX"
   },
   "outputs": [
    {
     "data": {
      "text/plain": [
       "4.0"
      ]
     },
     "execution_count": 8,
     "metadata": {},
     "output_type": "execute_result"
    }
   ],
   "source": [
    "a.min() # or np.min(a)"
   ]
  },
  {
   "cell_type": "markdown",
   "metadata": {
    "id": "sPnj29kXGPAn"
   },
   "source": [
    "\n",
    "**3) Check whether your able to find the minimum from the given set of values :: 4,12,43.3,19, \"HelloProgramming\"**"
   ]
  },
  {
   "cell_type": "code",
   "execution_count": 21,
   "metadata": {
    "id": "QTQJb0sCHRp4"
   },
   "outputs": [
    {
     "ename": "TypeError",
     "evalue": "cannot perform reduce with flexible type",
     "output_type": "error",
     "traceback": [
      "\u001b[1;31m---------------------------------------------------------------------------\u001b[0m",
      "\u001b[1;31mTypeError\u001b[0m                                 Traceback (most recent call last)",
      "\u001b[1;32m~\\AppData\\Local\\Temp/ipykernel_28012/3403580322.py\u001b[0m in \u001b[0;36m<module>\u001b[1;34m\u001b[0m\n\u001b[0;32m      2\u001b[0m \u001b[1;31m# a.dtype\u001b[0m\u001b[1;33m\u001b[0m\u001b[1;33m\u001b[0m\u001b[1;33m\u001b[0m\u001b[0m\n\u001b[0;32m      3\u001b[0m \u001b[1;31m# NOT POSSIBLE\u001b[0m\u001b[1;33m\u001b[0m\u001b[1;33m\u001b[0m\u001b[1;33m\u001b[0m\u001b[0m\n\u001b[1;32m----> 4\u001b[1;33m \u001b[0ma\u001b[0m\u001b[1;33m.\u001b[0m\u001b[0mmin\u001b[0m\u001b[1;33m(\u001b[0m\u001b[1;33m)\u001b[0m \u001b[1;31m# np.min(a)\u001b[0m\u001b[1;33m\u001b[0m\u001b[1;33m\u001b[0m\u001b[0m\n\u001b[0m",
      "\u001b[1;32mc:\\users\\deven\\appdata\\local\\programs\\python\\python39\\lib\\site-packages\\numpy\\core\\_methods.py\u001b[0m in \u001b[0;36m_amin\u001b[1;34m(a, axis, out, keepdims, initial, where)\u001b[0m\n\u001b[0;32m     41\u001b[0m def _amin(a, axis=None, out=None, keepdims=False,\n\u001b[0;32m     42\u001b[0m           initial=_NoValue, where=True):\n\u001b[1;32m---> 43\u001b[1;33m     \u001b[1;32mreturn\u001b[0m \u001b[0mumr_minimum\u001b[0m\u001b[1;33m(\u001b[0m\u001b[0ma\u001b[0m\u001b[1;33m,\u001b[0m \u001b[0maxis\u001b[0m\u001b[1;33m,\u001b[0m \u001b[1;32mNone\u001b[0m\u001b[1;33m,\u001b[0m \u001b[0mout\u001b[0m\u001b[1;33m,\u001b[0m \u001b[0mkeepdims\u001b[0m\u001b[1;33m,\u001b[0m \u001b[0minitial\u001b[0m\u001b[1;33m,\u001b[0m \u001b[0mwhere\u001b[0m\u001b[1;33m)\u001b[0m\u001b[1;33m\u001b[0m\u001b[1;33m\u001b[0m\u001b[0m\n\u001b[0m\u001b[0;32m     44\u001b[0m \u001b[1;33m\u001b[0m\u001b[0m\n\u001b[0;32m     45\u001b[0m def _sum(a, axis=None, dtype=None, out=None, keepdims=False,\n",
      "\u001b[1;31mTypeError\u001b[0m: cannot perform reduce with flexible type"
     ]
    }
   ],
   "source": [
    "a = np.array([4, 12, 43.3, 19, 100, \"HelloProgramming\"])\n",
    "# a.dtype\n",
    "# NOT POSSIBLE\n",
    "a.min() # np.min(a) # min won't work for only strings also, but SORT works"
   ]
  },
  {
   "cell_type": "markdown",
   "metadata": {
    "id": "iR6r4GdSHR75"
   },
   "source": [
    "**4) Write the python code to print the word occurring 1st among these in dict::**\n",
    "\"GoodMorning\", \"Evening\", \"algorithm\", \"programming\"\n"
   ]
  },
  {
   "cell_type": "code",
   "execution_count": 40,
   "metadata": {
    "id": "wcP0U0lsOUyP"
   },
   "outputs": [
    {
     "data": {
      "text/plain": [
       "b'Evening'"
      ]
     },
     "execution_count": 40,
     "metadata": {},
     "output_type": "execute_result"
    }
   ],
   "source": [
    "# dict HERE THEY MEAN ACTUAL DICTIONARY AND NOT dict DATATYPE\n",
    "# a = np.array([\"GoodMorning\", \"Evening\", \"algorithm\", \"programmin\"], dtype='S')\n",
    "# a.min()\n",
    "# min(\"GoodMorning\", \"Evening\", \"algorithm\", \"programming\")\n",
    "a = np.array([\"GoodMorning\", \"Evening\", \"algorithm\", \"programming\"], dtype='S')\n",
    "a.sort()\n",
    "a[0]"
   ]
  },
  {
   "cell_type": "code",
   "execution_count": 41,
   "metadata": {
    "id": "_Ew9Tgj3Oa7E"
   },
   "outputs": [
    {
     "data": {
      "text/plain": [
       "b'programming'"
      ]
     },
     "execution_count": 41,
     "metadata": {},
     "output_type": "execute_result"
    }
   ],
   "source": [
    "# max(\"GoodMorning\", \"Evening\", \"algorithm\", \"programming\")\n",
    "a[-1]"
   ]
  },
  {
   "cell_type": "markdown",
   "metadata": {
    "id": "CEP9Ki8MOVBr"
   },
   "source": [
    "**5) Write the python code to print the min and max values from the given list of tuple:**\n",
    "[(2, 3), (4, 7), (8, 11), (3, 6)]\n"
   ]
  },
  {
   "cell_type": "code",
   "execution_count": 5,
   "metadata": {},
   "outputs": [
    {
     "data": {
      "text/plain": [
       "(2, 11, array([2, 3]), array([ 8, 11]))"
      ]
     },
     "execution_count": 5,
     "metadata": {},
     "output_type": "execute_result"
    }
   ],
   "source": [
    "a = np.array([(2, 3), (4, 7), (8, 11), (3, 6)])\n",
    "a.min(), a.max(), a.min(axis=0), a.max(axis=0)"
   ]
  },
  {
   "cell_type": "markdown",
   "metadata": {
    "id": "O2TNRejrPqNq"
   },
   "source": [
    "# **SORTING**"
   ]
  },
  {
   "cell_type": "markdown",
   "metadata": {
    "id": "3UwJMZiaPsQt"
   },
   "source": [
    "***1)Create a list [[4,3,2],[2,1,4]], convert it to a numpy array  and sort it along axis 1 ***"
   ]
  },
  {
   "cell_type": "code",
   "execution_count": 32,
   "metadata": {
    "id": "_xQAHK5cQbgP"
   },
   "outputs": [
    {
     "data": {
      "text/plain": [
       "array([[2, 3, 4],\n",
       "       [1, 2, 4]])"
      ]
     },
     "execution_count": 32,
     "metadata": {},
     "output_type": "execute_result"
    }
   ],
   "source": [
    "a = np.array([[4, 3, 2], [2, 1, 4]])\n",
    "a.sort(axis=1) # or b = np.sort(a, axis=1) and ouput b\n",
    "a"
   ]
  },
  {
   "cell_type": "markdown",
   "metadata": {
    "id": "L8oiS6v9QbwH"
   },
   "source": [
    "**2)Implement a program to take fruits names from array of fruits. To sort the array in alphabetical manner and display their index position.**"
   ]
  },
  {
   "cell_type": "code",
   "execution_count": 6,
   "metadata": {
    "id": "ebET03IoQfQd"
   },
   "outputs": [
    {
     "name": "stdout",
     "output_type": "stream",
     "text": [
      "[1 0 2 3] ['banana' 'apple' 'jackfruit' 'mango']\n",
      "['apple' 'banana' 'jackfruit' 'mango']\n"
     ]
    }
   ],
   "source": [
    "fruits = [\"banana\", \"apple\", \"jackfruit\", \"mango\"]\n",
    "a = np.array(fruits)\n",
    "i = a.argsort()\n",
    "print(i, a)\n",
    "a = a[i] # a.sort()\n",
    "print(a)"
   ]
  },
  {
   "cell_type": "markdown",
   "metadata": {
    "id": "p97cBMUUQejm"
   },
   "source": [
    "**3) Write a NumPy program to partition a given array in a specified position and move all the smaller elements values to the left of the partition, and the remaining values to the right, in arbitrary order (based on random choice).**"
   ]
  },
  {
   "cell_type": "code",
   "execution_count": 37,
   "metadata": {
    "id": "nO7iBTfSQnnH"
   },
   "outputs": [
    {
     "data": {
      "text/plain": [
       "(array([2, 0, 7, 6, 4, 8, 5, 9, 7, 9]),\n",
       " array([0, 2, 4, 6, 7, 8, 5, 9, 7, 9]),\n",
       " array([0, 2, 4, 5, 6, 8, 7, 9, 7, 9]))"
      ]
     },
     "execution_count": 37,
     "metadata": {},
     "output_type": "execute_result"
    }
   ],
   "source": [
    "a = np.random.randint(10, size=10)\n",
    "a, np.partition(a, 2), np.partition(a, 4)"
   ]
  },
  {
   "cell_type": "code",
   "execution_count": null,
   "metadata": {},
   "outputs": [],
   "source": []
  }
 ],
 "metadata": {
  "colab": {
   "collapsed_sections": [],
   "name": "Numpy_Assignment.ipynb",
   "provenance": []
  },
  "kernelspec": {
   "display_name": "Python 3 (ipykernel)",
   "language": "python",
   "name": "python3"
  },
  "language_info": {
   "codemirror_mode": {
    "name": "ipython",
    "version": 3
   },
   "file_extension": ".py",
   "mimetype": "text/x-python",
   "name": "python",
   "nbconvert_exporter": "python",
   "pygments_lexer": "ipython3",
   "version": "3.9.6"
  }
 },
 "nbformat": 4,
 "nbformat_minor": 1
}
