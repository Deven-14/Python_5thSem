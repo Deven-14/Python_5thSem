{
 "cells": [
  {
   "cell_type": "markdown",
   "metadata": {
    "id": "0x5gNHk5YACa"
   },
   "source": [
    "**NumPy Arrays advantages**\n",
    "\n",
    "1.Size - Numpy data structures take up less space\n",
    "\n",
    "2.Performance - they have a need for speed and are faster than lists\n",
    "\n"
   ]
  },
  {
   "cell_type": "markdown",
   "metadata": {
    "id": "2FLJr0deapLb"
   },
   "source": []
  },
  {
   "cell_type": "markdown",
   "metadata": {
    "id": "4RSjXRK3YVwZ"
   },
   "source": [
    "# **1. NumPy uses much less memory to store data**"
   ]
  },
  {
   "cell_type": "markdown",
   "metadata": {
    "id": "WvwA18p1YZG6"
   },
   "source": [
    "**The NumPy arrays takes significantly less amount of memory as compared to python lists. It also provides a mechanism of specifying the data types of the contents, which allows further optimisation of the code**."
   ]
  },
  {
   "cell_type": "code",
   "execution_count": 1,
   "metadata": {
    "id": "FdYsuZ7JYI4s"
   },
   "outputs": [],
   "source": [
    "import numpy as np\n",
    "import sys\n",
    "\n",
    "py_arr = [1,2,3,4,5,6] \n",
    "\n",
    "numpy_arr = np.array([1,2,3,4,5,6])\n",
    "\n",
    "sizeof_py_arr = sys.getsizeof(1) * len(py_arr)    \n",
    "       \n",
    "sizeof_numpy_arr = numpy_arr.nbytes # numpy_arr.itemsize * numpy_arr.size\n"
   ]
  },
  {
   "cell_type": "code",
   "execution_count": 2,
   "metadata": {
    "colab": {
     "base_uri": "https://localhost:8080/"
    },
    "id": "2fs0EidyYLYJ",
    "outputId": "8c393ae5-52d0-46b8-8bb2-16acef4e2df8"
   },
   "outputs": [
    {
     "data": {
      "text/plain": [
       "(28, 168)"
      ]
     },
     "execution_count": 2,
     "metadata": {},
     "output_type": "execute_result"
    }
   ],
   "source": [
    "sys.getsizeof(1), sizeof_py_arr"
   ]
  },
  {
   "cell_type": "code",
   "execution_count": 3,
   "metadata": {
    "colab": {
     "base_uri": "https://localhost:8080/"
    },
    "id": "IQMID_-4YQLD",
    "outputId": "f8beccc9-d5e5-4155-b4dc-c58498ebc9e6"
   },
   "outputs": [
    {
     "data": {
      "text/plain": [
       "24"
      ]
     },
     "execution_count": 3,
     "metadata": {},
     "output_type": "execute_result"
    }
   ],
   "source": [
    "sizeof_numpy_arr"
   ]
  },
  {
   "cell_type": "markdown",
   "metadata": {
    "id": "9axXIpYuYixz"
   },
   "source": [
    "**In the example above, NumPy by default considers these integers as 8 Bytes integers, however, we can provide data types with NumPy arrays if we know the maximum range of the data. For example, we can use 1 Byte integer for storing numbers upto 255 and 2 Bytes integer for numbers upto 65535**"
   ]
  },
  {
   "cell_type": "code",
   "execution_count": 4,
   "metadata": {
    "id": "doA5cwYPYsSH"
   },
   "outputs": [
    {
     "name": "stdout",
     "output_type": "stream",
     "text": [
      "int8 - 6\n",
      "int16 - 12\n"
     ]
    }
   ],
   "source": [
    "# For NumPy arrays elements limited to 1 Byte / 8 Bits\n",
    "numpy_arr = np.array([1,2,3,4,5,6], dtype = np.int8)\n",
    "sizeof_numpy_arr = numpy_arr.nbytes # numpy_arr.itemsize * numpy_arr.size   # Size = 6 \n",
    "print(\"int8 -\", sizeof_numpy_arr)\n",
    "\n",
    "# For NumPy arrays elements limited to 2 Bytes / 16 Bits\n",
    "\n",
    "numpy_arr = np.array([1,2,3,4,5,6], dtype = np.int16)\n",
    "sizeof_numpy_arr = numpy_arr.nbytes # numpy_arr.itemsize * numpy_arr.size   # Size = 12\n",
    "print(\"int16 -\", sizeof_numpy_arr)"
   ]
  },
  {
   "cell_type": "markdown",
   "metadata": {
    "id": "_j_XptOCZVKl"
   },
   "source": [
    "# **2)NumPy Arrays are faster than Python List**"
   ]
  },
  {
   "cell_type": "code",
   "execution_count": 5,
   "metadata": {
    "id": "l3OyWA5yZ3XQ"
   },
   "outputs": [],
   "source": [
    "# importing required packages\n",
    "import numpy\n",
    "import time"
   ]
  },
  {
   "cell_type": "code",
   "execution_count": 6,
   "metadata": {
    "id": "P-VX8wg2bSLT"
   },
   "outputs": [],
   "source": [
    "# declaring lists\n",
    "list1 = [i for i in range(100)]\n",
    "list2 = [i for i in range(100)]"
   ]
  },
  {
   "cell_type": "code",
   "execution_count": 7,
   "metadata": {
    "id": "LN99ivOubZgn"
   },
   "outputs": [],
   "source": [
    "# declaring arrays\n",
    "array1 = numpy.arange(100)\n",
    "array2 = numpy.arange(100)"
   ]
  },
  {
   "cell_type": "code",
   "execution_count": 8,
   "metadata": {
    "colab": {
     "base_uri": "https://localhost:8080/"
    },
    "id": "gB_ZMPB2bfi6",
    "outputId": "d1fb4b89-5b28-456f-abdb-8b1ca3386a39"
   },
   "outputs": [
    {
     "name": "stdout",
     "output_type": "stream",
     "text": [
      "Time taken by Lists : 0.0 seconds\n"
     ]
    }
   ],
   "source": [
    "initialTime = time.time()\n",
    "list1 = list1 + list2\n",
    " \n",
    "# calculating execution time\n",
    "print(\"Time taken by Lists :\",\n",
    "      (time.time() - initialTime),\n",
    "      \"seconds\")"
   ]
  },
  {
   "cell_type": "code",
   "execution_count": 9,
   "metadata": {
    "id": "nY9tKzffbo4c"
   },
   "outputs": [
    {
     "name": "stdout",
     "output_type": "stream",
     "text": [
      "Time taken by NumPy Arrays : 0.0 seconds\n"
     ]
    }
   ],
   "source": [
    "initialTime = time.time()\n",
    "array = numpy.concatenate((array1, array2),\n",
    "                          axis = 0)\n",
    "# calculating execution time\n",
    "print(\"Time taken by NumPy Arrays :\",\n",
    "      (time.time() - initialTime),\n",
    "      \"seconds\")"
   ]
  },
  {
   "cell_type": "code",
   "execution_count": 10,
   "metadata": {
    "colab": {
     "base_uri": "https://localhost:8080/"
    },
    "id": "_4mPHmd-b1KU",
    "outputId": "bed7f641-c10f-484d-8602-b3ff016bdda7"
   },
   "outputs": [
    {
     "name": "stdout",
     "output_type": "stream",
     "text": [
      "\n",
      "Dot Product:\n",
      "Time taken by Lists : 0.0 seconds\n",
      "Time taken by NumPy Arrays : 0.008822202682495117 seconds\n"
     ]
    }
   ],
   "source": [
    "# Dot Product\n",
    "dot = 0\n",
    "print(\"\\nDot Product:\")\n",
    " \n",
    "# list\n",
    "initialTime = time.time()\n",
    "for a, b in zip(list1, list2):\n",
    "        dot = dot + (a * b)\n",
    "         \n",
    "# calculating execution time\n",
    "print(\"Time taken by Lists :\",\n",
    "      (time.time() - initialTime),\n",
    "      \"seconds\")\n",
    "  \n",
    "# NumPy array\n",
    "initialTime = time.time()\n",
    "array = numpy.dot(array1, array2)\n",
    " \n",
    "# calculating execution time\n",
    "print(\"Time taken by NumPy Arrays :\",\n",
    "      (time.time() - initialTime),\n",
    "      \"seconds\")\n",
    " "
   ]
  },
  {
   "cell_type": "code",
   "execution_count": 54,
   "metadata": {
    "colab": {
     "base_uri": "https://localhost:8080/"
    },
    "id": "nVtEqYLQb3Go",
    "outputId": "4bdb1f28-b2f5-4c20-ad0d-5815409240db"
   },
   "outputs": [
    {
     "name": "stdout",
     "output_type": "stream",
     "text": [
      "\n",
      "Scalar Addition:\n",
      "Time taken by Lists : 0.0 seconds\n",
      "Time taken by NumPy Arrays : 0.0 seconds\n"
     ]
    }
   ],
   "source": [
    "# Scalar Addition\n",
    "print(\"\\nScalar Addition:\")\n",
    " \n",
    "# list\n",
    "initialTime = time.time()\n",
    "list1 =[i + 2 for i in range(100)]\n",
    " \n",
    "# calculating execution time\n",
    "print(\"Time taken by Lists :\",\n",
    "      (time.time() - initialTime),\n",
    "      \"seconds\")\n",
    "  \n",
    "# NumPy array\n",
    "initialTime = time.time()\n",
    "array1 = array1 + 2\n",
    " \n",
    "# calculating execution time\n",
    "print(\"Time taken by NumPy Arrays :\",\n",
    "      (time.time() - initialTime),\n",
    "      \"seconds\")"
   ]
  },
  {
   "cell_type": "code",
   "execution_count": null,
   "metadata": {},
   "outputs": [],
   "source": []
  }
 ],
 "metadata": {
  "colab": {
   "collapsed_sections": [],
   "name": "UNIT-III-NUMPY ADVANTAGES.ipynb",
   "provenance": []
  },
  "kernelspec": {
   "display_name": "Python 3 (ipykernel)",
   "language": "python",
   "name": "python3"
  },
  "language_info": {
   "codemirror_mode": {
    "name": "ipython",
    "version": 3
   },
   "file_extension": ".py",
   "mimetype": "text/x-python",
   "name": "python",
   "nbconvert_exporter": "python",
   "pygments_lexer": "ipython3",
   "version": "3.9.6"
  }
 },
 "nbformat": 4,
 "nbformat_minor": 1
}
