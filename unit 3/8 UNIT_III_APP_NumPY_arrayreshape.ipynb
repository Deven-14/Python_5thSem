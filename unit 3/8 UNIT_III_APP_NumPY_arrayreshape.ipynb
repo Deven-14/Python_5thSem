{
 "cells": [
  {
   "cell_type": "markdown",
   "metadata": {
    "id": "7mVR7HTIQZRY"
   },
   "source": [
    "We can reshape an array to another dimension using the reshape() function.\n",
    "\n",
    "Lets consider a program in which ‘arr’ is a rank 1 array and after reshape it’s converted to a rank 2 array ‘arr1’."
   ]
  },
  {
   "cell_type": "code",
   "execution_count": 2,
   "metadata": {
    "colab": {
     "base_uri": "https://localhost:8080/"
    },
    "id": "sSbQXW6-QbPT",
    "outputId": "0410ddd4-ae34-4542-ecbc-aff391b513e7"
   },
   "outputs": [
    {
     "name": "stdout",
     "output_type": "stream",
     "text": [
      "The NumPy Array is: [1 2 3 4 5]\n",
      "The Reshape NumPy array is: [[1 2 3 4 5]]\n"
     ]
    }
   ],
   "source": [
    "import numpy as np\n",
    "list=[1,2,3,4,5]\n",
    "arr= np.array(list)\n",
    "print(\"The NumPy Array is:\", arr)\n",
    "arr1=arr.reshape(1,-1)\n",
    "print(\"The Reshape NumPy array is:\", arr1)"
   ]
  },
  {
   "cell_type": "markdown",
   "metadata": {
    "id": "44EOP2isQdQA"
   },
   "source": [
    "we call the reshape() function with two arguments. The first 1 indicates that we want to convert it into rank 2 array with 1 row, and the -1 indicates that we will leave it to the reshape() function to create the correct number of columns. Of course, in this program, it is clear that after reshaping there will be five columns, so we can call the reshape() function as reshape(1,5). In more complex cases, however, it is always convenient to be able to use -1 to let the function decide on the number of rows or columns to create.\n",
    "\n",
    "Let’s consider another program to reshape ‘arr1’ (which is a rank 2 array) to rank 1."
   ]
  },
  {
   "cell_type": "code",
   "execution_count": 3,
   "metadata": {
    "colab": {
     "base_uri": "https://localhost:8080/"
    },
    "id": "wadn9tBiQhH1",
    "outputId": "caa54aa9-5273-44eb-c1c7-6cf2a77f22eb"
   },
   "outputs": [
    {
     "name": "stdout",
     "output_type": "stream",
     "text": [
      "The NumPy Array is: [[1 2 3 4 5]]\n",
      "The Reshape NumPy array is: [1 2 3 4 5]\n"
     ]
    }
   ],
   "source": [
    "import numpy as np\n",
    "list=[1,2,3,4,5]\n",
    "arr1= np.array([list])\n",
    "print(\"The NumPy Array is:\", arr1)\n",
    "arr=arr1.reshape(-1,)\n",
    "print(\"The Reshape NumPy array is:\", arr)"
   ]
  },
  {
   "cell_type": "markdown",
   "metadata": {
    "id": "DY9AN1nHQm25"
   },
   "source": [
    "Here, -1 indicates that the function decide how many rows to create as long as the end result is a rank 1 array.\n",
    "\n",
    "To convert a rank 2 array to a rank 1 array, we can also use the flatten() or ravel() functions. The flatten() function always returns a copy of the array, while the ravel() and reshape() functions return a view (reference) of the original array"
   ]
  },
  {
   "cell_type": "code",
   "execution_count": 4,
   "metadata": {},
   "outputs": [
    {
     "data": {
      "text/plain": [
       "array([1, 2, 3, 4, 5])"
      ]
     },
     "execution_count": 4,
     "metadata": {},
     "output_type": "execute_result"
    }
   ],
   "source": [
    "arr1.reshape(-1)"
   ]
  },
  {
   "cell_type": "code",
   "execution_count": null,
   "metadata": {},
   "outputs": [],
   "source": []
  }
 ],
 "metadata": {
  "colab": {
   "collapsed_sections": [],
   "name": "UNIT-III-APP-NumPY-arrayreshape.ipynb",
   "provenance": []
  },
  "kernelspec": {
   "display_name": "Python 3 (ipykernel)",
   "language": "python",
   "name": "python3"
  },
  "language_info": {
   "codemirror_mode": {
    "name": "ipython",
    "version": 3
   },
   "file_extension": ".py",
   "mimetype": "text/x-python",
   "name": "python",
   "nbconvert_exporter": "python",
   "pygments_lexer": "ipython3",
   "version": "3.9.6"
  }
 },
 "nbformat": 4,
 "nbformat_minor": 1
}
