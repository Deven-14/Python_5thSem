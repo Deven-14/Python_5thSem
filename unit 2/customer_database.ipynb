{
 "cells": [
  {
   "cell_type": "markdown",
   "id": "90d59133",
   "metadata": {},
   "source": [
    "creating database"
   ]
  },
  {
   "cell_type": "code",
   "execution_count": 1,
   "id": "f90a7d0d",
   "metadata": {},
   "outputs": [],
   "source": [
    "import sqlite3\n",
    "con = sqlite3.connect(\"customer.db\")\n",
    "cur = con.cursor()\n",
    "cur.execute(\"CREATE TABLE customer(first_name text, last_name text, email text)\")\n",
    "con.commit()\n",
    "con.close()"
   ]
  },
  {
   "cell_type": "markdown",
   "id": "37604c20",
   "metadata": {},
   "source": [
    "inserting a row into database"
   ]
  },
  {
   "cell_type": "code",
   "execution_count": 2,
   "id": "ad554c73",
   "metadata": {},
   "outputs": [],
   "source": [
    "import sqlite3\n",
    "con = sqlite3.connect(\"customer.db\")\n",
    "cur = con.cursor()\n",
    "# cur.execute(\"DELETE FROM customer\")\n",
    "cur.execute(\"INSERT INTO customer VALUES ('Tim', 'Smith', 'tim@code.com')\")\n",
    "cur.execute(\"INSERT INTO customer VALUES ('Mary', 'Brown', 'mary@code.com')\")\n",
    "# cur.execute(\"insert into customer values (?, ?, ?)\", \n",
    "#             ['Mary', 'Brown', 'mary@code.com'])\n",
    "con.commit()\n",
    "con.close()"
   ]
  },
  {
   "cell_type": "markdown",
   "id": "5c708767",
   "metadata": {},
   "source": [
    "inserting multiple records"
   ]
  },
  {
   "cell_type": "code",
   "execution_count": 3,
   "id": "a34a47da",
   "metadata": {},
   "outputs": [],
   "source": [
    "import sqlite3\n",
    "con = sqlite3.connect(\"customer.db\")\n",
    "cur = con.cursor()\n",
    "customers = [('wes', 'brown', 'wes@code.com'),\n",
    "            ('raju', 'k', 'raju@code.com'),\n",
    "            ('ravi', 'k', 'ravi@code.com')]\n",
    "cur.executemany(\"INSERT INTO customer VALUES (?, ?, ?)\", customers)\n",
    "con.commit()\n",
    "con.close()"
   ]
  },
  {
   "cell_type": "markdown",
   "id": "370f3459",
   "metadata": {},
   "source": [
    "query customer data from table"
   ]
  },
  {
   "cell_type": "code",
   "execution_count": 4,
   "id": "515e910a",
   "metadata": {},
   "outputs": [
    {
     "name": "stdout",
     "output_type": "stream",
     "text": [
      "Using fetchone() - \n",
      "('Tim', 'Smith', 'tim@code.com')\n",
      "Using fetchmany() - \n",
      "[('Mary', 'Brown', 'mary@code.com'), ('wes', 'brown', 'wes@code.com')]\n",
      "Using fetchall() - \n",
      "[('raju', 'k', 'raju@code.com'), ('ravi', 'k', 'ravi@code.com')]\n"
     ]
    }
   ],
   "source": [
    "import sqlite3\n",
    "con = sqlite3.connect(\"customer.db\")\n",
    "cur = con.cursor()\n",
    "cur.execute(\"SELECT * FROM customer\")\n",
    "print(\"Using fetchone() - \", cur.fetchone(), sep=\"\\n\")\n",
    "print(\"Using fetchmany() - \", cur.fetchmany(2), sep=\"\\n\")\n",
    "print(\"Using fetchall() - \", cur.fetchall(), sep=\"\\n\")\n",
    "con.commit()\n",
    "con.close()"
   ]
  },
  {
   "cell_type": "markdown",
   "id": "6bdbdcee",
   "metadata": {},
   "source": [
    "see the above result, once the data is fetched the pointer movies ahead and then the operation is done from that point, fetchmany fetched from 2nd row and fetchall fetched from 4th row"
   ]
  },
  {
   "cell_type": "markdown",
   "id": "d5077de4",
   "metadata": {},
   "source": [
    "#### different way to use fetchall()"
   ]
  },
  {
   "cell_type": "code",
   "execution_count": 5,
   "id": "ab2f72e8",
   "metadata": {},
   "outputs": [
    {
     "name": "stdout",
     "output_type": "stream",
     "text": [
      "[('Tim', 'Smith', 'tim@code.com'), ('Mary', 'Brown', 'mary@code.com'), ('wes', 'brown', 'wes@code.com'), ('raju', 'k', 'raju@code.com'), ('ravi', 'k', 'ravi@code.com')]\n"
     ]
    }
   ],
   "source": [
    "import sqlite3\n",
    "con = sqlite3.connect(\"customer.db\")\n",
    "cur = con.cursor()\n",
    "cur.execute(\"SELECT * FROM customer\")\n",
    "items = cur.fetchall()\n",
    "print(items)\n",
    "con.commit()\n",
    "con.close()"
   ]
  },
  {
   "cell_type": "markdown",
   "id": "4deb4a97",
   "metadata": {},
   "source": [
    "### query customer table and print employee first_name's"
   ]
  },
  {
   "cell_type": "code",
   "execution_count": 6,
   "id": "f3205190",
   "metadata": {},
   "outputs": [
    {
     "name": "stdout",
     "output_type": "stream",
     "text": [
      "Tim\n",
      "Mary\n",
      "wes\n",
      "raju\n",
      "ravi\n"
     ]
    }
   ],
   "source": [
    "import sqlite3\n",
    "con = sqlite3.connect(\"customer.db\")\n",
    "cur = con.cursor()\n",
    "cur.execute(\"SELECT * FROM customer\")\n",
    "items = cur.fetchall()\n",
    "\n",
    "for item in items:\n",
    "    print(item[0])\n",
    "\n",
    "con.commit()\n",
    "con.close()"
   ]
  },
  {
   "cell_type": "markdown",
   "id": "d3e7f3b8",
   "metadata": {},
   "source": [
    "#### query customer table and print employee first_name, lastname and email id"
   ]
  },
  {
   "cell_type": "code",
   "execution_count": 7,
   "id": "d5eaef71",
   "metadata": {},
   "outputs": [
    {
     "name": "stdout",
     "output_type": "stream",
     "text": [
      "Tim Smith tim@code.com\n",
      "Mary Brown mary@code.com\n",
      "wes brown wes@code.com\n",
      "raju k raju@code.com\n",
      "ravi k ravi@code.com\n"
     ]
    }
   ],
   "source": [
    "import sqlite3\n",
    "con = sqlite3.connect(\"customer.db\")\n",
    "cur = con.cursor()\n",
    "cur.execute(\"SELECT * FROM customer\")\n",
    "items = cur.fetchall()\n",
    "\n",
    "for item in items:\n",
    "#     print(item[0] + \" \" + item[1] + \" \" + item[2])\n",
    "#     print(item[0], item[1], item[2]) # sep by space\n",
    "    print(*item)\n",
    "\n",
    "con.commit()\n",
    "con.close()"
   ]
  },
  {
   "cell_type": "markdown",
   "id": "7fede48c",
   "metadata": {},
   "source": [
    "#### format the result"
   ]
  },
  {
   "cell_type": "code",
   "execution_count": 8,
   "id": "7bfc9901",
   "metadata": {},
   "outputs": [
    {
     "name": "stdout",
     "output_type": "stream",
     "text": [
      "NAME                 EMAIL\n",
      "----------           ----------           \n",
      "Tim Smith            tim@code.com\n",
      "Mary Brown           mary@code.com\n",
      "wes brown            wes@code.com\n",
      "raju k               raju@code.com\n",
      "ravi k               ravi@code.com\n"
     ]
    }
   ],
   "source": [
    "import sqlite3\n",
    "con = sqlite3.connect(\"customer.db\")\n",
    "cur = con.cursor()\n",
    "cur.execute(\"SELECT * FROM customer\")\n",
    "items = cur.fetchall()\n",
    "\n",
    "max_width = 20\n",
    "print(\"NAME\".ljust(max_width), \"EMAIL\")\n",
    "print(\"----------\".ljust(max_width + 1) * 2) # +1 for space\n",
    "for item in items:\n",
    "    print((item[0] + \" \" + item[1]).ljust(max_width), item[2])\n",
    "\n",
    "con.commit()\n",
    "con.close()"
   ]
  },
  {
   "cell_type": "markdown",
   "id": "1075f217",
   "metadata": {},
   "source": [
    "#### print the rowid (primary key) ROWID STARTS FROM 1"
   ]
  },
  {
   "cell_type": "code",
   "execution_count": 9,
   "id": "568895cf",
   "metadata": {},
   "outputs": [
    {
     "name": "stdout",
     "output_type": "stream",
     "text": [
      "(1, 'Tim', 'Smith', 'tim@code.com')\n",
      "(2, 'Mary', 'Brown', 'mary@code.com')\n",
      "(3, 'wes', 'brown', 'wes@code.com')\n",
      "(4, 'raju', 'k', 'raju@code.com')\n",
      "(5, 'ravi', 'k', 'ravi@code.com')\n"
     ]
    }
   ],
   "source": [
    "import sqlite3\n",
    "con = sqlite3.connect(\"customer.db\")\n",
    "cur = con.cursor()\n",
    "\n",
    "cur.execute(\"SELECT rowid, * FROM customer\")\n",
    "items = cur.fetchall()\n",
    "\n",
    "for item in items:\n",
    "    print(item)\n",
    "\n",
    "con.commit()\n",
    "con.close()"
   ]
  },
  {
   "cell_type": "markdown",
   "id": "c88a5918",
   "metadata": {},
   "source": [
    "### where clause\n",
    "### print the rows where last_name = 'k' usnig where clause"
   ]
  },
  {
   "cell_type": "code",
   "execution_count": 10,
   "id": "de109968",
   "metadata": {},
   "outputs": [
    {
     "name": "stdout",
     "output_type": "stream",
     "text": [
      "(4, 'raju', 'k', 'raju@code.com')\n",
      "(5, 'ravi', 'k', 'ravi@code.com')\n"
     ]
    }
   ],
   "source": [
    "import sqlite3\n",
    "con = sqlite3.connect(\"customer.db\")\n",
    "cur = con.cursor()\n",
    "\n",
    "cur.execute(\"SELECT rowid, * FROM customer WHERE last_name='k'\")\n",
    "items = cur.fetchall()\n",
    "\n",
    "for item in items:\n",
    "    print(item)\n",
    "\n",
    "con.commit()\n",
    "con.close()"
   ]
  },
  {
   "cell_type": "markdown",
   "id": "ee97e66c",
   "metadata": {},
   "source": [
    "### print the rows where last_name like 'br%' usnig where clause"
   ]
  },
  {
   "cell_type": "code",
   "execution_count": 11,
   "id": "535a75e7",
   "metadata": {},
   "outputs": [
    {
     "name": "stdout",
     "output_type": "stream",
     "text": [
      "(2, 'Mary', 'Brown', 'mary@code.com')\n",
      "(3, 'wes', 'brown', 'wes@code.com')\n"
     ]
    }
   ],
   "source": [
    "import sqlite3\n",
    "con = sqlite3.connect(\"customer.db\")\n",
    "cur = con.cursor()\n",
    "\n",
    "# % for zero - multiple, _ for one single char\n",
    "cur.execute(\"SELECT rowid, * FROM customer WHERE last_name LIKE 'br%'\")\n",
    "items = cur.fetchall()\n",
    "\n",
    "for item in items:\n",
    "    print(item)\n",
    "\n",
    "con.commit()\n",
    "con.close()"
   ]
  },
  {
   "cell_type": "markdown",
   "id": "ea9271ce",
   "metadata": {},
   "source": [
    "### update rows\n",
    "### update customer table with firstname as 'Bob' where lastname is 'Smith'"
   ]
  },
  {
   "cell_type": "code",
   "execution_count": 12,
   "id": "2c19aac1",
   "metadata": {},
   "outputs": [
    {
     "name": "stdout",
     "output_type": "stream",
     "text": [
      "(1, 'Bob', 'Smith', 'tim@code.com')\n",
      "(2, 'Mary', 'Brown', 'mary@code.com')\n",
      "(3, 'wes', 'brown', 'wes@code.com')\n",
      "(4, 'raju', 'k', 'raju@code.com')\n",
      "(5, 'ravi', 'k', 'ravi@code.com')\n"
     ]
    }
   ],
   "source": [
    "import sqlite3\n",
    "con = sqlite3.connect(\"customer.db\")\n",
    "cur = con.cursor()\n",
    "\n",
    "cur.execute(\"UPDATE customer SET first_name='Bob' WHERE last_name='Smith'\")\n",
    "\n",
    "cur.execute(\"SELECT rowid, * FROM customer\")\n",
    "items = cur.fetchall()\n",
    "\n",
    "for item in items:\n",
    "    print(item)\n",
    "\n",
    "con.commit()\n",
    "con.close()"
   ]
  },
  {
   "cell_type": "markdown",
   "id": "8160d44f",
   "metadata": {},
   "source": [
    "### update customer table with firstname as 'Tim' where rowid is 1"
   ]
  },
  {
   "cell_type": "code",
   "execution_count": 13,
   "id": "dff384aa",
   "metadata": {},
   "outputs": [
    {
     "name": "stdout",
     "output_type": "stream",
     "text": [
      "(1, 'Tim', 'Smith', 'tim@code.com')\n",
      "(2, 'Mary', 'Brown', 'mary@code.com')\n",
      "(3, 'wes', 'brown', 'wes@code.com')\n",
      "(4, 'raju', 'k', 'raju@code.com')\n",
      "(5, 'ravi', 'k', 'ravi@code.com')\n"
     ]
    }
   ],
   "source": [
    "import sqlite3\n",
    "con = sqlite3.connect(\"customer.db\")\n",
    "cur = con.cursor()\n",
    "\n",
    "cur.execute(\"UPDATE customer SET first_name='Tim' WHERE rowid=1\")\n",
    "\n",
    "cur.execute(\"SELECT rowid, * FROM customer\")\n",
    "items = cur.fetchall()\n",
    "\n",
    "for item in items:\n",
    "    print(item)\n",
    "\n",
    "con.commit()\n",
    "con.close()"
   ]
  },
  {
   "cell_type": "markdown",
   "id": "2d844b11",
   "metadata": {},
   "source": [
    "### Delete instance where rowid is 5 and print the remaining rows"
   ]
  },
  {
   "cell_type": "code",
   "execution_count": 14,
   "id": "cfb29764",
   "metadata": {},
   "outputs": [
    {
     "name": "stdout",
     "output_type": "stream",
     "text": [
      "(1, 'Tim', 'Smith', 'tim@code.com')\n",
      "(2, 'Mary', 'Brown', 'mary@code.com')\n",
      "(3, 'wes', 'brown', 'wes@code.com')\n",
      "(4, 'raju', 'k', 'raju@code.com')\n"
     ]
    }
   ],
   "source": [
    "import sqlite3\n",
    "con = sqlite3.connect(\"customer.db\")\n",
    "cur = con.cursor()\n",
    "\n",
    "cur.execute(\"DELETE FROM customer WHERE rowid=5\")\n",
    "\n",
    "cur.execute(\"SELECT rowid, * FROM customer\")\n",
    "items = cur.fetchall()\n",
    "\n",
    "for item in items:\n",
    "    print(item)\n",
    "\n",
    "con.commit()\n",
    "con.close()"
   ]
  },
  {
   "cell_type": "markdown",
   "id": "f5864917",
   "metadata": {},
   "source": [
    "### ORDER BY"
   ]
  },
  {
   "cell_type": "code",
   "execution_count": 17,
   "id": "0853ae42",
   "metadata": {},
   "outputs": [
    {
     "name": "stdout",
     "output_type": "stream",
     "text": [
      "(4, 'raju', 'k', 'raju@code.com')\n",
      "(3, 'wes', 'brown', 'wes@code.com')\n",
      "(2, 'Mary', 'Brown', 'mary@code.com')\n",
      "(1, 'Tim', 'Smith', 'tim@code.com')\n"
     ]
    }
   ],
   "source": [
    "import sqlite3\n",
    "con = sqlite3.connect(\"customer.db\")\n",
    "cur = con.cursor()\n",
    "\n",
    "# when doing order by rowid, do select rowid, *, so that u can see the change\n",
    "# happening\n",
    "cur.execute(\"SELECT rowid, * FROM customer ORDER BY rowid DESC\")\n",
    "items = cur.fetchall()\n",
    "\n",
    "for item in items:\n",
    "    print(item)\n",
    "\n",
    "con.commit()\n",
    "con.close()"
   ]
  },
  {
   "cell_type": "markdown",
   "id": "5f237828",
   "metadata": {},
   "source": [
    "### ORDER BY with LIMIT condition"
   ]
  },
  {
   "cell_type": "code",
   "execution_count": 16,
   "id": "cbaf93e7",
   "metadata": {},
   "outputs": [
    {
     "name": "stdout",
     "output_type": "stream",
     "text": [
      "(4, 'raju', 'k', 'raju@code.com')\n",
      "(3, 'wes', 'brown', 'wes@code.com')\n"
     ]
    }
   ],
   "source": [
    "import sqlite3\n",
    "con = sqlite3.connect(\"customer.db\")\n",
    "cur = con.cursor()\n",
    "\n",
    "cur.execute(\"SELECT rowid, * FROM customer ORDER BY rowid DESC LIMIT 2\")\n",
    "items = cur.fetchall()\n",
    "\n",
    "for item in items:\n",
    "    print(item)\n",
    "\n",
    "con.commit()\n",
    "con.close()"
   ]
  },
  {
   "cell_type": "markdown",
   "id": "74b8a95b",
   "metadata": {},
   "source": []
  }
 ],
 "metadata": {
  "kernelspec": {
   "display_name": "Python 3 (ipykernel)",
   "language": "python",
   "name": "python3"
  },
  "language_info": {
   "codemirror_mode": {
    "name": "ipython",
    "version": 3
   },
   "file_extension": ".py",
   "mimetype": "text/x-python",
   "name": "python",
   "nbconvert_exporter": "python",
   "pygments_lexer": "ipython3",
   "version": "3.9.6"
  }
 },
 "nbformat": 4,
 "nbformat_minor": 5
}
