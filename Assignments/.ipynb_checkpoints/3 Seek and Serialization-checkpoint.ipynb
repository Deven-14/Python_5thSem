{
 "cells": [
  {
   "cell_type": "markdown",
   "id": "71a4c4ff",
   "metadata": {},
   "source": [
    "### 1) Suppose we have created a file with 500 lines of data and the file object reference is “f”. Illustrate what each of these following operations does:"
   ]
  },
  {
   "cell_type": "code",
   "execution_count": null,
   "id": "40511da6",
   "metadata": {},
   "outputs": [],
   "source": []
  }
 ],
 "metadata": {
  "kernelspec": {
   "display_name": "Python 3 (ipykernel)",
   "language": "python",
   "name": "python3"
  },
  "language_info": {
   "codemirror_mode": {
    "name": "ipython",
    "version": 3
   },
   "file_extension": ".py",
   "mimetype": "text/x-python",
   "name": "python",
   "nbconvert_exporter": "python",
   "pygments_lexer": "ipython3",
   "version": "3.9.6"
  }
 },
 "nbformat": 4,
 "nbformat_minor": 5
}
