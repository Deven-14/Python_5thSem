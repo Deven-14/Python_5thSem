{
 "cells": [
  {
   "cell_type": "markdown",
   "metadata": {
    "id": "dumF_W1ostVg"
   },
   "source": [
    "# **Unit 4 Assignment**"
   ]
  },
  {
   "cell_type": "markdown",
   "metadata": {
    "id": "cAtc4r39szpG"
   },
   "source": [
    "# **I) Implement the program to create the dataframe from the below data**\n",
    "\n"
   ]
  },
  {
   "cell_type": "markdown",
   "metadata": {
    "id": "sIEU-7yrs-yO"
   },
   "source": [
    "![image.png](data:image/png;base64,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)"
   ]
  },
  {
   "cell_type": "code",
   "execution_count": 1,
   "metadata": {},
   "outputs": [],
   "source": [
    "import pandas as pd"
   ]
  },
  {
   "cell_type": "code",
   "execution_count": 2,
   "metadata": {},
   "outputs": [
    {
     "data": {
      "text/html": [
       "<div>\n",
       "<style scoped>\n",
       "    .dataframe tbody tr th:only-of-type {\n",
       "        vertical-align: middle;\n",
       "    }\n",
       "\n",
       "    .dataframe tbody tr th {\n",
       "        vertical-align: top;\n",
       "    }\n",
       "\n",
       "    .dataframe thead th {\n",
       "        text-align: right;\n",
       "    }\n",
       "</style>\n",
       "<table border=\"1\" class=\"dataframe\">\n",
       "  <thead>\n",
       "    <tr style=\"text-align: right;\">\n",
       "      <th></th>\n",
       "      <th>name</th>\n",
       "      <th>city</th>\n",
       "      <th>age</th>\n",
       "      <th>py-score</th>\n",
       "    </tr>\n",
       "  </thead>\n",
       "  <tbody>\n",
       "    <tr>\n",
       "      <th>101</th>\n",
       "      <td>Xavier</td>\n",
       "      <td>Mexico City</td>\n",
       "      <td>41</td>\n",
       "      <td>88.0</td>\n",
       "    </tr>\n",
       "    <tr>\n",
       "      <th>102</th>\n",
       "      <td>Ann</td>\n",
       "      <td>Toronto</td>\n",
       "      <td>28</td>\n",
       "      <td>79.0</td>\n",
       "    </tr>\n",
       "    <tr>\n",
       "      <th>103</th>\n",
       "      <td>Jana</td>\n",
       "      <td>Prague</td>\n",
       "      <td>33</td>\n",
       "      <td>81.0</td>\n",
       "    </tr>\n",
       "    <tr>\n",
       "      <th>104</th>\n",
       "      <td>Yi</td>\n",
       "      <td>Shanghai</td>\n",
       "      <td>34</td>\n",
       "      <td>80.0</td>\n",
       "    </tr>\n",
       "    <tr>\n",
       "      <th>105</th>\n",
       "      <td>Robin</td>\n",
       "      <td>Manchester</td>\n",
       "      <td>38</td>\n",
       "      <td>68.0</td>\n",
       "    </tr>\n",
       "  </tbody>\n",
       "</table>\n",
       "</div>"
      ],
      "text/plain": [
       "       name         city  age  py-score\n",
       "101  Xavier  Mexico City   41      88.0\n",
       "102     Ann      Toronto   28      79.0\n",
       "103    Jana       Prague   33      81.0\n",
       "104      Yi     Shanghai   34      80.0\n",
       "105   Robin   Manchester   38      68.0"
      ]
     },
     "execution_count": 2,
     "metadata": {},
     "output_type": "execute_result"
    }
   ],
   "source": [
    "data = {\n",
    "    'name': ['Xavier', 'Ann', 'Jana', \"Yi\", \"Robin\"],\n",
    "    'city': ['Mexico City', \"Toronto\", \"Prague\", \"Shanghai\", \"Manchester\"],\n",
    "    'age': [41, 28, 33, 34, 38],\n",
    "    'py-score': [88.0, 79.0, 81.0, 80.0, 68.0]\n",
    "}\n",
    "df = pd.DataFrame(data, index=[101, 102, 103, 104, 105])\n",
    "df"
   ]
  },
  {
   "cell_type": "markdown",
   "metadata": {
    "id": "i9_t-YnktCHW"
   },
   "source": [
    "1.Display only first two rows"
   ]
  },
  {
   "cell_type": "code",
   "execution_count": 3,
   "metadata": {
    "id": "Y-Ud2YuZtMDt"
   },
   "outputs": [
    {
     "data": {
      "text/html": [
       "<div>\n",
       "<style scoped>\n",
       "    .dataframe tbody tr th:only-of-type {\n",
       "        vertical-align: middle;\n",
       "    }\n",
       "\n",
       "    .dataframe tbody tr th {\n",
       "        vertical-align: top;\n",
       "    }\n",
       "\n",
       "    .dataframe thead th {\n",
       "        text-align: right;\n",
       "    }\n",
       "</style>\n",
       "<table border=\"1\" class=\"dataframe\">\n",
       "  <thead>\n",
       "    <tr style=\"text-align: right;\">\n",
       "      <th></th>\n",
       "      <th>name</th>\n",
       "      <th>city</th>\n",
       "      <th>age</th>\n",
       "      <th>py-score</th>\n",
       "    </tr>\n",
       "  </thead>\n",
       "  <tbody>\n",
       "    <tr>\n",
       "      <th>101</th>\n",
       "      <td>Xavier</td>\n",
       "      <td>Mexico City</td>\n",
       "      <td>41</td>\n",
       "      <td>88.0</td>\n",
       "    </tr>\n",
       "    <tr>\n",
       "      <th>102</th>\n",
       "      <td>Ann</td>\n",
       "      <td>Toronto</td>\n",
       "      <td>28</td>\n",
       "      <td>79.0</td>\n",
       "    </tr>\n",
       "  </tbody>\n",
       "</table>\n",
       "</div>"
      ],
      "text/plain": [
       "       name         city  age  py-score\n",
       "101  Xavier  Mexico City   41      88.0\n",
       "102     Ann      Toronto   28      79.0"
      ]
     },
     "execution_count": 3,
     "metadata": {},
     "output_type": "execute_result"
    }
   ],
   "source": [
    "df.head(2)"
   ]
  },
  {
   "cell_type": "markdown",
   "metadata": {
    "id": "KNbCM3SptH8G"
   },
   "source": [
    "2.Display only last two rows\n"
   ]
  },
  {
   "cell_type": "code",
   "execution_count": 4,
   "metadata": {
    "id": "8g8PAsY8tMim"
   },
   "outputs": [
    {
     "data": {
      "text/html": [
       "<div>\n",
       "<style scoped>\n",
       "    .dataframe tbody tr th:only-of-type {\n",
       "        vertical-align: middle;\n",
       "    }\n",
       "\n",
       "    .dataframe tbody tr th {\n",
       "        vertical-align: top;\n",
       "    }\n",
       "\n",
       "    .dataframe thead th {\n",
       "        text-align: right;\n",
       "    }\n",
       "</style>\n",
       "<table border=\"1\" class=\"dataframe\">\n",
       "  <thead>\n",
       "    <tr style=\"text-align: right;\">\n",
       "      <th></th>\n",
       "      <th>name</th>\n",
       "      <th>city</th>\n",
       "      <th>age</th>\n",
       "      <th>py-score</th>\n",
       "    </tr>\n",
       "  </thead>\n",
       "  <tbody>\n",
       "    <tr>\n",
       "      <th>104</th>\n",
       "      <td>Yi</td>\n",
       "      <td>Shanghai</td>\n",
       "      <td>34</td>\n",
       "      <td>80.0</td>\n",
       "    </tr>\n",
       "    <tr>\n",
       "      <th>105</th>\n",
       "      <td>Robin</td>\n",
       "      <td>Manchester</td>\n",
       "      <td>38</td>\n",
       "      <td>68.0</td>\n",
       "    </tr>\n",
       "  </tbody>\n",
       "</table>\n",
       "</div>"
      ],
      "text/plain": [
       "      name        city  age  py-score\n",
       "104     Yi    Shanghai   34      80.0\n",
       "105  Robin  Manchester   38      68.0"
      ]
     },
     "execution_count": 4,
     "metadata": {},
     "output_type": "execute_result"
    }
   ],
   "source": [
    "df.tail(2)"
   ]
  },
  {
   "cell_type": "markdown",
   "metadata": {
    "id": "-qqHfUlktKZu"
   },
   "source": [
    "3.Extract the py-score  of  Toronto column."
   ]
  },
  {
   "cell_type": "code",
   "execution_count": 5,
   "metadata": {
    "id": "iR8PZ85eswOO"
   },
   "outputs": [
    {
     "data": {
      "text/plain": [
       "79.0"
      ]
     },
     "execution_count": 5,
     "metadata": {},
     "output_type": "execute_result"
    }
   ],
   "source": [
    "df.loc[102] # df.loc[102] and not df.iloc[102]\n",
    "df.loc[102]['py-score']\n",
    "\n",
    "# or \n",
    "\n",
    "df1 = df.set_index('city')\n",
    "df1['py-score']['Toronto']"
   ]
  },
  {
   "cell_type": "markdown",
   "metadata": {
    "id": "0bb6Di6ntO0u"
   },
   "source": [
    "4.display of loc of last row\n"
   ]
  },
  {
   "cell_type": "code",
   "execution_count": 6,
   "metadata": {
    "id": "NwZAdkj1tPbd"
   },
   "outputs": [
    {
     "data": {
      "text/plain": [
       "name             Robin\n",
       "city        Manchester\n",
       "age                 38\n",
       "py-score          68.0\n",
       "Name: 105, dtype: object"
      ]
     },
     "execution_count": 6,
     "metadata": {},
     "output_type": "execute_result"
    }
   ],
   "source": [
    "df.loc[105]"
   ]
  },
  {
   "cell_type": "markdown",
   "metadata": {
    "id": "QyBQasu2tQ2u"
   },
   "source": [
    "5.Calculate mean, min, max, standard deviation.\n"
   ]
  },
  {
   "cell_type": "code",
   "execution_count": 7,
   "metadata": {
    "id": "86fkDixBtREd"
   },
   "outputs": [
    {
     "data": {
      "text/plain": [
       "(age         34.8\n",
       " py-score    79.2\n",
       " dtype: float64,\n",
       " age         28.0\n",
       " py-score    68.0\n",
       " dtype: float64)"
      ]
     },
     "execution_count": 7,
     "metadata": {},
     "output_type": "execute_result"
    }
   ],
   "source": [
    "df[['age', 'py-score']].mean(), df[['age', 'py-score']].min()\n",
    "# if we didn't mention proper columns then it'll show future deprication warn"
   ]
  },
  {
   "cell_type": "code",
   "execution_count": 8,
   "metadata": {},
   "outputs": [
    {
     "data": {
      "text/plain": [
       "(age         41.0\n",
       " py-score    88.0\n",
       " dtype: float64,\n",
       " age         4.969909\n",
       " py-score    7.190271\n",
       " dtype: float64)"
      ]
     },
     "execution_count": 8,
     "metadata": {},
     "output_type": "execute_result"
    }
   ],
   "source": [
    "df[['age', 'py-score']].max(), df[['age', 'py-score']].std()"
   ]
  },
  {
   "cell_type": "markdown",
   "metadata": {
    "id": "J_LvxBP8tSgm"
   },
   "source": [
    "6.Print the basic stats using describe() method\n"
   ]
  },
  {
   "cell_type": "code",
   "execution_count": 9,
   "metadata": {
    "id": "Na20syHWtSt8"
   },
   "outputs": [
    {
     "data": {
      "text/html": [
       "<div>\n",
       "<style scoped>\n",
       "    .dataframe tbody tr th:only-of-type {\n",
       "        vertical-align: middle;\n",
       "    }\n",
       "\n",
       "    .dataframe tbody tr th {\n",
       "        vertical-align: top;\n",
       "    }\n",
       "\n",
       "    .dataframe thead th {\n",
       "        text-align: right;\n",
       "    }\n",
       "</style>\n",
       "<table border=\"1\" class=\"dataframe\">\n",
       "  <thead>\n",
       "    <tr style=\"text-align: right;\">\n",
       "      <th></th>\n",
       "      <th>age</th>\n",
       "      <th>py-score</th>\n",
       "    </tr>\n",
       "  </thead>\n",
       "  <tbody>\n",
       "    <tr>\n",
       "      <th>count</th>\n",
       "      <td>5.000000</td>\n",
       "      <td>5.000000</td>\n",
       "    </tr>\n",
       "    <tr>\n",
       "      <th>mean</th>\n",
       "      <td>34.800000</td>\n",
       "      <td>79.200000</td>\n",
       "    </tr>\n",
       "    <tr>\n",
       "      <th>std</th>\n",
       "      <td>4.969909</td>\n",
       "      <td>7.190271</td>\n",
       "    </tr>\n",
       "    <tr>\n",
       "      <th>min</th>\n",
       "      <td>28.000000</td>\n",
       "      <td>68.000000</td>\n",
       "    </tr>\n",
       "    <tr>\n",
       "      <th>25%</th>\n",
       "      <td>33.000000</td>\n",
       "      <td>79.000000</td>\n",
       "    </tr>\n",
       "    <tr>\n",
       "      <th>50%</th>\n",
       "      <td>34.000000</td>\n",
       "      <td>80.000000</td>\n",
       "    </tr>\n",
       "    <tr>\n",
       "      <th>75%</th>\n",
       "      <td>38.000000</td>\n",
       "      <td>81.000000</td>\n",
       "    </tr>\n",
       "    <tr>\n",
       "      <th>max</th>\n",
       "      <td>41.000000</td>\n",
       "      <td>88.000000</td>\n",
       "    </tr>\n",
       "  </tbody>\n",
       "</table>\n",
       "</div>"
      ],
      "text/plain": [
       "             age   py-score\n",
       "count   5.000000   5.000000\n",
       "mean   34.800000  79.200000\n",
       "std     4.969909   7.190271\n",
       "min    28.000000  68.000000\n",
       "25%    33.000000  79.000000\n",
       "50%    34.000000  80.000000\n",
       "75%    38.000000  81.000000\n",
       "max    41.000000  88.000000"
      ]
     },
     "execution_count": 9,
     "metadata": {},
     "output_type": "execute_result"
    }
   ],
   "source": [
    "df.describe()"
   ]
  },
  {
   "cell_type": "code",
   "execution_count": 10,
   "metadata": {},
   "outputs": [],
   "source": [
    "# df['py-score'] = df['py-score'].astype(int)\n",
    "# df\n",
    "# this can be used to write the data (pyscore col) in int and \n",
    "# then convert it to float "
   ]
  },
  {
   "cell_type": "markdown",
   "metadata": {
    "id": "Pa7yZESZteb1"
   },
   "source": [
    "# **II) Implement a program, to read the CSV file for the given snapshot and perform the given operations:**\n"
   ]
  },
  {
   "cell_type": "markdown",
   "metadata": {
    "id": "Gd_1__7Stih-"
   },
   "source": [
    "![image.png](data:image/png;base64,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)"
   ]
  },
  {
   "cell_type": "code",
   "execution_count": 11,
   "metadata": {},
   "outputs": [
    {
     "data": {
      "text/html": [
       "<div>\n",
       "<style scoped>\n",
       "    .dataframe tbody tr th:only-of-type {\n",
       "        vertical-align: middle;\n",
       "    }\n",
       "\n",
       "    .dataframe tbody tr th {\n",
       "        vertical-align: top;\n",
       "    }\n",
       "\n",
       "    .dataframe thead th {\n",
       "        text-align: right;\n",
       "    }\n",
       "</style>\n",
       "<table border=\"1\" class=\"dataframe\">\n",
       "  <thead>\n",
       "    <tr style=\"text-align: right;\">\n",
       "      <th></th>\n",
       "      <th>name</th>\n",
       "      <th>city</th>\n",
       "      <th>age</th>\n",
       "      <th>py-score</th>\n",
       "    </tr>\n",
       "  </thead>\n",
       "  <tbody>\n",
       "    <tr>\n",
       "      <th>101</th>\n",
       "      <td>Xavier</td>\n",
       "      <td>Mexico City</td>\n",
       "      <td>41</td>\n",
       "      <td>88</td>\n",
       "    </tr>\n",
       "    <tr>\n",
       "      <th>102</th>\n",
       "      <td>Ann</td>\n",
       "      <td>Toronto</td>\n",
       "      <td>28</td>\n",
       "      <td>79</td>\n",
       "    </tr>\n",
       "    <tr>\n",
       "      <th>103</th>\n",
       "      <td>Jana</td>\n",
       "      <td>Prague</td>\n",
       "      <td>33</td>\n",
       "      <td>81</td>\n",
       "    </tr>\n",
       "    <tr>\n",
       "      <th>104</th>\n",
       "      <td>Yi</td>\n",
       "      <td>Shanghai</td>\n",
       "      <td>34</td>\n",
       "      <td>80</td>\n",
       "    </tr>\n",
       "    <tr>\n",
       "      <th>105</th>\n",
       "      <td>Robin</td>\n",
       "      <td>Manchester</td>\n",
       "      <td>38</td>\n",
       "      <td>68</td>\n",
       "    </tr>\n",
       "    <tr>\n",
       "      <th>106</th>\n",
       "      <td>Amal</td>\n",
       "      <td>Cairo</td>\n",
       "      <td>31</td>\n",
       "      <td>61</td>\n",
       "    </tr>\n",
       "    <tr>\n",
       "      <th>107</th>\n",
       "      <td>Nori</td>\n",
       "      <td>Osaka</td>\n",
       "      <td>37</td>\n",
       "      <td>84</td>\n",
       "    </tr>\n",
       "  </tbody>\n",
       "</table>\n",
       "</div>"
      ],
      "text/plain": [
       "       name         city  age  py-score\n",
       "101  Xavier  Mexico City   41        88\n",
       "102     Ann      Toronto   28        79\n",
       "103    Jana       Prague   33        81\n",
       "104      Yi     Shanghai   34        80\n",
       "105   Robin   Manchester   38        68\n",
       "106    Amal        Cairo   31        61\n",
       "107    Nori        Osaka   37        84"
      ]
     },
     "execution_count": 11,
     "metadata": {},
     "output_type": "execute_result"
    }
   ],
   "source": [
    "data = {\n",
    "    'name': ['Xavier', 'Ann', 'Jana', \"Yi\", \"Robin\", \"Amal\", \"Nori\"],\n",
    "    'city': ['Mexico City', \"Toronto\", \"Prague\", \"Shanghai\", \"Manchester\", \"Cairo\", \"Osaka\"],\n",
    "    'age': [41, 28, 33, 34, 38, 31, 37],\n",
    "    'py-score': [88, 79, 81, 80, 68, 61, 84]\n",
    "}\n",
    "df = pd.DataFrame(data, index=list(range(101, 108)))\n",
    "df"
   ]
  },
  {
   "cell_type": "markdown",
   "metadata": {
    "id": "YPfhT_Jotl4f"
   },
   "source": [
    "a. Display the index and columns\n"
   ]
  },
  {
   "cell_type": "code",
   "execution_count": 12,
   "metadata": {
    "id": "esJ4ZnwjtmLN"
   },
   "outputs": [
    {
     "data": {
      "text/plain": [
       "(Int64Index([101, 102, 103, 104, 105, 106, 107], dtype='int64'),\n",
       " Index(['name', 'city', 'age', 'py-score'], dtype='object'))"
      ]
     },
     "execution_count": 12,
     "metadata": {},
     "output_type": "execute_result"
    }
   ],
   "source": [
    "df.index, df.columns"
   ]
  },
  {
   "cell_type": "markdown",
   "metadata": {
    "id": "KP_l8kwYtnsn"
   },
   "source": [
    "b. modify the labels  101 to 107 to 10 to 17.\n"
   ]
  },
  {
   "cell_type": "code",
   "execution_count": 13,
   "metadata": {
    "id": "VLBPrJ2wtn3N"
   },
   "outputs": [
    {
     "data": {
      "text/html": [
       "<div>\n",
       "<style scoped>\n",
       "    .dataframe tbody tr th:only-of-type {\n",
       "        vertical-align: middle;\n",
       "    }\n",
       "\n",
       "    .dataframe tbody tr th {\n",
       "        vertical-align: top;\n",
       "    }\n",
       "\n",
       "    .dataframe thead th {\n",
       "        text-align: right;\n",
       "    }\n",
       "</style>\n",
       "<table border=\"1\" class=\"dataframe\">\n",
       "  <thead>\n",
       "    <tr style=\"text-align: right;\">\n",
       "      <th></th>\n",
       "      <th>name</th>\n",
       "      <th>city</th>\n",
       "      <th>age</th>\n",
       "      <th>py-score</th>\n",
       "    </tr>\n",
       "  </thead>\n",
       "  <tbody>\n",
       "    <tr>\n",
       "      <th>11</th>\n",
       "      <td>Xavier</td>\n",
       "      <td>Mexico City</td>\n",
       "      <td>41</td>\n",
       "      <td>88</td>\n",
       "    </tr>\n",
       "    <tr>\n",
       "      <th>12</th>\n",
       "      <td>Ann</td>\n",
       "      <td>Toronto</td>\n",
       "      <td>28</td>\n",
       "      <td>79</td>\n",
       "    </tr>\n",
       "    <tr>\n",
       "      <th>13</th>\n",
       "      <td>Jana</td>\n",
       "      <td>Prague</td>\n",
       "      <td>33</td>\n",
       "      <td>81</td>\n",
       "    </tr>\n",
       "    <tr>\n",
       "      <th>14</th>\n",
       "      <td>Yi</td>\n",
       "      <td>Shanghai</td>\n",
       "      <td>34</td>\n",
       "      <td>80</td>\n",
       "    </tr>\n",
       "    <tr>\n",
       "      <th>15</th>\n",
       "      <td>Robin</td>\n",
       "      <td>Manchester</td>\n",
       "      <td>38</td>\n",
       "      <td>68</td>\n",
       "    </tr>\n",
       "    <tr>\n",
       "      <th>16</th>\n",
       "      <td>Amal</td>\n",
       "      <td>Cairo</td>\n",
       "      <td>31</td>\n",
       "      <td>61</td>\n",
       "    </tr>\n",
       "    <tr>\n",
       "      <th>17</th>\n",
       "      <td>Nori</td>\n",
       "      <td>Osaka</td>\n",
       "      <td>37</td>\n",
       "      <td>84</td>\n",
       "    </tr>\n",
       "  </tbody>\n",
       "</table>\n",
       "</div>"
      ],
      "text/plain": [
       "      name         city  age  py-score\n",
       "11  Xavier  Mexico City   41        88\n",
       "12     Ann      Toronto   28        79\n",
       "13    Jana       Prague   33        81\n",
       "14      Yi     Shanghai   34        80\n",
       "15   Robin   Manchester   38        68\n",
       "16    Amal        Cairo   31        61\n",
       "17    Nori        Osaka   37        84"
      ]
     },
     "execution_count": 13,
     "metadata": {},
     "output_type": "execute_result"
    }
   ],
   "source": [
    "# wrong as it'll search for [11, 12... 18] all these as columns and replace \n",
    "# that as the index\n",
    "# df = df.set_index(list(range(11, 18)))\n",
    "# df\n",
    "\n",
    "# correct, it'll modify the old index values with these new ones\n",
    "df = df.set_index(pd.Index(list(range(11, 18))))\n",
    "df"
   ]
  },
  {
   "cell_type": "markdown",
   "metadata": {
    "id": "ECZ6CuLEtpWn"
   },
   "source": [
    "c. Display the shape, size, ndimensional values\n"
   ]
  },
  {
   "cell_type": "code",
   "execution_count": 14,
   "metadata": {
    "id": "AN8tywantpgt"
   },
   "outputs": [
    {
     "data": {
      "text/plain": [
       "((7, 4), 28, 2)"
      ]
     },
     "execution_count": 14,
     "metadata": {},
     "output_type": "execute_result"
    }
   ],
   "source": [
    "df.shape, df.size, df.ndim  # DOUBT"
   ]
  },
  {
   "cell_type": "markdown",
   "metadata": {
    "id": "Zuk8V2n2tqv2"
   },
   "source": [
    "d. Implement NumPy slicing of array  to get the output displayed below:\n"
   ]
  },
  {
   "cell_type": "markdown",
   "metadata": {
    "id": "GbLu7ACPtwNX"
   },
   "source": [
    "![image.png](data:image/png;base64,iVBORw0KGgoAAAANSUhEUgAAAL0AAADKCAYAAADw8EFJAAAAAXNSR0IArs4c6QAAAARnQU1BAACxjwv8YQUAAAAJcEhZcwAADsMAAA7DAcdvqGQAADeiSURBVHhe7Z0HfFTF2oefZLPpvfcGIaGHKl2agJciolgBGyKCgF5Fr/rZuyiKiqA06UiX3jsJNfSEQAohvfdstn9zNqui13Z1icie58f5kZ0zc8qc/3nnndmdd2yMAmRkrAhb8/8yMlaDLHoZq0MWvYzVIYtexuqQRS9jdciil7E6ZNHLWB2y6GWsDln0MlaHLHoZq0MWvYzVIYtexuqQRS9jdciil7E6ZNHLWB2y6GWsDln0MlaHLHoZy1B1js3vTGTioy/xzalqkaCh/EoqW95cytmGHDcM8nRBGcugq6EkJ5dSlR3uoZG4Vh5h57w3+XTzcD4+9iSdzNluBP7Zos8/yteL15Kv8CfUzo7UAwcoi46n76ineaCtG0ZtLWWJM5k86wT1Gr0o0JoRTz/MgFsicbm6k2/XnCJP54mvbyU7dhzBLTiCDsNG0OzEJ3x9wkbkv4ups4YR7++CIzkcnT6PdYfPclnsie0+hDsfeIROgdKFWAuSVCpI/GIycxLrqKwXH299mKeH30pPn2IOr1zD4Vw3Ynp3xP3cbJ6ftpyU4rbcOvROpoyGRYvh/lcep3eMF25159k0eznJTu3pccdguoU7ms7QGPyz3ZuaPE4f3cfcvec5rwiiRXNX6pM3smJBEjl6FarcJBa/nU9ot1vp3T8W5+MbWbR8DyeulFFXkcnZI+tZn5BEoWMkHZu5UXNsEYtmf8Ulr970a+9OzubPeXfzeXIry0jd+hULj6ZRHtKGzs09KU7az+Kl+7hcY74WK0CvqSFjyzO8f0RJeIee9GnhwsUt89l04AxZpeXknDvK0cNJZNa54hsSRfMQRxydY+jYpyWhrhqyNy9ge1IeFXV66q4cZdvOJM5crUVnpzCfoXG4KXx6ta0Hge16c+eoO+kW5kj60ZNk1Npi6+hBcI87GdPDn/qaaqp0WZy4kMbVkmp0ppJ2KNxDadXtdh57cDBdw3TknbUjZOgTjH9yBD3tz7D/XA4VxakkrtxOmkszuo56gonj7qezTz05B7dzudx0ICtAh06VyZGPFpEdfh/3PTyeJyc9w4t396VjmCfKa5SkcAsmokV7erdwxdWjK8PGDqRlm77c3iKPY0nJ5FWXkXEmkct2/gTGNSPaR2ku2TjcFKKP9HQn2ssdewcPXF390OlKqao2YtSoKPW7wOZtJ7gkLIo2QGR2aijTgB/ebqEE+7iitHfE1csDe2UXwkOEa+PuSaCNDSYbVHyZo5dqKM5M4eS2lSxes49T6Zmo6rLJK1GbjnTTY9Cgq0jl2D5oEh2Bp70ShX87Ro2dxMhbWxPsas73S9gosHFvya2Dosk7lk5OfgpHE1Mw+IcT2zwMPwdzvkbiphC9p7MDXi4/9QkNqjKu7pvOxKe+ZIO+H1PffoMJA4IJdjdn+F/QqKkw6Cm6mkLSod3sPJhMgX0IYZ3j8bJvaDNueowGjOp6pHGZ/No69AZDQ/ofQhgRG3da9RpIWEYyuadPsPeUEv+gWOJCfWlkzd+8Q5Ya4X9mpydga3sHL46/lXBFDbllOuq05gz/C37hdPZzof2AMfx7+kK+XfI1Mz54j8mjH+S2WBdzppschRI730jiw+DU6XRK1Vr02gpyLpwhNbOActXvvQQ2eLTuS9+AXVzYdogDVc0IbhZDeGObecFNK3qlvRuhTfvhZUzifFIal3dtZG5iOVmFOgw6I/+LncKrJV0GRqMvTeX0iZOc3LeEmW++ykuf7OSiZPqsAgfsnFvRfWoEQZv3k5CcSvKp9Ux/+inembuDMwU/dfNsFfbC3XRGpy0mL/MK5fWisfDpwK23ebN3/3cUhwQQ2yKYgJ+4m43DP1v0tgpRsU44OtijkEYYhe9oZ++Ak5M9Dm6ehA28j2cdD/DhiFtEBzQR/yhbwgqqqCqup87WDntHB1HWDlup9RWfleIhOTmJzw0HR+nsjLO9tN+LrhPf5knnXA4+dQf97/k/TiiiGP/8GDp7mTJbBXaOHrSfmMhHI9by4T096dr3Kb6OvJchDw6md7Srqe4dRJ1KnVp372iadxgo6vpDxnbvxdxzoNb70K7nraJz602nji2JC/L7aRerkfhnj9MbdKg1WgxC7Pb2QvhGvbAsWjR6W+yF8BXo0NbWozFlVqBQGDAYJHGLptpWj1ajN5dVYmvUibJqtHp7HJ3FZ8R+qaydeInsFUL4RnT1Yr9OL/aIo9kpRWsirN9N21b+GqIe1HWoRWtpUo6oH0dhGOyk+tGIzq5BdP7Fs1DaGtHrtKiEG2RjY4PS0QVRjRRvmsjAp3Pp+8orTLy7A1F/g3cofyMrc/0xaDAWbuP5wf/Hlvyr+I35mrfG3U7XaDfxspjzNCKy6GUaAdGDUpeSdiaDUtFSuoa3INLfHRf7v6eZlEUvY3VYnUcqIyOLXsbqkEUvY3XIopexOmTRy1gdFh+9KS4upqqqyvxJRubPo1AoiIyMNH+yHBYX/eTJk5k/f775k4zMn8fHx4esrCzzJ8thcdFXV1dTXy/NI5OR+WtIP1/w9fU1f7IcFhe9Rvr9hc5KfmMuc12RRO/kZPmfpMkdWRmrQxa9jNUhi17G6pBFL2N1yKKXsTpk0ctYHddtyNKgKqeooJgStSthTYLx+CGejxFtWTrnMw0ENInAz71hTmXjoaO6IIMctSPu3oGEuNmb028u1BVXyM0roOi/vhxXYqcMJq5DENJMves3cUmHpqaKkrQqHFtE4v0nqvl6DVleF9HXVxdRcHo987/azI6ybrw571n6+kmhU/TUl2eQvPplRr6lYMKC9xjdK5KAxowCoc1j+5wXmJkaSe87xjK5bwR25l03E7mH3mX2/GWsO6ZHW1NNbbUaO98AXJVeuHk9zuyDY2gl8l2/gHoV5B3bz7eP7Cdq13SGB5mT/wf+MeP0Rr2arEMfMe3dSXywKtmcKjAaUFde5fBn8Qz8z2YKy1XmHY2L4fJeVji1xfW8KyEnrpJtML/z4vr0Og219Ro09bXU1kpbPVq9UbRNRvQaFVpNPSqVqmGfqh617n8KJNKohPR4ibfmn+f8+b2sfW88k+N78fY66fNBEoXg20oT4U33KG3ShHiDKTyreIBotGrqxH2q6lTUa/VIdtEg1c33+eu16E22UtSL9pfrRTJwOpGulibv16nRNRwcvbqOOvNx6jXCI7Coyf1jWFz0V/e+zPQZX7JwvznBjKosjQOfd+a+z8TfDeEJ/hbSLqymu28Edz5YQIHHHo5cqG3YUXWFk9u/pNOkN5k2LoqoqCZiG8eCpFIqteUkzryfBe9OZsSdI0S62H/3ZJ7bZfnfhTQK0kTtvO94tk1LWkn3EvUK8w9kYwrLmX2AT+a9Rp8h/+KOnvcyatZRKuoKyNzydsN9R0cT9cS3nC6pQyus+ZGZD7LgnUncNeKuhv13TeKZnakUXtjLyo8n8EH2GqYOmsqGfOEFGErZ/UYvereXzhnFpM++42yx6YoaFYuL3qCLpu/oD/l05nOM62dOlDA64ew6iDc2nWLx0y74upnTG5VLJK+7FT9tLJ0H3YG/sgk1F7MwBR6WrFlJFrUn9uL6cCKJCet5s98Bvtx/gpyKOpOl35jlTNfHXmXv+i+Y2NSV9PUHOFFhOvA/CDX1lUeZc9tUqiZ+w6o9CSx+/hQbNq9k26k86oWl16Zo8I0cwdMLZ/P5vaGUH13DzPd3MnF+IkcSN/KWw/tMXHqQi0W1Jku/6aoznR/5P/Z+N5NJzdzIWJfIFf9uDB3/Hk8F/4tXlr3CAH8jqQuH8FrxnTwzdzsHl7+O7lgiS1YdbPTIzxYXfXCXu+k38G56NvXB85qYJg6eAbS9/w3ubR9JmI8NikbtvJrJOMeGNlHoI/0J9m9BExcDLpWpZH4fpUzvjaPxX8Tf0oTo6Hhuu609dcKDkVwcibAmTWjbogVxHdvTKzycbjWi+ZeC4PyT0GvRFRdyPHsIQ4e3p3nzJvQc9gCtLxdQfD6PIsnr1Hjj4dmUJnHBBDkZqKjVktDiIe7p01AvI+8cTNXKS1wsqDEZjB/qpUN7ekZE0L1auIV2zqLvEIC30g2/UF9cFWXknMumV99BdG7Vmmbd/sXwdkUoas6SVtC4rq7Fpefg6Y+npzfOP+sh2drZ4xYUjY/oxf8NoU5MXD27jqwjM5jx6kTGjJ7IG1/OZv3JM1zIrmvI4OaKfbsWpgBENjZK8dC8sLX98Uaign0J9HRFYe+Im4Mj3ub0fxQ6HdrCfPYThq+PAwqFDc4RbYgzKHCsFf0Z6SUOFZ3daG+8RQ9fW19DRVkhNV4R+JqMmD3ecW1pV6bFRmSWskcG+RDo5SbqxeFX6kXq++SSe9CAr6uXKWqcjVMIMU1scHerRaVu3L7R32Fv/x6qzrP7Ow1tYm9l8L9up1+/gdx590Di7J3J2SF8UCmPvS22/k6/GmrO2UGJvfL6jXc0CjY22Ahh+kl/NqQIyy46rgaDOWa/wF2JnYe9kLcQiDnc4U9Q11Mq3MHv80v14vC7Cys44ehrI0ViNKMVL5Q4558JqPsXsRrR16XvYXtFK+IHjeaxx8cydqzYxj1Iv1Aj2pP7uFxqznizI4Uj9PfnFmHrT6dUotYYKDq3lSQ3BcZAd37+tYXC0RlPV2dCUndxPl9y82q4eHAbma298HB3+INhtiWZBRHcwYaTqZcpEm6hvvQih84oqagPxOfHL3EaBSsRvYrMY3upbhNLaLi3ZMgacPDBP0INyuMcSMrHKqa+2IrWyrcJg+614fTCb1g0Zy6z513A0KEtcW2C8fr5l0gOHgSGRDPE8xJzZ81hzpyv+SJBy633t6F5gLQW169hJ14YBTYel9i/+gDpdS5E9bkHh8vrWLf0a+bMnsvx6mgiYzvSzPfnJ72+KF4XmP+2CHq9HoPUVNaVUFljwDGoE7d0jb3mCygjqpKLFOrj6dy3M02lRcyuu8dQR/bZY7i1vp3OTUPwdvz+XXfCzr6WcqWGMuHjtgh3pdo2iP5tg0wWTFeZyxWH5vRt6o2yugDbgHhCQ8PwctRSV6LC4OBFcKemjb6Sxv+GDnWFsOg6FwK7difSQ4FC6UV090jyt23jREY6BdpB3P/w7XSL88VZW01hnRIPvxDaRXqhVDjiIjqk4WFKtm3ZSWZmHqr4J3nl7o5ECAutKs4V9dKW0JBwU72oSuow2HsS1LkZvvb11KjOkZTiQLO+nWjRoisRJQc4evISybn1dBx2D8P6dkBU+y9iCvyqtHwrIM+ckrlhkWdOychYCFn0MlaHLHoZq0MWvYzVIYtexuqQRS9jdciil7E6ZNHLWB0W/3JK+kZW2mRk/ir/mG9kZWRudGT3RsbqkEUvY3XIopexOmTRy1gdsuhlrA5Z9DJWhyx6GavjOo3Tl5G5axc7j5dgGHAX4zsEgF5FXd5xFr+3gnMihxT0IfaOydzdtSkh7tcpmqRejeHKHp77HMa80pvmPk5/cCLzzUOluP+DO1az5bQ5wYQ9NjaDeOqjfjR1UtK407L/fixv6etzObd1FXOnTefTVVvYli6FANOjrs7m5LoZfH6wGKW3L36GK6ycv4n9yUVUXq8wEAYdhoIk5s1NIqNa82OICyuirvAsx8/sZFeRLQEBAabN38cDp6LNTD+URYXK+mrF4pY+edsi5n7wMSv3nSW33WDu+M/HrL+nKaqKDI6vns0q2/t5dXQ7fDIWc8fwJYQ99SpP3d+dFt7XYXa4thbdsU/xGQgLzj/FwEgPXMovs/PQKdJyGmJ+BMW0Jb5zNyIdKinITWdbmorm+rMkXZGiwkTQfURvYv1EC2FbTubOQ5xKy2mIkRPYlNh2nekrjnkjk3/0U2bv2M7JmE/YdF+cKc2oqaFyx3NE7h/C4Re64Zq+m6xKJVlF1fg2aUd8m0gUGWc4fegs6VIBV2882/Xj/lbm5S2Lz7BsWxKVNfXExsZSogikaVQwrb1VXMwqIc/gR+/WgSjrKyjKOs3W+hY80tZfFFRx5dBaEi5XUVkPTTr1p12LGPx+FlbnemNxS3/gSDFX1C6ExYXhaU6TAkI7ecbQa+zHfP5oR/yUCqqE5fcwnKOsrIzaxoqNpy7k4rZtrFm9iXVbd7J19XwWrVrLlvNlaOuKSD+2huenzWTbvh3s2LGBb95/i9kJVyiuq6M4dRu71q5mw7pt7NyymsULV7J803lK/sZgtH8eIzpDDdSo0BirOL/+XWYuW86yTbs4lZpBVvoJjm1dwdpvt7Bz2wbWrVzCZ/MOkVcv2cdS0pZ9wbzlm9iwdTP71szmg29Eiy5abHXFZfYc2MecfRlIMeP0tUVkHl3C1J0NgW7LL69j8XcrRLmt7Fy7gPmLt7DnbCFVjdzYWFz0gQPuZ/IHb/LiyF40Maf9FCPa0stsWTmbA6W2+AX54uXSSHFP6jJJOFhPz+FTmfftWlZ8/h/aRzpz4PSlhiCuVVXCwhUS+sga1q75hjdH5LL2TCqF1RVcTTxEbc87eXLet6xd8RmvdYjCd38SF/5r0YMbkNoKyi+dIiEhwbQdSkhkTeIJWnUMx89RaYrPnxvai7GvfcpLD/fDr/gcxe4h9PtiOWtXLWDWhKHEb9hNYqkWY9UxZn52nDuf/oRF3y5leGuFMF6/F3pYvCzi5Uqa+RTfBTzJi5+LOpz7JqFFpzmw77BwPc3ZGgmLi354t2B6t5GCxv0CRgPGuhJOfzuVZ+eWU6V4mPjYSISL2Th4dWHUh6Po09EZTV46+WVqVMZrgq4ognD0up8Ocbaio+dDfPeeODhK4Yw86PDAB9zfuwO+mlzSC8qpVRv5WwIv/xmunuX0ly8wZswY0/bIhKl8VDuNxQ+0J8gc0qxDoB9BLpKf4UKTW8cyYuRDtHcqJD07n8I6Q0N8Sp0O/ZlEFnZ7lo5thcvj5EH73ncQFPHL5u1HpJb8PGcW6+nj5EhdUR7pOn9uaZZPiGMOFdU3bSxLo/Alq6g+NIN+U7cKl8GGRz65j/5tQ/Ey57AERtF51WlVqBtWAfgpBi3Jqx/lkeFtaBsfT/ygsXy87JB5p8DLAWXPQILNH39Ejy55Df9+9E7atBXl4gcx6qOl7DLvveFp3os+n+4gLS2tYUs+w+XPhhLlpPxhJZIIXw88nKWxLQP67AS+eWscrdpI99qTAaPfZIm0x6CnJPeiKZjXH0HqLhrE8/gRBUunDuO2btJxb+XR6YfZdFFNmXCzGpPGE72umqqLq3hi+DTq6zT0fXsb42+LI8zC5rIiYwebvrydV3aXmVOuIWU5r8ztSrdn9nM2P5/8k2t5fWxf887fIoW1r8whrusUtp8V5fJPsOWNxxls3ntzkU3ikpXUFkbxTaJ0rxdJ2vwR48QeW4UC//DWP4nk/Fto1BXk53y/Ooc0MDCAN747Q3KWdNyGbdeMKQyLa9yebCOJXkt1cQobPnmJjRoDuomLePe+eKJ97LG1cNxuRwdvbF2asftqPga9TlimZIz9gwhyUqAUll6tlcLaOeMivJqclENcPnWNpf9VxDWrNeKhK3ESBW1yUjiRdpLd5r03FwYMOuG7G2xxcnbFvraMqye3myy9FPzVpl03Jux9jYQTJZTVVXBk+wpy0i+aSpq4kkXJkbOklItWPT+VpAWSayP1GuLpNP4wX5xJplRji6v2PKuff5SPp6/gVFHjBm9vHNFrq6m5ksT2DSXUiibS+N0HjL9rAL179uDJr/ZwrtByQyAOAc1oJZrkvntH0aPPEO54TcOUibfR1MMJZZNejO5+jIQvHmRI9yf5OsGIv0t7wlMq+IV24Rqa0GVMd1ISZ/Lo0O6MnZNImb8b3aMvUlZpznLTEEyzPp0x2ifxwr3dGfHMh+xUtuL+jscoKJHiyndmwrtDWf3+Iwzp+yL7ikLQeYU3FPWPp9+t/rRTf8i4gY8x4dUruD/UuWGfjRPtJs7l0fzpvPxgX7oPHMtKXUua9OhJbCMH+r8+38hqK8lPu8zFAi1OzVrTJUiJqvQqpw+dp8Cc5Xt8YjvTKioQb2GJLYMBdU2R6Lslcr5QITqkgbTr14EQVwV2NhqKU4+SnCmslMqTEHFed1tHjDonQlu7oinOJ6nUjV6tA3EQfRB17kn21YZxS7gPztVpJCVfEZ1fFe4hUQR62OJi1KIMlY5tPvUNSH15OpmFhVS4tqZr6C/5kmoKLxym2qMV/v7+uIt+ra4qh/TLl0i+Womjpw+BEeH4VF1GEymMhzQOXZ7GjqOp1Ko8cC78nA/z2jNk4ANM6h6GTjrf5bNczHXF1TWEqFg1qepIBsdIPTc1BWeFa5ldS62wc17RbWneJIIA8WwaE3m6oMwfxyg6pRWnWPjWUk5JqzCKpHKjhrDeI7m3T086+Dfyt0x/kkYcvZG5KVA44i5aBH/zTxriOt/HyK630OYfIngJ2dLLWB2ypZexOmTRy1gdsuhlrA5Z9DJWhyx6GatDFr2M1WHxIUtpZUF5dUEZSyAFcHVwsPysZouLXl5SU8ZSyEtqyshYCFn0MlaHLHoZq0MWvYzVIYtexuqQRS9jdVynIUstBq0GjRSRQGmPo530bhlNkQrUKo0pIISEnYMT9gop3IY54UbBqEdTV49BXJ/DT67PgF4t7s9og42t2MQ92dg5YLq9RsJo0KPT1ou6NScIlI7OKBUN16PXiOu2VaJQ2Fl8/vEvIupKqzYgToidUtSVOfn3EdeqVYsaVWBrJ673Fwr+w4Ys8zg19w0mDH2MJzZnNCTpaqi6sJTxUVHEiC1KbK+tvUB2Iwf6+X3qqSvdy8ymMTy1MovSumujr11h/6tP8tqk1/ngi/dYMeM5vr+9xkIKyLripYb6k7boJk2YfqiKKrW0t4IjXz7AgtUbOfd78ZcsRfkR5o9fwJJFZ8k3J/0xKklaOIFFSxdx/H8r+JexvOirzrP53Xd49d0FbBLWsl4nxUjRUlNykS1ff8SOW19n+f7DzJ3kwb5pq9l7Plc8qhsJB5w8OvLQ6pcwvD2DPZcqfggwm7XrM75198P9rtFMfHQSw8e+Sv+Ihn2NQfmlDaxd9SnLXT5h25EjHEk8QOLal7kyuS8L9+dQXNdg6bVSUKbGmhokWfp6LVqtQdju/wV3Wt/zHiNHjCReCnPZiFhc9Bu/WseseRs4VlZFrTlNCgHh5B1H38nfsP69e7kltilhvnaoyqqpU+tEE3cjIdwEO3e8OtzDhEer+GrtIVKKq9FWnuLguiBivAYwuHsItRc3sX/DfI7/fKb7daOemrJCakoNNGvfizbR0URHNyOqw30MHZDHipQUCr4PmlRxni3vP88j/fox+j/TWZtsfhKqEnL2fUk/kf79NutAHqVSsat7eOebpbz85lM8+6i0bzRTXl/LGVO0BxVVOfuY9325efOZNfwd8eLlUmoOZFGVuoUvXn+kodxr35cDfV0pWZte/uF8/fq9wBJTuVrSd89i977dXC5vyNtYKF4XmP+2CPsvqvCO8KN9gA0F5fb4devPyBa+2CoccPUJIthDxcmvJjAtNZ47Ro1kQNdo/F1+jLR1QyB8SRs7Z3witaR8PA9dTBuqj31DjmML2vbuQ3y4gtLzu0hJzcDQbCgtfMzlrivCY68uJPNcIisOpJHmEcfApl6m6/SPbklM0za08Lej8Oh6vsvwwLtFdwa096IoI4+kdIgV5lSXcohlM87gN/Je7urdhRY2SSy9Ekr7liEE1p1l4eKVwjENp0f/fxHnXEhGXirpvu3p6V7Eye3vML12AP8efTstNAksXZ6Nb/+eNPevJnnHBlJtvYnuPoBbAoopKDjJGW0sPZooKD+5k39/WEafyXcyqEsXgqqWsFHfjJbh3mhPriCt3hfP6I6Eu5tv8xqu1+LJFrf03fp14b77BtCpWSi/GKLSxoGAlr3pE+1C+ulTXMyuoPZ6xaf/S9jgENybR+4I58C3X/LRHg32rWOJbeaBFN2y8VHgFtqeHsMfY1Q7BQUf/R9TpkxhytPP8FpqNB3C/PB0bFjcQukeSEynHvQfOZS+4YH4pWdTqnPAObApne8ewWMjhzFs6FDuGnALhSUVoj+gaWhty/3xD+1O10F3MmJwV5o1cSS9uJiagmxS1ynoMvpBhg0bxl29OtLCyeGaBS7scPVtSvuu/bl7WB+aR/tzKasUjTB0ziFxDB59N6NFOansHb3CKKwVLYdwif4uLC765mFuRAa6mD/9HGnUw5WoWx/moZ7eFO1Yxc7Ey+Q3dqzmP4wfLR58gAjVcezDbyEyOgY/yw8m/GEUbkE0veUOnhgzikdubW6KU+Pv50zZ3s/YfCaPclVDp7tpRKBwHz1Rurjh7+ZOtKmws3AxPfHz3suyT97hnXffZfqqU1RKAWi+J6QVgeFh+ImW18XdB09fX9MARG1REZmXIoTlbgjM6xTVkjZ29vz4lGMI9Q8n0FuJs2sAHt5RDclKR5z8fGnjuIE577zDe2Kbs7WQ4qq/16G9TqM3v4+zVyCOdrlU19Sg1jZWr+tPENic3s2c6N8hgjBvj79xqZo6yi5fIWV7HtqQdtz28su8/PJLvPzSC0z0OsnK01eFT99gPT2dHXF2+NmVqqsoSD7GN/P3kyxEXCRt5TXo9dcIMNgFJy+Hn7Zk4tFIw6TXjmH9Nx44OTrj+LNfARvqK8U5d/H1xmNkmc9ZXKFC12i97F+mkUSvQ1OdS8qWbWwSvRadwUhl5glS1H4EhIhm2dXaVj36M2gou5TEgVVr2X712qD4Ouy1vpSpdGh/K5qwqpj85Mt8l3wP/57xKTM+/YAXRjTHU1j130SK++kXQFR4AWdyG8bZ1PmZpOm1omv92+hry8i/kMAGl0d4a8YMPpnxBhO7NcXP+TqtMfYHaSTRa1CVnGfvOy/z4OfrOZiQyIbtu3ELuoP2ceH43MBh8W4cPPFt7orbLWdZv2kzR6QhyyMJYlvPlu0qBoQG4OP0G4tb2AkL7u5MoGMm548c5cjRUyQkJeFQWI1BZ/yNETQXXINCaDqiiA3LvzOd9/Rhcd76+oaFLH4DGzslTu6eBBRfJkmUO3rkBCf3ZVNXVCusveFvG7W7PqK3Ff6elx8hIYEEmCyJMx5BnbnnvdGE7fmYSePH8cHmztz7+gP0axPIL3TcbyAUOHuLTrmL9O2xOUlUm9LZC3dxj43ZSHlGD2DIgMcYWfQOY8eOFdsTPP7EDAqem8ekwc0IcbfH0TMIDzcXHEzXaoeDuwfuAcL98PAnvGNrHm3/HdPGTmDcuJXYDPkP/6p2wU5jQKt0wd/LTbhGStO3qjbCwnu4eRMgbtDJN5pOA55lzPZpPP744yzWtKKbeGq+0rfAdk54iOO7uzs0jMBJo3RuHgR5OmLv4UdEx348fHEhU8c+zuNjkwmeMoZmgR4YhYtj6x6Au+hzmPvfjYY8c0rmdzH99EFTj0Zy7CW5nJ5DjyeNPLfwAYa0D/zlUToLIM+ckvmb0FB+ZS/zHjH/9CG6CVHDjzLm83u5rYWw1OZc/yRkSy/zO0g/DFNRU1pAqbRkoMn5ccYn2Bc34UNdzx+1XS9LL4te5oZFdm9kZCyELHoZq0MWvYzVIYtexuqQRS9jdVh89EYauZFHb2QsgTR684+IZSkjc6MjuzcyVocsehmrQxa9jNUhi17G6pBFL2N1yKKXsTpk0ctYHddpnL6GwjOnOX25CmO7bgxq4mlOlxCnq83gwNqDpEV2ZUDbKELdf2Nu529RX0BywnHOpubwkyBZbj54tevLfS19zQm/gqaUK2cKKK5xIaZPJNdepek6i86wNNmJXu0jCf5+OpxF0FFbnEFK4mGSa2LocUcPoq+JmlKfncj2xEvogjvSqXUs4R4Wnk9n0GEsPsuC864M7hqFn7PSAtavmvzjGZTUOuDXNY5Ay3+nZDEsb+m15WSf2cvaT97j9Xe/ZPbJQvMOM0YD5efm8PHzU5i8/AgXTTHl/iR16Rz6ZiFzP13I6q272LVL2rawcf1yFsxdR9rvBcmsz+XcpgNsXHSO/4rOJ5mCqiwOJedTqtKaPloOLRXZR9k5ayrTPvuWrZmm6Ktm1OTsX8vcGc/z+caDJBddE5fGUhg0GDO28uw3x8isVv9OeI8/SgmXN+9i3+IEMn6M53hDYnHRFyYfZtnb0/h44RaOmNN+wKjHUHmV9Utncrjm2liXf4Uoug0X4lm0hjVrpG0Z8/4zgtsTp7My+fsoWlrKMk6SdCyBhIQELuWU/CSqmhSfpSjrnNh3nBNJmQ3xGW1sILATjw9sSaSwtDU558m/colzZ6V84jjnLpFW9ntBMH4bDy874m9x4cTRbHGFZjS5nDznSEy0PcEB5jTxItTkZ5IqnVfaTp7mVIGoPWFAUAuxHc0l+8oxTpz48f7MIXBAr6IqP4NzUrnjp0jKLP/xXIKa/CROmcqlkV1SZ96nR1WeQ8bZhuOdPC2MwjUPqyZPnMtclwmX8yipq6emKIf8kitkiv+z0vOp0hrQ1ZeTl2LOJ7arFToa4vlWkHMhg9Rz4pkkpZCeXSXusPGwuOjXLTzId4fTqPVyvSbsm4QRg7qcku2f8eIGDwwqxXWKX+mCs08o4f0MZJdK8WGMqCtOs27aI4wf+yCj7xvBq7M3cSyrDo0pBkU9ZTlHWTPnFUY/OJZxT0xn9eVa9JKgUpZx9/tbOZaXzZFvJjLvkzd4+oWXGfXASIZNeYPXtl7CHFTsT+Hk4UFU63jsdiWSo5Oi3wu5SYJStCEqzJcAU2gUA5qaS5xY9ilv3zOKMaMf4P7HJ/Lw/JPixRUtUOEO3howg5lfPsrESaO5b8RtvDxnI6fytaKkDnXhRY4umsFLD45h1OOTePKL70irMV90bTGnNz7Dc5MfZOTQ15m58RxX1Xp0qnzO7/uaD5+/nzGj7mf8U1OYf0gYCmm9gfoy9iwYxfhxoxg9RpT7YDk7UrO4tO87th9fzuL9G1kxbzsXyqvITdnE16/cK655NGPuHca0jenkVevRlx3lm0nv8OqUsUz693TmrU+lsSKLS1hc9MqBT/LCgnl89dQdtDKnmTCqqC05xBejvqbv228x2dsLy0RoFo9WU09dbQ01NdKWS2FmMslrXGkV6iOMoY7Ts/vzpuoJ3tuQRMrOz1CeOMiSVftJrZacllOcrLtKTvyHXDy+ks/Hq3jjo80UiF0/d2m2FfoySDykc4eW82q8P/nr93Psr0TcdXAwheiI2beTQ7lGUxCs4tMHMLaNxM/XA2dTploubV/KkWoD3deeJu1CAjtff4AO81exrUjaL13lV2SELWDZ5ovs/LQPVQWnhVuWSZ0xl6RVhzl3MobnT6RxdvN03gyZzozdZaKYKLfzdYpareLbnSdZNrVAlNnB1rOF5CZ8xfKzl9BM2ENa0h5mPtadrye9wtZcFcbTs3g49VW+2H6Wi2knWR5Xh11+KW6DxYt4+4u8OlI8/3cfIq7iEDvWf8iq/ptJSz3P5TVTWfP0S6w5V0SFqTk5TVjv55nx7RzendSJUCmpkbC46B/qH8HgzkHmTz+iqy4na+tqpttOZcyQJrg6Wapzdp4NX45lYGwQQUHS1pz+zyyj5N31jGsrbKexiOxUI4+PHEhzX0/sY/rwaP9SvIziQeRKM52j6BLVhyd7NkXpE0TMLUMYv3Unh/PFNf9M9e3axdEyIgjnkAg6hUYx2Jz+53HF2TuCduN3sOVYETp9ESf36YkP88LP4/vOvSst7niDf7/0EY91cANHJ5x9A2hm3tvAAPrGh5kixcW0vhdv/+YNyXlXOaE0cqx7PC28RRsY3IH+Tx1hxmCpgy/N6H6aDq08cXP2omWnHvgFBYu0bK6Km/e+6M+QuCjhg4UQ1bUzL/faT85/dXy86D75BUYMuIUmDW+omVLhTqZRvMGFcZ2E6bNzwKbD/UwbvB9tbR1qUzelEz6ewbj9WtjT64jFRW+nsMHu51PkNaUUn9/AF9MOM2HFZLq6CQtnsVn0sQx4+COWHzrN6T0r+HjiE+Ih3sddg4JR2uqFQcsmZ7sBW520HI04qa0PgWEOuHkaMAjLKgVpdXeJIMhXVIXYb6uww14vmuCfm3lBhJ8Hvm7OIpstCrH99dfWBkcXX1p0fZQtGVfR5R9h745wnO2dcfqhgsQ1FZ9h2YcTaR4bQ9OmHehxz/+x0Ly3QbytCA10wF4pbk9cv41Ng+NYV1FIVUUBekVD1AIpXSGO7WAnfRAZbosiVLwo9uK+FSKPtKSQ1HIa9QZOb1rExNua0TSmJZ0HPsG7+zSkFNZhEz+BHf0P8fTgLsQ1jeGBGds5Vaj7r6gIRoOBvOQzvD1cHKOp2GJ78ez6chLTSlGZ1g6KxtfLSzyrhvyNicVF/0voasrIPrOHNZm5rHxtCIN6jeOTglJK173NlPlb2XPFHMH/T+GAq2cgoZFNaBLfh4HDO3FP+/V8OPco5dLt2fjh20EI54dR0RqqRU9V9UNMuirqNSVUSp+ldbLKiklr2PFf2CmE2C0c88LG0QX3uO7cP+sIh45tY8uAOAL9XHD74TR5nFq7hoJLdox7bxGLFs1ixquPMsi8twF7k7GR3ulrcXDxxNFVmPhfw8XOdD//fUdRtO09gTe+ks63mKXLV7NixUqmdvcQLY0XbQc/y8xZ81i86AsG1y/jzLF9pAiP6ad4Exg5kudnSceQtmWs3XaQd0Y0J8Rdeimlc9si/jU6jXJKW5dAovs/zdcrv+WTN57j+akP0s/dBZf427mnW0tifSwU5kHpTFCrjgzu257gFZ+yJ11aJE28EG1t2XzgGFlC2bqc46xPcKNCL6ycnxSf9yoFpac5l1GLrraSgqxzJHbuSGuhlV9a/MviiLdR6R5M+5DZvPPhRlq1jyHIw+WaVkRNVWExeo0Tce270SkuAh9DHifNe38LhZsXobUafM6ncUX06VWlqRxeNY6Hvvu111oiAP/W4qytqsl1jaJbxzgilTkkfD2fC8U6yg9+yCN71YQ0b0+3bp0IU3ih0Ntg+ImS3HEL9sKnXz5HtEF069qJbs10nJj1BWeu1FCna4yK/XUaR/QObvjGdOfOO+80b71p6+yIY1QHuseFE+L2J7+c+gXsXcOIaXs7/ZpV8tU7e7liI8Ry9xt0LlnMrNcnM3Hq+2S4txUPrCvNvCRpBeCo1pGd8CkTn/mYmRs8uWfqIKLFe9g4j0aBnX0A7W534Oy5dtwa54+nsMA/4kN4++YY7VKZ/eoEXpq+gAO1brSKS6H89xpIt0i6dI4h1v44r0+ZwKT/+4SZJzzpGPFbgficCe3Wh/ZxduQtfY4JTz3Da1+sJNmrLZGetjgERuF56G3emDqRCROmsrG+FYHRcYS4uOAcVElW9jbWLTlMkV9rOg7tgueOF0S+p5jw77c4aN9C9FUczXE2/z4svvyOCUktdq74RjWnQ8fWtPL/ueMmZXAjpEt3usUE4PVXOrVKT4Ljoolq4oeb6TB2KB3dcA/xo67em/juYQQGtibKroxarZPIHk7vocPo3bEp/lIDowgkOCqSyCgDldWuhDfvx5h7WuItLlGaroZbGF1iA/B2csY7Ip6wQH9M76iNI+5hoYS2DMHzfw7iKrkUCuzdAggSPrr00rv7+OEQMIBBg5oSKLkd4tQuAW2JCooiLMQLWzcnpFmY3iHRtLilN32bu+Id1ZlQd9GaOQbQvEe4uEZRTqpbZ3+aRwWLPogPPv4euHjYUlmpwsMvgpgu9/CYyGtvK5TnEUGPuAA87E2lRN1E0iosiKjgcPxc3HDTVAvnzwv/JvHcOnIUPSMcRWc/gkj1VUrVztg7eRLT83a6tIwiwMUehZMRG1dnXH2jiGvbgqgAYdA0hRRq3HD1DqfHqAn0i/PC1V6czd6bCNH5DgpwEc5Z4yJPF5SxOv6GboSMzN+LLHoZq0MWvYzVIYtexuqQRS9jdciil7E6ZNHLWB2y6GWsDot/OaWXfqEoNhmZv4r0jbhSafk1Sy0uennNKRlLIa85JSNjIWTRy1gdsuhlrA5Z9DJWhyx6GatDFr2M1SGLXsbquE6iLyJl1ee8/sRLvLIvuyFJX0vN5Q282q8fA8TWz7Q9x7w9GRRZPKabjtqSc2x4Zzi3LU2mTmsKZWZBVGQfWcSmhR/w/e3dPORz9ptpvPT9Mxr5BOPnn+APxasoPsvaDet4fd0Fqs1JNyKWF31tOoe/+Yrp075iyblULn0foFWnRpV7iRXHbWg9cgLjJ01hypS76Bbra57bakFUFZRcOcYn5QFEzDhKhkb/k/iNfx29OEUuRTnp/JX4szceBZxZMJ8dR4rxGPaEeD5TmHh3V5pXb+c/C5OQgiT+Jq4hxLeJZ0h8MFKciRsVi08MP7BsMXM+n8eOC1coDmxKs279GdnCxxQktfDkJqZvieLfM8dxe4eWtIwLw8/dAaWFXz11RQbpx+aTGvI4wwpncDRqMG0DnHGUZlsXnmThgSxSzm/k2K4lLFx2iexCNUb1GdZMm8XaIycp9mlP64CG6co151fx6ewlrFy7kW3bUii388Q3xAONeKmu5lfg2HIo4vZuClSZe1i+4zKlYd0ZMXoYvdq1oFl0IF6GbM7t3YRS3GuMFEjh6l7emj6Htes3iDrZRqGtP97+wXjoRCuRlktqpS0hiiucWvsFW45eYuXqddg07Ue4ezUpaz/gqyVrRYsgytmYy/1KWO/r9TMEi1v6ixXeeLTqQr8erbg2uJ9OW0dhbiIGw1k2fPkhH777DksTMimqtfTvdOqpLi4lc7c3d3ZrQ4eHgrm49xIVdVJAU0FFOru/W8K2YxlU2XmhqDpPwprlrNyYjc7TCZvCi8yddYJcKeBs3hFmzT5LttYJD39/7Mr3szPpEEdzbuTG+89ST97pw+Q7+xLWuSOxvg1iUzj7EdG6Hw8PbIePQjyrqgts/GwH2Son3Hz9ca+/zM6EUxy7UoamtoALKRfYlZxHeWkaJw+sZXmaGj8/P5yVRvKPfMrXe9KpULiJY5Wwd8NutiWmU9yYIYsFFhd9XL+BPDz5UUYK0Qea06RQ2erafC6JG6SdG8qyYnKPr2PevLnsOZdLhSVvWl1OaUkJB7WD6RDuTGiXJ4jMPEpOVT3137v2uWXYe/ak/wMvMmlMM6L9siix78R9LzzNuKFdUW09L0QPRl0dKu+ejBr3NC++/DL/HhWDQVlKatHvNvT/QFQU5181tbxNgnyviTitwMm7Ka1vH0/nIKMU11wYizgeGS/q5KWXefHxodgY1GQUlv6XC2lw8MA1fgjPP/s03YNVZO74iuzQu3hgwou89MJTtLa9xIXTR7lUZlnn8/ewuOi7i7a+bfTPgwnpRFsFju53M/yZN5n+yadMm3onTseWsOvIRbIrLdfR1FYUkiWa6R2emZzeuJmNB9Kpz9nBkYxKatTm39Z5dSE0rAkBol11cnUkrIMfLfrGEmRnh4ObJy1NmcQFh3dn3Egbqs/vY+eGDRw4U01RteV/AHUj4ahUYG/3K9GYbETny7MDg8f6U526l92bN7DreBZFlb8sWncHezqZguxL9V4gWhIDPeJbEezugl1AG/p1VONln0Nh2XVYeOI3sHxH9hcRTWFId+5b8DWLh8fgaGeLe5O2tHV0pq6ihtqGMLZ/HWFxSvPSubhvJ66nv2PGjM/57LNFHK0p4tjudEoq6xtW3Yhxxy3Aid8OmGtEW3aONXPf59MZH/PJjBnMXnWQlKt/Je7mjYydMABuFFSqyC2t+snqJHpNDZX5Z8ivEcapOpdNX73Ch6JOpos6mbF4K6lZJeacP8VBaUeoj5v4SzJqlVSlC5fxh/dDMjjiBfsberyNJHqDqeLKrmSRKXwZKViwXq2iziA6sfZKU/BRS2CszebKmSucz3uMj9ftZvduse0R25q3CFu5j4tXy6n6g42KUVomaP8sPq8fzTOz17N99za+fesh+rbwM+e42XAjuk0X9LUqUlIuCz+7oaKMejXlmUfYMW8Sm9JFhz95KS8svoeJX37Hpt072fzFFHq1DTPl/XWkliOUkD621Opr0egMGLVFZGfpqK4SGpCiKDcijST6OioztzOzV2/azTxCcUUVOcf3cEQXT0xcEwK9LLMql6o4h7TKHC73uoW2166x5h9CrOMSLl7Mp7zqj00fkB6DjZ0SpV6Duq6W2tqLHF2RQOYx4e2LQ/yxo/yzcIvvzWB9JtodG9hyskjcc60Q/CkSVq3i7c2P0kny+xTCBVSIPppKqpMCEnevoyDjsvDrf6tORG3a+BIS58Lqzbs4l5NL+YU9LD/kLfoHrWga3LjxuhtJ9C54hfXkkc/vRzttBK2aNaHjuGXc8sxT3NcnjhCLuMl1FOddpCw3kx6dW+FlTm2QbzwdHrNnbcJ+zuQW/7H1jWxs8f3XQzxx9BOm9mpHs6ivSW3WhcB2EdSK5v8GX0vsTxJJrzdeZEjTMrYNbU1UVBSxXabw/r5uzNkzijbS4grt7uG927/mtX/F0ypqAvud+tG2OhL3K9W/8wWWDW0f38XbHt/w2vD2xPafjLZDF8bc15tY0zJDjcf1mTmlqaOusoLyOgN2nj4EuCildhK9qpKsgh+X/PPwD8XD2R7h4lsAI7p6IUbRPBuc/fFy+ulB1VXZosl2w8vZhhqNLQ6Ojrg7KTGqK6mrV6N38MXTQRxDuF3lhXrcIzyE16mmKruQCq1OdMXd8PZWihRblEoHXGzq0Kh12Lr6Id3ezYOO+vJyKsqrhRmRsBd+twf+wW7mQKt6akWLWlIrnqfBCU8fZ2llJZTOjjg7G6mt01CPEi9HPerqKoxuwfy4YqqeutI8Smu0aEWnwdXLHw9311+NYny9Zk7J0wVlbljk6YIyMhZCFr2M1SGLXsbqkEUvY3Vcl46shQ8pY6VIHVl7e8svzmNx0cvI3OjI7o2M1SGLXsbqkEUvY3XIopexOmTRy1gdsuhlrA5Z9DJWhyx6GatDFr2M1SGLXsbqkEUvY3XIopexOmTRy1gdsuhlrA5Z9DJWhyx6GatDFr2M1SGLXsbqkEUvY3XIopexOmTRy1gdsuhlrAz4f0Pz1YVw1NpRAAAAAElFTkSuQmCC)"
   ]
  },
  {
   "cell_type": "code",
   "execution_count": 16,
   "metadata": {
    "id": "ky304nGrtq79"
   },
   "outputs": [
    {
     "data": {
      "text/html": [
       "<div>\n",
       "<style scoped>\n",
       "    .dataframe tbody tr th:only-of-type {\n",
       "        vertical-align: middle;\n",
       "    }\n",
       "\n",
       "    .dataframe tbody tr th {\n",
       "        vertical-align: top;\n",
       "    }\n",
       "\n",
       "    .dataframe thead th {\n",
       "        text-align: right;\n",
       "    }\n",
       "</style>\n",
       "<table border=\"1\" class=\"dataframe\">\n",
       "  <thead>\n",
       "    <tr style=\"text-align: right;\">\n",
       "      <th></th>\n",
       "      <th>name</th>\n",
       "      <th>city</th>\n",
       "    </tr>\n",
       "  </thead>\n",
       "  <tbody>\n",
       "    <tr>\n",
       "      <th>11</th>\n",
       "      <td>Xavier</td>\n",
       "      <td>Mexico City</td>\n",
       "    </tr>\n",
       "    <tr>\n",
       "      <th>12</th>\n",
       "      <td>Ann</td>\n",
       "      <td>Toronto</td>\n",
       "    </tr>\n",
       "    <tr>\n",
       "      <th>13</th>\n",
       "      <td>Jana</td>\n",
       "      <td>Prague</td>\n",
       "    </tr>\n",
       "    <tr>\n",
       "      <th>14</th>\n",
       "      <td>Yi</td>\n",
       "      <td>Shanghai</td>\n",
       "    </tr>\n",
       "    <tr>\n",
       "      <th>15</th>\n",
       "      <td>Robin</td>\n",
       "      <td>Manchester</td>\n",
       "    </tr>\n",
       "  </tbody>\n",
       "</table>\n",
       "</div>"
      ],
      "text/plain": [
       "      name         city\n",
       "11  Xavier  Mexico City\n",
       "12     Ann      Toronto\n",
       "13    Jana       Prague\n",
       "14      Yi     Shanghai\n",
       "15   Robin   Manchester"
      ]
     },
     "execution_count": 16,
     "metadata": {},
     "output_type": "execute_result"
    }
   ],
   "source": [
    "df = df[['name', 'city']].loc[11:15] # iloc[0:5]\n",
    "# in loc 15 is INCLUSIVE\n",
    "# loc and not iloc here else iloc[0:5]\n",
    "\n",
    "# DOES NOT WORK IN PANDAS\n",
    "# df.loc[14], df.loc[15] = df.loc[15], df.loc[14]\n",
    "# because they are not copy but views, so first df.loc[15] val is give to \n",
    "# df.loc[14] and then df.loc[14] i.e nothing but val of df.loc[15] itself\n",
    "# is given to df.loc[15]\n",
    "\n",
    "df.loc[14], df.loc[15] = df.loc[15].copy(), df.loc[14].copy()\n",
    "# here on the right side first 2 new values are created i.e their copies\n",
    "# are created (first the right side is completely executed) and then the \n",
    "# assignment begins,... \n",
    "\n",
    "df"
   ]
  },
  {
   "cell_type": "markdown",
   "metadata": {
    "id": "9Ms2gj1Vt1bO"
   },
   "source": [
    "# **III) Implement a program to create a Data Frame which contains data given**"
   ]
  },
  {
   "cell_type": "markdown",
   "metadata": {
    "id": "EqW315y9t7a2"
   },
   "source": [
    "![image.png](data:image/png;base64,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)"
   ]
  },
  {
   "cell_type": "markdown",
   "metadata": {
    "id": "aUXsS8N5uaAs"
   },
   "source": [
    "![image.png](data:image/png;base64,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)"
   ]
  },
  {
   "cell_type": "markdown",
   "metadata": {
    "id": "s1OK57i1ucNF"
   },
   "source": [
    "![image.png](data:image/png;base64,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)"
   ]
  },
  {
   "cell_type": "code",
   "execution_count": 23,
   "metadata": {},
   "outputs": [
    {
     "data": {
      "text/html": [
       "<div>\n",
       "<style scoped>\n",
       "    .dataframe tbody tr th:only-of-type {\n",
       "        vertical-align: middle;\n",
       "    }\n",
       "\n",
       "    .dataframe tbody tr th {\n",
       "        vertical-align: top;\n",
       "    }\n",
       "\n",
       "    .dataframe thead th {\n",
       "        text-align: right;\n",
       "    }\n",
       "</style>\n",
       "<table border=\"1\" class=\"dataframe\">\n",
       "  <thead>\n",
       "    <tr style=\"text-align: right;\">\n",
       "      <th></th>\n",
       "      <th>High</th>\n",
       "      <th>Low</th>\n",
       "      <th>Close</th>\n",
       "    </tr>\n",
       "    <tr>\n",
       "      <th>Date</th>\n",
       "      <th></th>\n",
       "      <th></th>\n",
       "      <th></th>\n",
       "    </tr>\n",
       "  </thead>\n",
       "  <tbody>\n",
       "    <tr>\n",
       "      <th>2009-02-11</th>\n",
       "      <td>30.20</td>\n",
       "      <td>29.41</td>\n",
       "      <td>29.87</td>\n",
       "    </tr>\n",
       "    <tr>\n",
       "      <th>2009-02-12</th>\n",
       "      <td>30.38</td>\n",
       "      <td>29.32</td>\n",
       "      <td>30.24</td>\n",
       "    </tr>\n",
       "    <tr>\n",
       "      <th>2009-02-13</th>\n",
       "      <td>30.45</td>\n",
       "      <td>29.96</td>\n",
       "      <td>30.10</td>\n",
       "    </tr>\n",
       "    <tr>\n",
       "      <th>2009-02-17</th>\n",
       "      <td>29.35</td>\n",
       "      <td>28.74</td>\n",
       "      <td>28.90</td>\n",
       "    </tr>\n",
       "    <tr>\n",
       "      <th>2009-02-18</th>\n",
       "      <td>29.35</td>\n",
       "      <td>28.56</td>\n",
       "      <td>28.92</td>\n",
       "    </tr>\n",
       "  </tbody>\n",
       "</table>\n",
       "</div>"
      ],
      "text/plain": [
       "             High    Low  Close\n",
       "Date                           \n",
       "2009-02-11  30.20  29.41  29.87\n",
       "2009-02-12  30.38  29.32  30.24\n",
       "2009-02-13  30.45  29.96  30.10\n",
       "2009-02-17  29.35  28.74  28.90\n",
       "2009-02-18  29.35  28.56  28.92"
      ]
     },
     "execution_count": 23,
     "metadata": {},
     "output_type": "execute_result"
    }
   ],
   "source": [
    "data = {\n",
    "    \"Date\": [\n",
    "        '2009-02-11',\n",
    "        '2009-02-12',\n",
    "        '2009-02-13',\n",
    "        '2009-02-17',\n",
    "        '2009-02-18'\n",
    "    ],\n",
    "    \"High\": [30.20, 30.38, 30.45, 29.35, 29.35],\n",
    "    \"Low\": [29.41, 29.32, 29.96, 28.74, 28.56],\n",
    "    \"Close\": [29.87, 30.24, 30.10, 28.90, 28.92]\n",
    "}\n",
    "\n",
    "df = pd.DataFrame(data)\n",
    "df.set_index(\"Date\", inplace=True)\n",
    "df"
   ]
  },
  {
   "cell_type": "code",
   "execution_count": 25,
   "metadata": {},
   "outputs": [
    {
     "data": {
      "text/plain": [
       "1     True\n",
       "2    False\n",
       "3    False\n",
       "4     True\n",
       "5    False\n",
       "dtype: bool"
      ]
     },
     "execution_count": 25,
     "metadata": {},
     "output_type": "execute_result"
    }
   ],
   "source": [
    "s = pd.Series([True, False, False, True, False], index=[1, 2, 3, 4, 5])\n",
    "s"
   ]
  },
  {
   "cell_type": "code",
   "execution_count": 26,
   "metadata": {},
   "outputs": [
    {
     "data": {
      "text/html": [
       "<div>\n",
       "<style scoped>\n",
       "    .dataframe tbody tr th:only-of-type {\n",
       "        vertical-align: middle;\n",
       "    }\n",
       "\n",
       "    .dataframe tbody tr th {\n",
       "        vertical-align: top;\n",
       "    }\n",
       "\n",
       "    .dataframe thead th {\n",
       "        text-align: right;\n",
       "    }\n",
       "</style>\n",
       "<table border=\"1\" class=\"dataframe\">\n",
       "  <thead>\n",
       "    <tr style=\"text-align: right;\">\n",
       "      <th></th>\n",
       "      <th>High</th>\n",
       "      <th>Low</th>\n",
       "      <th>Close</th>\n",
       "    </tr>\n",
       "    <tr>\n",
       "      <th>Date</th>\n",
       "      <th></th>\n",
       "      <th></th>\n",
       "      <th></th>\n",
       "    </tr>\n",
       "  </thead>\n",
       "  <tbody>\n",
       "    <tr>\n",
       "      <th>2009-02-11</th>\n",
       "      <td>30.20</td>\n",
       "      <td>29.41</td>\n",
       "      <td>29.87</td>\n",
       "    </tr>\n",
       "    <tr>\n",
       "      <th>2009-02-17</th>\n",
       "      <td>29.35</td>\n",
       "      <td>28.74</td>\n",
       "      <td>28.90</td>\n",
       "    </tr>\n",
       "  </tbody>\n",
       "</table>\n",
       "</div>"
      ],
      "text/plain": [
       "             High    Low  Close\n",
       "Date                           \n",
       "2009-02-11  30.20  29.41  29.87\n",
       "2009-02-17  29.35  28.74  28.90"
      ]
     },
     "execution_count": 26,
     "metadata": {},
     "output_type": "execute_result"
    }
   ],
   "source": [
    "df.iloc[s.values]"
   ]
  },
  {
   "cell_type": "code",
   "execution_count": null,
   "metadata": {},
   "outputs": [],
   "source": []
  }
 ],
 "metadata": {
  "colab": {
   "name": "Unit 4 Assignment.ipynb",
   "provenance": []
  },
  "kernelspec": {
   "display_name": "Python 3 (ipykernel)",
   "language": "python",
   "name": "python3"
  },
  "language_info": {
   "codemirror_mode": {
    "name": "ipython",
    "version": 3
   },
   "file_extension": ".py",
   "mimetype": "text/x-python",
   "name": "python",
   "nbconvert_exporter": "python",
   "pygments_lexer": "ipython3",
   "version": "3.9.6"
  }
 },
 "nbformat": 4,
 "nbformat_minor": 1
}
