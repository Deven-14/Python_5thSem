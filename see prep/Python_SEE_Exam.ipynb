{
 "cells": [
  {
   "cell_type": "markdown",
   "id": "4bc23eaf",
   "metadata": {},
   "source": [
    "# Unit 1 - files"
   ]
  },
  {
   "cell_type": "markdown",
   "id": "f6b1f101",
   "metadata": {},
   "source": [
    "read(n)"
   ]
  },
  {
   "cell_type": "code",
   "execution_count": 3,
   "id": "dd81805b",
   "metadata": {},
   "outputs": [
    {
     "name": "stdout",
     "output_type": "stream",
     "text": [
      "india is m\n",
      "\n",
      "y cou\n",
      "\n",
      "ntry and all indians are my brothers and sisters. I love my country and i am proud of its rich and vary heritage.\n",
      "I shall always strive to be worthy of it.\n",
      "I shall give respect.\n",
      "\n"
     ]
    }
   ],
   "source": [
    "f = open(\"data.txt\", 'r')\n",
    "\n",
    "s1 = f.read(10)\n",
    "s2 = f.read(5)\n",
    "s3 = f.read()\n",
    "\n",
    "print(s1, s2, s3, sep=\"\\n\\n\")\n",
    "\n",
    "f.close()"
   ]
  },
  {
   "cell_type": "code",
   "execution_count": 5,
   "id": "a21cacd7",
   "metadata": {},
   "outputs": [
    {
     "name": "stdout",
     "output_type": "stream",
     "text": [
      "india is my country and all indians are my brothers and sisters. I love my country and i am proud of its rich and vary heritage.\n",
      "I shall always strive to be worthy of it.\n",
      "I shall give respect.\n",
      "\n",
      " -next- \n",
      "\n",
      " -next- \n",
      "\n"
     ]
    }
   ],
   "source": [
    "f = open(\"data.txt\", 'r')\n",
    "\n",
    "s1 = f.read()\n",
    "s2 = f.read(10)\n",
    "s3 = f.read(5)\n",
    "\n",
    "print(s1, s2, s3, sep=\"\\n -next- \\n\")\n",
    "\n",
    "f.close()"
   ]
  },
  {
   "cell_type": "markdown",
   "id": "43b2e386",
   "metadata": {},
   "source": [
    "readline(n)"
   ]
  },
  {
   "cell_type": "code",
   "execution_count": 6,
   "id": "1f6a9e8c",
   "metadata": {},
   "outputs": [
    {
     "name": "stdout",
     "output_type": "stream",
     "text": [
      "india is my country and all indians are my brothers and sisters. I love my country and i am proud of its rich and vary heritage.\n",
      "\n",
      "I shall always strive to be worthy of it.\n",
      "\n",
      "I shall gi\n"
     ]
    }
   ],
   "source": [
    "f = open(\"data.txt\", 'r')\n",
    "\n",
    "l1 = f.readline()\n",
    "l2 = f.readline()\n",
    "l3 = f.readline(10)\n",
    "\n",
    "print(l1, l2, l3, sep='\\n')\n",
    "\n",
    "f.close()"
   ]
  },
  {
   "cell_type": "markdown",
   "id": "45ff26fd",
   "metadata": {},
   "source": [
    "#### read line by line using readline"
   ]
  },
  {
   "cell_type": "code",
   "execution_count": 8,
   "id": "350806a1",
   "metadata": {},
   "outputs": [
    {
     "name": "stdout",
     "output_type": "stream",
     "text": [
      "india is my country and all indians are my brothers and sisters. I love my country and i am proud of its rich and vary heritage.\n",
      "\n",
      "I shall always strive to be worthy of it.\n",
      "\n",
      "I shall give respect.\n",
      "\n"
     ]
    }
   ],
   "source": [
    "f = open(\"data.txt\", \"r\")\n",
    "\n",
    "s = f.readline()\n",
    "while s:\n",
    "    print(s) # print(s, end=\"\") for lines without space in between them\n",
    "    s = f.readline()\n",
    "\n",
    "f.close()"
   ]
  },
  {
   "cell_type": "markdown",
   "id": "ed62da21",
   "metadata": {},
   "source": [
    "#### read line by line using for loop"
   ]
  },
  {
   "cell_type": "code",
   "execution_count": 9,
   "id": "fd423fef",
   "metadata": {},
   "outputs": [
    {
     "name": "stdout",
     "output_type": "stream",
     "text": [
      "india is my country and all indians are my brothers and sisters. I love my country and i am proud of its rich and vary heritage.\n",
      "\n",
      "I shall always strive to be worthy of it.\n",
      "\n",
      "I shall give respect.\n",
      "\n"
     ]
    }
   ],
   "source": [
    "f = open(\"data.txt\", 'r')\n",
    "\n",
    "for line in f:\n",
    "    print(line)\n",
    "    \n",
    "f.close()"
   ]
  },
  {
   "cell_type": "markdown",
   "id": "d9e5ae4b",
   "metadata": {},
   "source": [
    "#### size without using EOL or blank lines"
   ]
  },
  {
   "cell_type": "code",
   "execution_count": 11,
   "id": "110fa3a2",
   "metadata": {},
   "outputs": [
    {
     "name": "stdout",
     "output_type": "stream",
     "text": [
      "190 193\n"
     ]
    }
   ],
   "source": [
    "f = open(\"data.txt\", 'r')\n",
    "\n",
    "s, ts = 0, 0\n",
    "line = f.readline()\n",
    "while line:\n",
    "    ts += len(line)\n",
    "    s += len(line.strip())\n",
    "    line = f.readline() # ****************************\n",
    "\n",
    "print(s, ts)\n",
    "f.close()"
   ]
  },
  {
   "cell_type": "markdown",
   "id": "0757129c",
   "metadata": {},
   "source": [
    "### readlines()"
   ]
  },
  {
   "cell_type": "code",
   "execution_count": 13,
   "id": "fb7cda53",
   "metadata": {},
   "outputs": [
    {
     "name": "stdout",
     "output_type": "stream",
     "text": [
      "['india is my country and all indians are my brothers and sisters. I love my country and i am proud of its rich and vary heritage.\\n', 'I shall always strive to be worthy of it.\\n', 'I shall give respect.\\n']\n",
      "india is my country and all indians are my brothers and sisters. I love my country and i am proud of its rich and vary heritage.\n",
      "\n",
      "I shall give respect.\n",
      "\n"
     ]
    }
   ],
   "source": [
    "f = open(\"data.txt\", 'r')\n",
    "\n",
    "lines = f.readlines()\n",
    "print(lines, lines[0], lines[-1], sep='\\n')\n",
    "\n",
    "f.close()"
   ]
  },
  {
   "cell_type": "markdown",
   "id": "4cce30e7",
   "metadata": {},
   "source": [
    "#### size of file in bytes"
   ]
  },
  {
   "cell_type": "code",
   "execution_count": 15,
   "id": "9cd07535",
   "metadata": {},
   "outputs": [
    {
     "name": "stdout",
     "output_type": "stream",
     "text": [
      "193\n"
     ]
    }
   ],
   "source": [
    "f = open(\"data.txt\", 'r')\n",
    "\n",
    "print(len(f.read()))\n",
    "\n",
    "f.close()"
   ]
  },
  {
   "cell_type": "markdown",
   "id": "55888637",
   "metadata": {},
   "source": [
    "#### no. of lines in files"
   ]
  },
  {
   "cell_type": "code",
   "execution_count": 16,
   "id": "f9f349ee",
   "metadata": {},
   "outputs": [
    {
     "name": "stdout",
     "output_type": "stream",
     "text": [
      "3\n"
     ]
    }
   ],
   "source": [
    "f = open(\"data.txt\", 'r')\n",
    "\n",
    "print(len(f.readlines()))\n",
    "\n",
    "f.close()"
   ]
  },
  {
   "cell_type": "markdown",
   "id": "0e14986d",
   "metadata": {},
   "source": [
    "#### write to files"
   ]
  },
  {
   "cell_type": "code",
   "execution_count": 21,
   "id": "f987dca1",
   "metadata": {},
   "outputs": [
    {
     "name": "stdout",
     "output_type": "stream",
     "text": [
      "deven\n",
      "deven\n",
      "\n"
     ]
    }
   ],
   "source": [
    "f = open(\"student.txt\", 'w')\n",
    "\n",
    "name = \"deven\"\n",
    "f.write(name)\n",
    "f.write('\\n')\n",
    "f.write(name)\n",
    "f.write('\\n')\n",
    "\n",
    "f.close()\n",
    "\n",
    "f = open(\"student.txt\", 'r')\n",
    "print(f.read())\n",
    "f.close()"
   ]
  },
  {
   "cell_type": "markdown",
   "id": "b079561e",
   "metadata": {},
   "source": [
    "append to files"
   ]
  },
  {
   "cell_type": "code",
   "execution_count": 22,
   "id": "10d34445",
   "metadata": {},
   "outputs": [
    {
     "name": "stdout",
     "output_type": "stream",
     "text": [
      "deven\n",
      "deven\n",
      "arpita\n",
      "arpita\n",
      "\n"
     ]
    }
   ],
   "source": [
    "f = open(\"student.txt\", 'a')\n",
    "\n",
    "name = \"arpita\"\n",
    "f.write(name)\n",
    "f.write('\\n')\n",
    "f.write(name)\n",
    "f.write('\\n')\n",
    "\n",
    "f.close()\n",
    "\n",
    "f = open(\"student.txt\", 'r')\n",
    "print(f.read())\n",
    "f.close()"
   ]
  },
  {
   "cell_type": "markdown",
   "id": "785b425d",
   "metadata": {},
   "source": [
    "#### writelines"
   ]
  },
  {
   "cell_type": "code",
   "execution_count": 23,
   "id": "d4368a73",
   "metadata": {},
   "outputs": [
    {
     "name": "stdout",
     "output_type": "stream",
     "text": [
      "deven\n",
      "arpita\n",
      "abc\n",
      "\n"
     ]
    }
   ],
   "source": [
    "f = open(\"student.txt\", 'w')\n",
    "\n",
    "names = [\"deven\\n\", \"arpita\\n\", \"abc\\n\"] # \\n is important\n",
    "f.writelines(names)\n",
    "\n",
    "f.close()\n",
    "\n",
    "f = open(\"student.txt\", 'r')\n",
    "print(f.read())\n",
    "f.close()"
   ]
  },
  {
   "cell_type": "markdown",
   "id": "8fd8885c",
   "metadata": {},
   "source": [
    "#### seek( offset, whence=0 ) for text files"
   ]
  },
  {
   "cell_type": "code",
   "execution_count": 25,
   "id": "449a7c10",
   "metadata": {},
   "outputs": [
    {
     "name": "stdout",
     "output_type": "stream",
     "text": [
      "10 y country and all indians are my brothers and sisters. I love my country and i am proud of its rich and vary heritage.\n",
      "\n"
     ]
    }
   ],
   "source": [
    "f = open(\"data.txt\", \"r\")\n",
    "\n",
    "f.seek(10) # whence = 0, starting, only possible to move from beg\n",
    "print(f.tell(), f.readline())\n",
    "\n",
    "# these two also possible, stay in current pos, and move to end\n",
    "\n",
    "f.seek(0, 1)\n",
    "\n",
    "f.seek(0, 2)\n",
    "\n",
    "f.close()"
   ]
  },
  {
   "cell_type": "markdown",
   "id": "9f459d92",
   "metadata": {},
   "source": [
    "#### seek( offset, whence=0 ) for binary files"
   ]
  },
  {
   "cell_type": "code",
   "execution_count": 26,
   "id": "f10628af",
   "metadata": {},
   "outputs": [
    {
     "name": "stdout",
     "output_type": "stream",
     "text": [
      "15 b'ntry and all indians are my brothers and sisters. I love my country and i am proud of its rich and vary heritage.\\r\\n'\n",
      "140 b'ways strive to be worthy of it.\\r\\n'\n",
      "181 b'give respect.\\r\\n'\n"
     ]
    }
   ],
   "source": [
    "f = open(\"data.txt\", \"rb\")\n",
    "\n",
    "f.seek(15)\n",
    "print(f.tell(), f.readline())\n",
    "\n",
    "f.seek(10, 1)\n",
    "print(f.tell(), f.readline())\n",
    "\n",
    "f.seek(-15, 2)\n",
    "print(f.tell(), f.readline())\n",
    "\n",
    "f.close()"
   ]
  },
  {
   "cell_type": "markdown",
   "id": "e732ba6d",
   "metadata": {},
   "source": [
    "### serialization"
   ]
  },
  {
   "cell_type": "markdown",
   "id": "04fbc131",
   "metadata": {},
   "source": [
    "#### serialization with byte_object b\"\""
   ]
  },
  {
   "cell_type": "code",
   "execution_count": 27,
   "id": "a0bdfd09",
   "metadata": {},
   "outputs": [
    {
     "name": "stdout",
     "output_type": "stream",
     "text": [
      "{1: 'a', 2: 'b', 3: 'c'}\n"
     ]
    }
   ],
   "source": [
    "import pickle\n",
    "\n",
    "abc = {1: 'a', 2: 'b', 3: 'c'}\n",
    "abc_serial = pickle.dumps(abc)\n",
    "\n",
    "q = pickle.loads(abc_serial)\n",
    "print(q)"
   ]
  },
  {
   "cell_type": "markdown",
   "id": "755ad64c",
   "metadata": {},
   "source": [
    "#### serialization with files"
   ]
  },
  {
   "cell_type": "code",
   "execution_count": 29,
   "id": "a0c124c8",
   "metadata": {},
   "outputs": [
    {
     "name": "stdout",
     "output_type": "stream",
     "text": [
      "{1: 'a', 2: 'b', 3: 'c'}\n"
     ]
    }
   ],
   "source": [
    "import pickle\n",
    "\n",
    "abc = {1: 'a', 2: 'b', 3: 'c'}\n",
    "\n",
    "with open(\"data2.pickle\", \"wb\") as f:\n",
    "    pickle.dump(abc, f, pickle.HIGHEST_PROTOCOL)\n",
    "    \n",
    "with open(\"data2.pickle\", \"rb\") as f:\n",
    "    q = pickle.load(f)\n",
    "print(q)"
   ]
  },
  {
   "cell_type": "markdown",
   "id": "f63727c3",
   "metadata": {},
   "source": [
    "#### serialization of a custom class"
   ]
  },
  {
   "cell_type": "code",
   "execution_count": 32,
   "id": "e380a1bf",
   "metadata": {},
   "outputs": [
    {
     "name": "stdout",
     "output_type": "stream",
     "text": [
      "<__main__.example_class object at 0x000001C5805C25E0> None\n",
      "<__main__.example_class object at 0x000001C5805DF250> {'a': 1, 'b': 2}\n",
      "<__main__.example_class object at 0x000001C5805C2D60> {'a': 1, 'b': 2}\n"
     ]
    }
   ],
   "source": [
    "import pickle\n",
    "\n",
    "class example_class:\n",
    "    \n",
    "    def __init__(self):\n",
    "        self.n = 35\n",
    "        self.s = \"abc\"\n",
    "        self.l = [1, 2, 3]\n",
    "        self.d = {'a': 1, 'b': 2}\n",
    "        self.t = (3, 9)\n",
    "        \n",
    "obj = example_class()\n",
    "obj_s = pickle.dumps(obj)\n",
    "\n",
    "with open(\"data2.pickle\", \"wb\") as f:\n",
    "    pickle.dump(obj, f, pickle.HIGHEST_PROTOCOL)\n",
    "\n",
    "obj.d = None\n",
    "print(obj, obj.d)\n",
    "\n",
    "obj2 = pickle.loads(obj_s)\n",
    "print(obj2, obj2.d)\n",
    "    \n",
    "with open(\"data2.pickle\", \"rb\") as f:\n",
    "    q = pickle.load(f)\n",
    "    \n",
    "print(q, q.d)"
   ]
  },
  {
   "cell_type": "markdown",
   "id": "30424cd3",
   "metadata": {},
   "source": [
    "#### seek serialization assignment"
   ]
  },
  {
   "cell_type": "code",
   "execution_count": 38,
   "id": "224624e2",
   "metadata": {},
   "outputs": [
    {
     "name": "stdout",
     "output_type": "stream",
     "text": [
      "b'india is my country and all indians are my brothers and sisters. I love my country and i am proud of its rich and vary heritage.\\r\\nI shall always strive to be worthy of it.\\r\\nI shall give respect.\\r\\n'\n",
      "\n",
      "\n",
      "b'ct.\\r\\n'\n",
      "b''\n",
      "b'\\n'\n",
      "b'y country and all indians are my brothers and sisters. I love my country and i am proud of its rich and vary heritage.\\r\\nI shall always strive to be worthy of it.\\r\\nI shall give respect.\\r\\n'\n"
     ]
    }
   ],
   "source": [
    "f = open(\"data.txt\", \"rb\")\n",
    "\n",
    "print(f.read(), end=\"\\n\\n\\n\")\n",
    "\n",
    "f.seek(-5, 2)\n",
    "print(f.read()) # only 5 bytes\n",
    "\n",
    "f.seek(0, 2) # end of file ******************************\n",
    "print(f.read())\n",
    "\n",
    "f.seek(-1, 2) # last char of file ******************************\n",
    "print(f.read())\n",
    "\n",
    "f.seek(10, 0) # consuming 10 bytes from beg, so at 11th loc\n",
    "# but if they ask 10th loc from begining do this\n",
    "print(f.read())\n",
    "\n",
    "f.close()"
   ]
  },
  {
   "cell_type": "markdown",
   "id": "806a1ab3",
   "metadata": {},
   "source": [
    "#### 5) Implement a program to copy one python script into another by removing all the comment lines from the source file to destination file."
   ]
  },
  {
   "cell_type": "code",
   "execution_count": 40,
   "id": "b5f232cb",
   "metadata": {},
   "outputs": [
    {
     "name": "stdout",
     "output_type": "stream",
     "text": [
      "# welcome to this first program\n",
      "print(\"Tony Stark created the Arc Reactor inside a cave\")\n",
      "a=5\n",
      "print(f'The value of a is: {a}')\n",
      "# program end\n",
      "\n",
      "print(\"Tony Stark created the Arc Reactor inside a cave\")\n",
      "a=5\n",
      "print(f'The value of a is: {a}')\n",
      "\n"
     ]
    }
   ],
   "source": [
    "with open(\"src.txt\", 'r') as rf:\n",
    "    with open(\"dest.txt\", 'w') as wf:\n",
    "        \n",
    "        for line in rf:\n",
    "            if not line.strip().startswith(\"#\"):\n",
    "                wf.write(line)\n",
    "                \n",
    "with open(\"src.txt\", 'r') as f:\n",
    "    print(f.read())\n",
    "                \n",
    "with open(\"dest.txt\", 'r') as f:\n",
    "    print(f.read())"
   ]
  },
  {
   "cell_type": "markdown",
   "id": "49c6d838",
   "metadata": {},
   "source": [
    "#### 1) Write a program to enter the following records in a binary file:\n",
    "     \n",
    "Item No integer\n",
    "  \n",
    "Item_Name string\n",
    "     \n",
    "Qty integer\n",
    "\n",
    "Price float\n",
    "\n",
    "Number of records to be\n",
    "entered should be accepted from the user. Read the file to display the records\n",
    "in the following format:\n",
    "\n",
    "Item No:\n",
    "\n",
    "Item Name :\n",
    "\n",
    "Quantity:\n",
    "\n",
    "Price per item:\n",
    "\n",
    "Amount: ( to be calculated as Price * Qty)"
   ]
  },
  {
   "cell_type": "code",
   "execution_count": 49,
   "id": "8837365d",
   "metadata": {},
   "outputs": [],
   "source": [
    "class Item:\n",
    "    \n",
    "    def __init__(self, no, name, qty, price):\n",
    "        self.no = no\n",
    "        self.name = name\n",
    "        self.qty = qty\n",
    "        self.price = price\n",
    "        self.amount = price * qty\n",
    "    \n",
    "    def __str__(self): # don't do this in exam do print_item() function\n",
    "        return '\\n'.join([\n",
    "            \"Item No.: \" + str(self.no),\n",
    "            \"Item Name: \" + self.name,\n",
    "            \"Qty: \" + str(self.qty),\n",
    "            \"Price: \" + str(self.price),\n",
    "            \"Amount: \" + str(self.amount)\n",
    "        ])\n",
    "    \n",
    "    def print_item(self):\n",
    "        print(self.no, self.name, self.qty, self.price, self.amount)\n",
    "    "
   ]
  },
  {
   "cell_type": "code",
   "execution_count": 51,
   "id": "919fb449",
   "metadata": {},
   "outputs": [
    {
     "name": "stdout",
     "output_type": "stream",
     "text": [
      "Enter no. of records to be entered: 5\n"
     ]
    }
   ],
   "source": [
    "n = int(input(\"Enter no. of records to be entered: \"))\n",
    "lst = []\n",
    "for i in range(n):\n",
    "    obj = Item(i, \"d\"+str(i), 10*i, 100*i) # accept these also from user, \n",
    "    # maybe write a function to accept it from user... \n",
    "    lst.append(obj)"
   ]
  },
  {
   "cell_type": "code",
   "execution_count": 52,
   "id": "8283e56e",
   "metadata": {},
   "outputs": [
    {
     "name": "stdout",
     "output_type": "stream",
     "text": [
      "0 d0 0 0 0\n",
      "1 d1 10 100 1000\n",
      "2 d2 20 200 4000\n",
      "3 d3 30 300 9000\n",
      "4 d4 40 400 16000\n"
     ]
    }
   ],
   "source": [
    "import pickle\n",
    "\n",
    "with open(\"items.dat\", \"wb\") as f:\n",
    "    for item in lst:\n",
    "        pickle.dump(item, f) # highest protocol\n",
    "        \n",
    "with open(\"items.dat\", \"rb\") as f:\n",
    "    for item in lst:\n",
    "        a = pickle.load(f)\n",
    "        a.print_item()"
   ]
  },
  {
   "cell_type": "markdown",
   "id": "be75817c",
   "metadata": {},
   "source": [
    "## 2) Write a program to accept string/sentences from the user till the user enters “END” to. Save the data in a text file and then display only those sentences which begin with an uppercase alphabet"
   ]
  },
  {
   "cell_type": "code",
   "execution_count": 54,
   "id": "0c896dff",
   "metadata": {},
   "outputs": [
    {
     "name": "stdout",
     "output_type": "stream",
     "text": [
      "Enter sentence: Ab\n",
      "Enter sentence: END\n",
      "Output: \n",
      "Ab\n"
     ]
    }
   ],
   "source": [
    "with open(\"sentences.txt\", \"w\") as f:\n",
    "    \n",
    "    sentence = input(\"Enter sentence: \")\n",
    "    while sentence != \"END\":\n",
    "        f.write(sentence + \"\\n\") # \\n VVVVVVVVVVVVVVVVVVVVVVVVVVVVVVVVvvvimp\n",
    "        sentence = input(\"Enter sentence: \")\n",
    "    \n",
    "with open(\"sentences.txt\", \"r\") as f:\n",
    "    print(\"Output: \")\n",
    "    for sentence in f:\n",
    "        if sentence[0].isupper():\n",
    "            print(sentence, end=\"\") # end=\"\" coz the sentence already has \\n"
   ]
  },
  {
   "cell_type": "markdown",
   "id": "0f44ea99",
   "metadata": {},
   "source": [
    "#### 3) Write the file mode that will be used for opening the following files. Also, write the Python statements to open the following files:\n",
    "a text file “example.txt” in both read and write mode"
   ]
  },
  {
   "cell_type": "code",
   "execution_count": 55,
   "id": "5e96b3c9",
   "metadata": {},
   "outputs": [
    {
     "name": "stdout",
     "output_type": "stream",
     "text": [
      "no error\n"
     ]
    }
   ],
   "source": [
    "f = open(\"sentences.txt\", \"w+\")\n",
    "print(\"no error\")\n",
    "# w+ read and write both and create file if not exist\n",
    "f.close()"
   ]
  },
  {
   "cell_type": "code",
   "execution_count": 59,
   "id": "8e78c8c7",
   "metadata": {},
   "outputs": [
    {
     "name": "stdout",
     "output_type": "stream",
     "text": [
      "{'i': 12, 'n': 8, 'd': 6, 'a': 14, ' ': 35, 's': 11, 'm': 3, 'y': 7, 'c': 3, 'o': 8, 'u': 2, 't': 10, 'r': 12, 'l': 7, 'e': 10, 'b': 1, 'h': 5, '.': 3, 'I': 2, 'v': 3, 'p': 1, 'f': 1, 'g': 1, '\\n': 2, 'w': 1}\n"
     ]
    }
   ],
   "source": [
    "f = open(\"data.txt\", 'r')\n",
    "\n",
    "d = {}\n",
    "for char in f.read():\n",
    "    if char in d:\n",
    "        d[char] += 1\n",
    "    else:\n",
    "        d[char] = 0\n",
    "        \n",
    "print(d)\n",
    "        \n",
    "f.close()"
   ]
  },
  {
   "cell_type": "markdown",
   "id": "5d05bfd2",
   "metadata": {},
   "source": [
    "### 5) Implement a python program to validate a mobile number. The number should start with 7, 8 or 9 followed by 9 digits."
   ]
  },
  {
   "cell_type": "code",
   "execution_count": 60,
   "id": "b1bda841",
   "metadata": {},
   "outputs": [
    {
     "name": "stdout",
     "output_type": "stream",
     "text": [
      "Enter 10 digit mobile number: 7123456890\n",
      "Number is correct\n"
     ]
    }
   ],
   "source": [
    "import re\n",
    "\n",
    "n = input(\"Enter 10 digit mobile number: \")\n",
    "if re.match(r'[789]\\d{9}', n):\n",
    "    print(\"Number is correct\")\n",
    "else:\n",
    "    print(\"Number is not correct\")"
   ]
  },
  {
   "cell_type": "markdown",
   "id": "9df4679f",
   "metadata": {},
   "source": [
    "### exam papers"
   ]
  },
  {
   "cell_type": "code",
   "execution_count": 68,
   "id": "52b2b4bb",
   "metadata": {},
   "outputs": [
    {
     "name": "stdout",
     "output_type": "stream",
     "text": [
      "Line 1\n",
      "This is line 2\n",
      "That makes this line 3\n",
      "L1\n",
      "L2\n",
      "L3\n",
      "\n"
     ]
    }
   ],
   "source": [
    "# 1) a)\n",
    "tf = open(\"c.txt\", \"w+\") # 1 w+\n",
    "tf.write(\"Line 1\\n\")\n",
    "tf.write(\"This is line 2\\n\")\n",
    "tf.write(\"That makes this line 3\\n\") # 2 \"\"\n",
    "lines = [\"L1\\n\", \"L2\\n\", \"L3\\n\"] # 3 \\n 4 ; \n",
    "tf.writelines(lines)\n",
    "# a = tf.read()\n",
    "# print(a)  # only these two lines won't work\n",
    "tf.seek(0, 0) # 5 missing *****************************************\n",
    "a = tf.read()\n",
    "print(a)\n",
    "tf.close()"
   ]
  },
  {
   "cell_type": "code",
   "execution_count": 69,
   "id": "9c853138",
   "metadata": {},
   "outputs": [],
   "source": [
    "# 2) comming program top"
   ]
  },
  {
   "cell_type": "code",
   "execution_count": 73,
   "id": "bf799494",
   "metadata": {},
   "outputs": [],
   "source": [
    "# 3) obj serial top"
   ]
  },
  {
   "cell_type": "markdown",
   "id": "d4b8a4a1",
   "metadata": {},
   "source": [
    "### Write a python program to reverse the content of a file and store it in another file"
   ]
  },
  {
   "cell_type": "code",
   "execution_count": 74,
   "id": "b2f9261d",
   "metadata": {},
   "outputs": [],
   "source": [
    "# 1) a)\n",
    "with open(\"data.txt\", 'r') as rf:\n",
    "    with open(\"writefile.txt\", 'w') as wf:\n",
    "        data = rf.read()\n",
    "        data = data[::-1]\n",
    "        wf.write(data)"
   ]
  },
  {
   "cell_type": "code",
   "execution_count": 75,
   "id": "813059db",
   "metadata": {},
   "outputs": [],
   "source": [
    "# 1) b) easy, show for dict obj and an list obj using files"
   ]
  },
  {
   "cell_type": "markdown",
   "id": "a59ef64c",
   "metadata": {},
   "source": [
    "# Unit 2"
   ]
  },
  {
   "cell_type": "code",
   "execution_count": 1,
   "id": "77f397bc",
   "metadata": {},
   "outputs": [],
   "source": [
    "import sqlite3\n",
    "\n",
    "con = sqlite3.connect(\"customer.db\")\n",
    "cur = con.cursor()\n",
    "\n",
    "cur.execute(\"\"\"\n",
    "    create table customer(\n",
    "    first_name text,\n",
    "    last_name text,\n",
    "    email text)\n",
    "\"\"\")\n",
    "\n",
    "con.commit()\n",
    "con.close()"
   ]
  },
  {
   "cell_type": "code",
   "execution_count": 19,
   "id": "589c6b88",
   "metadata": {},
   "outputs": [
    {
     "name": "stdout",
     "output_type": "stream",
     "text": [
      "[(1, 'Tim', 'Smith', 'tim@code.com'), (2, 'Mary', 'Brown', 'mary@code.com'), (3, 'wes', 'brown', 'wes@code.com'), (4, 'raju', 'k', 'raju@code.com')]\n"
     ]
    }
   ],
   "source": [
    "import sqlite3\n",
    "\n",
    "con = sqlite3.connect(\"customer.db\")\n",
    "cur = con.cursor()\n",
    "\n",
    "# cur.execute(\"delete from customer\")\n",
    "# # IMPORTANT, MAKE SURE TO USE ' ' INSIDE \" \"\n",
    "# cur.execute(\"insert into customer values ('Tim', 'Smith', 'tim@code.com')\")\n",
    "# cur.execute(\"insert into customer values (?, ?, ?)\", \n",
    "#             ['Mary', 'Brown', 'mary@code.com'])\n",
    "\n",
    "# customers = [\n",
    "#     ('wes', 'brown', 'wes@code.com'),\n",
    "#     ('raju', 'k', 'raju@code.com'),\n",
    "#     ('ravi', 'k', 'ravi@code.com')\n",
    "# ]\n",
    "# cur.executemany(\"insert into customer values (?, ?, ?)\", customers)\n",
    "\n",
    "# cur.execute(\"select * from customer\")\n",
    "# print(cur.fetchone())\n",
    "# print(cur.fetchmany(2))\n",
    "# print(cur.fetchall())\n",
    "\n",
    "# cur.execute(\"select rowid, * from customer\")\n",
    "# print(cur.fetchall())\n",
    "\n",
    "# # MAKE SURE TO USE ' '  INSIDE \" \"\n",
    "# cur.execute(\"select rowid, * from customer where last_name='k'\")\n",
    "# print(cur.fetchall())\n",
    "\n",
    "# # % for zero - multiple, _ for one single char\n",
    "# cur.execute(\"select rowid, * from customer where last_name LIKE 'br%'\")\n",
    "# print(cur.fetchall())\n",
    "\n",
    "# cur.execute(\"update customer set first_name='Bob' WHERE last_name='Smith'\")\n",
    "\n",
    "# cur.execute(\"update customer set first_name='Tim' where rowid=1\")\n",
    "\n",
    "# cur.execute(\"delete from customer where rowid=5\")\n",
    "\n",
    "# # when doing order by rowid, do select rowid, *, so that u can see the change\n",
    "# # happening\n",
    "# cur.execute(\"select rowid, * from customer order by rowid desc limit 2\")\n",
    "# print(cur.fetchall())\n",
    "\n",
    "cur.execute(\"select rowid, * from customer\")\n",
    "print(cur.fetchall())\n",
    "\n",
    "con.commit()\n",
    "con.close()"
   ]
  },
  {
   "cell_type": "markdown",
   "id": "9737b28e",
   "metadata": {},
   "source": [
    "### assignment questions"
   ]
  },
  {
   "cell_type": "markdown",
   "id": "2ba00a67",
   "metadata": {},
   "source": [
    "1) Create a python program on the scenario given below: Create an Employee table with attributes such as emp_ssn, emp_name, emp_category, gross_sal, basic_sal. Insert atleast three values in to the database. Demonstrate the database concepts for the following scenario: A company management wants to compute the net salary of each group of employee based on the category of the employee such as Category A, Category B, Category C. Compute the net salary based on the following table.\n",
    "        "
   ]
  },
  {
   "cell_type": "code",
   "execution_count": 4,
   "id": "ac869597",
   "metadata": {},
   "outputs": [],
   "source": [
    "import sqlite3\n",
    "con = sqlite3.connect(\"xyzcompany.db\")\n",
    "cur = con.cursor()"
   ]
  },
  {
   "cell_type": "code",
   "execution_count": 5,
   "id": "bdf21c9c",
   "metadata": {},
   "outputs": [
    {
     "data": {
      "text/plain": [
       "<sqlite3.Cursor at 0x20cdf1e2180>"
      ]
     },
     "execution_count": 5,
     "metadata": {},
     "output_type": "execute_result"
    }
   ],
   "source": [
    "cur.execute(\"\"\"\n",
    "    create table employee(\n",
    "        ssn integer primary key,\n",
    "        name text, \n",
    "        category text, \n",
    "        gross_sal real,\n",
    "        basic_sal real\n",
    "    )\n",
    "\"\"\")"
   ]
  },
  {
   "cell_type": "code",
   "execution_count": 7,
   "id": "0151f680",
   "metadata": {},
   "outputs": [
    {
     "data": {
      "text/plain": [
       "<sqlite3.Cursor at 0x20cdf1e2180>"
      ]
     },
     "execution_count": 7,
     "metadata": {},
     "output_type": "execute_result"
    }
   ],
   "source": [
    "employees = [\n",
    "    (1, \"Rohan\", 'A', \"NULL\", 1000),\n",
    "    (2, \"Mohan\", 'B', \"NULL\", 2000),\n",
    "    (3, \"Sohan\", 'C', \"NULL\", 3000)\n",
    "]\n",
    "cur.executemany(\"insert into employee values (?, ?, ?, ?, ?)\", employees)"
   ]
  },
  {
   "cell_type": "code",
   "execution_count": 8,
   "id": "d97682cf",
   "metadata": {},
   "outputs": [],
   "source": [
    "cur.execute(\"select * from employee\")\n",
    "emps = cur.fetchall()"
   ]
  },
  {
   "cell_type": "code",
   "execution_count": 11,
   "id": "577751bc",
   "metadata": {},
   "outputs": [
    {
     "name": "stdout",
     "output_type": "stream",
     "text": [
      "name: Rohan ssn: 1 net sal: 1260.0\n",
      "name: Mohan ssn: 2 net sal: 2400.0\n",
      "name: Sohan ssn: 3 net sal: 3510.0\n"
     ]
    }
   ],
   "source": [
    "for emp in emps:\n",
    "    ssn, name, category, gross_sal, basic_sal = emp\n",
    "    if category == \"A\":\n",
    "        da = 80 / 100 * basic_sal\n",
    "        gross_sal = basic_sal + da\n",
    "        tax = 30 / 100 * gross_sal\n",
    "    elif category == \"B\":\n",
    "        da = 50 / 100 * basic_sal\n",
    "        gross_sal = basic_sal + da\n",
    "        tax = 20 / 100 * gross_sal\n",
    "    elif category == \"C\":\n",
    "        da = 30 / 100 * basic_sal\n",
    "        gross_sal = basic_sal + da\n",
    "        tax = 10 / 100 * gross_sal\n",
    "    net_sal = basic_sal + da - tax\n",
    "    \n",
    "    cur.execute(\"update employee set gross_sal=? where ssn=?\", \n",
    "                (gross_sal, ssn))\n",
    "    \n",
    "    print(\"name:\", name, \"ssn:\", ssn, \"net sal:\", net_sal)"
   ]
  },
  {
   "cell_type": "code",
   "execution_count": 12,
   "id": "95e58e69",
   "metadata": {},
   "outputs": [
    {
     "name": "stdout",
     "output_type": "stream",
     "text": [
      "[(1, 'Rohan', 'A', 1800.0, 1000.0), (2, 'Mohan', 'B', 3000.0, 2000.0), (3, 'Sohan', 'C', 3900.0, 3000.0)]\n"
     ]
    }
   ],
   "source": [
    "cur.execute(\"select * from employee\")\n",
    "emps = cur.fetchall()\n",
    "print(emps)"
   ]
  },
  {
   "cell_type": "code",
   "execution_count": 13,
   "id": "2dc0ed5c",
   "metadata": {},
   "outputs": [],
   "source": [
    "con.commit()\n",
    "con.close()"
   ]
  },
  {
   "cell_type": "markdown",
   "id": "535a235e",
   "metadata": {},
   "source": [
    "Implement Library management where students can borrow as well as donate books. Books table:\n",
    "\n",
    "1 id INTEGER PRIMARY KEY 2 name TEXT 3 total_count INTEGER\n",
    "\n",
    "a) Insert values to the table\n",
    "\n",
    "34,king,5\n",
    "\n",
    "123,Harry Potter,3\n",
    "\n",
    "b) Update the table based on user inputs: based on book id I) BORROW II) RETURN"
   ]
  },
  {
   "cell_type": "code",
   "execution_count": 14,
   "id": "3ff7e54e",
   "metadata": {},
   "outputs": [],
   "source": [
    "import sqlite3\n",
    "con = sqlite3.connect(\"library.db\")\n",
    "cur = con.cursor()"
   ]
  },
  {
   "cell_type": "code",
   "execution_count": 16,
   "id": "2ba23d16",
   "metadata": {},
   "outputs": [
    {
     "data": {
      "text/plain": [
       "<sqlite3.Cursor at 0x20cdf1e2f80>"
      ]
     },
     "execution_count": 16,
     "metadata": {},
     "output_type": "execute_result"
    }
   ],
   "source": [
    "cur.execute(\"\"\"\n",
    "    create table books(\n",
    "        id integer primary key,\n",
    "        name text,\n",
    "        tcount integer\n",
    "    )\n",
    "\"\"\")"
   ]
  },
  {
   "cell_type": "code",
   "execution_count": 17,
   "id": "80a804a4",
   "metadata": {},
   "outputs": [
    {
     "data": {
      "text/plain": [
       "<sqlite3.Cursor at 0x20cdf1e2f80>"
      ]
     },
     "execution_count": 17,
     "metadata": {},
     "output_type": "execute_result"
    }
   ],
   "source": [
    "books = [\n",
    "    (34, \"king\", 5),\n",
    "    (123, \"Harry Potter\", 3)\n",
    "]\n",
    "cur.executemany(\"insert into books values (?, ?, ?)\", books)"
   ]
  },
  {
   "cell_type": "code",
   "execution_count": 18,
   "id": "ec7cc628",
   "metadata": {},
   "outputs": [
    {
     "name": "stdout",
     "output_type": "stream",
     "text": [
      "[(34, 'king', 5), (123, 'Harry Potter', 3)]\n"
     ]
    }
   ],
   "source": [
    "cur.execute(\"select * from books\")\n",
    "books = cur.fetchall()\n",
    "print(books)"
   ]
  },
  {
   "cell_type": "code",
   "execution_count": 23,
   "id": "0ca01907",
   "metadata": {},
   "outputs": [
    {
     "name": "stdout",
     "output_type": "stream",
     "text": [
      "\n",
      "\n",
      "Menu \n",
      "1. borrow \n",
      "2. return \n",
      "3. exit\n",
      "\n",
      "Enter Option: 1\n",
      "Enter the book id: 34\n",
      "34 book borrowed\n",
      "\n",
      "\n",
      "Menu \n",
      "1. borrow \n",
      "2. return \n",
      "3. exit\n",
      "\n",
      "Enter Option: 1\n",
      "Enter the book id: 34\n",
      "34 book borrowed\n",
      "\n",
      "\n",
      "Menu \n",
      "1. borrow \n",
      "2. return \n",
      "3. exit\n",
      "\n",
      "Enter Option: 2\n",
      "Enter the book id: 123\n",
      "123 book returned\n",
      "\n",
      "\n",
      "Menu \n",
      "1. borrow \n",
      "2. return \n",
      "3. exit\n",
      "\n",
      "Enter Option: 3\n"
     ]
    }
   ],
   "source": [
    "while 1:\n",
    "    print(\"\\n\\nMenu \\n1. borrow \\n2. return \\n3. exit\")\n",
    "    opt = int(input(\"\\nEnter Option: \"))\n",
    "    if opt == 3:\n",
    "        break\n",
    "    book_id = int(input(\"Enter the book id: \"))\n",
    "    if opt == 1:\n",
    "        cur.execute(\"update books set tcount = tcount - ? where id = ?\", \n",
    "                    (1, book_id))\n",
    "        print(book_id, \"book borrowed\")\n",
    "    elif opt == 2:\n",
    "        cur.execute(\"update books set tcount = tcount + ? where id = ?\", \n",
    "                    (1, book_id))\n",
    "        print(book_id, \"book returned\")\n",
    "    else:\n",
    "        print(\"Wrong input\")"
   ]
  },
  {
   "cell_type": "code",
   "execution_count": 24,
   "id": "e7890b1f",
   "metadata": {},
   "outputs": [
    {
     "name": "stdout",
     "output_type": "stream",
     "text": [
      "[(34, 'king', 3), (123, 'Harry Potter', 4)]\n"
     ]
    }
   ],
   "source": [
    "cur.execute(\"select * from books\")\n",
    "books = cur.fetchall()\n",
    "print(books)"
   ]
  },
  {
   "cell_type": "code",
   "execution_count": 25,
   "id": "e4980fd5",
   "metadata": {},
   "outputs": [],
   "source": [
    "con.commit()\n",
    "con.close()"
   ]
  },
  {
   "cell_type": "markdown",
   "id": "3fa1ce60",
   "metadata": {},
   "source": [
    "#### see questions"
   ]
  },
  {
   "cell_type": "code",
   "execution_count": 26,
   "id": "11a7fddf",
   "metadata": {},
   "outputs": [],
   "source": [
    "# 2) a) b) both top"
   ]
  },
  {
   "cell_type": "code",
   "execution_count": 29,
   "id": "0f6980ec",
   "metadata": {},
   "outputs": [],
   "source": [
    "# 2) a)"
   ]
  },
  {
   "cell_type": "code",
   "execution_count": 47,
   "id": "9a9a335d",
   "metadata": {},
   "outputs": [],
   "source": [
    "import sqlite3\n",
    "con = sqlite3.connect(\"companySEEQ.db\")\n",
    "cur = con.cursor()"
   ]
  },
  {
   "cell_type": "code",
   "execution_count": 36,
   "id": "4625cf3c",
   "metadata": {},
   "outputs": [
    {
     "data": {
      "text/plain": [
       "<sqlite3.Cursor at 0x20ce01b0260>"
      ]
     },
     "execution_count": 36,
     "metadata": {},
     "output_type": "execute_result"
    }
   ],
   "source": [
    "cur.execute(\"\"\"\n",
    "    create table company(\n",
    "        id integer, \n",
    "        name text, \n",
    "        age integer,\n",
    "        address text, \n",
    "        salary real\n",
    "    )\n",
    "\"\"\")"
   ]
  },
  {
   "cell_type": "code",
   "execution_count": 37,
   "id": "6b53a97b",
   "metadata": {},
   "outputs": [
    {
     "data": {
      "text/plain": [
       "<sqlite3.Cursor at 0x20ce01b0260>"
      ]
     },
     "execution_count": 37,
     "metadata": {},
     "output_type": "execute_result"
    }
   ],
   "source": [
    "employees = [\n",
    "    (1, \"paul\", 32, \"california\", 20000.0),\n",
    "    (2, \"allen\", 25, \"texas\", 15000.0),\n",
    "    (3, \"teddy\", 23, \"norway\", 20000.0), \n",
    "    (4, \"james\", 44, \"norway\", 5000.0),\n",
    "    (5, \"james\", 45, \"texas\", 5000.0)\n",
    "]\n",
    "\n",
    "cur.executemany(\"insert into company values (?, ?, ?, ?, ?)\", employees)"
   ]
  },
  {
   "cell_type": "code",
   "execution_count": 42,
   "id": "817f1055",
   "metadata": {},
   "outputs": [
    {
     "name": "stdout",
     "output_type": "stream",
     "text": [
      "[(2, 'allen', 25, 'texas', 15000.0), (1, 'paul', 32, 'california', 20000.0), (3, 'teddy', 23, 'norway', 20000.0)]\n"
     ]
    }
   ],
   "source": [
    "# having should and must have group by statement\n",
    "cur.execute(\"select * from company group by name having count(name) < 2\")\n",
    "print(cur.fetchall())"
   ]
  },
  {
   "cell_type": "code",
   "execution_count": 44,
   "id": "f5a45158",
   "metadata": {},
   "outputs": [
    {
     "name": "stdout",
     "output_type": "stream",
     "text": [
      "[('allen', 15000.0), ('james', 10000.0), ('paul', 20000.0), ('teddy', 20000.0)]\n"
     ]
    }
   ],
   "source": [
    "cur.execute(\"\"\"select name, sum(salary) from company group by name \n",
    "                order by name asc\"\"\")\n",
    "print(cur.fetchall())"
   ]
  },
  {
   "cell_type": "code",
   "execution_count": 48,
   "id": "9b357697",
   "metadata": {},
   "outputs": [],
   "source": [
    "con.commit()\n",
    "con.close()"
   ]
  },
  {
   "cell_type": "markdown",
   "id": "0c3b8a06",
   "metadata": {},
   "source": [
    "SELECT column_name(s)\n",
    "FROM table_name\n",
    "WHERE condition\n",
    "GROUP BY column_name(s)\n",
    "HAVING condition\n",
    "ORDER BY column_name(s);"
   ]
  },
  {
   "cell_type": "markdown",
   "id": "c488490b",
   "metadata": {},
   "source": [
    "# unit 3"
   ]
  },
  {
   "cell_type": "code",
   "execution_count": 51,
   "id": "9cb0afca",
   "metadata": {},
   "outputs": [],
   "source": [
    "import numpy as np"
   ]
  },
  {
   "cell_type": "code",
   "execution_count": 85,
   "id": "2011a860",
   "metadata": {},
   "outputs": [],
   "source": [
    "# np.random.seed(0)"
   ]
  },
  {
   "cell_type": "markdown",
   "id": "524abf0d",
   "metadata": {},
   "source": [
    "### IMP"
   ]
  },
  {
   "cell_type": "code",
   "execution_count": 66,
   "id": "5959cd69",
   "metadata": {},
   "outputs": [
    {
     "data": {
      "text/plain": [
       "(array([0, 2, 4, 0, 6, 2]),\n",
       " array([[ 5, 12,  5, 19],\n",
       "        [ 8, 12, 16,  0],\n",
       "        [18, 14,  9, 15]]))"
      ]
     },
     "execution_count": 66,
     "metadata": {},
     "output_type": "execute_result"
    }
   ],
   "source": [
    "x1 = np.random.randint(10, size=6)\n",
    "x2 = np.random.randint(20, size=(3, 4))\n",
    "x1, x2"
   ]
  },
  {
   "cell_type": "code",
   "execution_count": 67,
   "id": "364ed5b4",
   "metadata": {},
   "outputs": [
    {
     "data": {
      "text/plain": [
       "(1, (6,), 6, dtype('int32'), 4, 24)"
      ]
     },
     "execution_count": 67,
     "metadata": {},
     "output_type": "execute_result"
    }
   ],
   "source": [
    "x1.ndim, x1.shape, x1.size, x1.dtype, x1.itemsize, x1.nbytes"
   ]
  },
  {
   "cell_type": "code",
   "execution_count": 68,
   "id": "3fa7efe2",
   "metadata": {},
   "outputs": [
    {
     "data": {
      "text/plain": [
       "(0, 0, 2, 6)"
      ]
     },
     "execution_count": 68,
     "metadata": {},
     "output_type": "execute_result"
    }
   ],
   "source": [
    "x1[0], x1[3], x1[-1], x1[-2]"
   ]
  },
  {
   "cell_type": "code",
   "execution_count": 69,
   "id": "12d09d6a",
   "metadata": {},
   "outputs": [
    {
     "data": {
      "text/plain": [
       "array([3, 2, 4, 0, 6, 2])"
      ]
     },
     "execution_count": 69,
     "metadata": {},
     "output_type": "execute_result"
    }
   ],
   "source": [
    "x1[0] = 3.135678 # truncate\n",
    "x1"
   ]
  },
  {
   "cell_type": "code",
   "execution_count": 70,
   "id": "6ef6f0da",
   "metadata": {},
   "outputs": [
    {
     "data": {
      "text/plain": [
       "(5, 18, 15)"
      ]
     },
     "execution_count": 70,
     "metadata": {},
     "output_type": "execute_result"
    }
   ],
   "source": [
    "x2[0, 0], x2[2, 0], x2[2, -1]"
   ]
  },
  {
   "cell_type": "markdown",
   "id": "69b9d3da",
   "metadata": {},
   "source": [
    "### IMP"
   ]
  },
  {
   "cell_type": "code",
   "execution_count": 86,
   "id": "1d22efa3",
   "metadata": {},
   "outputs": [],
   "source": [
    "x = np.arange(10)"
   ]
  },
  {
   "cell_type": "code",
   "execution_count": 72,
   "id": "117baa82",
   "metadata": {},
   "outputs": [
    {
     "data": {
      "text/plain": [
       "array([0, 2, 4, 6, 8])"
      ]
     },
     "execution_count": 72,
     "metadata": {},
     "output_type": "execute_result"
    }
   ],
   "source": [
    "# every other element\n",
    "x[::2]"
   ]
  },
  {
   "cell_type": "code",
   "execution_count": 76,
   "id": "e91532de",
   "metadata": {},
   "outputs": [
    {
     "data": {
      "text/plain": [
       "array([1, 3, 5, 7, 9])"
      ]
     },
     "execution_count": 76,
     "metadata": {},
     "output_type": "execute_result"
    }
   ],
   "source": [
    "# every other element, starting at index 1\n",
    "x[1::2]"
   ]
  },
  {
   "cell_type": "markdown",
   "id": "2feda3e0",
   "metadata": {},
   "source": [
    "# reverse"
   ]
  },
  {
   "cell_type": "code",
   "execution_count": 74,
   "id": "dd2452f5",
   "metadata": {},
   "outputs": [
    {
     "data": {
      "text/plain": [
       "array([9, 8, 7, 6, 5, 4, 3, 2, 1, 0])"
      ]
     },
     "execution_count": 74,
     "metadata": {},
     "output_type": "execute_result"
    }
   ],
   "source": [
    "x[::-1] # reverse"
   ]
  },
  {
   "cell_type": "code",
   "execution_count": 77,
   "id": "ae69e892",
   "metadata": {},
   "outputs": [
    {
     "data": {
      "text/plain": [
       "array([5, 3, 1])"
      ]
     },
     "execution_count": 77,
     "metadata": {},
     "output_type": "execute_result"
    }
   ],
   "source": [
    "x[5::-2]"
   ]
  },
  {
   "cell_type": "code",
   "execution_count": 78,
   "id": "5e860472",
   "metadata": {},
   "outputs": [
    {
     "data": {
      "text/plain": [
       "array([[ 5,  5],\n",
       "       [ 8, 16],\n",
       "       [18,  9]])"
      ]
     },
     "execution_count": 78,
     "metadata": {},
     "output_type": "execute_result"
    }
   ],
   "source": [
    "x2[:3, ::2]"
   ]
  },
  {
   "cell_type": "code",
   "execution_count": 79,
   "id": "fae763a3",
   "metadata": {},
   "outputs": [
    {
     "data": {
      "text/plain": [
       "(array([ 5,  8, 18]), array([ 5, 12,  5, 19]))"
      ]
     },
     "execution_count": 79,
     "metadata": {},
     "output_type": "execute_result"
    }
   ],
   "source": [
    "x2[:, 0], x2[0, :] # reduces dimension"
   ]
  },
  {
   "cell_type": "code",
   "execution_count": 80,
   "id": "d97edcc5",
   "metadata": {},
   "outputs": [
    {
     "data": {
      "text/plain": [
       "array([ 5, 12,  5, 19])"
      ]
     },
     "execution_count": 80,
     "metadata": {},
     "output_type": "execute_result"
    }
   ],
   "source": [
    "x2[0] # equivalent to x[0, :]"
   ]
  },
  {
   "cell_type": "code",
   "execution_count": 87,
   "id": "62b62695",
   "metadata": {},
   "outputs": [
    {
     "data": {
      "text/plain": [
       "(array([[99999,    12,     5,    19],\n",
       "        [    8,    12,    16,     0],\n",
       "        [   18,    14,     9,    15]]),\n",
       " array([[99999,    12],\n",
       "        [    8,    12]]))"
      ]
     },
     "execution_count": 87,
     "metadata": {},
     "output_type": "execute_result"
    }
   ],
   "source": [
    "a = x2[:2, :2]\n",
    "x2[0, 0] = 99999\n",
    "x2, a"
   ]
  },
  {
   "cell_type": "markdown",
   "id": "e561e74d",
   "metadata": {},
   "source": [
    "### COPY"
   ]
  },
  {
   "cell_type": "code",
   "execution_count": 84,
   "id": "90e53cde",
   "metadata": {},
   "outputs": [
    {
     "data": {
      "text/plain": [
       "(array([[99999,    12],\n",
       "        [    8,    12]]),\n",
       " array([[8888888,      12,       5,      19],\n",
       "        [      8,      12,      16,       0],\n",
       "        [     18,      14,       9,      15]]))"
      ]
     },
     "execution_count": 84,
     "metadata": {},
     "output_type": "execute_result"
    }
   ],
   "source": [
    "a = x2[:2, :2].copy()\n",
    "x2[0, 0] = 8888888\n",
    "a, x2"
   ]
  },
  {
   "cell_type": "markdown",
   "id": "fbc36d3e",
   "metadata": {},
   "source": [
    "### IMP"
   ]
  },
  {
   "cell_type": "code",
   "execution_count": 89,
   "id": "4476c248",
   "metadata": {},
   "outputs": [
    {
     "data": {
      "text/plain": [
       "array([[1, 2, 3],\n",
       "       [4, 5, 6],\n",
       "       [7, 8, 9]])"
      ]
     },
     "execution_count": 89,
     "metadata": {},
     "output_type": "execute_result"
    }
   ],
   "source": [
    "a = np.arange(1, 10).reshape((3, 3))\n",
    "a"
   ]
  },
  {
   "cell_type": "code",
   "execution_count": 90,
   "id": "c72672cc",
   "metadata": {},
   "outputs": [],
   "source": [
    "x = np.array([1, 2, 3])"
   ]
  },
  {
   "cell_type": "code",
   "execution_count": 91,
   "id": "e507efaf",
   "metadata": {},
   "outputs": [
    {
     "data": {
      "text/plain": [
       "(array([[1, 2, 3]]), array([[1, 2, 3]]))"
      ]
     },
     "execution_count": 91,
     "metadata": {},
     "output_type": "execute_result"
    }
   ],
   "source": [
    "x.reshape((1, 3)), x[np.newaxis, :]"
   ]
  },
  {
   "cell_type": "code",
   "execution_count": 92,
   "id": "2982a4f7",
   "metadata": {},
   "outputs": [
    {
     "data": {
      "text/plain": [
       "(array([[1],\n",
       "        [2],\n",
       "        [3]]),\n",
       " array([[1],\n",
       "        [2],\n",
       "        [3]]))"
      ]
     },
     "execution_count": 92,
     "metadata": {},
     "output_type": "execute_result"
    }
   ],
   "source": [
    "x.reshape((3, 1)), x[:, np.newaxis]"
   ]
  },
  {
   "cell_type": "markdown",
   "id": "1c452bb4",
   "metadata": {},
   "source": [
    "### imp"
   ]
  },
  {
   "cell_type": "code",
   "execution_count": 98,
   "id": "96ae8f08",
   "metadata": {},
   "outputs": [
    {
     "data": {
      "text/plain": [
       "array([1, 2, 3, 3, 2, 1])"
      ]
     },
     "execution_count": 98,
     "metadata": {},
     "output_type": "execute_result"
    }
   ],
   "source": [
    "x = np.array([1, 2, 3])\n",
    "y = np.array([3, 2, 1])\n",
    "np.concatenate([x, y])"
   ]
  },
  {
   "cell_type": "code",
   "execution_count": 99,
   "id": "3b3a32ea",
   "metadata": {},
   "outputs": [
    {
     "data": {
      "text/plain": [
       "array([ 1,  2,  3,  3,  2,  1, 99, 99, 99])"
      ]
     },
     "execution_count": 99,
     "metadata": {},
     "output_type": "execute_result"
    }
   ],
   "source": [
    "z = [99, 99, 99]\n",
    "np.concatenate([x, y, z])"
   ]
  },
  {
   "cell_type": "code",
   "execution_count": 100,
   "id": "1735a338",
   "metadata": {},
   "outputs": [],
   "source": [
    "# np.concatenate([x, y, z], axis=1) \n",
    "# cannot work as the arrays are itself one dimension, i.e axis 0"
   ]
  },
  {
   "cell_type": "code",
   "execution_count": 101,
   "id": "f3bfda7e",
   "metadata": {},
   "outputs": [],
   "source": [
    "a = np.array([[1, 2, 3], [4, 5, 6]])"
   ]
  },
  {
   "cell_type": "code",
   "execution_count": 102,
   "id": "20e2e5f4",
   "metadata": {},
   "outputs": [
    {
     "data": {
      "text/plain": [
       "array([[1, 2, 3],\n",
       "       [4, 5, 6],\n",
       "       [1, 2, 3],\n",
       "       [4, 5, 6]])"
      ]
     },
     "execution_count": 102,
     "metadata": {},
     "output_type": "execute_result"
    }
   ],
   "source": [
    "np.concatenate([a, a])"
   ]
  },
  {
   "cell_type": "code",
   "execution_count": 105,
   "id": "d6a326a2",
   "metadata": {},
   "outputs": [
    {
     "data": {
      "text/plain": [
       "array([[1, 2, 3, 1, 2, 3],\n",
       "       [4, 5, 6, 4, 5, 6]])"
      ]
     },
     "execution_count": 105,
     "metadata": {},
     "output_type": "execute_result"
    }
   ],
   "source": [
    "np.concatenate([a, a], axis=1) # 0 is rows, 1 is col, it grows outside\n",
    "# axis is like indexing, 0 is the outter most dimension, then 1, then 2.. etc"
   ]
  },
  {
   "cell_type": "code",
   "execution_count": 108,
   "id": "384439eb",
   "metadata": {},
   "outputs": [
    {
     "data": {
      "text/plain": [
       "array([[3, 2, 1],\n",
       "       [1, 2, 3],\n",
       "       [4, 5, 6]])"
      ]
     },
     "execution_count": 108,
     "metadata": {},
     "output_type": "execute_result"
    }
   ],
   "source": [
    "np.vstack([y, a])"
   ]
  },
  {
   "cell_type": "markdown",
   "id": "ede1a790",
   "metadata": {},
   "source": [
    "### IMP"
   ]
  },
  {
   "cell_type": "code",
   "execution_count": 111,
   "id": "56422c7f",
   "metadata": {},
   "outputs": [
    {
     "data": {
      "text/plain": [
       "array([[ 1,  2,  3, 99],\n",
       "       [ 4,  5,  6, 99]])"
      ]
     },
     "execution_count": 111,
     "metadata": {},
     "output_type": "execute_result"
    }
   ],
   "source": [
    "b = np.array([[99], [99]])\n",
    "np.hstack([a, b])"
   ]
  },
  {
   "cell_type": "markdown",
   "id": "8c1a2a60",
   "metadata": {},
   "source": [
    "### IMP"
   ]
  },
  {
   "cell_type": "code",
   "execution_count": 132,
   "id": "0bfb4dc0",
   "metadata": {},
   "outputs": [
    {
     "data": {
      "text/plain": [
       "(array([1, 2, 3]), array([99, 99]), array([3, 2, 1]))"
      ]
     },
     "execution_count": 132,
     "metadata": {},
     "output_type": "execute_result"
    }
   ],
   "source": [
    "x = np.array([1, 2, 3, 99, 99, 3, 2, 1]) \n",
    "# MAKE EVERY list TO np.array BEFORE MANIPULATING IN numpy\n",
    "x1, x2, x3 = np.split(x, [3, 5]) \n",
    "# if not specifying no. of splits, specify indexes where it should split\n",
    "# can specify no. only when it can split it equally\n",
    "x1, x2, x3"
   ]
  },
  {
   "cell_type": "code",
   "execution_count": 133,
   "id": "fc3078d1",
   "metadata": {},
   "outputs": [
    {
     "data": {
      "text/plain": [
       "[array([ 1,  2,  3, 99]), array([99,  3,  2,  1])]"
      ]
     },
     "execution_count": 133,
     "metadata": {},
     "output_type": "execute_result"
    }
   ],
   "source": [
    "np.split(x, 2) \n",
    "# MAKE SURE x IS AN np.array() for this to work with no., coz it gave error \n",
    "# without it"
   ]
  },
  {
   "cell_type": "code",
   "execution_count": 134,
   "id": "d503fb45",
   "metadata": {},
   "outputs": [
    {
     "data": {
      "text/plain": [
       "array([[ 0,  1,  2,  3],\n",
       "       [ 4,  5,  6,  7],\n",
       "       [ 8,  9, 10, 11],\n",
       "       [12, 13, 14, 15]])"
      ]
     },
     "execution_count": 134,
     "metadata": {},
     "output_type": "execute_result"
    }
   ],
   "source": [
    "x = np.arange(16).reshape((4, 4))\n",
    "x"
   ]
  },
  {
   "cell_type": "markdown",
   "id": "8c357f77",
   "metadata": {},
   "source": [
    "### IMP hsplit and vspilt"
   ]
  },
  {
   "cell_type": "code",
   "execution_count": 135,
   "id": "6ae2687e",
   "metadata": {},
   "outputs": [
    {
     "data": {
      "text/plain": [
       "[array([[ 0],\n",
       "        [ 4],\n",
       "        [ 8],\n",
       "        [12]]),\n",
       " array([[ 1,  2],\n",
       "        [ 5,  6],\n",
       "        [ 9, 10],\n",
       "        [13, 14]]),\n",
       " array([[ 3],\n",
       "        [ 7],\n",
       "        [11],\n",
       "        [15]])]"
      ]
     },
     "execution_count": 135,
     "metadata": {},
     "output_type": "execute_result"
    }
   ],
   "source": [
    "np.hsplit(x, [1, 3])"
   ]
  },
  {
   "cell_type": "code",
   "execution_count": 136,
   "id": "ecadb046",
   "metadata": {},
   "outputs": [
    {
     "data": {
      "text/plain": [
       "[array([[0, 1, 2, 3]]),\n",
       " array([[ 4,  5,  6,  7],\n",
       "        [ 8,  9, 10, 11]]),\n",
       " array([[12, 13, 14, 15]])]"
      ]
     },
     "execution_count": 136,
     "metadata": {},
     "output_type": "execute_result"
    }
   ],
   "source": [
    "np.vsplit(x, [1, 3])"
   ]
  },
  {
   "cell_type": "code",
   "execution_count": 137,
   "id": "a18b93e4",
   "metadata": {},
   "outputs": [
    {
     "data": {
      "text/plain": [
       "[array([[0, 1, 2, 3],\n",
       "        [4, 5, 6, 7]]),\n",
       " array([[ 8,  9, 10, 11],\n",
       "        [12, 13, 14, 15]])]"
      ]
     },
     "execution_count": 137,
     "metadata": {},
     "output_type": "execute_result"
    }
   ],
   "source": [
    "np.vsplit(x, 2)"
   ]
  },
  {
   "cell_type": "code",
   "execution_count": 140,
   "id": "216dd64e",
   "metadata": {},
   "outputs": [
    {
     "data": {
      "text/plain": [
       "(1, 1)"
      ]
     },
     "execution_count": 140,
     "metadata": {},
     "output_type": "execute_result"
    }
   ],
   "source": [
    "np.min(x3), x3.min()"
   ]
  },
  {
   "cell_type": "code",
   "execution_count": 141,
   "id": "eb098bf3",
   "metadata": {},
   "outputs": [
    {
     "data": {
      "text/plain": [
       "(array([1, 2, 3]), array([2, 1, 0], dtype=int64))"
      ]
     },
     "execution_count": 141,
     "metadata": {},
     "output_type": "execute_result"
    }
   ],
   "source": [
    "np.sort(x3), np.argsort(x3)"
   ]
  },
  {
   "cell_type": "code",
   "execution_count": 143,
   "id": "94215628",
   "metadata": {},
   "outputs": [
    {
     "data": {
      "text/plain": [
       "array([1, 2, 3])"
      ]
     },
     "execution_count": 143,
     "metadata": {},
     "output_type": "execute_result"
    }
   ],
   "source": [
    "x3.sort()\n",
    "x3 # inplace"
   ]
  },
  {
   "cell_type": "code",
   "execution_count": 160,
   "id": "eded92f7",
   "metadata": {},
   "outputs": [
    {
     "data": {
      "text/plain": [
       "array([0, 1, 2], dtype=int64)"
      ]
     },
     "execution_count": 160,
     "metadata": {},
     "output_type": "execute_result"
    }
   ],
   "source": [
    "x3 = x3[::-1]\n",
    "x3.argsort()"
   ]
  },
  {
   "cell_type": "markdown",
   "id": "34362558",
   "metadata": {},
   "source": [
    "### To reverse the order of the names and display them in descending order, use the Python[::-1] notation."
   ]
  },
  {
   "cell_type": "code",
   "execution_count": 161,
   "id": "310aaac8",
   "metadata": {},
   "outputs": [
    {
     "name": "stdout",
     "output_type": "stream",
     "text": [
      "The reverse sorted names are: ['Will' 'Peter' 'Mary' 'Johnny' 'Joe']\n",
      "The revere sorted ages with respect to names are: [ 5 37 12 34 13]\n",
      "The reverse sorted heights with respect to names are: [0.5  1.68 1.2  1.76 1.25]\n"
     ]
    }
   ],
   "source": [
    "import numpy as np\n",
    "persons = np.array(['Johnny','Mary','Peter','Will','Joe'])\n",
    "ages = np.array([34,12,37,5,13])\n",
    "heights = np.array([1.76,1.2,1.68,0.5,1.25])\n",
    "reverse_sort_indices = np.argsort(persons)[::-1] \n",
    "print(\"The reverse sorted names are:\", persons[reverse_sort_indices]) \n",
    "print(\"The revere sorted ages with respect to names are:\", ages[reverse_sort_indices]) \n",
    "print(\"The reverse sorted heights with respect to names are:\", heights[reverse_sort_indices])"
   ]
  },
  {
   "cell_type": "code",
   "execution_count": 149,
   "id": "bd49a26e",
   "metadata": {},
   "outputs": [
    {
     "data": {
      "text/plain": [
       "array([[6, 3, 9, 9],\n",
       "       [9, 7, 5, 3],\n",
       "       [1, 6, 8, 9]])"
      ]
     },
     "execution_count": 149,
     "metadata": {},
     "output_type": "execute_result"
    }
   ],
   "source": [
    "x = np.random.randint(10, size=(3, 4))\n",
    "x"
   ]
  },
  {
   "cell_type": "code",
   "execution_count": 159,
   "id": "39bd0a0d",
   "metadata": {},
   "outputs": [
    {
     "data": {
      "text/plain": [
       "array([ 2,  9, 18, 25, 36, 37, 38, 47, 58, 64, 67, 73, 78, 93, 98])"
      ]
     },
     "execution_count": 159,
     "metadata": {},
     "output_type": "execute_result"
    }
   ],
   "source": [
    "x.sort() # sorting columns wise, axis 1\n",
    "x"
   ]
  },
  {
   "cell_type": "code",
   "execution_count": 158,
   "id": "1b21cc88",
   "metadata": {},
   "outputs": [
    {
     "data": {
      "text/plain": [
       "array([ 9,  2, 18, 25, 36, 37, 38, 47, 64, 67, 58, 73, 98, 78, 93])"
      ]
     },
     "execution_count": 158,
     "metadata": {},
     "output_type": "execute_result"
    }
   ],
   "source": [
    "x = np.random.randint(100, size=15)\n",
    "np.partition(x, 4) "
   ]
  },
  {
   "cell_type": "code",
   "execution_count": 167,
   "id": "c323febc",
   "metadata": {},
   "outputs": [
    {
     "data": {
      "text/plain": [
       "(array([[0., 0., 0., 0., 0.],\n",
       "        [0., 0., 0., 0., 0.],\n",
       "        [0., 0., 0., 0., 0.]]),\n",
       " array([[1., 1., 1., 1., 1.],\n",
       "        [1., 1., 1., 1., 1.],\n",
       "        [1., 1., 1., 1., 1.]]),\n",
       " array([[69, 69, 69, 69, 69],\n",
       "        [69, 69, 69, 69, 69],\n",
       "        [69, 69, 69, 69, 69]]))"
      ]
     },
     "execution_count": 167,
     "metadata": {},
     "output_type": "execute_result"
    }
   ],
   "source": [
    "np.zeros((3, 5)), np.ones((3, 5)), np.full((3, 5), 69) # FULL not FILL"
   ]
  },
  {
   "cell_type": "markdown",
   "id": "fe65298a",
   "metadata": {},
   "source": [
    "NumPy Arrays advantages\n",
    "\n",
    "1.Size - Numpy data structures take up less space\n",
    "\n",
    "2.Performance - they have a need for speed and are faster than lists\n",
    "\n",
    "1. NumPy uses much less memory to store data\n",
    "\n",
    "2. NumPy Arrays are faster than Python List"
   ]
  },
  {
   "cell_type": "code",
   "execution_count": 170,
   "id": "c97a308a",
   "metadata": {},
   "outputs": [
    {
     "data": {
      "text/plain": [
       "array([ 5, 12, 21, 32])"
      ]
     },
     "execution_count": 170,
     "metadata": {},
     "output_type": "execute_result"
    }
   ],
   "source": [
    "import numpy as np\n",
    "arr1 = np.array([1, 2, 3, 4])\n",
    "arr2 = np.array([5, 6, 7, 8])\n",
    "c = np.prod([arr1, arr2], axis=0) # np.sum\n",
    "c"
   ]
  },
  {
   "cell_type": "code",
   "execution_count": 171,
   "id": "0c638933",
   "metadata": {},
   "outputs": [
    {
     "data": {
      "text/plain": [
       "(array([ 5, 11, 18, 26], dtype=int32),\n",
       " array([   5,   30,  210, 1680], dtype=int32))"
      ]
     },
     "execution_count": 171,
     "metadata": {},
     "output_type": "execute_result"
    }
   ],
   "source": [
    "np.cumsum(arr2), np.cumprod(arr2)"
   ]
  },
  {
   "cell_type": "code",
   "execution_count": 173,
   "id": "0e6b7c4c",
   "metadata": {},
   "outputs": [
    {
     "data": {
      "text/plain": [
       "array([ True,  True,  True, False])"
      ]
     },
     "execution_count": 173,
     "metadata": {},
     "output_type": "execute_result"
    }
   ],
   "source": [
    "arr2 <= 7"
   ]
  },
  {
   "cell_type": "markdown",
   "id": "c1e89ddc",
   "metadata": {},
   "source": [
    "### imp"
   ]
  },
  {
   "cell_type": "code",
   "execution_count": 174,
   "id": "16a39b28",
   "metadata": {},
   "outputs": [
    {
     "data": {
      "text/plain": [
       "3"
      ]
     },
     "execution_count": 174,
     "metadata": {},
     "output_type": "execute_result"
    }
   ],
   "source": [
    "np.count_nonzero(arr2 <= 7)"
   ]
  },
  {
   "cell_type": "code",
   "execution_count": 176,
   "id": "325da7d3",
   "metadata": {},
   "outputs": [
    {
     "data": {
      "text/plain": [
       "3"
      ]
     },
     "execution_count": 176,
     "metadata": {},
     "output_type": "execute_result"
    }
   ],
   "source": [
    "np.sum(arr2 <= 7) # **********************************"
   ]
  },
  {
   "cell_type": "code",
   "execution_count": 181,
   "id": "2c85fe05",
   "metadata": {},
   "outputs": [
    {
     "data": {
      "text/plain": [
       "array([5, 6, 7])"
      ]
     },
     "execution_count": 181,
     "metadata": {},
     "output_type": "execute_result"
    }
   ],
   "source": [
    "arr2[arr2 <= 7] # boolean arrays as masks, return 1d array of all true values"
   ]
  },
  {
   "cell_type": "code",
   "execution_count": 185,
   "id": "d81d1495",
   "metadata": {},
   "outputs": [
    {
     "data": {
      "text/plain": [
       "array([[ 0,  2],\n",
       "       [ 9, 11]])"
      ]
     },
     "execution_count": 185,
     "metadata": {},
     "output_type": "execute_result"
    }
   ],
   "source": [
    "# 3) a)\n",
    "arr = np.arange(12).reshape(4, 3)\n",
    "row = np.array([0, -1])\n",
    "col = np.array([0, -1]) # IMP HAS TO BE np.array, OTHERWIZSE WON'T WORK\n",
    "arr[row[:, np.newaxis], col]"
   ]
  },
  {
   "cell_type": "code",
   "execution_count": 186,
   "id": "1ca1bc87",
   "metadata": {},
   "outputs": [
    {
     "data": {
      "text/plain": [
       "(11, 0)"
      ]
     },
     "execution_count": 186,
     "metadata": {},
     "output_type": "execute_result"
    }
   ],
   "source": [
    "# 3, b)\n",
    "np.max(arr), np.min(arr)"
   ]
  },
  {
   "cell_type": "code",
   "execution_count": 188,
   "id": "8b2ea2eb",
   "metadata": {},
   "outputs": [],
   "source": [
    "# 4) a) "
   ]
  },
  {
   "cell_type": "markdown",
   "id": "a38f526d",
   "metadata": {},
   "source": [
    "# unit 4 and 5"
   ]
  },
  {
   "cell_type": "code",
   "execution_count": 191,
   "id": "622a4a4f",
   "metadata": {},
   "outputs": [],
   "source": [
    "import pandas as pd"
   ]
  },
  {
   "cell_type": "code",
   "execution_count": 192,
   "id": "eecde331",
   "metadata": {},
   "outputs": [],
   "source": [
    "df = pd.read_csv(\"gapminder.tsv\", sep='\\t')"
   ]
  },
  {
   "cell_type": "code",
   "execution_count": 193,
   "id": "2c14bfca",
   "metadata": {},
   "outputs": [
    {
     "data": {
      "text/plain": [
       "((1704, 6),\n",
       " Index(['country', 'continent', 'year', 'lifeExp', 'pop', 'gdpPercap'], dtype='object'),\n",
       " country       object\n",
       " continent     object\n",
       " year           int64\n",
       " lifeExp      float64\n",
       " pop            int64\n",
       " gdpPercap    float64\n",
       " dtype: object,\n",
       " <bound method DataFrame.info of           country continent  year  lifeExp       pop   gdpPercap\n",
       " 0     Afghanistan      Asia  1952   28.801   8425333  779.445314\n",
       " 1     Afghanistan      Asia  1957   30.332   9240934  820.853030\n",
       " 2     Afghanistan      Asia  1962   31.997  10267083  853.100710\n",
       " 3     Afghanistan      Asia  1967   34.020  11537966  836.197138\n",
       " 4     Afghanistan      Asia  1972   36.088  13079460  739.981106\n",
       " ...           ...       ...   ...      ...       ...         ...\n",
       " 1699     Zimbabwe    Africa  1987   62.351   9216418  706.157306\n",
       " 1700     Zimbabwe    Africa  1992   60.377  10704340  693.420786\n",
       " 1701     Zimbabwe    Africa  1997   46.809  11404948  792.449960\n",
       " 1702     Zimbabwe    Africa  2002   39.989  11926563  672.038623\n",
       " 1703     Zimbabwe    Africa  2007   43.487  12311143  469.709298\n",
       " \n",
       " [1704 rows x 6 columns]>,\n",
       "        country continent  year  lifeExp       pop   gdpPercap\n",
       " 0  Afghanistan      Asia  1952   28.801   8425333  779.445314\n",
       " 1  Afghanistan      Asia  1957   30.332   9240934  820.853030\n",
       " 2  Afghanistan      Asia  1962   31.997  10267083  853.100710\n",
       " 3  Afghanistan      Asia  1967   34.020  11537966  836.197138\n",
       " 4  Afghanistan      Asia  1972   36.088  13079460  739.981106,\n",
       "        country continent  year  lifeExp       pop   gdpPercap\n",
       " 1699  Zimbabwe    Africa  1987   62.351   9216418  706.157306\n",
       " 1700  Zimbabwe    Africa  1992   60.377  10704340  693.420786\n",
       " 1701  Zimbabwe    Africa  1997   46.809  11404948  792.449960\n",
       " 1702  Zimbabwe    Africa  2002   39.989  11926563  672.038623\n",
       " 1703  Zimbabwe    Africa  2007   43.487  12311143  469.709298)"
      ]
     },
     "execution_count": 193,
     "metadata": {},
     "output_type": "execute_result"
    }
   ],
   "source": [
    "df.shape, df.columns, df.dtypes, df.info, df.head(), df.tail()"
   ]
  },
  {
   "cell_type": "code",
   "execution_count": 195,
   "id": "a62596e0",
   "metadata": {},
   "outputs": [
    {
     "data": {
      "text/plain": [
       "0       Afghanistan\n",
       "1       Afghanistan\n",
       "2       Afghanistan\n",
       "3       Afghanistan\n",
       "4       Afghanistan\n",
       "           ...     \n",
       "1699       Zimbabwe\n",
       "1700       Zimbabwe\n",
       "1701       Zimbabwe\n",
       "1702       Zimbabwe\n",
       "1703       Zimbabwe\n",
       "Name: country, Length: 1704, dtype: object"
      ]
     },
     "execution_count": 195,
     "metadata": {},
     "output_type": "execute_result"
    }
   ],
   "source": [
    "cdf = df['country']\n",
    "cdf"
   ]
  },
  {
   "cell_type": "code",
   "execution_count": 198,
   "id": "1ade2599",
   "metadata": {},
   "outputs": [
    {
     "data": {
      "text/plain": [
       "(0    Afghanistan\n",
       " 1    Afghanistan\n",
       " 2    Afghanistan\n",
       " 3    Afghanistan\n",
       " 4    Afghanistan\n",
       " 5    Afghanistan\n",
       " 6    Afghanistan\n",
       " 7    Afghanistan\n",
       " 8    Afghanistan\n",
       " 9    Afghanistan\n",
       " Name: country, dtype: object,\n",
       " 1689      Zambia\n",
       " 1690      Zambia\n",
       " 1691      Zambia\n",
       " 1692    Zimbabwe\n",
       " 1693    Zimbabwe\n",
       " 1694    Zimbabwe\n",
       " 1695    Zimbabwe\n",
       " 1696    Zimbabwe\n",
       " 1697    Zimbabwe\n",
       " 1698    Zimbabwe\n",
       " 1699    Zimbabwe\n",
       " 1700    Zimbabwe\n",
       " 1701    Zimbabwe\n",
       " 1702    Zimbabwe\n",
       " 1703    Zimbabwe\n",
       " Name: country, dtype: object)"
      ]
     },
     "execution_count": 198,
     "metadata": {},
     "output_type": "execute_result"
    }
   ],
   "source": [
    "cdf.head(10), cdf.tail(15)"
   ]
  },
  {
   "cell_type": "markdown",
   "id": "6b5739df",
   "metadata": {},
   "source": [
    "### IMP"
   ]
  },
  {
   "cell_type": "code",
   "execution_count": 199,
   "id": "c100c032",
   "metadata": {},
   "outputs": [
    {
     "data": {
      "text/plain": [
       "array(['Afghanistan', 'Albania', 'Algeria', 'Angola', 'Argentina',\n",
       "       'Australia', 'Austria', 'Bahrain', 'Bangladesh', 'Belgium',\n",
       "       'Benin', 'Bolivia', 'Bosnia and Herzegovina', 'Botswana', 'Brazil',\n",
       "       'Bulgaria', 'Burkina Faso', 'Burundi', 'Cambodia', 'Cameroon',\n",
       "       'Canada', 'Central African Republic', 'Chad', 'Chile', 'China',\n",
       "       'Colombia', 'Comoros', 'Congo, Dem. Rep.', 'Congo, Rep.',\n",
       "       'Costa Rica', \"Cote d'Ivoire\", 'Croatia', 'Cuba', 'Czech Republic',\n",
       "       'Denmark', 'Djibouti', 'Dominican Republic', 'Ecuador', 'Egypt',\n",
       "       'El Salvador', 'Equatorial Guinea', 'Eritrea', 'Ethiopia',\n",
       "       'Finland', 'France', 'Gabon', 'Gambia', 'Germany', 'Ghana',\n",
       "       'Greece', 'Guatemala', 'Guinea', 'Guinea-Bissau', 'Haiti',\n",
       "       'Honduras', 'Hong Kong, China', 'Hungary', 'Iceland', 'India',\n",
       "       'Indonesia', 'Iran', 'Iraq', 'Ireland', 'Israel', 'Italy',\n",
       "       'Jamaica', 'Japan', 'Jordan', 'Kenya', 'Korea, Dem. Rep.',\n",
       "       'Korea, Rep.', 'Kuwait', 'Lebanon', 'Lesotho', 'Liberia', 'Libya',\n",
       "       'Madagascar', 'Malawi', 'Malaysia', 'Mali', 'Mauritania',\n",
       "       'Mauritius', 'Mexico', 'Mongolia', 'Montenegro', 'Morocco',\n",
       "       'Mozambique', 'Myanmar', 'Namibia', 'Nepal', 'Netherlands',\n",
       "       'New Zealand', 'Nicaragua', 'Niger', 'Nigeria', 'Norway', 'Oman',\n",
       "       'Pakistan', 'Panama', 'Paraguay', 'Peru', 'Philippines', 'Poland',\n",
       "       'Portugal', 'Puerto Rico', 'Reunion', 'Romania', 'Rwanda',\n",
       "       'Sao Tome and Principe', 'Saudi Arabia', 'Senegal', 'Serbia',\n",
       "       'Sierra Leone', 'Singapore', 'Slovak Republic', 'Slovenia',\n",
       "       'Somalia', 'South Africa', 'Spain', 'Sri Lanka', 'Sudan',\n",
       "       'Swaziland', 'Sweden', 'Switzerland', 'Syria', 'Taiwan',\n",
       "       'Tanzania', 'Thailand', 'Togo', 'Trinidad and Tobago', 'Tunisia',\n",
       "       'Turkey', 'Uganda', 'United Kingdom', 'United States', 'Uruguay',\n",
       "       'Venezuela', 'Vietnam', 'West Bank and Gaza', 'Yemen, Rep.',\n",
       "       'Zambia', 'Zimbabwe'], dtype=object)"
      ]
     },
     "execution_count": 199,
     "metadata": {},
     "output_type": "execute_result"
    }
   ],
   "source": [
    "cdf.unique()"
   ]
  },
  {
   "cell_type": "code",
   "execution_count": 200,
   "id": "5573f403",
   "metadata": {},
   "outputs": [
    {
     "data": {
      "text/html": [
       "<div>\n",
       "<style scoped>\n",
       "    .dataframe tbody tr th:only-of-type {\n",
       "        vertical-align: middle;\n",
       "    }\n",
       "\n",
       "    .dataframe tbody tr th {\n",
       "        vertical-align: top;\n",
       "    }\n",
       "\n",
       "    .dataframe thead th {\n",
       "        text-align: right;\n",
       "    }\n",
       "</style>\n",
       "<table border=\"1\" class=\"dataframe\">\n",
       "  <thead>\n",
       "    <tr style=\"text-align: right;\">\n",
       "      <th></th>\n",
       "      <th>country</th>\n",
       "      <th>continent</th>\n",
       "      <th>year</th>\n",
       "    </tr>\n",
       "  </thead>\n",
       "  <tbody>\n",
       "    <tr>\n",
       "      <th>0</th>\n",
       "      <td>Afghanistan</td>\n",
       "      <td>Asia</td>\n",
       "      <td>1952</td>\n",
       "    </tr>\n",
       "    <tr>\n",
       "      <th>1</th>\n",
       "      <td>Afghanistan</td>\n",
       "      <td>Asia</td>\n",
       "      <td>1957</td>\n",
       "    </tr>\n",
       "    <tr>\n",
       "      <th>2</th>\n",
       "      <td>Afghanistan</td>\n",
       "      <td>Asia</td>\n",
       "      <td>1962</td>\n",
       "    </tr>\n",
       "    <tr>\n",
       "      <th>3</th>\n",
       "      <td>Afghanistan</td>\n",
       "      <td>Asia</td>\n",
       "      <td>1967</td>\n",
       "    </tr>\n",
       "    <tr>\n",
       "      <th>4</th>\n",
       "      <td>Afghanistan</td>\n",
       "      <td>Asia</td>\n",
       "      <td>1972</td>\n",
       "    </tr>\n",
       "    <tr>\n",
       "      <th>...</th>\n",
       "      <td>...</td>\n",
       "      <td>...</td>\n",
       "      <td>...</td>\n",
       "    </tr>\n",
       "    <tr>\n",
       "      <th>1699</th>\n",
       "      <td>Zimbabwe</td>\n",
       "      <td>Africa</td>\n",
       "      <td>1987</td>\n",
       "    </tr>\n",
       "    <tr>\n",
       "      <th>1700</th>\n",
       "      <td>Zimbabwe</td>\n",
       "      <td>Africa</td>\n",
       "      <td>1992</td>\n",
       "    </tr>\n",
       "    <tr>\n",
       "      <th>1701</th>\n",
       "      <td>Zimbabwe</td>\n",
       "      <td>Africa</td>\n",
       "      <td>1997</td>\n",
       "    </tr>\n",
       "    <tr>\n",
       "      <th>1702</th>\n",
       "      <td>Zimbabwe</td>\n",
       "      <td>Africa</td>\n",
       "      <td>2002</td>\n",
       "    </tr>\n",
       "    <tr>\n",
       "      <th>1703</th>\n",
       "      <td>Zimbabwe</td>\n",
       "      <td>Africa</td>\n",
       "      <td>2007</td>\n",
       "    </tr>\n",
       "  </tbody>\n",
       "</table>\n",
       "<p>1704 rows × 3 columns</p>\n",
       "</div>"
      ],
      "text/plain": [
       "          country continent  year\n",
       "0     Afghanistan      Asia  1952\n",
       "1     Afghanistan      Asia  1957\n",
       "2     Afghanistan      Asia  1962\n",
       "3     Afghanistan      Asia  1967\n",
       "4     Afghanistan      Asia  1972\n",
       "...           ...       ...   ...\n",
       "1699     Zimbabwe    Africa  1987\n",
       "1700     Zimbabwe    Africa  1992\n",
       "1701     Zimbabwe    Africa  1997\n",
       "1702     Zimbabwe    Africa  2002\n",
       "1703     Zimbabwe    Africa  2007\n",
       "\n",
       "[1704 rows x 3 columns]"
      ]
     },
     "execution_count": 200,
     "metadata": {},
     "output_type": "execute_result"
    }
   ],
   "source": [
    "subset = df[['country', \"continent\", \"year\"]]\n",
    "subset"
   ]
  },
  {
   "cell_type": "markdown",
   "id": "507db098",
   "metadata": {},
   "source": [
    "### deprecated Subsetting Columns by Index Position Break in Pandas i.e df[[1]], df[[0, -1]]"
   ]
  },
  {
   "cell_type": "markdown",
   "id": "7ca2c990",
   "metadata": {},
   "source": [
    "### subsetting rows, loc, iloc"
   ]
  },
  {
   "cell_type": "code",
   "execution_count": 201,
   "id": "35a4e231",
   "metadata": {},
   "outputs": [
    {
     "data": {
      "text/html": [
       "<div>\n",
       "<style scoped>\n",
       "    .dataframe tbody tr th:only-of-type {\n",
       "        vertical-align: middle;\n",
       "    }\n",
       "\n",
       "    .dataframe tbody tr th {\n",
       "        vertical-align: top;\n",
       "    }\n",
       "\n",
       "    .dataframe thead th {\n",
       "        text-align: right;\n",
       "    }\n",
       "</style>\n",
       "<table border=\"1\" class=\"dataframe\">\n",
       "  <thead>\n",
       "    <tr style=\"text-align: right;\">\n",
       "      <th></th>\n",
       "      <th>country</th>\n",
       "      <th>continent</th>\n",
       "      <th>year</th>\n",
       "      <th>lifeExp</th>\n",
       "      <th>pop</th>\n",
       "      <th>gdpPercap</th>\n",
       "    </tr>\n",
       "  </thead>\n",
       "  <tbody>\n",
       "    <tr>\n",
       "      <th>0</th>\n",
       "      <td>Afghanistan</td>\n",
       "      <td>Asia</td>\n",
       "      <td>1952</td>\n",
       "      <td>28.801</td>\n",
       "      <td>8425333</td>\n",
       "      <td>779.445314</td>\n",
       "    </tr>\n",
       "    <tr>\n",
       "      <th>1</th>\n",
       "      <td>Afghanistan</td>\n",
       "      <td>Asia</td>\n",
       "      <td>1957</td>\n",
       "      <td>30.332</td>\n",
       "      <td>9240934</td>\n",
       "      <td>820.853030</td>\n",
       "    </tr>\n",
       "    <tr>\n",
       "      <th>2</th>\n",
       "      <td>Afghanistan</td>\n",
       "      <td>Asia</td>\n",
       "      <td>1962</td>\n",
       "      <td>31.997</td>\n",
       "      <td>10267083</td>\n",
       "      <td>853.100710</td>\n",
       "    </tr>\n",
       "    <tr>\n",
       "      <th>3</th>\n",
       "      <td>Afghanistan</td>\n",
       "      <td>Asia</td>\n",
       "      <td>1967</td>\n",
       "      <td>34.020</td>\n",
       "      <td>11537966</td>\n",
       "      <td>836.197138</td>\n",
       "    </tr>\n",
       "    <tr>\n",
       "      <th>4</th>\n",
       "      <td>Afghanistan</td>\n",
       "      <td>Asia</td>\n",
       "      <td>1972</td>\n",
       "      <td>36.088</td>\n",
       "      <td>13079460</td>\n",
       "      <td>739.981106</td>\n",
       "    </tr>\n",
       "  </tbody>\n",
       "</table>\n",
       "</div>"
      ],
      "text/plain": [
       "       country continent  year  lifeExp       pop   gdpPercap\n",
       "0  Afghanistan      Asia  1952   28.801   8425333  779.445314\n",
       "1  Afghanistan      Asia  1957   30.332   9240934  820.853030\n",
       "2  Afghanistan      Asia  1962   31.997  10267083  853.100710\n",
       "3  Afghanistan      Asia  1967   34.020  11537966  836.197138\n",
       "4  Afghanistan      Asia  1972   36.088  13079460  739.981106"
      ]
     },
     "execution_count": 201,
     "metadata": {},
     "output_type": "execute_result"
    }
   ],
   "source": [
    "df.head()"
   ]
  },
  {
   "cell_type": "code",
   "execution_count": 203,
   "id": "3fe2902b",
   "metadata": {},
   "outputs": [
    {
     "data": {
      "text/plain": [
       "country      Afghanistan\n",
       "continent           Asia\n",
       "year                1952\n",
       "lifeExp           28.801\n",
       "pop              8425333\n",
       "gdpPercap     779.445314\n",
       "Name: 0, dtype: object"
      ]
     },
     "execution_count": 203,
     "metadata": {},
     "output_type": "execute_result"
    }
   ],
   "source": [
    "df.loc[0]"
   ]
  },
  {
   "cell_type": "code",
   "execution_count": 204,
   "id": "027a1dea",
   "metadata": {},
   "outputs": [
    {
     "data": {
      "text/plain": [
       "country      Bangladesh\n",
       "continent          Asia\n",
       "year               1967\n",
       "lifeExp          43.453\n",
       "pop            62821884\n",
       "gdpPercap    721.186086\n",
       "Name: 99, dtype: object"
      ]
     },
     "execution_count": 204,
     "metadata": {},
     "output_type": "execute_result"
    }
   ],
   "source": [
    "df.loc[99]"
   ]
  },
  {
   "cell_type": "code",
   "execution_count": 205,
   "id": "80449851",
   "metadata": {},
   "outputs": [],
   "source": [
    "# df.loc[-1] # won't work*********************8"
   ]
  },
  {
   "cell_type": "code",
   "execution_count": 206,
   "id": "ac66fb4a",
   "metadata": {},
   "outputs": [
    {
     "data": {
      "text/plain": [
       "country        Zimbabwe\n",
       "continent        Africa\n",
       "year               2007\n",
       "lifeExp          43.487\n",
       "pop            12311143\n",
       "gdpPercap    469.709298\n",
       "Name: 1703, dtype: object"
      ]
     },
     "execution_count": 206,
     "metadata": {},
     "output_type": "execute_result"
    }
   ],
   "source": [
    "df.loc[df.shape[0] - 1] # alternatively # series"
   ]
  },
  {
   "cell_type": "code",
   "execution_count": 207,
   "id": "ec8d1b1f",
   "metadata": {},
   "outputs": [
    {
     "data": {
      "text/html": [
       "<div>\n",
       "<style scoped>\n",
       "    .dataframe tbody tr th:only-of-type {\n",
       "        vertical-align: middle;\n",
       "    }\n",
       "\n",
       "    .dataframe tbody tr th {\n",
       "        vertical-align: top;\n",
       "    }\n",
       "\n",
       "    .dataframe thead th {\n",
       "        text-align: right;\n",
       "    }\n",
       "</style>\n",
       "<table border=\"1\" class=\"dataframe\">\n",
       "  <thead>\n",
       "    <tr style=\"text-align: right;\">\n",
       "      <th></th>\n",
       "      <th>country</th>\n",
       "      <th>continent</th>\n",
       "      <th>year</th>\n",
       "      <th>lifeExp</th>\n",
       "      <th>pop</th>\n",
       "      <th>gdpPercap</th>\n",
       "    </tr>\n",
       "  </thead>\n",
       "  <tbody>\n",
       "    <tr>\n",
       "      <th>1703</th>\n",
       "      <td>Zimbabwe</td>\n",
       "      <td>Africa</td>\n",
       "      <td>2007</td>\n",
       "      <td>43.487</td>\n",
       "      <td>12311143</td>\n",
       "      <td>469.709298</td>\n",
       "    </tr>\n",
       "  </tbody>\n",
       "</table>\n",
       "</div>"
      ],
      "text/plain": [
       "       country continent  year  lifeExp       pop   gdpPercap\n",
       "1703  Zimbabwe    Africa  2007   43.487  12311143  469.709298"
      ]
     },
     "execution_count": 207,
     "metadata": {},
     "output_type": "execute_result"
    }
   ],
   "source": [
    "df.tail(1) # dataframe"
   ]
  },
  {
   "cell_type": "code",
   "execution_count": 208,
   "id": "88f6748e",
   "metadata": {},
   "outputs": [
    {
     "data": {
      "text/plain": [
       "(country      Afghanistan\n",
       " continent           Asia\n",
       " year                1952\n",
       " lifeExp           28.801\n",
       " pop              8425333\n",
       " gdpPercap     779.445314\n",
       " Name: 0, dtype: object,\n",
       " country      Bangladesh\n",
       " continent          Asia\n",
       " year               1967\n",
       " lifeExp          43.453\n",
       " pop            62821884\n",
       " gdpPercap    721.186086\n",
       " Name: 99, dtype: object,\n",
       " country        Zimbabwe\n",
       " continent        Africa\n",
       " year               2007\n",
       " lifeExp          43.487\n",
       " pop            12311143\n",
       " gdpPercap    469.709298\n",
       " Name: 1703, dtype: object,\n",
       " country        Zimbabwe\n",
       " continent        Africa\n",
       " year               2007\n",
       " lifeExp          43.487\n",
       " pop            12311143\n",
       " gdpPercap    469.709298\n",
       " Name: 1703, dtype: object)"
      ]
     },
     "execution_count": 208,
     "metadata": {},
     "output_type": "execute_result"
    }
   ],
   "source": [
    "df.iloc[0], df.iloc[99], df.iloc[-1], df.iloc[1703]"
   ]
  },
  {
   "cell_type": "code",
   "execution_count": 209,
   "id": "cac10058",
   "metadata": {},
   "outputs": [
    {
     "data": {
      "text/plain": [
       "country        Zimbabwe\n",
       "continent        Africa\n",
       "year               2007\n",
       "lifeExp          43.487\n",
       "pop            12311143\n",
       "gdpPercap    469.709298\n",
       "Name: 1703, dtype: object"
      ]
     },
     "execution_count": 209,
     "metadata": {},
     "output_type": "execute_result"
    }
   ],
   "source": [
    "df.iloc[df.shape[0] - 1] # THIS WILL WORK ONLY HERE COZ the index label\n",
    "# starts from 0... if the index label starts from 101... then this\n",
    "# method won't work"
   ]
  },
  {
   "cell_type": "code",
   "execution_count": 210,
   "id": "c876e628",
   "metadata": {},
   "outputs": [
    {
     "data": {
      "text/plain": [
       "(country      Afghanistan\n",
       " continent           Asia\n",
       " year                1952\n",
       " lifeExp           28.801\n",
       " pop              8425333\n",
       " gdpPercap     779.445314\n",
       " Name: 0, dtype: object,\n",
       "        country continent  year  lifeExp      pop   gdpPercap\n",
       " 0  Afghanistan      Asia  1952   28.801  8425333  779.445314)"
      ]
     },
     "execution_count": 210,
     "metadata": {},
     "output_type": "execute_result"
    }
   ],
   "source": [
    "df.loc[0], df.head(1) # series, dataframe"
   ]
  },
  {
   "cell_type": "markdown",
   "id": "7c6f94ae",
   "metadata": {},
   "source": [
    "### Subsetting Multiple Rows, works on both loc and iloc"
   ]
  },
  {
   "cell_type": "markdown",
   "id": "b94a4a63",
   "metadata": {},
   "source": [
    "but there's a difference"
   ]
  },
  {
   "cell_type": "code",
   "execution_count": 211,
   "id": "278a5bc7",
   "metadata": {},
   "outputs": [
    {
     "data": {
      "text/plain": [
       "(         country continent  year  lifeExp       pop    gdpPercap\n",
       " 0    Afghanistan      Asia  1952   28.801   8425333   779.445314\n",
       " 99    Bangladesh      Asia  1967   43.453  62821884   721.186086\n",
       " 999     Mongolia      Asia  1967   51.253   1149500  1226.041130,\n",
       "          country continent  year  lifeExp       pop    gdpPercap\n",
       " 0    Afghanistan      Asia  1952   28.801   8425333   779.445314\n",
       " 99    Bangladesh      Asia  1967   43.453  62821884   721.186086\n",
       " 999     Mongolia      Asia  1967   51.253   1149500  1226.041130)"
      ]
     },
     "execution_count": 211,
     "metadata": {},
     "output_type": "execute_result"
    }
   ],
   "source": [
    "df.loc[[0, 99, 999]], df.iloc[[0, 99, 999]]"
   ]
  },
  {
   "cell_type": "markdown",
   "id": "e0dbcd75",
   "metadata": {},
   "source": [
    "### for one row it is Series and for more than one row it is DataFrame"
   ]
  },
  {
   "cell_type": "code",
   "execution_count": 212,
   "id": "c4ccb777",
   "metadata": {},
   "outputs": [
    {
     "name": "stdout",
     "output_type": "stream",
     "text": [
      "country      Afghanistan\n",
      "continent           Asia\n",
      "year                1952\n",
      "lifeExp           28.801\n",
      "pop              8425333\n",
      "gdpPercap     779.445314\n",
      "Name: 0, dtype: object\n",
      "\n",
      "<class 'pandas.core.series.Series'>\n",
      "\n",
      "        country continent  year  lifeExp       pop   gdpPercap\n",
      "0   Afghanistan      Asia  1952   28.801   8425333  779.445314\n",
      "99   Bangladesh      Asia  1967   43.453  62821884  721.186086\n",
      "\n",
      "<class 'pandas.core.frame.DataFrame'>\n"
     ]
    }
   ],
   "source": [
    "print(df.loc[0], type(df.loc[0]), sep='\\n\\n', end='\\n\\n')\n",
    "print(df.loc[[0, 99]], type(df.loc[[0, 99]]), sep='\\n\\n')"
   ]
  },
  {
   "cell_type": "markdown",
   "id": "50cf0494",
   "metadata": {},
   "source": [
    "# Combining column and row subsetting\n",
    "\n",
    "df.loc/iloc[rows, columns]\n",
    "\n",
    "for loc we can use only column names and not column indices\n",
    "\n",
    "for iloc we can use only column indices and not column names"
   ]
  },
  {
   "cell_type": "code",
   "execution_count": 213,
   "id": "6cb7886f",
   "metadata": {},
   "outputs": [
    {
     "data": {
      "text/html": [
       "<div>\n",
       "<style scoped>\n",
       "    .dataframe tbody tr th:only-of-type {\n",
       "        vertical-align: middle;\n",
       "    }\n",
       "\n",
       "    .dataframe tbody tr th {\n",
       "        vertical-align: top;\n",
       "    }\n",
       "\n",
       "    .dataframe thead th {\n",
       "        text-align: right;\n",
       "    }\n",
       "</style>\n",
       "<table border=\"1\" class=\"dataframe\">\n",
       "  <thead>\n",
       "    <tr style=\"text-align: right;\">\n",
       "      <th></th>\n",
       "      <th>year</th>\n",
       "      <th>pop</th>\n",
       "    </tr>\n",
       "  </thead>\n",
       "  <tbody>\n",
       "    <tr>\n",
       "      <th>0</th>\n",
       "      <td>1952</td>\n",
       "      <td>8425333</td>\n",
       "    </tr>\n",
       "    <tr>\n",
       "      <th>1</th>\n",
       "      <td>1957</td>\n",
       "      <td>9240934</td>\n",
       "    </tr>\n",
       "    <tr>\n",
       "      <th>2</th>\n",
       "      <td>1962</td>\n",
       "      <td>10267083</td>\n",
       "    </tr>\n",
       "    <tr>\n",
       "      <th>3</th>\n",
       "      <td>1967</td>\n",
       "      <td>11537966</td>\n",
       "    </tr>\n",
       "    <tr>\n",
       "      <th>4</th>\n",
       "      <td>1972</td>\n",
       "      <td>13079460</td>\n",
       "    </tr>\n",
       "    <tr>\n",
       "      <th>5</th>\n",
       "      <td>1977</td>\n",
       "      <td>14880372</td>\n",
       "    </tr>\n",
       "  </tbody>\n",
       "</table>\n",
       "</div>"
      ],
      "text/plain": [
       "   year       pop\n",
       "0  1952   8425333\n",
       "1  1957   9240934\n",
       "2  1962  10267083\n",
       "3  1967  11537966\n",
       "4  1972  13079460\n",
       "5  1977  14880372"
      ]
     },
     "execution_count": 213,
     "metadata": {},
     "output_type": "execute_result"
    }
   ],
   "source": [
    "df.loc[:5, ['year', 'pop']]"
   ]
  },
  {
   "cell_type": "code",
   "execution_count": 214,
   "id": "031061ed",
   "metadata": {},
   "outputs": [
    {
     "data": {
      "text/html": [
       "<div>\n",
       "<style scoped>\n",
       "    .dataframe tbody tr th:only-of-type {\n",
       "        vertical-align: middle;\n",
       "    }\n",
       "\n",
       "    .dataframe tbody tr th {\n",
       "        vertical-align: top;\n",
       "    }\n",
       "\n",
       "    .dataframe thead th {\n",
       "        text-align: right;\n",
       "    }\n",
       "</style>\n",
       "<table border=\"1\" class=\"dataframe\">\n",
       "  <thead>\n",
       "    <tr style=\"text-align: right;\">\n",
       "      <th></th>\n",
       "      <th>year</th>\n",
       "      <th>pop</th>\n",
       "      <th>gdpPercap</th>\n",
       "    </tr>\n",
       "  </thead>\n",
       "  <tbody>\n",
       "    <tr>\n",
       "      <th>0</th>\n",
       "      <td>1952</td>\n",
       "      <td>8425333</td>\n",
       "      <td>779.445314</td>\n",
       "    </tr>\n",
       "    <tr>\n",
       "      <th>1</th>\n",
       "      <td>1957</td>\n",
       "      <td>9240934</td>\n",
       "      <td>820.853030</td>\n",
       "    </tr>\n",
       "    <tr>\n",
       "      <th>2</th>\n",
       "      <td>1962</td>\n",
       "      <td>10267083</td>\n",
       "      <td>853.100710</td>\n",
       "    </tr>\n",
       "    <tr>\n",
       "      <th>3</th>\n",
       "      <td>1967</td>\n",
       "      <td>11537966</td>\n",
       "      <td>836.197138</td>\n",
       "    </tr>\n",
       "    <tr>\n",
       "      <th>4</th>\n",
       "      <td>1972</td>\n",
       "      <td>13079460</td>\n",
       "      <td>739.981106</td>\n",
       "    </tr>\n",
       "  </tbody>\n",
       "</table>\n",
       "</div>"
      ],
      "text/plain": [
       "   year       pop   gdpPercap\n",
       "0  1952   8425333  779.445314\n",
       "1  1957   9240934  820.853030\n",
       "2  1962  10267083  853.100710\n",
       "3  1967  11537966  836.197138\n",
       "4  1972  13079460  739.981106"
      ]
     },
     "execution_count": 214,
     "metadata": {},
     "output_type": "execute_result"
    }
   ],
   "source": [
    "df.iloc[:5, [2, 4, -1]]"
   ]
  },
  {
   "cell_type": "code",
   "execution_count": 215,
   "id": "41065f1a",
   "metadata": {},
   "outputs": [],
   "source": [
    "# r = list(range(0, 10))\n",
    "# s = df.iloc[:, r] # r out of range will not work\n",
    "# s"
   ]
  },
  {
   "cell_type": "code",
   "execution_count": 216,
   "id": "f9d7157c",
   "metadata": {},
   "outputs": [
    {
     "data": {
      "text/html": [
       "<div>\n",
       "<style scoped>\n",
       "    .dataframe tbody tr th:only-of-type {\n",
       "        vertical-align: middle;\n",
       "    }\n",
       "\n",
       "    .dataframe tbody tr th {\n",
       "        vertical-align: top;\n",
       "    }\n",
       "\n",
       "    .dataframe thead th {\n",
       "        text-align: right;\n",
       "    }\n",
       "</style>\n",
       "<table border=\"1\" class=\"dataframe\">\n",
       "  <thead>\n",
       "    <tr style=\"text-align: right;\">\n",
       "      <th></th>\n",
       "      <th>country</th>\n",
       "      <th>continent</th>\n",
       "      <th>year</th>\n",
       "    </tr>\n",
       "  </thead>\n",
       "  <tbody>\n",
       "    <tr>\n",
       "      <th>0</th>\n",
       "      <td>Afghanistan</td>\n",
       "      <td>Asia</td>\n",
       "      <td>1952</td>\n",
       "    </tr>\n",
       "    <tr>\n",
       "      <th>1</th>\n",
       "      <td>Afghanistan</td>\n",
       "      <td>Asia</td>\n",
       "      <td>1957</td>\n",
       "    </tr>\n",
       "    <tr>\n",
       "      <th>2</th>\n",
       "      <td>Afghanistan</td>\n",
       "      <td>Asia</td>\n",
       "      <td>1962</td>\n",
       "    </tr>\n",
       "    <tr>\n",
       "      <th>3</th>\n",
       "      <td>Afghanistan</td>\n",
       "      <td>Asia</td>\n",
       "      <td>1967</td>\n",
       "    </tr>\n",
       "    <tr>\n",
       "      <th>4</th>\n",
       "      <td>Afghanistan</td>\n",
       "      <td>Asia</td>\n",
       "      <td>1972</td>\n",
       "    </tr>\n",
       "  </tbody>\n",
       "</table>\n",
       "</div>"
      ],
      "text/plain": [
       "       country continent  year\n",
       "0  Afghanistan      Asia  1952\n",
       "1  Afghanistan      Asia  1957\n",
       "2  Afghanistan      Asia  1962\n",
       "3  Afghanistan      Asia  1967\n",
       "4  Afghanistan      Asia  1972"
      ]
     },
     "execution_count": 216,
     "metadata": {},
     "output_type": "execute_result"
    }
   ],
   "source": [
    "df.iloc[:5, :3]"
   ]
  },
  {
   "cell_type": "code",
   "execution_count": 219,
   "id": "ae03ebe2",
   "metadata": {},
   "outputs": [
    {
     "data": {
      "text/plain": [
       "(   lifeExp       pop   gdpPercap\n",
       " 0   28.801   8425333  779.445314\n",
       " 1   30.332   9240934  820.853030\n",
       " 2   31.997  10267083  853.100710\n",
       " 3   34.020  11537966  836.197138\n",
       " 4   36.088  13079460  739.981106,\n",
       "    lifeExp       pop   gdpPercap\n",
       " 0   28.801   8425333  779.445314\n",
       " 1   30.332   9240934  820.853030\n",
       " 2   31.997  10267083  853.100710\n",
       " 3   34.020  11537966  836.197138\n",
       " 4   36.088  13079460  739.981106)"
      ]
     },
     "execution_count": 219,
     "metadata": {},
     "output_type": "execute_result"
    }
   ],
   "source": [
    "df.iloc[:5, 3:6], df.iloc[:5, 3:]"
   ]
  },
  {
   "cell_type": "code",
   "execution_count": 220,
   "id": "0ea8cd75",
   "metadata": {},
   "outputs": [
    {
     "data": {
      "text/plain": [
       "(       country  year       pop\n",
       " 0  Afghanistan  1952   8425333\n",
       " 1  Afghanistan  1957   9240934\n",
       " 2  Afghanistan  1962  10267083\n",
       " 3  Afghanistan  1967  11537966\n",
       " 4  Afghanistan  1972  13079460,\n",
       "        country  year       pop\n",
       " 0  Afghanistan  1952   8425333\n",
       " 1  Afghanistan  1957   9240934\n",
       " 2  Afghanistan  1962  10267083\n",
       " 3  Afghanistan  1967  11537966\n",
       " 4  Afghanistan  1972  13079460)"
      ]
     },
     "execution_count": 220,
     "metadata": {},
     "output_type": "execute_result"
    }
   ],
   "source": [
    "df.iloc[:5, 0:6:2], df.iloc[:5, ::2]"
   ]
  },
  {
   "cell_type": "code",
   "execution_count": 221,
   "id": "4c83a8e3",
   "metadata": {},
   "outputs": [
    {
     "data": {
      "text/plain": [
       "'Angola'"
      ]
     },
     "execution_count": 221,
     "metadata": {},
     "output_type": "execute_result"
    }
   ],
   "source": [
    "# Subsetting Rows and Columns, single values\n",
    "df.loc[42, 'country'] # even with iloc"
   ]
  },
  {
   "cell_type": "code",
   "execution_count": 222,
   "id": "d5813e50",
   "metadata": {},
   "outputs": [
    {
     "data": {
      "text/html": [
       "<div>\n",
       "<style scoped>\n",
       "    .dataframe tbody tr th:only-of-type {\n",
       "        vertical-align: middle;\n",
       "    }\n",
       "\n",
       "    .dataframe tbody tr th {\n",
       "        vertical-align: top;\n",
       "    }\n",
       "\n",
       "    .dataframe thead th {\n",
       "        text-align: right;\n",
       "    }\n",
       "</style>\n",
       "<table border=\"1\" class=\"dataframe\">\n",
       "  <thead>\n",
       "    <tr style=\"text-align: right;\">\n",
       "      <th></th>\n",
       "      <th>country</th>\n",
       "      <th>lifeExp</th>\n",
       "      <th>gdpPercap</th>\n",
       "    </tr>\n",
       "  </thead>\n",
       "  <tbody>\n",
       "    <tr>\n",
       "      <th>0</th>\n",
       "      <td>Afghanistan</td>\n",
       "      <td>28.801</td>\n",
       "      <td>779.445314</td>\n",
       "    </tr>\n",
       "    <tr>\n",
       "      <th>99</th>\n",
       "      <td>Bangladesh</td>\n",
       "      <td>43.453</td>\n",
       "      <td>721.186086</td>\n",
       "    </tr>\n",
       "    <tr>\n",
       "      <th>999</th>\n",
       "      <td>Mongolia</td>\n",
       "      <td>51.253</td>\n",
       "      <td>1226.041130</td>\n",
       "    </tr>\n",
       "  </tbody>\n",
       "</table>\n",
       "</div>"
      ],
      "text/plain": [
       "         country  lifeExp    gdpPercap\n",
       "0    Afghanistan   28.801   779.445314\n",
       "99    Bangladesh   43.453   721.186086\n",
       "999     Mongolia   51.253  1226.041130"
      ]
     },
     "execution_count": 222,
     "metadata": {},
     "output_type": "execute_result"
    }
   ],
   "source": [
    "# Subsetting Multiple Rows and Columns, array of values\n",
    "df.iloc[[0, 99, 999], [0, 3, 5]] # even with iloc"
   ]
  },
  {
   "cell_type": "code",
   "execution_count": 223,
   "id": "bc1510ba",
   "metadata": {},
   "outputs": [
    {
     "data": {
      "text/html": [
       "<div>\n",
       "<style scoped>\n",
       "    .dataframe tbody tr th:only-of-type {\n",
       "        vertical-align: middle;\n",
       "    }\n",
       "\n",
       "    .dataframe tbody tr th {\n",
       "        vertical-align: top;\n",
       "    }\n",
       "\n",
       "    .dataframe thead th {\n",
       "        text-align: right;\n",
       "    }\n",
       "</style>\n",
       "<table border=\"1\" class=\"dataframe\">\n",
       "  <thead>\n",
       "    <tr style=\"text-align: right;\">\n",
       "      <th></th>\n",
       "      <th>country</th>\n",
       "      <th>continent</th>\n",
       "      <th>year</th>\n",
       "      <th>lifeExp</th>\n",
       "      <th>pop</th>\n",
       "    </tr>\n",
       "  </thead>\n",
       "  <tbody>\n",
       "    <tr>\n",
       "      <th>0</th>\n",
       "      <td>Afghanistan</td>\n",
       "      <td>Asia</td>\n",
       "      <td>1952</td>\n",
       "      <td>28.801</td>\n",
       "      <td>8425333</td>\n",
       "    </tr>\n",
       "    <tr>\n",
       "      <th>1</th>\n",
       "      <td>Afghanistan</td>\n",
       "      <td>Asia</td>\n",
       "      <td>1957</td>\n",
       "      <td>30.332</td>\n",
       "      <td>9240934</td>\n",
       "    </tr>\n",
       "    <tr>\n",
       "      <th>2</th>\n",
       "      <td>Afghanistan</td>\n",
       "      <td>Asia</td>\n",
       "      <td>1962</td>\n",
       "      <td>31.997</td>\n",
       "      <td>10267083</td>\n",
       "    </tr>\n",
       "    <tr>\n",
       "      <th>3</th>\n",
       "      <td>Afghanistan</td>\n",
       "      <td>Asia</td>\n",
       "      <td>1967</td>\n",
       "      <td>34.020</td>\n",
       "      <td>11537966</td>\n",
       "    </tr>\n",
       "    <tr>\n",
       "      <th>4</th>\n",
       "      <td>Afghanistan</td>\n",
       "      <td>Asia</td>\n",
       "      <td>1972</td>\n",
       "      <td>36.088</td>\n",
       "      <td>13079460</td>\n",
       "    </tr>\n",
       "    <tr>\n",
       "      <th>...</th>\n",
       "      <td>...</td>\n",
       "      <td>...</td>\n",
       "      <td>...</td>\n",
       "      <td>...</td>\n",
       "      <td>...</td>\n",
       "    </tr>\n",
       "    <tr>\n",
       "      <th>1699</th>\n",
       "      <td>Zimbabwe</td>\n",
       "      <td>Africa</td>\n",
       "      <td>1987</td>\n",
       "      <td>62.351</td>\n",
       "      <td>9216418</td>\n",
       "    </tr>\n",
       "    <tr>\n",
       "      <th>1700</th>\n",
       "      <td>Zimbabwe</td>\n",
       "      <td>Africa</td>\n",
       "      <td>1992</td>\n",
       "      <td>60.377</td>\n",
       "      <td>10704340</td>\n",
       "    </tr>\n",
       "    <tr>\n",
       "      <th>1701</th>\n",
       "      <td>Zimbabwe</td>\n",
       "      <td>Africa</td>\n",
       "      <td>1997</td>\n",
       "      <td>46.809</td>\n",
       "      <td>11404948</td>\n",
       "    </tr>\n",
       "    <tr>\n",
       "      <th>1702</th>\n",
       "      <td>Zimbabwe</td>\n",
       "      <td>Africa</td>\n",
       "      <td>2002</td>\n",
       "      <td>39.989</td>\n",
       "      <td>11926563</td>\n",
       "    </tr>\n",
       "    <tr>\n",
       "      <th>1703</th>\n",
       "      <td>Zimbabwe</td>\n",
       "      <td>Africa</td>\n",
       "      <td>2007</td>\n",
       "      <td>43.487</td>\n",
       "      <td>12311143</td>\n",
       "    </tr>\n",
       "  </tbody>\n",
       "</table>\n",
       "<p>1704 rows × 5 columns</p>\n",
       "</div>"
      ],
      "text/plain": [
       "          country continent  year  lifeExp       pop\n",
       "0     Afghanistan      Asia  1952   28.801   8425333\n",
       "1     Afghanistan      Asia  1957   30.332   9240934\n",
       "2     Afghanistan      Asia  1962   31.997  10267083\n",
       "3     Afghanistan      Asia  1967   34.020  11537966\n",
       "4     Afghanistan      Asia  1972   36.088  13079460\n",
       "...           ...       ...   ...      ...       ...\n",
       "1699     Zimbabwe    Africa  1987   62.351   9216418\n",
       "1700     Zimbabwe    Africa  1992   60.377  10704340\n",
       "1701     Zimbabwe    Africa  1997   46.809  11404948\n",
       "1702     Zimbabwe    Africa  2002   39.989  11926563\n",
       "1703     Zimbabwe    Africa  2007   43.487  12311143\n",
       "\n",
       "[1704 rows x 5 columns]"
      ]
     },
     "execution_count": 223,
     "metadata": {},
     "output_type": "execute_result"
    }
   ],
   "source": [
    "# Subsetting Columns by Range\n",
    "r = list(range(5))\n",
    "s = df.iloc[:, r]\n",
    "s"
   ]
  },
  {
   "cell_type": "markdown",
   "id": "0c1157fd",
   "metadata": {},
   "source": [
    "Combining column and row subsetting\n",
    "df.loc/iloc[rows, columns]"
   ]
  },
  {
   "cell_type": "code",
   "execution_count": 224,
   "id": "94174404",
   "metadata": {},
   "outputs": [
    {
     "data": {
      "text/html": [
       "<div>\n",
       "<style scoped>\n",
       "    .dataframe tbody tr th:only-of-type {\n",
       "        vertical-align: middle;\n",
       "    }\n",
       "\n",
       "    .dataframe tbody tr th {\n",
       "        vertical-align: top;\n",
       "    }\n",
       "\n",
       "    .dataframe thead th {\n",
       "        text-align: right;\n",
       "    }\n",
       "</style>\n",
       "<table border=\"1\" class=\"dataframe\">\n",
       "  <thead>\n",
       "    <tr style=\"text-align: right;\">\n",
       "      <th></th>\n",
       "      <th>country</th>\n",
       "      <th>continent</th>\n",
       "      <th>year</th>\n",
       "    </tr>\n",
       "  </thead>\n",
       "  <tbody>\n",
       "    <tr>\n",
       "      <th>0</th>\n",
       "      <td>Afghanistan</td>\n",
       "      <td>Asia</td>\n",
       "      <td>1952</td>\n",
       "    </tr>\n",
       "    <tr>\n",
       "      <th>1</th>\n",
       "      <td>Afghanistan</td>\n",
       "      <td>Asia</td>\n",
       "      <td>1957</td>\n",
       "    </tr>\n",
       "    <tr>\n",
       "      <th>2</th>\n",
       "      <td>Afghanistan</td>\n",
       "      <td>Asia</td>\n",
       "      <td>1962</td>\n",
       "    </tr>\n",
       "    <tr>\n",
       "      <th>3</th>\n",
       "      <td>Afghanistan</td>\n",
       "      <td>Asia</td>\n",
       "      <td>1967</td>\n",
       "    </tr>\n",
       "    <tr>\n",
       "      <th>4</th>\n",
       "      <td>Afghanistan</td>\n",
       "      <td>Asia</td>\n",
       "      <td>1972</td>\n",
       "    </tr>\n",
       "  </tbody>\n",
       "</table>\n",
       "</div>"
      ],
      "text/plain": [
       "       country continent  year\n",
       "0  Afghanistan      Asia  1952\n",
       "1  Afghanistan      Asia  1957\n",
       "2  Afghanistan      Asia  1962\n",
       "3  Afghanistan      Asia  1967\n",
       "4  Afghanistan      Asia  1972"
      ]
     },
     "execution_count": 224,
     "metadata": {},
     "output_type": "execute_result"
    }
   ],
   "source": [
    "# Slicing Columns, when slicing is used\n",
    "subset = df.iloc[:, :3]\n",
    "subset.head()"
   ]
  },
  {
   "cell_type": "code",
   "execution_count": 225,
   "id": "da6a824c",
   "metadata": {},
   "outputs": [],
   "source": [
    "def make_df(cols, ind):\n",
    "    data = {c: [str(c) + str(i) for i in ind] for c in cols}\n",
    "    return pd.DataFrame(data, index=ind)"
   ]
  },
  {
   "cell_type": "code",
   "execution_count": 226,
   "id": "ac468104",
   "metadata": {},
   "outputs": [
    {
     "data": {
      "text/plain": [
       "(    A   B\n",
       " 1  A1  B1\n",
       " 2  A2  B2,\n",
       "     A   B\n",
       " 3  A3  B3\n",
       " 4  A4  B4)"
      ]
     },
     "execution_count": 226,
     "metadata": {},
     "output_type": "execute_result"
    }
   ],
   "source": [
    "df1 = make_df(\"AB\", [1, 2])\n",
    "df2 = make_df(\"AB\", [3, 4])\n",
    "df1, df2"
   ]
  },
  {
   "cell_type": "code",
   "execution_count": 227,
   "id": "16f6aab0",
   "metadata": {},
   "outputs": [
    {
     "data": {
      "text/html": [
       "<div>\n",
       "<style scoped>\n",
       "    .dataframe tbody tr th:only-of-type {\n",
       "        vertical-align: middle;\n",
       "    }\n",
       "\n",
       "    .dataframe tbody tr th {\n",
       "        vertical-align: top;\n",
       "    }\n",
       "\n",
       "    .dataframe thead th {\n",
       "        text-align: right;\n",
       "    }\n",
       "</style>\n",
       "<table border=\"1\" class=\"dataframe\">\n",
       "  <thead>\n",
       "    <tr style=\"text-align: right;\">\n",
       "      <th></th>\n",
       "      <th>A</th>\n",
       "      <th>B</th>\n",
       "    </tr>\n",
       "  </thead>\n",
       "  <tbody>\n",
       "    <tr>\n",
       "      <th>1</th>\n",
       "      <td>A1</td>\n",
       "      <td>B1</td>\n",
       "    </tr>\n",
       "    <tr>\n",
       "      <th>2</th>\n",
       "      <td>A2</td>\n",
       "      <td>B2</td>\n",
       "    </tr>\n",
       "    <tr>\n",
       "      <th>3</th>\n",
       "      <td>A3</td>\n",
       "      <td>B3</td>\n",
       "    </tr>\n",
       "    <tr>\n",
       "      <th>4</th>\n",
       "      <td>A4</td>\n",
       "      <td>B4</td>\n",
       "    </tr>\n",
       "  </tbody>\n",
       "</table>\n",
       "</div>"
      ],
      "text/plain": [
       "    A   B\n",
       "1  A1  B1\n",
       "2  A2  B2\n",
       "3  A3  B3\n",
       "4  A4  B4"
      ]
     },
     "execution_count": 227,
     "metadata": {},
     "output_type": "execute_result"
    }
   ],
   "source": [
    "pd.concat([df1, df2])"
   ]
  },
  {
   "cell_type": "code",
   "execution_count": 228,
   "id": "9eab3272",
   "metadata": {},
   "outputs": [
    {
     "data": {
      "text/html": [
       "<div>\n",
       "<style scoped>\n",
       "    .dataframe tbody tr th:only-of-type {\n",
       "        vertical-align: middle;\n",
       "    }\n",
       "\n",
       "    .dataframe tbody tr th {\n",
       "        vertical-align: top;\n",
       "    }\n",
       "\n",
       "    .dataframe thead th {\n",
       "        text-align: right;\n",
       "    }\n",
       "</style>\n",
       "<table border=\"1\" class=\"dataframe\">\n",
       "  <thead>\n",
       "    <tr style=\"text-align: right;\">\n",
       "      <th></th>\n",
       "      <th>A</th>\n",
       "      <th>B</th>\n",
       "      <th>C</th>\n",
       "      <th>D</th>\n",
       "    </tr>\n",
       "  </thead>\n",
       "  <tbody>\n",
       "    <tr>\n",
       "      <th>1</th>\n",
       "      <td>A1</td>\n",
       "      <td>B1</td>\n",
       "      <td>NaN</td>\n",
       "      <td>NaN</td>\n",
       "    </tr>\n",
       "    <tr>\n",
       "      <th>2</th>\n",
       "      <td>A2</td>\n",
       "      <td>B2</td>\n",
       "      <td>NaN</td>\n",
       "      <td>NaN</td>\n",
       "    </tr>\n",
       "    <tr>\n",
       "      <th>1</th>\n",
       "      <td>NaN</td>\n",
       "      <td>NaN</td>\n",
       "      <td>C1</td>\n",
       "      <td>D1</td>\n",
       "    </tr>\n",
       "    <tr>\n",
       "      <th>2</th>\n",
       "      <td>NaN</td>\n",
       "      <td>NaN</td>\n",
       "      <td>C2</td>\n",
       "      <td>D2</td>\n",
       "    </tr>\n",
       "  </tbody>\n",
       "</table>\n",
       "</div>"
      ],
      "text/plain": [
       "     A    B    C    D\n",
       "1   A1   B1  NaN  NaN\n",
       "2   A2   B2  NaN  NaN\n",
       "1  NaN  NaN   C1   D1\n",
       "2  NaN  NaN   C2   D2"
      ]
     },
     "execution_count": 228,
     "metadata": {},
     "output_type": "execute_result"
    }
   ],
   "source": [
    "df1 = make_df(\"AB\", [1, 2])\n",
    "df2 = make_df(\"CD\", [1, 2])\n",
    "pd.concat([df1, df2])"
   ]
  },
  {
   "cell_type": "code",
   "execution_count": 229,
   "id": "6b0b0a2f",
   "metadata": {},
   "outputs": [
    {
     "data": {
      "text/html": [
       "<div>\n",
       "<style scoped>\n",
       "    .dataframe tbody tr th:only-of-type {\n",
       "        vertical-align: middle;\n",
       "    }\n",
       "\n",
       "    .dataframe tbody tr th {\n",
       "        vertical-align: top;\n",
       "    }\n",
       "\n",
       "    .dataframe thead th {\n",
       "        text-align: right;\n",
       "    }\n",
       "</style>\n",
       "<table border=\"1\" class=\"dataframe\">\n",
       "  <thead>\n",
       "    <tr style=\"text-align: right;\">\n",
       "      <th></th>\n",
       "      <th>A</th>\n",
       "      <th>B</th>\n",
       "      <th>C</th>\n",
       "      <th>D</th>\n",
       "    </tr>\n",
       "  </thead>\n",
       "  <tbody>\n",
       "    <tr>\n",
       "      <th>1</th>\n",
       "      <td>A1</td>\n",
       "      <td>B1</td>\n",
       "      <td>C1</td>\n",
       "      <td>NaN</td>\n",
       "    </tr>\n",
       "    <tr>\n",
       "      <th>2</th>\n",
       "      <td>A2</td>\n",
       "      <td>B2</td>\n",
       "      <td>C2</td>\n",
       "      <td>NaN</td>\n",
       "    </tr>\n",
       "    <tr>\n",
       "      <th>1</th>\n",
       "      <td>NaN</td>\n",
       "      <td>B1</td>\n",
       "      <td>C1</td>\n",
       "      <td>D1</td>\n",
       "    </tr>\n",
       "    <tr>\n",
       "      <th>2</th>\n",
       "      <td>NaN</td>\n",
       "      <td>B2</td>\n",
       "      <td>C2</td>\n",
       "      <td>D2</td>\n",
       "    </tr>\n",
       "  </tbody>\n",
       "</table>\n",
       "</div>"
      ],
      "text/plain": [
       "     A   B   C    D\n",
       "1   A1  B1  C1  NaN\n",
       "2   A2  B2  C2  NaN\n",
       "1  NaN  B1  C1   D1\n",
       "2  NaN  B2  C2   D2"
      ]
     },
     "execution_count": 229,
     "metadata": {},
     "output_type": "execute_result"
    }
   ],
   "source": [
    "df1 = make_df(\"ABC\", [1, 2])\n",
    "df2 = make_df(\"BCD\", [1, 2])\n",
    "pd.concat([df1, df2])"
   ]
  },
  {
   "cell_type": "code",
   "execution_count": 230,
   "id": "e99499f5",
   "metadata": {},
   "outputs": [
    {
     "data": {
      "text/html": [
       "<div>\n",
       "<style scoped>\n",
       "    .dataframe tbody tr th:only-of-type {\n",
       "        vertical-align: middle;\n",
       "    }\n",
       "\n",
       "    .dataframe tbody tr th {\n",
       "        vertical-align: top;\n",
       "    }\n",
       "\n",
       "    .dataframe thead th {\n",
       "        text-align: right;\n",
       "    }\n",
       "</style>\n",
       "<table border=\"1\" class=\"dataframe\">\n",
       "  <thead>\n",
       "    <tr style=\"text-align: right;\">\n",
       "      <th></th>\n",
       "      <th>B</th>\n",
       "      <th>C</th>\n",
       "    </tr>\n",
       "  </thead>\n",
       "  <tbody>\n",
       "    <tr>\n",
       "      <th>1</th>\n",
       "      <td>B1</td>\n",
       "      <td>C1</td>\n",
       "    </tr>\n",
       "    <tr>\n",
       "      <th>2</th>\n",
       "      <td>B2</td>\n",
       "      <td>C2</td>\n",
       "    </tr>\n",
       "    <tr>\n",
       "      <th>1</th>\n",
       "      <td>B1</td>\n",
       "      <td>C1</td>\n",
       "    </tr>\n",
       "    <tr>\n",
       "      <th>2</th>\n",
       "      <td>B2</td>\n",
       "      <td>C2</td>\n",
       "    </tr>\n",
       "  </tbody>\n",
       "</table>\n",
       "</div>"
      ],
      "text/plain": [
       "    B   C\n",
       "1  B1  C1\n",
       "2  B2  C2\n",
       "1  B1  C1\n",
       "2  B2  C2"
      ]
     },
     "execution_count": 230,
     "metadata": {},
     "output_type": "execute_result"
    }
   ],
   "source": [
    "df1 = make_df(\"ABC\", [1, 2])\n",
    "df2 = make_df(\"BCD\", [1, 2])\n",
    "pd.concat([df1, df2], join='inner')"
   ]
  },
  {
   "cell_type": "code",
   "execution_count": 231,
   "id": "15257bc5",
   "metadata": {},
   "outputs": [
    {
     "data": {
      "text/html": [
       "<div>\n",
       "<style scoped>\n",
       "    .dataframe tbody tr th:only-of-type {\n",
       "        vertical-align: middle;\n",
       "    }\n",
       "\n",
       "    .dataframe tbody tr th {\n",
       "        vertical-align: top;\n",
       "    }\n",
       "\n",
       "    .dataframe thead th {\n",
       "        text-align: right;\n",
       "    }\n",
       "</style>\n",
       "<table border=\"1\" class=\"dataframe\">\n",
       "  <thead>\n",
       "    <tr style=\"text-align: right;\">\n",
       "      <th></th>\n",
       "      <th>A</th>\n",
       "      <th>B</th>\n",
       "      <th>C</th>\n",
       "      <th>D</th>\n",
       "    </tr>\n",
       "  </thead>\n",
       "  <tbody>\n",
       "    <tr>\n",
       "      <th>0</th>\n",
       "      <td>A1</td>\n",
       "      <td>B1</td>\n",
       "      <td>C1</td>\n",
       "      <td>NaN</td>\n",
       "    </tr>\n",
       "    <tr>\n",
       "      <th>1</th>\n",
       "      <td>A2</td>\n",
       "      <td>B2</td>\n",
       "      <td>C2</td>\n",
       "      <td>NaN</td>\n",
       "    </tr>\n",
       "    <tr>\n",
       "      <th>2</th>\n",
       "      <td>NaN</td>\n",
       "      <td>B1</td>\n",
       "      <td>C1</td>\n",
       "      <td>D1</td>\n",
       "    </tr>\n",
       "    <tr>\n",
       "      <th>3</th>\n",
       "      <td>NaN</td>\n",
       "      <td>B2</td>\n",
       "      <td>C2</td>\n",
       "      <td>D2</td>\n",
       "    </tr>\n",
       "  </tbody>\n",
       "</table>\n",
       "</div>"
      ],
      "text/plain": [
       "     A   B   C    D\n",
       "0   A1  B1  C1  NaN\n",
       "1   A2  B2  C2  NaN\n",
       "2  NaN  B1  C1   D1\n",
       "3  NaN  B2  C2   D2"
      ]
     },
     "execution_count": 231,
     "metadata": {},
     "output_type": "execute_result"
    }
   ],
   "source": [
    "df1 = make_df(\"ABC\", [1, 2])\n",
    "df2 = make_df(\"BCD\", [1, 2])\n",
    "pd.concat([df1, df2], ignore_index=True)"
   ]
  },
  {
   "cell_type": "code",
   "execution_count": 234,
   "id": "920eecbf",
   "metadata": {},
   "outputs": [
    {
     "data": {
      "text/plain": [
       "(       A   B   C    D\n",
       " x 1   A1  B1  C1  NaN\n",
       "   2   A2  B2  C2  NaN\n",
       " y 1  NaN  B1  C1   D1\n",
       "   2  NaN  B2  C2   D2,\n",
       "     A   B   C    D\n",
       " 1  A1  B1  C1  NaN\n",
       " 2  A2  B2  C2  NaN)"
      ]
     },
     "execution_count": 234,
     "metadata": {},
     "output_type": "execute_result"
    }
   ],
   "source": [
    "df1 = make_df(\"ABC\", [1, 2])\n",
    "df2 = make_df(\"BCD\", [1, 2])\n",
    "e = pd.concat([df1, df2], keys=['x', 'y'])\n",
    "e, e.loc['x']"
   ]
  },
  {
   "cell_type": "code",
   "execution_count": 236,
   "id": "a8b92882",
   "metadata": {},
   "outputs": [
    {
     "data": {
      "text/plain": [
       "(     A   B   C    D\n",
       " 1   A1  B1  C1  NaN\n",
       " 2   A2  B2  C2  NaN\n",
       " 1  NaN  B1  C1   D1\n",
       " 2  NaN  B2  C2   D2,\n",
       "     A   B   C\n",
       " 1  A1  B1  C1\n",
       " 2  A2  B2  C2)"
      ]
     },
     "execution_count": 236,
     "metadata": {},
     "output_type": "execute_result"
    }
   ],
   "source": [
    "df1.append(df2), df1"
   ]
  },
  {
   "cell_type": "code",
   "execution_count": 237,
   "id": "d1d96872",
   "metadata": {},
   "outputs": [
    {
     "data": {
      "text/plain": [
       "(Int64Index([1, 2], dtype='int64'),\n",
       " array([['A1', 'B1', 'C1'],\n",
       "        ['A2', 'B2', 'C2']], dtype=object),\n",
       " Index(['A', 'B', 'C'], dtype='object'))"
      ]
     },
     "execution_count": 237,
     "metadata": {},
     "output_type": "execute_result"
    }
   ],
   "source": [
    "df1.index, df1.values, df1.columns"
   ]
  },
  {
   "cell_type": "code",
   "execution_count": 239,
   "id": "07d394bb",
   "metadata": {},
   "outputs": [
    {
     "data": {
      "text/html": [
       "<div>\n",
       "<style scoped>\n",
       "    .dataframe tbody tr th:only-of-type {\n",
       "        vertical-align: middle;\n",
       "    }\n",
       "\n",
       "    .dataframe tbody tr th {\n",
       "        vertical-align: top;\n",
       "    }\n",
       "\n",
       "    .dataframe thead th {\n",
       "        text-align: right;\n",
       "    }\n",
       "</style>\n",
       "<table border=\"1\" class=\"dataframe\">\n",
       "  <thead>\n",
       "    <tr style=\"text-align: right;\">\n",
       "      <th></th>\n",
       "      <th>A</th>\n",
       "      <th>B</th>\n",
       "      <th>C</th>\n",
       "      <th>D</th>\n",
       "    </tr>\n",
       "  </thead>\n",
       "  <tbody>\n",
       "    <tr>\n",
       "      <th>1</th>\n",
       "      <td>A1</td>\n",
       "      <td>B1</td>\n",
       "      <td>C1</td>\n",
       "      <td>NaN</td>\n",
       "    </tr>\n",
       "    <tr>\n",
       "      <th>2</th>\n",
       "      <td>A2</td>\n",
       "      <td>B2</td>\n",
       "      <td>C2</td>\n",
       "      <td>NaN</td>\n",
       "    </tr>\n",
       "    <tr>\n",
       "      <th>1</th>\n",
       "      <td>NaN</td>\n",
       "      <td>B1</td>\n",
       "      <td>C1</td>\n",
       "      <td>D1</td>\n",
       "    </tr>\n",
       "    <tr>\n",
       "      <th>2</th>\n",
       "      <td>NaN</td>\n",
       "      <td>B2</td>\n",
       "      <td>C2</td>\n",
       "      <td>D2</td>\n",
       "    </tr>\n",
       "  </tbody>\n",
       "</table>\n",
       "</div>"
      ],
      "text/plain": [
       "     A   B   C    D\n",
       "1   A1  B1  C1  NaN\n",
       "2   A2  B2  C2  NaN\n",
       "1  NaN  B1  C1   D1\n",
       "2  NaN  B2  C2   D2"
      ]
     },
     "execution_count": 239,
     "metadata": {},
     "output_type": "execute_result"
    }
   ],
   "source": [
    "df1.append(df2, sort=True) # sort columns"
   ]
  },
  {
   "cell_type": "code",
   "execution_count": 243,
   "id": "b02ee416",
   "metadata": {},
   "outputs": [
    {
     "data": {
      "text/plain": [
       "(    x           y        \n",
       "     A   B   C   B   C   D\n",
       " 1  A1  B1  C1  B1  C1  D1\n",
       " 2  A2  B2  C2  B2  C2  D2,\n",
       "     A   B   C\n",
       " 1  A1  B1  C1\n",
       " 2  A2  B2  C2)"
      ]
     },
     "execution_count": 243,
     "metadata": {},
     "output_type": "execute_result"
    }
   ],
   "source": [
    "df1 = make_df(\"ABC\", [1, 2])\n",
    "df2 = make_df(\"BCD\", [1, 2])\n",
    "e = pd.concat([df1, df2], keys=['x', 'y'], axis=1)\n",
    "e, e['x']"
   ]
  },
  {
   "cell_type": "code",
   "execution_count": 244,
   "id": "4d1ade85",
   "metadata": {},
   "outputs": [
    {
     "data": {
      "text/html": [
       "<div>\n",
       "<style scoped>\n",
       "    .dataframe tbody tr th:only-of-type {\n",
       "        vertical-align: middle;\n",
       "    }\n",
       "\n",
       "    .dataframe tbody tr th {\n",
       "        vertical-align: top;\n",
       "    }\n",
       "\n",
       "    .dataframe thead th {\n",
       "        text-align: right;\n",
       "    }\n",
       "</style>\n",
       "<table border=\"1\" class=\"dataframe\">\n",
       "  <thead>\n",
       "    <tr style=\"text-align: right;\">\n",
       "      <th></th>\n",
       "      <th>day</th>\n",
       "      <th>city</th>\n",
       "      <th>temperature</th>\n",
       "      <th>windspeed</th>\n",
       "      <th>event</th>\n",
       "    </tr>\n",
       "  </thead>\n",
       "  <tbody>\n",
       "    <tr>\n",
       "      <th>0</th>\n",
       "      <td>1/1/2017</td>\n",
       "      <td>new york</td>\n",
       "      <td>32</td>\n",
       "      <td>6</td>\n",
       "      <td>Rain</td>\n",
       "    </tr>\n",
       "    <tr>\n",
       "      <th>1</th>\n",
       "      <td>2/1/2017</td>\n",
       "      <td>new york</td>\n",
       "      <td>36</td>\n",
       "      <td>7</td>\n",
       "      <td>Sunny</td>\n",
       "    </tr>\n",
       "    <tr>\n",
       "      <th>2</th>\n",
       "      <td>3/1/2017</td>\n",
       "      <td>new york</td>\n",
       "      <td>28</td>\n",
       "      <td>12</td>\n",
       "      <td>Snow</td>\n",
       "    </tr>\n",
       "    <tr>\n",
       "      <th>3</th>\n",
       "      <td>4/1/2017</td>\n",
       "      <td>new york</td>\n",
       "      <td>33</td>\n",
       "      <td>7</td>\n",
       "      <td>Sunny</td>\n",
       "    </tr>\n",
       "    <tr>\n",
       "      <th>4</th>\n",
       "      <td>1/1/2017</td>\n",
       "      <td>mumbai</td>\n",
       "      <td>90</td>\n",
       "      <td>5</td>\n",
       "      <td>Sunny</td>\n",
       "    </tr>\n",
       "    <tr>\n",
       "      <th>5</th>\n",
       "      <td>2/1/2017</td>\n",
       "      <td>mumbai</td>\n",
       "      <td>85</td>\n",
       "      <td>12</td>\n",
       "      <td>Fog</td>\n",
       "    </tr>\n",
       "    <tr>\n",
       "      <th>6</th>\n",
       "      <td>3/1/2017</td>\n",
       "      <td>mumbai</td>\n",
       "      <td>87</td>\n",
       "      <td>15</td>\n",
       "      <td>Fog</td>\n",
       "    </tr>\n",
       "    <tr>\n",
       "      <th>7</th>\n",
       "      <td>4/1/2017</td>\n",
       "      <td>mumbai</td>\n",
       "      <td>92</td>\n",
       "      <td>5</td>\n",
       "      <td>Rain</td>\n",
       "    </tr>\n",
       "    <tr>\n",
       "      <th>8</th>\n",
       "      <td>1/1/2017</td>\n",
       "      <td>paris</td>\n",
       "      <td>45</td>\n",
       "      <td>20</td>\n",
       "      <td>Sunny</td>\n",
       "    </tr>\n",
       "    <tr>\n",
       "      <th>9</th>\n",
       "      <td>2/1/2017</td>\n",
       "      <td>paris</td>\n",
       "      <td>50</td>\n",
       "      <td>13</td>\n",
       "      <td>Cloudy</td>\n",
       "    </tr>\n",
       "    <tr>\n",
       "      <th>10</th>\n",
       "      <td>3/1/2017</td>\n",
       "      <td>paris</td>\n",
       "      <td>54</td>\n",
       "      <td>8</td>\n",
       "      <td>Cloudy</td>\n",
       "    </tr>\n",
       "    <tr>\n",
       "      <th>11</th>\n",
       "      <td>4/1/2017</td>\n",
       "      <td>paris</td>\n",
       "      <td>42</td>\n",
       "      <td>10</td>\n",
       "      <td>Cloudy</td>\n",
       "    </tr>\n",
       "  </tbody>\n",
       "</table>\n",
       "</div>"
      ],
      "text/plain": [
       "         day      city  temperature  windspeed   event\n",
       "0   1/1/2017  new york           32          6    Rain\n",
       "1   2/1/2017  new york           36          7   Sunny\n",
       "2   3/1/2017  new york           28         12    Snow\n",
       "3   4/1/2017  new york           33          7   Sunny\n",
       "4   1/1/2017    mumbai           90          5   Sunny\n",
       "5   2/1/2017    mumbai           85         12     Fog\n",
       "6   3/1/2017    mumbai           87         15     Fog\n",
       "7   4/1/2017    mumbai           92          5    Rain\n",
       "8   1/1/2017     paris           45         20   Sunny\n",
       "9   2/1/2017     paris           50         13  Cloudy\n",
       "10  3/1/2017     paris           54          8  Cloudy\n",
       "11  4/1/2017     paris           42         10  Cloudy"
      ]
     },
     "execution_count": 244,
     "metadata": {},
     "output_type": "execute_result"
    }
   ],
   "source": [
    "df = pd.read_csv(\"weather_by_cities.csv\")\n",
    "df"
   ]
  },
  {
   "cell_type": "code",
   "execution_count": 245,
   "id": "d2d32789",
   "metadata": {},
   "outputs": [
    {
     "data": {
      "text/plain": [
       "<pandas.core.groupby.generic.DataFrameGroupBy object at 0x0000020CFA9D3D60>"
      ]
     },
     "execution_count": 245,
     "metadata": {},
     "output_type": "execute_result"
    }
   ],
   "source": [
    "g = df.groupby(\"city\")\n",
    "g"
   ]
  },
  {
   "cell_type": "code",
   "execution_count": 246,
   "id": "d9dc137f",
   "metadata": {},
   "outputs": [
    {
     "name": "stdout",
     "output_type": "stream",
     "text": [
      "mumbai         day    city  temperature  windspeed  event\n",
      "4  1/1/2017  mumbai           90          5  Sunny\n",
      "5  2/1/2017  mumbai           85         12    Fog\n",
      "6  3/1/2017  mumbai           87         15    Fog\n",
      "7  4/1/2017  mumbai           92          5   Rain\n",
      "new york         day      city  temperature  windspeed  event\n",
      "0  1/1/2017  new york           32          6   Rain\n",
      "1  2/1/2017  new york           36          7  Sunny\n",
      "2  3/1/2017  new york           28         12   Snow\n",
      "3  4/1/2017  new york           33          7  Sunny\n",
      "paris          day   city  temperature  windspeed   event\n",
      "8   1/1/2017  paris           45         20   Sunny\n",
      "9   2/1/2017  paris           50         13  Cloudy\n",
      "10  3/1/2017  paris           54          8  Cloudy\n",
      "11  4/1/2017  paris           42         10  Cloudy\n"
     ]
    }
   ],
   "source": [
    "for city, data in g:\n",
    "    print(city, data)"
   ]
  },
  {
   "cell_type": "code",
   "execution_count": 248,
   "id": "7f9babc6",
   "metadata": {},
   "outputs": [
    {
     "data": {
      "text/html": [
       "<div>\n",
       "<style scoped>\n",
       "    .dataframe tbody tr th:only-of-type {\n",
       "        vertical-align: middle;\n",
       "    }\n",
       "\n",
       "    .dataframe tbody tr th {\n",
       "        vertical-align: top;\n",
       "    }\n",
       "\n",
       "    .dataframe thead th {\n",
       "        text-align: right;\n",
       "    }\n",
       "</style>\n",
       "<table border=\"1\" class=\"dataframe\">\n",
       "  <thead>\n",
       "    <tr style=\"text-align: right;\">\n",
       "      <th></th>\n",
       "      <th>day</th>\n",
       "      <th>city</th>\n",
       "      <th>temperature</th>\n",
       "      <th>windspeed</th>\n",
       "      <th>event</th>\n",
       "    </tr>\n",
       "  </thead>\n",
       "  <tbody>\n",
       "    <tr>\n",
       "      <th>4</th>\n",
       "      <td>1/1/2017</td>\n",
       "      <td>mumbai</td>\n",
       "      <td>90</td>\n",
       "      <td>5</td>\n",
       "      <td>Sunny</td>\n",
       "    </tr>\n",
       "    <tr>\n",
       "      <th>5</th>\n",
       "      <td>2/1/2017</td>\n",
       "      <td>mumbai</td>\n",
       "      <td>85</td>\n",
       "      <td>12</td>\n",
       "      <td>Fog</td>\n",
       "    </tr>\n",
       "    <tr>\n",
       "      <th>6</th>\n",
       "      <td>3/1/2017</td>\n",
       "      <td>mumbai</td>\n",
       "      <td>87</td>\n",
       "      <td>15</td>\n",
       "      <td>Fog</td>\n",
       "    </tr>\n",
       "    <tr>\n",
       "      <th>7</th>\n",
       "      <td>4/1/2017</td>\n",
       "      <td>mumbai</td>\n",
       "      <td>92</td>\n",
       "      <td>5</td>\n",
       "      <td>Rain</td>\n",
       "    </tr>\n",
       "  </tbody>\n",
       "</table>\n",
       "</div>"
      ],
      "text/plain": [
       "        day    city  temperature  windspeed  event\n",
       "4  1/1/2017  mumbai           90          5  Sunny\n",
       "5  2/1/2017  mumbai           85         12    Fog\n",
       "6  3/1/2017  mumbai           87         15    Fog\n",
       "7  4/1/2017  mumbai           92          5   Rain"
      ]
     },
     "execution_count": 248,
     "metadata": {},
     "output_type": "execute_result"
    }
   ],
   "source": [
    "df2 = g.get_group(\"mumbai\")\n",
    "df2"
   ]
  },
  {
   "cell_type": "code",
   "execution_count": 249,
   "id": "d2417be7",
   "metadata": {},
   "outputs": [
    {
     "data": {
      "text/plain": [
       "(               day  temperature  windspeed  event\n",
       " city                                             \n",
       " mumbai    4/1/2017           92         15  Sunny\n",
       " new york  4/1/2017           36         12  Sunny\n",
       " paris     4/1/2017           54         20  Sunny,\n",
       "                day  temperature  windspeed   event\n",
       " city                                              \n",
       " mumbai    1/1/2017           85          5     Fog\n",
       " new york  1/1/2017           28          6    Rain\n",
       " paris     1/1/2017           42          8  Cloudy,\n",
       "          temperature                                                   \\\n",
       "                count   mean       std   min    25%   50%    75%   max   \n",
       " city                                                                    \n",
       " mumbai           4.0  88.50  3.109126  85.0  86.50  88.5  90.50  92.0   \n",
       " new york         4.0  32.25  3.304038  28.0  31.00  32.5  33.75  36.0   \n",
       " paris            4.0  47.75  5.315073  42.0  44.25  47.5  51.00  54.0   \n",
       " \n",
       "          windspeed                                                 \n",
       "              count   mean       std  min   25%   50%    75%   max  \n",
       " city                                                               \n",
       " mumbai         4.0   9.25  5.057997  5.0  5.00   8.5  12.75  15.0  \n",
       " new york       4.0   8.00  2.708013  6.0  6.75   7.0   8.25  12.0  \n",
       " paris          4.0  12.75  5.251984  8.0  9.50  11.5  14.75  20.0  ,\n",
       "           temperature  windspeed\n",
       " city                            \n",
       " mumbai          88.50       9.25\n",
       " new york        32.25       8.00\n",
       " paris           47.75      12.75,\n",
       " city\n",
       " mumbai      4\n",
       " new york    4\n",
       " paris       4\n",
       " dtype: int64,\n",
       "           day  temperature  windspeed  event\n",
       " city                                        \n",
       " mumbai      4            4          4      4\n",
       " new york    4            4          4      4\n",
       " paris       4            4          4      4)"
      ]
     },
     "execution_count": 249,
     "metadata": {},
     "output_type": "execute_result"
    }
   ],
   "source": [
    "g.max(), g.min(), g.describe(), g.mean(), g.size(), g.count()"
   ]
  },
  {
   "cell_type": "code",
   "execution_count": 250,
   "id": "efa18ea1",
   "metadata": {},
   "outputs": [
    {
     "data": {
      "text/html": [
       "<div>\n",
       "<style scoped>\n",
       "    .dataframe tbody tr th:only-of-type {\n",
       "        vertical-align: middle;\n",
       "    }\n",
       "\n",
       "    .dataframe tbody tr th {\n",
       "        vertical-align: top;\n",
       "    }\n",
       "\n",
       "    .dataframe thead th {\n",
       "        text-align: right;\n",
       "    }\n",
       "</style>\n",
       "<table border=\"1\" class=\"dataframe\">\n",
       "  <thead>\n",
       "    <tr style=\"text-align: right;\">\n",
       "      <th></th>\n",
       "      <th>day</th>\n",
       "      <th>city</th>\n",
       "      <th>temperature</th>\n",
       "      <th>windspeed</th>\n",
       "      <th>event</th>\n",
       "    </tr>\n",
       "  </thead>\n",
       "  <tbody>\n",
       "    <tr>\n",
       "      <th>0</th>\n",
       "      <td>1/1/2017</td>\n",
       "      <td>new york</td>\n",
       "      <td>32</td>\n",
       "      <td>6</td>\n",
       "      <td>Rain</td>\n",
       "    </tr>\n",
       "    <tr>\n",
       "      <th>1</th>\n",
       "      <td>2/1/2017</td>\n",
       "      <td>new york</td>\n",
       "      <td>36</td>\n",
       "      <td>7</td>\n",
       "      <td>Sunny</td>\n",
       "    </tr>\n",
       "    <tr>\n",
       "      <th>2</th>\n",
       "      <td>3/1/2017</td>\n",
       "      <td>new york</td>\n",
       "      <td>28</td>\n",
       "      <td>12</td>\n",
       "      <td>Snow</td>\n",
       "    </tr>\n",
       "    <tr>\n",
       "      <th>3</th>\n",
       "      <td>4/1/2017</td>\n",
       "      <td>new york</td>\n",
       "      <td>33</td>\n",
       "      <td>7</td>\n",
       "      <td>Sunny</td>\n",
       "    </tr>\n",
       "    <tr>\n",
       "      <th>4</th>\n",
       "      <td>1/1/2017</td>\n",
       "      <td>mumbai</td>\n",
       "      <td>90</td>\n",
       "      <td>5</td>\n",
       "      <td>Sunny</td>\n",
       "    </tr>\n",
       "    <tr>\n",
       "      <th>5</th>\n",
       "      <td>2/1/2017</td>\n",
       "      <td>mumbai</td>\n",
       "      <td>85</td>\n",
       "      <td>12</td>\n",
       "      <td>Fog</td>\n",
       "    </tr>\n",
       "    <tr>\n",
       "      <th>6</th>\n",
       "      <td>3/1/2017</td>\n",
       "      <td>mumbai</td>\n",
       "      <td>87</td>\n",
       "      <td>15</td>\n",
       "      <td>Fog</td>\n",
       "    </tr>\n",
       "    <tr>\n",
       "      <th>7</th>\n",
       "      <td>4/1/2017</td>\n",
       "      <td>mumbai</td>\n",
       "      <td>92</td>\n",
       "      <td>5</td>\n",
       "      <td>Rain</td>\n",
       "    </tr>\n",
       "    <tr>\n",
       "      <th>8</th>\n",
       "      <td>1/1/2017</td>\n",
       "      <td>paris</td>\n",
       "      <td>45</td>\n",
       "      <td>20</td>\n",
       "      <td>Sunny</td>\n",
       "    </tr>\n",
       "    <tr>\n",
       "      <th>9</th>\n",
       "      <td>2/1/2017</td>\n",
       "      <td>paris</td>\n",
       "      <td>50</td>\n",
       "      <td>13</td>\n",
       "      <td>Cloudy</td>\n",
       "    </tr>\n",
       "    <tr>\n",
       "      <th>10</th>\n",
       "      <td>3/1/2017</td>\n",
       "      <td>paris</td>\n",
       "      <td>54</td>\n",
       "      <td>8</td>\n",
       "      <td>Cloudy</td>\n",
       "    </tr>\n",
       "    <tr>\n",
       "      <th>11</th>\n",
       "      <td>4/1/2017</td>\n",
       "      <td>paris</td>\n",
       "      <td>42</td>\n",
       "      <td>10</td>\n",
       "      <td>Cloudy</td>\n",
       "    </tr>\n",
       "  </tbody>\n",
       "</table>\n",
       "</div>"
      ],
      "text/plain": [
       "         day      city  temperature  windspeed   event\n",
       "0   1/1/2017  new york           32          6    Rain\n",
       "1   2/1/2017  new york           36          7   Sunny\n",
       "2   3/1/2017  new york           28         12    Snow\n",
       "3   4/1/2017  new york           33          7   Sunny\n",
       "4   1/1/2017    mumbai           90          5   Sunny\n",
       "5   2/1/2017    mumbai           85         12     Fog\n",
       "6   3/1/2017    mumbai           87         15     Fog\n",
       "7   4/1/2017    mumbai           92          5    Rain\n",
       "8   1/1/2017     paris           45         20   Sunny\n",
       "9   2/1/2017     paris           50         13  Cloudy\n",
       "10  3/1/2017     paris           54          8  Cloudy\n",
       "11  4/1/2017     paris           42         10  Cloudy"
      ]
     },
     "execution_count": 250,
     "metadata": {},
     "output_type": "execute_result"
    }
   ],
   "source": [
    "df"
   ]
  },
  {
   "cell_type": "code",
   "execution_count": 255,
   "id": "adf9cf6a",
   "metadata": {},
   "outputs": [
    {
     "data": {
      "text/html": [
       "<div>\n",
       "<style scoped>\n",
       "    .dataframe tbody tr th:only-of-type {\n",
       "        vertical-align: middle;\n",
       "    }\n",
       "\n",
       "    .dataframe tbody tr th {\n",
       "        vertical-align: top;\n",
       "    }\n",
       "\n",
       "    .dataframe thead th {\n",
       "        text-align: right;\n",
       "    }\n",
       "</style>\n",
       "<table border=\"1\" class=\"dataframe\">\n",
       "  <thead>\n",
       "    <tr style=\"text-align: right;\">\n",
       "      <th></th>\n",
       "      <th>day</th>\n",
       "      <th>city</th>\n",
       "      <th>temperature</th>\n",
       "      <th>windspeed</th>\n",
       "      <th>event</th>\n",
       "    </tr>\n",
       "  </thead>\n",
       "  <tbody>\n",
       "    <tr>\n",
       "      <th>5</th>\n",
       "      <td>2/1/2017</td>\n",
       "      <td>mumbai</td>\n",
       "      <td>85.0</td>\n",
       "      <td>12.0</td>\n",
       "      <td>Fog</td>\n",
       "    </tr>\n",
       "    <tr>\n",
       "      <th>6</th>\n",
       "      <td>3/1/2017</td>\n",
       "      <td>mumbai</td>\n",
       "      <td>87.0</td>\n",
       "      <td>15.0</td>\n",
       "      <td>Fog</td>\n",
       "    </tr>\n",
       "    <tr>\n",
       "      <th>7</th>\n",
       "      <td>4/1/2017</td>\n",
       "      <td>mumbai</td>\n",
       "      <td>92.0</td>\n",
       "      <td>5.0</td>\n",
       "      <td>Rain</td>\n",
       "    </tr>\n",
       "    <tr>\n",
       "      <th>8</th>\n",
       "      <td>1/1/2017</td>\n",
       "      <td>paris</td>\n",
       "      <td>45.0</td>\n",
       "      <td>20.0</td>\n",
       "      <td>Sunny</td>\n",
       "    </tr>\n",
       "    <tr>\n",
       "      <th>9</th>\n",
       "      <td>2/1/2017</td>\n",
       "      <td>paris</td>\n",
       "      <td>50.0</td>\n",
       "      <td>13.0</td>\n",
       "      <td>Cloudy</td>\n",
       "    </tr>\n",
       "    <tr>\n",
       "      <th>10</th>\n",
       "      <td>3/1/2017</td>\n",
       "      <td>paris</td>\n",
       "      <td>54.0</td>\n",
       "      <td>8.0</td>\n",
       "      <td>Cloudy</td>\n",
       "    </tr>\n",
       "    <tr>\n",
       "      <th>11</th>\n",
       "      <td>4/1/2017</td>\n",
       "      <td>paris</td>\n",
       "      <td>42.0</td>\n",
       "      <td>10.0</td>\n",
       "      <td>Cloudy</td>\n",
       "    </tr>\n",
       "    <tr>\n",
       "      <th>12</th>\n",
       "      <td>NaN</td>\n",
       "      <td>NaN</td>\n",
       "      <td>NaN</td>\n",
       "      <td>NaN</td>\n",
       "      <td>NaN</td>\n",
       "    </tr>\n",
       "    <tr>\n",
       "      <th>13</th>\n",
       "      <td>NaN</td>\n",
       "      <td>NaN</td>\n",
       "      <td>NaN</td>\n",
       "      <td>NaN</td>\n",
       "      <td>NaN</td>\n",
       "    </tr>\n",
       "    <tr>\n",
       "      <th>14</th>\n",
       "      <td>NaN</td>\n",
       "      <td>NaN</td>\n",
       "      <td>NaN</td>\n",
       "      <td>NaN</td>\n",
       "      <td>NaN</td>\n",
       "    </tr>\n",
       "    <tr>\n",
       "      <th>15</th>\n",
       "      <td>NaN</td>\n",
       "      <td>NaN</td>\n",
       "      <td>NaN</td>\n",
       "      <td>NaN</td>\n",
       "      <td>NaN</td>\n",
       "    </tr>\n",
       "    <tr>\n",
       "      <th>16</th>\n",
       "      <td>NaN</td>\n",
       "      <td>NaN</td>\n",
       "      <td>NaN</td>\n",
       "      <td>NaN</td>\n",
       "      <td>NaN</td>\n",
       "    </tr>\n",
       "  </tbody>\n",
       "</table>\n",
       "</div>"
      ],
      "text/plain": [
       "         day    city  temperature  windspeed   event\n",
       "5   2/1/2017  mumbai         85.0       12.0     Fog\n",
       "6   3/1/2017  mumbai         87.0       15.0     Fog\n",
       "7   4/1/2017  mumbai         92.0        5.0    Rain\n",
       "8   1/1/2017   paris         45.0       20.0   Sunny\n",
       "9   2/1/2017   paris         50.0       13.0  Cloudy\n",
       "10  3/1/2017   paris         54.0        8.0  Cloudy\n",
       "11  4/1/2017   paris         42.0       10.0  Cloudy\n",
       "12       NaN     NaN          NaN        NaN     NaN\n",
       "13       NaN     NaN          NaN        NaN     NaN\n",
       "14       NaN     NaN          NaN        NaN     NaN\n",
       "15       NaN     NaN          NaN        NaN     NaN\n",
       "16       NaN     NaN          NaN        NaN     NaN"
      ]
     },
     "execution_count": 255,
     "metadata": {},
     "output_type": "execute_result"
    }
   ],
   "source": [
    "df.reindex(range(5, 17)) # some error"
   ]
  },
  {
   "cell_type": "code",
   "execution_count": 256,
   "id": "40ab6485",
   "metadata": {},
   "outputs": [
    {
     "data": {
      "text/html": [
       "<div>\n",
       "<style scoped>\n",
       "    .dataframe tbody tr th:only-of-type {\n",
       "        vertical-align: middle;\n",
       "    }\n",
       "\n",
       "    .dataframe tbody tr th {\n",
       "        vertical-align: top;\n",
       "    }\n",
       "\n",
       "    .dataframe thead th {\n",
       "        text-align: right;\n",
       "    }\n",
       "</style>\n",
       "<table border=\"1\" class=\"dataframe\">\n",
       "  <thead>\n",
       "    <tr style=\"text-align: right;\">\n",
       "      <th></th>\n",
       "      <th>day</th>\n",
       "      <th>city</th>\n",
       "      <th>temperature</th>\n",
       "      <th>windspeed</th>\n",
       "      <th>event</th>\n",
       "    </tr>\n",
       "  </thead>\n",
       "  <tbody>\n",
       "    <tr>\n",
       "      <th>5</th>\n",
       "      <td>1/1/2017</td>\n",
       "      <td>new york</td>\n",
       "      <td>32</td>\n",
       "      <td>6</td>\n",
       "      <td>Rain</td>\n",
       "    </tr>\n",
       "    <tr>\n",
       "      <th>6</th>\n",
       "      <td>2/1/2017</td>\n",
       "      <td>new york</td>\n",
       "      <td>36</td>\n",
       "      <td>7</td>\n",
       "      <td>Sunny</td>\n",
       "    </tr>\n",
       "    <tr>\n",
       "      <th>7</th>\n",
       "      <td>3/1/2017</td>\n",
       "      <td>new york</td>\n",
       "      <td>28</td>\n",
       "      <td>12</td>\n",
       "      <td>Snow</td>\n",
       "    </tr>\n",
       "    <tr>\n",
       "      <th>8</th>\n",
       "      <td>4/1/2017</td>\n",
       "      <td>new york</td>\n",
       "      <td>33</td>\n",
       "      <td>7</td>\n",
       "      <td>Sunny</td>\n",
       "    </tr>\n",
       "    <tr>\n",
       "      <th>9</th>\n",
       "      <td>1/1/2017</td>\n",
       "      <td>mumbai</td>\n",
       "      <td>90</td>\n",
       "      <td>5</td>\n",
       "      <td>Sunny</td>\n",
       "    </tr>\n",
       "    <tr>\n",
       "      <th>10</th>\n",
       "      <td>2/1/2017</td>\n",
       "      <td>mumbai</td>\n",
       "      <td>85</td>\n",
       "      <td>12</td>\n",
       "      <td>Fog</td>\n",
       "    </tr>\n",
       "    <tr>\n",
       "      <th>11</th>\n",
       "      <td>3/1/2017</td>\n",
       "      <td>mumbai</td>\n",
       "      <td>87</td>\n",
       "      <td>15</td>\n",
       "      <td>Fog</td>\n",
       "    </tr>\n",
       "    <tr>\n",
       "      <th>12</th>\n",
       "      <td>4/1/2017</td>\n",
       "      <td>mumbai</td>\n",
       "      <td>92</td>\n",
       "      <td>5</td>\n",
       "      <td>Rain</td>\n",
       "    </tr>\n",
       "    <tr>\n",
       "      <th>13</th>\n",
       "      <td>1/1/2017</td>\n",
       "      <td>paris</td>\n",
       "      <td>45</td>\n",
       "      <td>20</td>\n",
       "      <td>Sunny</td>\n",
       "    </tr>\n",
       "    <tr>\n",
       "      <th>14</th>\n",
       "      <td>2/1/2017</td>\n",
       "      <td>paris</td>\n",
       "      <td>50</td>\n",
       "      <td>13</td>\n",
       "      <td>Cloudy</td>\n",
       "    </tr>\n",
       "    <tr>\n",
       "      <th>15</th>\n",
       "      <td>3/1/2017</td>\n",
       "      <td>paris</td>\n",
       "      <td>54</td>\n",
       "      <td>8</td>\n",
       "      <td>Cloudy</td>\n",
       "    </tr>\n",
       "    <tr>\n",
       "      <th>16</th>\n",
       "      <td>4/1/2017</td>\n",
       "      <td>paris</td>\n",
       "      <td>42</td>\n",
       "      <td>10</td>\n",
       "      <td>Cloudy</td>\n",
       "    </tr>\n",
       "  </tbody>\n",
       "</table>\n",
       "</div>"
      ],
      "text/plain": [
       "         day      city  temperature  windspeed   event\n",
       "5   1/1/2017  new york           32          6    Rain\n",
       "6   2/1/2017  new york           36          7   Sunny\n",
       "7   3/1/2017  new york           28         12    Snow\n",
       "8   4/1/2017  new york           33          7   Sunny\n",
       "9   1/1/2017    mumbai           90          5   Sunny\n",
       "10  2/1/2017    mumbai           85         12     Fog\n",
       "11  3/1/2017    mumbai           87         15     Fog\n",
       "12  4/1/2017    mumbai           92          5    Rain\n",
       "13  1/1/2017     paris           45         20   Sunny\n",
       "14  2/1/2017     paris           50         13  Cloudy\n",
       "15  3/1/2017     paris           54          8  Cloudy\n",
       "16  4/1/2017     paris           42         10  Cloudy"
      ]
     },
     "execution_count": 256,
     "metadata": {},
     "output_type": "execute_result"
    }
   ],
   "source": [
    "df.set_index(pd.Index(list(range(5, 17))))"
   ]
  },
  {
   "cell_type": "code",
   "execution_count": 258,
   "id": "c9dad94f",
   "metadata": {},
   "outputs": [
    {
     "data": {
      "text/html": [
       "<div>\n",
       "<style scoped>\n",
       "    .dataframe tbody tr th:only-of-type {\n",
       "        vertical-align: middle;\n",
       "    }\n",
       "\n",
       "    .dataframe tbody tr th {\n",
       "        vertical-align: top;\n",
       "    }\n",
       "\n",
       "    .dataframe thead th {\n",
       "        text-align: right;\n",
       "    }\n",
       "</style>\n",
       "<table border=\"1\" class=\"dataframe\">\n",
       "  <thead>\n",
       "    <tr style=\"text-align: right;\">\n",
       "      <th></th>\n",
       "      <th>day</th>\n",
       "      <th>temperature</th>\n",
       "      <th>windspeed</th>\n",
       "      <th>event</th>\n",
       "    </tr>\n",
       "  </thead>\n",
       "  <tbody>\n",
       "    <tr>\n",
       "      <th>0</th>\n",
       "      <td>2017-01-01</td>\n",
       "      <td>32.0</td>\n",
       "      <td>6.0</td>\n",
       "      <td>Rain</td>\n",
       "    </tr>\n",
       "    <tr>\n",
       "      <th>1</th>\n",
       "      <td>2017-01-04</td>\n",
       "      <td>NaN</td>\n",
       "      <td>9.0</td>\n",
       "      <td>Sunny</td>\n",
       "    </tr>\n",
       "    <tr>\n",
       "      <th>2</th>\n",
       "      <td>2017-01-05</td>\n",
       "      <td>28.0</td>\n",
       "      <td>NaN</td>\n",
       "      <td>Snow</td>\n",
       "    </tr>\n",
       "    <tr>\n",
       "      <th>3</th>\n",
       "      <td>2017-01-06</td>\n",
       "      <td>NaN</td>\n",
       "      <td>7.0</td>\n",
       "      <td>NaN</td>\n",
       "    </tr>\n",
       "    <tr>\n",
       "      <th>4</th>\n",
       "      <td>2017-01-07</td>\n",
       "      <td>32.0</td>\n",
       "      <td>NaN</td>\n",
       "      <td>Rain</td>\n",
       "    </tr>\n",
       "    <tr>\n",
       "      <th>5</th>\n",
       "      <td>2017-01-08</td>\n",
       "      <td>NaN</td>\n",
       "      <td>NaN</td>\n",
       "      <td>Sunny</td>\n",
       "    </tr>\n",
       "    <tr>\n",
       "      <th>6</th>\n",
       "      <td>2017-01-09</td>\n",
       "      <td>NaN</td>\n",
       "      <td>NaN</td>\n",
       "      <td>NaN</td>\n",
       "    </tr>\n",
       "    <tr>\n",
       "      <th>7</th>\n",
       "      <td>2017-01-10</td>\n",
       "      <td>34.0</td>\n",
       "      <td>8.0</td>\n",
       "      <td>Cloudy</td>\n",
       "    </tr>\n",
       "    <tr>\n",
       "      <th>8</th>\n",
       "      <td>2017-01-11</td>\n",
       "      <td>40.0</td>\n",
       "      <td>12.0</td>\n",
       "      <td>Sunny</td>\n",
       "    </tr>\n",
       "  </tbody>\n",
       "</table>\n",
       "</div>"
      ],
      "text/plain": [
       "         day  temperature  windspeed   event\n",
       "0 2017-01-01         32.0        6.0    Rain\n",
       "1 2017-01-04          NaN        9.0   Sunny\n",
       "2 2017-01-05         28.0        NaN    Snow\n",
       "3 2017-01-06          NaN        7.0     NaN\n",
       "4 2017-01-07         32.0        NaN    Rain\n",
       "5 2017-01-08          NaN        NaN   Sunny\n",
       "6 2017-01-09          NaN        NaN     NaN\n",
       "7 2017-01-10         34.0        8.0  Cloudy\n",
       "8 2017-01-11         40.0       12.0   Sunny"
      ]
     },
     "execution_count": 258,
     "metadata": {},
     "output_type": "execute_result"
    }
   ],
   "source": [
    "df = pd.read_csv(\"WEATHER_DATA.csv\", parse_dates=['day'])\n",
    "df"
   ]
  },
  {
   "cell_type": "code",
   "execution_count": 259,
   "id": "e6f199d3",
   "metadata": {},
   "outputs": [],
   "source": [
    "df.set_index('day', inplace=True)"
   ]
  },
  {
   "cell_type": "code",
   "execution_count": 260,
   "id": "2fff6b2c",
   "metadata": {},
   "outputs": [
    {
     "data": {
      "text/html": [
       "<div>\n",
       "<style scoped>\n",
       "    .dataframe tbody tr th:only-of-type {\n",
       "        vertical-align: middle;\n",
       "    }\n",
       "\n",
       "    .dataframe tbody tr th {\n",
       "        vertical-align: top;\n",
       "    }\n",
       "\n",
       "    .dataframe thead th {\n",
       "        text-align: right;\n",
       "    }\n",
       "</style>\n",
       "<table border=\"1\" class=\"dataframe\">\n",
       "  <thead>\n",
       "    <tr style=\"text-align: right;\">\n",
       "      <th></th>\n",
       "      <th>temperature</th>\n",
       "      <th>windspeed</th>\n",
       "      <th>event</th>\n",
       "    </tr>\n",
       "    <tr>\n",
       "      <th>day</th>\n",
       "      <th></th>\n",
       "      <th></th>\n",
       "      <th></th>\n",
       "    </tr>\n",
       "  </thead>\n",
       "  <tbody>\n",
       "    <tr>\n",
       "      <th>2017-01-01</th>\n",
       "      <td>32.0</td>\n",
       "      <td>6.0</td>\n",
       "      <td>Rain</td>\n",
       "    </tr>\n",
       "    <tr>\n",
       "      <th>2017-01-04</th>\n",
       "      <td>NaN</td>\n",
       "      <td>9.0</td>\n",
       "      <td>Sunny</td>\n",
       "    </tr>\n",
       "    <tr>\n",
       "      <th>2017-01-05</th>\n",
       "      <td>28.0</td>\n",
       "      <td>NaN</td>\n",
       "      <td>Snow</td>\n",
       "    </tr>\n",
       "    <tr>\n",
       "      <th>2017-01-06</th>\n",
       "      <td>NaN</td>\n",
       "      <td>7.0</td>\n",
       "      <td>NaN</td>\n",
       "    </tr>\n",
       "    <tr>\n",
       "      <th>2017-01-07</th>\n",
       "      <td>32.0</td>\n",
       "      <td>NaN</td>\n",
       "      <td>Rain</td>\n",
       "    </tr>\n",
       "    <tr>\n",
       "      <th>2017-01-08</th>\n",
       "      <td>NaN</td>\n",
       "      <td>NaN</td>\n",
       "      <td>Sunny</td>\n",
       "    </tr>\n",
       "    <tr>\n",
       "      <th>2017-01-09</th>\n",
       "      <td>NaN</td>\n",
       "      <td>NaN</td>\n",
       "      <td>NaN</td>\n",
       "    </tr>\n",
       "    <tr>\n",
       "      <th>2017-01-10</th>\n",
       "      <td>34.0</td>\n",
       "      <td>8.0</td>\n",
       "      <td>Cloudy</td>\n",
       "    </tr>\n",
       "    <tr>\n",
       "      <th>2017-01-11</th>\n",
       "      <td>40.0</td>\n",
       "      <td>12.0</td>\n",
       "      <td>Sunny</td>\n",
       "    </tr>\n",
       "  </tbody>\n",
       "</table>\n",
       "</div>"
      ],
      "text/plain": [
       "            temperature  windspeed   event\n",
       "day                                       \n",
       "2017-01-01         32.0        6.0    Rain\n",
       "2017-01-04          NaN        9.0   Sunny\n",
       "2017-01-05         28.0        NaN    Snow\n",
       "2017-01-06          NaN        7.0     NaN\n",
       "2017-01-07         32.0        NaN    Rain\n",
       "2017-01-08          NaN        NaN   Sunny\n",
       "2017-01-09          NaN        NaN     NaN\n",
       "2017-01-10         34.0        8.0  Cloudy\n",
       "2017-01-11         40.0       12.0   Sunny"
      ]
     },
     "execution_count": 260,
     "metadata": {},
     "output_type": "execute_result"
    }
   ],
   "source": [
    "df"
   ]
  },
  {
   "cell_type": "code",
   "execution_count": 262,
   "id": "50e45fd5",
   "metadata": {},
   "outputs": [
    {
     "data": {
      "text/plain": [
       "(            temperature  windspeed  event\n",
       " day                                      \n",
       " 2017-01-01        False      False  False\n",
       " 2017-01-04         True      False  False\n",
       " 2017-01-05        False       True  False\n",
       " 2017-01-06         True      False   True\n",
       " 2017-01-07        False       True  False\n",
       " 2017-01-08         True       True  False\n",
       " 2017-01-09         True       True   True\n",
       " 2017-01-10        False      False  False\n",
       " 2017-01-11        False      False  False,\n",
       "             temperature  windspeed  event\n",
       " day                                      \n",
       " 2017-01-01         True       True   True\n",
       " 2017-01-04        False       True   True\n",
       " 2017-01-05         True      False   True\n",
       " 2017-01-06        False       True  False\n",
       " 2017-01-07         True      False   True\n",
       " 2017-01-08        False      False   True\n",
       " 2017-01-09        False      False  False\n",
       " 2017-01-10         True       True   True\n",
       " 2017-01-11         True       True   True,\n",
       " <bound method DataFrame.dropna of             temperature  windspeed   event\n",
       " day                                       \n",
       " 2017-01-01         32.0        6.0    Rain\n",
       " 2017-01-04          NaN        9.0   Sunny\n",
       " 2017-01-05         28.0        NaN    Snow\n",
       " 2017-01-06          NaN        7.0     NaN\n",
       " 2017-01-07         32.0        NaN    Rain\n",
       " 2017-01-08          NaN        NaN   Sunny\n",
       " 2017-01-09          NaN        NaN     NaN\n",
       " 2017-01-10         34.0        8.0  Cloudy\n",
       " 2017-01-11         40.0       12.0   Sunny>,\n",
       "             temperature  windspeed   event\n",
       " day                                       \n",
       " 2017-01-01         32.0        6.0    Rain\n",
       " 2017-01-04          0.0        9.0   Sunny\n",
       " 2017-01-05         28.0        0.0    Snow\n",
       " 2017-01-06          0.0        7.0       0\n",
       " 2017-01-07         32.0        0.0    Rain\n",
       " 2017-01-08          0.0        0.0   Sunny\n",
       " 2017-01-09          0.0        0.0       0\n",
       " 2017-01-10         34.0        8.0  Cloudy\n",
       " 2017-01-11         40.0       12.0   Sunny)"
      ]
     },
     "execution_count": 262,
     "metadata": {},
     "output_type": "execute_result"
    }
   ],
   "source": [
    "df.isnull(), df.notnull(), df.dropna, df.fillna(0)"
   ]
  },
  {
   "cell_type": "code",
   "execution_count": 263,
   "id": "76a79aa1",
   "metadata": {},
   "outputs": [
    {
     "data": {
      "text/html": [
       "<div>\n",
       "<style scoped>\n",
       "    .dataframe tbody tr th:only-of-type {\n",
       "        vertical-align: middle;\n",
       "    }\n",
       "\n",
       "    .dataframe tbody tr th {\n",
       "        vertical-align: top;\n",
       "    }\n",
       "\n",
       "    .dataframe thead th {\n",
       "        text-align: right;\n",
       "    }\n",
       "</style>\n",
       "<table border=\"1\" class=\"dataframe\">\n",
       "  <thead>\n",
       "    <tr style=\"text-align: right;\">\n",
       "      <th></th>\n",
       "      <th>temperature</th>\n",
       "      <th>windspeed</th>\n",
       "      <th>event</th>\n",
       "    </tr>\n",
       "    <tr>\n",
       "      <th>day</th>\n",
       "      <th></th>\n",
       "      <th></th>\n",
       "      <th></th>\n",
       "    </tr>\n",
       "  </thead>\n",
       "  <tbody>\n",
       "    <tr>\n",
       "      <th>2017-01-01</th>\n",
       "      <td>32.0</td>\n",
       "      <td>6.0</td>\n",
       "      <td>Rain</td>\n",
       "    </tr>\n",
       "    <tr>\n",
       "      <th>2017-01-04</th>\n",
       "      <td>NaN</td>\n",
       "      <td>9.0</td>\n",
       "      <td>Sunny</td>\n",
       "    </tr>\n",
       "    <tr>\n",
       "      <th>2017-01-05</th>\n",
       "      <td>28.0</td>\n",
       "      <td>NaN</td>\n",
       "      <td>Snow</td>\n",
       "    </tr>\n",
       "    <tr>\n",
       "      <th>2017-01-07</th>\n",
       "      <td>32.0</td>\n",
       "      <td>NaN</td>\n",
       "      <td>Rain</td>\n",
       "    </tr>\n",
       "    <tr>\n",
       "      <th>2017-01-10</th>\n",
       "      <td>34.0</td>\n",
       "      <td>8.0</td>\n",
       "      <td>Cloudy</td>\n",
       "    </tr>\n",
       "    <tr>\n",
       "      <th>2017-01-11</th>\n",
       "      <td>40.0</td>\n",
       "      <td>12.0</td>\n",
       "      <td>Sunny</td>\n",
       "    </tr>\n",
       "  </tbody>\n",
       "</table>\n",
       "</div>"
      ],
      "text/plain": [
       "            temperature  windspeed   event\n",
       "day                                       \n",
       "2017-01-01         32.0        6.0    Rain\n",
       "2017-01-04          NaN        9.0   Sunny\n",
       "2017-01-05         28.0        NaN    Snow\n",
       "2017-01-07         32.0        NaN    Rain\n",
       "2017-01-10         34.0        8.0  Cloudy\n",
       "2017-01-11         40.0       12.0   Sunny"
      ]
     },
     "execution_count": 263,
     "metadata": {},
     "output_type": "execute_result"
    }
   ],
   "source": [
    "df.dropna(axis='rows', how='any', thresh=2)"
   ]
  },
  {
   "cell_type": "code",
   "execution_count": 264,
   "id": "c9d4abc3",
   "metadata": {},
   "outputs": [
    {
     "data": {
      "text/plain": [
       "(            temperature  windspeed   event\n",
       " day                                       \n",
       " 2017-01-01         32.0        6.0    Rain\n",
       " 2017-01-04          0.0        9.0   Sunny\n",
       " 2017-01-05         28.0        0.0    Snow\n",
       " 2017-01-06          0.0        7.0       0\n",
       " 2017-01-07         32.0        0.0    Rain\n",
       " 2017-01-08          0.0        0.0   Sunny\n",
       " 2017-01-09          0.0        0.0       0\n",
       " 2017-01-10         34.0        8.0  Cloudy\n",
       " 2017-01-11         40.0       12.0   Sunny,\n",
       "             temperature  windspeed   event\n",
       " day                                       \n",
       " 2017-01-01         32.0        6.0    Rain\n",
       " 2017-01-04         32.0        9.0   Sunny\n",
       " 2017-01-05         28.0        9.0    Snow\n",
       " 2017-01-06         28.0        7.0    Snow\n",
       " 2017-01-07         32.0        7.0    Rain\n",
       " 2017-01-08         32.0        7.0   Sunny\n",
       " 2017-01-09         32.0        7.0   Sunny\n",
       " 2017-01-10         34.0        8.0  Cloudy\n",
       " 2017-01-11         40.0       12.0   Sunny,\n",
       "             temperature  windspeed   event\n",
       " day                                       \n",
       " 2017-01-01         32.0        6.0    Rain\n",
       " 2017-01-04         28.0        9.0   Sunny\n",
       " 2017-01-05         28.0        7.0    Snow\n",
       " 2017-01-06         32.0        7.0    Rain\n",
       " 2017-01-07         32.0        8.0    Rain\n",
       " 2017-01-08         34.0        8.0   Sunny\n",
       " 2017-01-09         34.0        8.0  Cloudy\n",
       " 2017-01-10         34.0        8.0  Cloudy\n",
       " 2017-01-11         40.0       12.0   Sunny)"
      ]
     },
     "execution_count": 264,
     "metadata": {},
     "output_type": "execute_result"
    }
   ],
   "source": [
    "df.fillna(0), df.fillna(method='ffill'), df.fillna(method='bfill')"
   ]
  },
  {
   "cell_type": "code",
   "execution_count": 265,
   "id": "37a4c6bc",
   "metadata": {},
   "outputs": [
    {
     "data": {
      "text/html": [
       "<div>\n",
       "<style scoped>\n",
       "    .dataframe tbody tr th:only-of-type {\n",
       "        vertical-align: middle;\n",
       "    }\n",
       "\n",
       "    .dataframe tbody tr th {\n",
       "        vertical-align: top;\n",
       "    }\n",
       "\n",
       "    .dataframe thead th {\n",
       "        text-align: right;\n",
       "    }\n",
       "</style>\n",
       "<table border=\"1\" class=\"dataframe\">\n",
       "  <thead>\n",
       "    <tr style=\"text-align: right;\">\n",
       "      <th></th>\n",
       "      <th>temperature</th>\n",
       "      <th>windspeed</th>\n",
       "      <th>event</th>\n",
       "    </tr>\n",
       "    <tr>\n",
       "      <th>day</th>\n",
       "      <th></th>\n",
       "      <th></th>\n",
       "      <th></th>\n",
       "    </tr>\n",
       "  </thead>\n",
       "  <tbody>\n",
       "    <tr>\n",
       "      <th>2017-01-01</th>\n",
       "      <td>32.0</td>\n",
       "      <td>6.0</td>\n",
       "      <td>Rain</td>\n",
       "    </tr>\n",
       "    <tr>\n",
       "      <th>2017-01-04</th>\n",
       "      <td>32.0</td>\n",
       "      <td>9.0</td>\n",
       "      <td>Sunny</td>\n",
       "    </tr>\n",
       "    <tr>\n",
       "      <th>2017-01-05</th>\n",
       "      <td>28.0</td>\n",
       "      <td>9.0</td>\n",
       "      <td>Snow</td>\n",
       "    </tr>\n",
       "    <tr>\n",
       "      <th>2017-01-06</th>\n",
       "      <td>28.0</td>\n",
       "      <td>7.0</td>\n",
       "      <td>Snow</td>\n",
       "    </tr>\n",
       "    <tr>\n",
       "      <th>2017-01-07</th>\n",
       "      <td>32.0</td>\n",
       "      <td>7.0</td>\n",
       "      <td>Rain</td>\n",
       "    </tr>\n",
       "    <tr>\n",
       "      <th>2017-01-08</th>\n",
       "      <td>32.0</td>\n",
       "      <td>NaN</td>\n",
       "      <td>Sunny</td>\n",
       "    </tr>\n",
       "    <tr>\n",
       "      <th>2017-01-09</th>\n",
       "      <td>NaN</td>\n",
       "      <td>NaN</td>\n",
       "      <td>Sunny</td>\n",
       "    </tr>\n",
       "    <tr>\n",
       "      <th>2017-01-10</th>\n",
       "      <td>34.0</td>\n",
       "      <td>8.0</td>\n",
       "      <td>Cloudy</td>\n",
       "    </tr>\n",
       "    <tr>\n",
       "      <th>2017-01-11</th>\n",
       "      <td>40.0</td>\n",
       "      <td>12.0</td>\n",
       "      <td>Sunny</td>\n",
       "    </tr>\n",
       "  </tbody>\n",
       "</table>\n",
       "</div>"
      ],
      "text/plain": [
       "            temperature  windspeed   event\n",
       "day                                       \n",
       "2017-01-01         32.0        6.0    Rain\n",
       "2017-01-04         32.0        9.0   Sunny\n",
       "2017-01-05         28.0        9.0    Snow\n",
       "2017-01-06         28.0        7.0    Snow\n",
       "2017-01-07         32.0        7.0    Rain\n",
       "2017-01-08         32.0        NaN   Sunny\n",
       "2017-01-09          NaN        NaN   Sunny\n",
       "2017-01-10         34.0        8.0  Cloudy\n",
       "2017-01-11         40.0       12.0   Sunny"
      ]
     },
     "execution_count": 265,
     "metadata": {},
     "output_type": "execute_result"
    }
   ],
   "source": [
    "df.fillna(method='ffill', limit=1)"
   ]
  },
  {
   "cell_type": "code",
   "execution_count": 266,
   "id": "d3b68030",
   "metadata": {},
   "outputs": [
    {
     "data": {
      "text/html": [
       "<div>\n",
       "<style scoped>\n",
       "    .dataframe tbody tr th:only-of-type {\n",
       "        vertical-align: middle;\n",
       "    }\n",
       "\n",
       "    .dataframe tbody tr th {\n",
       "        vertical-align: top;\n",
       "    }\n",
       "\n",
       "    .dataframe thead th {\n",
       "        text-align: right;\n",
       "    }\n",
       "</style>\n",
       "<table border=\"1\" class=\"dataframe\">\n",
       "  <thead>\n",
       "    <tr style=\"text-align: right;\">\n",
       "      <th></th>\n",
       "      <th>temperature</th>\n",
       "      <th>windspeed</th>\n",
       "      <th>event</th>\n",
       "    </tr>\n",
       "    <tr>\n",
       "      <th>day</th>\n",
       "      <th></th>\n",
       "      <th></th>\n",
       "      <th></th>\n",
       "    </tr>\n",
       "  </thead>\n",
       "  <tbody>\n",
       "    <tr>\n",
       "      <th>2017-01-01</th>\n",
       "      <td>32.0</td>\n",
       "      <td>6.0</td>\n",
       "      <td>Rain</td>\n",
       "    </tr>\n",
       "    <tr>\n",
       "      <th>2017-01-04</th>\n",
       "      <td>0.0</td>\n",
       "      <td>9.0</td>\n",
       "      <td>Sunny</td>\n",
       "    </tr>\n",
       "    <tr>\n",
       "      <th>2017-01-05</th>\n",
       "      <td>28.0</td>\n",
       "      <td>NaN</td>\n",
       "      <td>Snow</td>\n",
       "    </tr>\n",
       "    <tr>\n",
       "      <th>2017-01-06</th>\n",
       "      <td>0.0</td>\n",
       "      <td>7.0</td>\n",
       "      <td>NaN</td>\n",
       "    </tr>\n",
       "    <tr>\n",
       "      <th>2017-01-07</th>\n",
       "      <td>32.0</td>\n",
       "      <td>NaN</td>\n",
       "      <td>Rain</td>\n",
       "    </tr>\n",
       "    <tr>\n",
       "      <th>2017-01-08</th>\n",
       "      <td>0.0</td>\n",
       "      <td>NaN</td>\n",
       "      <td>Sunny</td>\n",
       "    </tr>\n",
       "    <tr>\n",
       "      <th>2017-01-09</th>\n",
       "      <td>0.0</td>\n",
       "      <td>NaN</td>\n",
       "      <td>NaN</td>\n",
       "    </tr>\n",
       "    <tr>\n",
       "      <th>2017-01-10</th>\n",
       "      <td>34.0</td>\n",
       "      <td>8.0</td>\n",
       "      <td>Cloudy</td>\n",
       "    </tr>\n",
       "    <tr>\n",
       "      <th>2017-01-11</th>\n",
       "      <td>40.0</td>\n",
       "      <td>12.0</td>\n",
       "      <td>Sunny</td>\n",
       "    </tr>\n",
       "  </tbody>\n",
       "</table>\n",
       "</div>"
      ],
      "text/plain": [
       "            temperature  windspeed   event\n",
       "day                                       \n",
       "2017-01-01         32.0        6.0    Rain\n",
       "2017-01-04          0.0        9.0   Sunny\n",
       "2017-01-05         28.0        NaN    Snow\n",
       "2017-01-06          0.0        7.0     NaN\n",
       "2017-01-07         32.0        NaN    Rain\n",
       "2017-01-08          0.0        NaN   Sunny\n",
       "2017-01-09          0.0        NaN     NaN\n",
       "2017-01-10         34.0        8.0  Cloudy\n",
       "2017-01-11         40.0       12.0   Sunny"
      ]
     },
     "execution_count": 266,
     "metadata": {},
     "output_type": "execute_result"
    }
   ],
   "source": [
    "df.fillna({\n",
    "    \"temperature\": 0\n",
    "})"
   ]
  },
  {
   "cell_type": "code",
   "execution_count": 267,
   "id": "2cbe9f63",
   "metadata": {},
   "outputs": [
    {
     "data": {
      "text/html": [
       "<div>\n",
       "<style scoped>\n",
       "    .dataframe tbody tr th:only-of-type {\n",
       "        vertical-align: middle;\n",
       "    }\n",
       "\n",
       "    .dataframe tbody tr th {\n",
       "        vertical-align: top;\n",
       "    }\n",
       "\n",
       "    .dataframe thead th {\n",
       "        text-align: right;\n",
       "    }\n",
       "</style>\n",
       "<table border=\"1\" class=\"dataframe\">\n",
       "  <thead>\n",
       "    <tr style=\"text-align: right;\">\n",
       "      <th></th>\n",
       "      <th>temperature</th>\n",
       "      <th>windspeed</th>\n",
       "      <th>event</th>\n",
       "    </tr>\n",
       "    <tr>\n",
       "      <th>day</th>\n",
       "      <th></th>\n",
       "      <th></th>\n",
       "      <th></th>\n",
       "    </tr>\n",
       "  </thead>\n",
       "  <tbody>\n",
       "    <tr>\n",
       "      <th>2017-01-01</th>\n",
       "      <td>32.000000</td>\n",
       "      <td>6.00</td>\n",
       "      <td>Rain</td>\n",
       "    </tr>\n",
       "    <tr>\n",
       "      <th>2017-01-04</th>\n",
       "      <td>29.000000</td>\n",
       "      <td>9.00</td>\n",
       "      <td>Sunny</td>\n",
       "    </tr>\n",
       "    <tr>\n",
       "      <th>2017-01-05</th>\n",
       "      <td>28.000000</td>\n",
       "      <td>8.00</td>\n",
       "      <td>Snow</td>\n",
       "    </tr>\n",
       "    <tr>\n",
       "      <th>2017-01-06</th>\n",
       "      <td>30.000000</td>\n",
       "      <td>7.00</td>\n",
       "      <td>NaN</td>\n",
       "    </tr>\n",
       "    <tr>\n",
       "      <th>2017-01-07</th>\n",
       "      <td>32.000000</td>\n",
       "      <td>7.25</td>\n",
       "      <td>Rain</td>\n",
       "    </tr>\n",
       "    <tr>\n",
       "      <th>2017-01-08</th>\n",
       "      <td>32.666667</td>\n",
       "      <td>7.50</td>\n",
       "      <td>Sunny</td>\n",
       "    </tr>\n",
       "    <tr>\n",
       "      <th>2017-01-09</th>\n",
       "      <td>33.333333</td>\n",
       "      <td>7.75</td>\n",
       "      <td>NaN</td>\n",
       "    </tr>\n",
       "    <tr>\n",
       "      <th>2017-01-10</th>\n",
       "      <td>34.000000</td>\n",
       "      <td>8.00</td>\n",
       "      <td>Cloudy</td>\n",
       "    </tr>\n",
       "    <tr>\n",
       "      <th>2017-01-11</th>\n",
       "      <td>40.000000</td>\n",
       "      <td>12.00</td>\n",
       "      <td>Sunny</td>\n",
       "    </tr>\n",
       "  </tbody>\n",
       "</table>\n",
       "</div>"
      ],
      "text/plain": [
       "            temperature  windspeed   event\n",
       "day                                       \n",
       "2017-01-01    32.000000       6.00    Rain\n",
       "2017-01-04    29.000000       9.00   Sunny\n",
       "2017-01-05    28.000000       8.00    Snow\n",
       "2017-01-06    30.000000       7.00     NaN\n",
       "2017-01-07    32.000000       7.25    Rain\n",
       "2017-01-08    32.666667       7.50   Sunny\n",
       "2017-01-09    33.333333       7.75     NaN\n",
       "2017-01-10    34.000000       8.00  Cloudy\n",
       "2017-01-11    40.000000      12.00   Sunny"
      ]
     },
     "execution_count": 267,
     "metadata": {},
     "output_type": "execute_result"
    }
   ],
   "source": [
    "df.interpolate(method='time')"
   ]
  },
  {
   "cell_type": "code",
   "execution_count": 268,
   "id": "4814f0da",
   "metadata": {},
   "outputs": [
    {
     "data": {
      "text/html": [
       "<div>\n",
       "<style scoped>\n",
       "    .dataframe tbody tr th:only-of-type {\n",
       "        vertical-align: middle;\n",
       "    }\n",
       "\n",
       "    .dataframe tbody tr th {\n",
       "        vertical-align: top;\n",
       "    }\n",
       "\n",
       "    .dataframe thead th {\n",
       "        text-align: right;\n",
       "    }\n",
       "</style>\n",
       "<table border=\"1\" class=\"dataframe\">\n",
       "  <thead>\n",
       "    <tr style=\"text-align: right;\">\n",
       "      <th></th>\n",
       "      <th>temperature</th>\n",
       "      <th>windspeed</th>\n",
       "      <th>event</th>\n",
       "    </tr>\n",
       "  </thead>\n",
       "  <tbody>\n",
       "    <tr>\n",
       "      <th>2017-01-01</th>\n",
       "      <td>32.0</td>\n",
       "      <td>6.0</td>\n",
       "      <td>Rain</td>\n",
       "    </tr>\n",
       "    <tr>\n",
       "      <th>2017-01-02</th>\n",
       "      <td>NaN</td>\n",
       "      <td>NaN</td>\n",
       "      <td>NaN</td>\n",
       "    </tr>\n",
       "    <tr>\n",
       "      <th>2017-01-03</th>\n",
       "      <td>NaN</td>\n",
       "      <td>NaN</td>\n",
       "      <td>NaN</td>\n",
       "    </tr>\n",
       "    <tr>\n",
       "      <th>2017-01-04</th>\n",
       "      <td>NaN</td>\n",
       "      <td>9.0</td>\n",
       "      <td>Sunny</td>\n",
       "    </tr>\n",
       "    <tr>\n",
       "      <th>2017-01-05</th>\n",
       "      <td>28.0</td>\n",
       "      <td>NaN</td>\n",
       "      <td>Snow</td>\n",
       "    </tr>\n",
       "    <tr>\n",
       "      <th>2017-01-06</th>\n",
       "      <td>NaN</td>\n",
       "      <td>7.0</td>\n",
       "      <td>NaN</td>\n",
       "    </tr>\n",
       "    <tr>\n",
       "      <th>2017-01-07</th>\n",
       "      <td>32.0</td>\n",
       "      <td>NaN</td>\n",
       "      <td>Rain</td>\n",
       "    </tr>\n",
       "    <tr>\n",
       "      <th>2017-01-08</th>\n",
       "      <td>NaN</td>\n",
       "      <td>NaN</td>\n",
       "      <td>Sunny</td>\n",
       "    </tr>\n",
       "    <tr>\n",
       "      <th>2017-01-09</th>\n",
       "      <td>NaN</td>\n",
       "      <td>NaN</td>\n",
       "      <td>NaN</td>\n",
       "    </tr>\n",
       "    <tr>\n",
       "      <th>2017-01-10</th>\n",
       "      <td>34.0</td>\n",
       "      <td>8.0</td>\n",
       "      <td>Cloudy</td>\n",
       "    </tr>\n",
       "    <tr>\n",
       "      <th>2017-01-11</th>\n",
       "      <td>40.0</td>\n",
       "      <td>12.0</td>\n",
       "      <td>Sunny</td>\n",
       "    </tr>\n",
       "  </tbody>\n",
       "</table>\n",
       "</div>"
      ],
      "text/plain": [
       "            temperature  windspeed   event\n",
       "2017-01-01         32.0        6.0    Rain\n",
       "2017-01-02          NaN        NaN     NaN\n",
       "2017-01-03          NaN        NaN     NaN\n",
       "2017-01-04          NaN        9.0   Sunny\n",
       "2017-01-05         28.0        NaN    Snow\n",
       "2017-01-06          NaN        7.0     NaN\n",
       "2017-01-07         32.0        NaN    Rain\n",
       "2017-01-08          NaN        NaN   Sunny\n",
       "2017-01-09          NaN        NaN     NaN\n",
       "2017-01-10         34.0        8.0  Cloudy\n",
       "2017-01-11         40.0       12.0   Sunny"
      ]
     },
     "execution_count": 268,
     "metadata": {},
     "output_type": "execute_result"
    }
   ],
   "source": [
    "dt = pd.date_range(\"01-01-2017\", \"01-11-2017\")\n",
    "idx = pd.DatetimeIndex(dt) # not necessary\n",
    "# dt, idx, df.reindex(idx)\n",
    "df.reindex(dt)"
   ]
  },
  {
   "cell_type": "code",
   "execution_count": 269,
   "id": "3ef7af02",
   "metadata": {},
   "outputs": [
    {
     "data": {
      "text/html": [
       "<div>\n",
       "<style scoped>\n",
       "    .dataframe tbody tr th:only-of-type {\n",
       "        vertical-align: middle;\n",
       "    }\n",
       "\n",
       "    .dataframe tbody tr th {\n",
       "        vertical-align: top;\n",
       "    }\n",
       "\n",
       "    .dataframe thead th {\n",
       "        text-align: right;\n",
       "    }\n",
       "</style>\n",
       "<table border=\"1\" class=\"dataframe\">\n",
       "  <thead>\n",
       "    <tr style=\"text-align: right;\">\n",
       "      <th></th>\n",
       "      <th>temperature</th>\n",
       "      <th>windspeed</th>\n",
       "      <th>event</th>\n",
       "    </tr>\n",
       "    <tr>\n",
       "      <th>day</th>\n",
       "      <th></th>\n",
       "      <th></th>\n",
       "      <th></th>\n",
       "    </tr>\n",
       "  </thead>\n",
       "  <tbody>\n",
       "    <tr>\n",
       "      <th>2017-01-01</th>\n",
       "      <td>32.0</td>\n",
       "      <td>6.0</td>\n",
       "      <td>Rain</td>\n",
       "    </tr>\n",
       "    <tr>\n",
       "      <th>2017-01-04</th>\n",
       "      <td>0.0</td>\n",
       "      <td>9.0</td>\n",
       "      <td>Sunny</td>\n",
       "    </tr>\n",
       "    <tr>\n",
       "      <th>2017-01-05</th>\n",
       "      <td>28.0</td>\n",
       "      <td>0.0</td>\n",
       "      <td>Snow</td>\n",
       "    </tr>\n",
       "    <tr>\n",
       "      <th>2017-01-06</th>\n",
       "      <td>0.0</td>\n",
       "      <td>7.0</td>\n",
       "      <td>0</td>\n",
       "    </tr>\n",
       "    <tr>\n",
       "      <th>2017-01-07</th>\n",
       "      <td>32.0</td>\n",
       "      <td>0.0</td>\n",
       "      <td>Rain</td>\n",
       "    </tr>\n",
       "    <tr>\n",
       "      <th>2017-01-08</th>\n",
       "      <td>0.0</td>\n",
       "      <td>0.0</td>\n",
       "      <td>Sunny</td>\n",
       "    </tr>\n",
       "    <tr>\n",
       "      <th>2017-01-09</th>\n",
       "      <td>0.0</td>\n",
       "      <td>0.0</td>\n",
       "      <td>0</td>\n",
       "    </tr>\n",
       "    <tr>\n",
       "      <th>2017-01-10</th>\n",
       "      <td>34.0</td>\n",
       "      <td>8.0</td>\n",
       "      <td>Cloudy</td>\n",
       "    </tr>\n",
       "    <tr>\n",
       "      <th>2017-01-11</th>\n",
       "      <td>40.0</td>\n",
       "      <td>12.0</td>\n",
       "      <td>Sunny</td>\n",
       "    </tr>\n",
       "  </tbody>\n",
       "</table>\n",
       "</div>"
      ],
      "text/plain": [
       "            temperature  windspeed   event\n",
       "day                                       \n",
       "2017-01-01         32.0        6.0    Rain\n",
       "2017-01-04          0.0        9.0   Sunny\n",
       "2017-01-05         28.0        0.0    Snow\n",
       "2017-01-06          0.0        7.0       0\n",
       "2017-01-07         32.0        0.0    Rain\n",
       "2017-01-08          0.0        0.0   Sunny\n",
       "2017-01-09          0.0        0.0       0\n",
       "2017-01-10         34.0        8.0  Cloudy\n",
       "2017-01-11         40.0       12.0   Sunny"
      ]
     },
     "execution_count": 269,
     "metadata": {},
     "output_type": "execute_result"
    }
   ],
   "source": [
    "df.replace(np.nan, 0)"
   ]
  },
  {
   "cell_type": "code",
   "execution_count": 270,
   "id": "2d236fb7",
   "metadata": {},
   "outputs": [
    {
     "data": {
      "text/html": [
       "<div>\n",
       "<style scoped>\n",
       "    .dataframe tbody tr th:only-of-type {\n",
       "        vertical-align: middle;\n",
       "    }\n",
       "\n",
       "    .dataframe tbody tr th {\n",
       "        vertical-align: top;\n",
       "    }\n",
       "\n",
       "    .dataframe thead th {\n",
       "        text-align: right;\n",
       "    }\n",
       "</style>\n",
       "<table border=\"1\" class=\"dataframe\">\n",
       "  <thead>\n",
       "    <tr style=\"text-align: right;\">\n",
       "      <th></th>\n",
       "      <th>temperature</th>\n",
       "      <th>windspeed</th>\n",
       "      <th>event</th>\n",
       "    </tr>\n",
       "    <tr>\n",
       "      <th>day</th>\n",
       "      <th></th>\n",
       "      <th></th>\n",
       "      <th></th>\n",
       "    </tr>\n",
       "  </thead>\n",
       "  <tbody>\n",
       "    <tr>\n",
       "      <th>2017-01-01</th>\n",
       "      <td>32.0</td>\n",
       "      <td>6.0</td>\n",
       "      <td>Rain</td>\n",
       "    </tr>\n",
       "    <tr>\n",
       "      <th>2017-01-04</th>\n",
       "      <td>99.0</td>\n",
       "      <td>9.0</td>\n",
       "      <td>Sunny</td>\n",
       "    </tr>\n",
       "    <tr>\n",
       "      <th>2017-01-05</th>\n",
       "      <td>28.0</td>\n",
       "      <td>99.0</td>\n",
       "      <td>Snow</td>\n",
       "    </tr>\n",
       "    <tr>\n",
       "      <th>2017-01-06</th>\n",
       "      <td>99.0</td>\n",
       "      <td>7.0</td>\n",
       "      <td>99</td>\n",
       "    </tr>\n",
       "    <tr>\n",
       "      <th>2017-01-07</th>\n",
       "      <td>32.0</td>\n",
       "      <td>99.0</td>\n",
       "      <td>Rain</td>\n",
       "    </tr>\n",
       "    <tr>\n",
       "      <th>2017-01-08</th>\n",
       "      <td>99.0</td>\n",
       "      <td>99.0</td>\n",
       "      <td>Sunny</td>\n",
       "    </tr>\n",
       "    <tr>\n",
       "      <th>2017-01-09</th>\n",
       "      <td>99.0</td>\n",
       "      <td>99.0</td>\n",
       "      <td>99</td>\n",
       "    </tr>\n",
       "    <tr>\n",
       "      <th>2017-01-10</th>\n",
       "      <td>34.0</td>\n",
       "      <td>99.0</td>\n",
       "      <td>Cloudy</td>\n",
       "    </tr>\n",
       "    <tr>\n",
       "      <th>2017-01-11</th>\n",
       "      <td>40.0</td>\n",
       "      <td>12.0</td>\n",
       "      <td>Sunny</td>\n",
       "    </tr>\n",
       "  </tbody>\n",
       "</table>\n",
       "</div>"
      ],
      "text/plain": [
       "            temperature  windspeed   event\n",
       "day                                       \n",
       "2017-01-01         32.0        6.0    Rain\n",
       "2017-01-04         99.0        9.0   Sunny\n",
       "2017-01-05         28.0       99.0    Snow\n",
       "2017-01-06         99.0        7.0      99\n",
       "2017-01-07         32.0       99.0    Rain\n",
       "2017-01-08         99.0       99.0   Sunny\n",
       "2017-01-09         99.0       99.0      99\n",
       "2017-01-10         34.0       99.0  Cloudy\n",
       "2017-01-11         40.0       12.0   Sunny"
      ]
     },
     "execution_count": 270,
     "metadata": {},
     "output_type": "execute_result"
    }
   ],
   "source": [
    "df.replace([np.nan, 8.0], value=99)"
   ]
  },
  {
   "cell_type": "code",
   "execution_count": 273,
   "id": "810315a4",
   "metadata": {},
   "outputs": [
    {
     "data": {
      "text/html": [
       "<div>\n",
       "<style scoped>\n",
       "    .dataframe tbody tr th:only-of-type {\n",
       "        vertical-align: middle;\n",
       "    }\n",
       "\n",
       "    .dataframe tbody tr th {\n",
       "        vertical-align: top;\n",
       "    }\n",
       "\n",
       "    .dataframe thead th {\n",
       "        text-align: right;\n",
       "    }\n",
       "</style>\n",
       "<table border=\"1\" class=\"dataframe\">\n",
       "  <thead>\n",
       "    <tr style=\"text-align: right;\">\n",
       "      <th></th>\n",
       "      <th>temperature</th>\n",
       "      <th>windspeed</th>\n",
       "      <th>event</th>\n",
       "    </tr>\n",
       "    <tr>\n",
       "      <th>day</th>\n",
       "      <th></th>\n",
       "      <th></th>\n",
       "      <th></th>\n",
       "    </tr>\n",
       "  </thead>\n",
       "  <tbody>\n",
       "    <tr>\n",
       "      <th>2017-01-01</th>\n",
       "      <td>6969696.0</td>\n",
       "      <td>6969696.0</td>\n",
       "      <td>Rain</td>\n",
       "    </tr>\n",
       "    <tr>\n",
       "      <th>2017-01-04</th>\n",
       "      <td>NaN</td>\n",
       "      <td>9.0</td>\n",
       "      <td>Sunny</td>\n",
       "    </tr>\n",
       "    <tr>\n",
       "      <th>2017-01-05</th>\n",
       "      <td>28.0</td>\n",
       "      <td>NaN</td>\n",
       "      <td>Snow</td>\n",
       "    </tr>\n",
       "    <tr>\n",
       "      <th>2017-01-06</th>\n",
       "      <td>NaN</td>\n",
       "      <td>7.0</td>\n",
       "      <td>NaN</td>\n",
       "    </tr>\n",
       "    <tr>\n",
       "      <th>2017-01-07</th>\n",
       "      <td>6969696.0</td>\n",
       "      <td>NaN</td>\n",
       "      <td>Rain</td>\n",
       "    </tr>\n",
       "    <tr>\n",
       "      <th>2017-01-08</th>\n",
       "      <td>NaN</td>\n",
       "      <td>NaN</td>\n",
       "      <td>Sunny</td>\n",
       "    </tr>\n",
       "    <tr>\n",
       "      <th>2017-01-09</th>\n",
       "      <td>NaN</td>\n",
       "      <td>NaN</td>\n",
       "      <td>NaN</td>\n",
       "    </tr>\n",
       "    <tr>\n",
       "      <th>2017-01-10</th>\n",
       "      <td>34.0</td>\n",
       "      <td>8.0</td>\n",
       "      <td>Cloudy</td>\n",
       "    </tr>\n",
       "    <tr>\n",
       "      <th>2017-01-11</th>\n",
       "      <td>40.0</td>\n",
       "      <td>12.0</td>\n",
       "      <td>Sunny</td>\n",
       "    </tr>\n",
       "  </tbody>\n",
       "</table>\n",
       "</div>"
      ],
      "text/plain": [
       "            temperature  windspeed   event\n",
       "day                                       \n",
       "2017-01-01    6969696.0  6969696.0    Rain\n",
       "2017-01-04          NaN        9.0   Sunny\n",
       "2017-01-05         28.0        NaN    Snow\n",
       "2017-01-06          NaN        7.0     NaN\n",
       "2017-01-07    6969696.0        NaN    Rain\n",
       "2017-01-08          NaN        NaN   Sunny\n",
       "2017-01-09          NaN        NaN     NaN\n",
       "2017-01-10         34.0        8.0  Cloudy\n",
       "2017-01-11         40.0       12.0   Sunny"
      ]
     },
     "execution_count": 273,
     "metadata": {},
     "output_type": "execute_result"
    }
   ],
   "source": [
    "df.replace({\n",
    "    \"temperature\": 32.0,\n",
    "    \"windspeed\": 6.0\n",
    "}, 6969696)"
   ]
  },
  {
   "cell_type": "code",
   "execution_count": 274,
   "id": "3c418efc",
   "metadata": {},
   "outputs": [
    {
     "data": {
      "text/html": [
       "<div>\n",
       "<style scoped>\n",
       "    .dataframe tbody tr th:only-of-type {\n",
       "        vertical-align: middle;\n",
       "    }\n",
       "\n",
       "    .dataframe tbody tr th {\n",
       "        vertical-align: top;\n",
       "    }\n",
       "\n",
       "    .dataframe thead th {\n",
       "        text-align: right;\n",
       "    }\n",
       "</style>\n",
       "<table border=\"1\" class=\"dataframe\">\n",
       "  <thead>\n",
       "    <tr style=\"text-align: right;\">\n",
       "      <th></th>\n",
       "      <th>temperature</th>\n",
       "      <th>windspeed</th>\n",
       "      <th>event</th>\n",
       "    </tr>\n",
       "    <tr>\n",
       "      <th>day</th>\n",
       "      <th></th>\n",
       "      <th></th>\n",
       "      <th></th>\n",
       "    </tr>\n",
       "  </thead>\n",
       "  <tbody>\n",
       "    <tr>\n",
       "      <th>2017-01-01</th>\n",
       "      <td>32.0</td>\n",
       "      <td>6.0</td>\n",
       "      <td>Rain</td>\n",
       "    </tr>\n",
       "    <tr>\n",
       "      <th>2017-01-04</th>\n",
       "      <td>11111.0</td>\n",
       "      <td>9.0</td>\n",
       "      <td>Sunny</td>\n",
       "    </tr>\n",
       "    <tr>\n",
       "      <th>2017-01-05</th>\n",
       "      <td>28.0</td>\n",
       "      <td>11111.0</td>\n",
       "      <td>Snow</td>\n",
       "    </tr>\n",
       "    <tr>\n",
       "      <th>2017-01-06</th>\n",
       "      <td>11111.0</td>\n",
       "      <td>7.0</td>\n",
       "      <td>11111</td>\n",
       "    </tr>\n",
       "    <tr>\n",
       "      <th>2017-01-07</th>\n",
       "      <td>32.0</td>\n",
       "      <td>11111.0</td>\n",
       "      <td>Rain</td>\n",
       "    </tr>\n",
       "    <tr>\n",
       "      <th>2017-01-08</th>\n",
       "      <td>11111.0</td>\n",
       "      <td>11111.0</td>\n",
       "      <td>Sunny</td>\n",
       "    </tr>\n",
       "    <tr>\n",
       "      <th>2017-01-09</th>\n",
       "      <td>11111.0</td>\n",
       "      <td>11111.0</td>\n",
       "      <td>11111</td>\n",
       "    </tr>\n",
       "    <tr>\n",
       "      <th>2017-01-10</th>\n",
       "      <td>34.0</td>\n",
       "      <td>8.0</td>\n",
       "      <td>Cloudy</td>\n",
       "    </tr>\n",
       "    <tr>\n",
       "      <th>2017-01-11</th>\n",
       "      <td>40.0</td>\n",
       "      <td>12.0</td>\n",
       "      <td>Sunny</td>\n",
       "    </tr>\n",
       "  </tbody>\n",
       "</table>\n",
       "</div>"
      ],
      "text/plain": [
       "            temperature  windspeed   event\n",
       "day                                       \n",
       "2017-01-01         32.0        6.0    Rain\n",
       "2017-01-04      11111.0        9.0   Sunny\n",
       "2017-01-05         28.0    11111.0    Snow\n",
       "2017-01-06      11111.0        7.0   11111\n",
       "2017-01-07         32.0    11111.0    Rain\n",
       "2017-01-08      11111.0    11111.0   Sunny\n",
       "2017-01-09      11111.0    11111.0   11111\n",
       "2017-01-10         34.0        8.0  Cloudy\n",
       "2017-01-11         40.0       12.0   Sunny"
      ]
     },
     "execution_count": 274,
     "metadata": {},
     "output_type": "execute_result"
    }
   ],
   "source": [
    "df.replace({\n",
    "    6969696: 88888,\n",
    "    np.nan: 11111\n",
    "})"
   ]
  },
  {
   "cell_type": "code",
   "execution_count": 275,
   "id": "b36ade48",
   "metadata": {},
   "outputs": [],
   "source": [
    "df1 = pd.DataFrame({'employee': ['Bob', 'Jake', 'Lisa', 'Sue'],\n",
    "'group': ['Accounting', 'Engineering', 'Engineering', 'HR']})\n",
    "df2 = pd.DataFrame({'employee': ['Lisa', 'Bob', 'Jake', 'Sue'],\n",
    "'hire_date': [2004, 2008, 2012, 2014]})"
   ]
  },
  {
   "cell_type": "code",
   "execution_count": 276,
   "id": "d4eba81f",
   "metadata": {},
   "outputs": [
    {
     "data": {
      "text/html": [
       "<div>\n",
       "<style scoped>\n",
       "    .dataframe tbody tr th:only-of-type {\n",
       "        vertical-align: middle;\n",
       "    }\n",
       "\n",
       "    .dataframe tbody tr th {\n",
       "        vertical-align: top;\n",
       "    }\n",
       "\n",
       "    .dataframe thead th {\n",
       "        text-align: right;\n",
       "    }\n",
       "</style>\n",
       "<table border=\"1\" class=\"dataframe\">\n",
       "  <thead>\n",
       "    <tr style=\"text-align: right;\">\n",
       "      <th></th>\n",
       "      <th>employee</th>\n",
       "      <th>group</th>\n",
       "      <th>hire_date</th>\n",
       "    </tr>\n",
       "  </thead>\n",
       "  <tbody>\n",
       "    <tr>\n",
       "      <th>0</th>\n",
       "      <td>Bob</td>\n",
       "      <td>Accounting</td>\n",
       "      <td>2008</td>\n",
       "    </tr>\n",
       "    <tr>\n",
       "      <th>1</th>\n",
       "      <td>Jake</td>\n",
       "      <td>Engineering</td>\n",
       "      <td>2012</td>\n",
       "    </tr>\n",
       "    <tr>\n",
       "      <th>2</th>\n",
       "      <td>Lisa</td>\n",
       "      <td>Engineering</td>\n",
       "      <td>2004</td>\n",
       "    </tr>\n",
       "    <tr>\n",
       "      <th>3</th>\n",
       "      <td>Sue</td>\n",
       "      <td>HR</td>\n",
       "      <td>2014</td>\n",
       "    </tr>\n",
       "  </tbody>\n",
       "</table>\n",
       "</div>"
      ],
      "text/plain": [
       "  employee        group  hire_date\n",
       "0      Bob   Accounting       2008\n",
       "1     Jake  Engineering       2012\n",
       "2     Lisa  Engineering       2004\n",
       "3      Sue           HR       2014"
      ]
     },
     "execution_count": 276,
     "metadata": {},
     "output_type": "execute_result"
    }
   ],
   "source": [
    "df3 = pd.merge(df1, df2)\n",
    "df4 = pd.concat([df1, df2])\n",
    "df3"
   ]
  },
  {
   "cell_type": "code",
   "execution_count": 277,
   "id": "b11a3bae",
   "metadata": {},
   "outputs": [
    {
     "data": {
      "text/html": [
       "<div>\n",
       "<style scoped>\n",
       "    .dataframe tbody tr th:only-of-type {\n",
       "        vertical-align: middle;\n",
       "    }\n",
       "\n",
       "    .dataframe tbody tr th {\n",
       "        vertical-align: top;\n",
       "    }\n",
       "\n",
       "    .dataframe thead th {\n",
       "        text-align: right;\n",
       "    }\n",
       "</style>\n",
       "<table border=\"1\" class=\"dataframe\">\n",
       "  <thead>\n",
       "    <tr style=\"text-align: right;\">\n",
       "      <th></th>\n",
       "      <th>employee</th>\n",
       "      <th>group</th>\n",
       "      <th>hire_date</th>\n",
       "    </tr>\n",
       "  </thead>\n",
       "  <tbody>\n",
       "    <tr>\n",
       "      <th>0</th>\n",
       "      <td>Bob</td>\n",
       "      <td>Accounting</td>\n",
       "      <td>NaN</td>\n",
       "    </tr>\n",
       "    <tr>\n",
       "      <th>1</th>\n",
       "      <td>Jake</td>\n",
       "      <td>Engineering</td>\n",
       "      <td>NaN</td>\n",
       "    </tr>\n",
       "    <tr>\n",
       "      <th>2</th>\n",
       "      <td>Lisa</td>\n",
       "      <td>Engineering</td>\n",
       "      <td>NaN</td>\n",
       "    </tr>\n",
       "    <tr>\n",
       "      <th>3</th>\n",
       "      <td>Sue</td>\n",
       "      <td>HR</td>\n",
       "      <td>NaN</td>\n",
       "    </tr>\n",
       "    <tr>\n",
       "      <th>0</th>\n",
       "      <td>Lisa</td>\n",
       "      <td>NaN</td>\n",
       "      <td>2004.0</td>\n",
       "    </tr>\n",
       "    <tr>\n",
       "      <th>1</th>\n",
       "      <td>Bob</td>\n",
       "      <td>NaN</td>\n",
       "      <td>2008.0</td>\n",
       "    </tr>\n",
       "    <tr>\n",
       "      <th>2</th>\n",
       "      <td>Jake</td>\n",
       "      <td>NaN</td>\n",
       "      <td>2012.0</td>\n",
       "    </tr>\n",
       "    <tr>\n",
       "      <th>3</th>\n",
       "      <td>Sue</td>\n",
       "      <td>NaN</td>\n",
       "      <td>2014.0</td>\n",
       "    </tr>\n",
       "  </tbody>\n",
       "</table>\n",
       "</div>"
      ],
      "text/plain": [
       "  employee        group  hire_date\n",
       "0      Bob   Accounting        NaN\n",
       "1     Jake  Engineering        NaN\n",
       "2     Lisa  Engineering        NaN\n",
       "3      Sue           HR        NaN\n",
       "0     Lisa          NaN     2004.0\n",
       "1      Bob          NaN     2008.0\n",
       "2     Jake          NaN     2012.0\n",
       "3      Sue          NaN     2014.0"
      ]
     },
     "execution_count": 277,
     "metadata": {},
     "output_type": "execute_result"
    }
   ],
   "source": [
    "df4"
   ]
  },
  {
   "cell_type": "code",
   "execution_count": 278,
   "id": "82da0f6c",
   "metadata": {},
   "outputs": [
    {
     "data": {
      "text/html": [
       "<div>\n",
       "<style scoped>\n",
       "    .dataframe tbody tr th:only-of-type {\n",
       "        vertical-align: middle;\n",
       "    }\n",
       "\n",
       "    .dataframe tbody tr th {\n",
       "        vertical-align: top;\n",
       "    }\n",
       "\n",
       "    .dataframe thead th {\n",
       "        text-align: right;\n",
       "    }\n",
       "</style>\n",
       "<table border=\"1\" class=\"dataframe\">\n",
       "  <thead>\n",
       "    <tr style=\"text-align: right;\">\n",
       "      <th></th>\n",
       "      <th>group</th>\n",
       "      <th>supervisor</th>\n",
       "    </tr>\n",
       "  </thead>\n",
       "  <tbody>\n",
       "    <tr>\n",
       "      <th>0</th>\n",
       "      <td>Accounting</td>\n",
       "      <td>Carly</td>\n",
       "    </tr>\n",
       "    <tr>\n",
       "      <th>1</th>\n",
       "      <td>Engineering</td>\n",
       "      <td>Guido</td>\n",
       "    </tr>\n",
       "    <tr>\n",
       "      <th>2</th>\n",
       "      <td>HR</td>\n",
       "      <td>Steve</td>\n",
       "    </tr>\n",
       "  </tbody>\n",
       "</table>\n",
       "</div>"
      ],
      "text/plain": [
       "         group supervisor\n",
       "0   Accounting      Carly\n",
       "1  Engineering      Guido\n",
       "2           HR      Steve"
      ]
     },
     "execution_count": 278,
     "metadata": {},
     "output_type": "execute_result"
    }
   ],
   "source": [
    "df4 = pd.DataFrame({'group': ['Accounting', 'Engineering', 'HR'],\n",
    "'supervisor': ['Carly', 'Guido', 'Steve']})\n",
    "df4"
   ]
  },
  {
   "cell_type": "code",
   "execution_count": 279,
   "id": "43993f01",
   "metadata": {},
   "outputs": [
    {
     "data": {
      "text/html": [
       "<div>\n",
       "<style scoped>\n",
       "    .dataframe tbody tr th:only-of-type {\n",
       "        vertical-align: middle;\n",
       "    }\n",
       "\n",
       "    .dataframe tbody tr th {\n",
       "        vertical-align: top;\n",
       "    }\n",
       "\n",
       "    .dataframe thead th {\n",
       "        text-align: right;\n",
       "    }\n",
       "</style>\n",
       "<table border=\"1\" class=\"dataframe\">\n",
       "  <thead>\n",
       "    <tr style=\"text-align: right;\">\n",
       "      <th></th>\n",
       "      <th>employee</th>\n",
       "      <th>group</th>\n",
       "      <th>hire_date</th>\n",
       "      <th>supervisor</th>\n",
       "    </tr>\n",
       "  </thead>\n",
       "  <tbody>\n",
       "    <tr>\n",
       "      <th>0</th>\n",
       "      <td>Bob</td>\n",
       "      <td>Accounting</td>\n",
       "      <td>2008</td>\n",
       "      <td>Carly</td>\n",
       "    </tr>\n",
       "    <tr>\n",
       "      <th>1</th>\n",
       "      <td>Jake</td>\n",
       "      <td>Engineering</td>\n",
       "      <td>2012</td>\n",
       "      <td>Guido</td>\n",
       "    </tr>\n",
       "    <tr>\n",
       "      <th>2</th>\n",
       "      <td>Lisa</td>\n",
       "      <td>Engineering</td>\n",
       "      <td>2004</td>\n",
       "      <td>Guido</td>\n",
       "    </tr>\n",
       "    <tr>\n",
       "      <th>3</th>\n",
       "      <td>Sue</td>\n",
       "      <td>HR</td>\n",
       "      <td>2014</td>\n",
       "      <td>Steve</td>\n",
       "    </tr>\n",
       "  </tbody>\n",
       "</table>\n",
       "</div>"
      ],
      "text/plain": [
       "  employee        group  hire_date supervisor\n",
       "0      Bob   Accounting       2008      Carly\n",
       "1     Jake  Engineering       2012      Guido\n",
       "2     Lisa  Engineering       2004      Guido\n",
       "3      Sue           HR       2014      Steve"
      ]
     },
     "execution_count": 279,
     "metadata": {},
     "output_type": "execute_result"
    }
   ],
   "source": [
    "pd.merge(df3, df4)"
   ]
  },
  {
   "cell_type": "code",
   "execution_count": 280,
   "id": "6fddf1f3",
   "metadata": {},
   "outputs": [
    {
     "data": {
      "text/html": [
       "<div>\n",
       "<style scoped>\n",
       "    .dataframe tbody tr th:only-of-type {\n",
       "        vertical-align: middle;\n",
       "    }\n",
       "\n",
       "    .dataframe tbody tr th {\n",
       "        vertical-align: top;\n",
       "    }\n",
       "\n",
       "    .dataframe thead th {\n",
       "        text-align: right;\n",
       "    }\n",
       "</style>\n",
       "<table border=\"1\" class=\"dataframe\">\n",
       "  <thead>\n",
       "    <tr style=\"text-align: right;\">\n",
       "      <th></th>\n",
       "      <th>temperature</th>\n",
       "      <th>windspeed</th>\n",
       "      <th>event</th>\n",
       "    </tr>\n",
       "  </thead>\n",
       "  <tbody>\n",
       "    <tr>\n",
       "      <th>0</th>\n",
       "      <td>32.0</td>\n",
       "      <td>6.0</td>\n",
       "      <td>Sunny</td>\n",
       "    </tr>\n",
       "    <tr>\n",
       "      <th>1</th>\n",
       "      <td>NaN</td>\n",
       "      <td>7.0</td>\n",
       "      <td>NaN</td>\n",
       "    </tr>\n",
       "    <tr>\n",
       "      <th>2</th>\n",
       "      <td>NaN</td>\n",
       "      <td>8.0</td>\n",
       "      <td>NaN</td>\n",
       "    </tr>\n",
       "    <tr>\n",
       "      <th>3</th>\n",
       "      <td>NaN</td>\n",
       "      <td>9.0</td>\n",
       "      <td>NaN</td>\n",
       "    </tr>\n",
       "    <tr>\n",
       "      <th>4</th>\n",
       "      <td>NaN</td>\n",
       "      <td>12.0</td>\n",
       "      <td>NaN</td>\n",
       "    </tr>\n",
       "  </tbody>\n",
       "</table>\n",
       "</div>"
      ],
      "text/plain": [
       "   temperature  windspeed  event\n",
       "0         32.0        6.0  Sunny\n",
       "1          NaN        7.0    NaN\n",
       "2          NaN        8.0    NaN\n",
       "3          NaN        9.0    NaN\n",
       "4          NaN       12.0    NaN"
      ]
     },
     "execution_count": 280,
     "metadata": {},
     "output_type": "execute_result"
    }
   ],
   "source": [
    "df.mode()"
   ]
  },
  {
   "cell_type": "code",
   "execution_count": null,
   "id": "666a1eff",
   "metadata": {},
   "outputs": [],
   "source": []
  }
 ],
 "metadata": {
  "kernelspec": {
   "display_name": "Python 3 (ipykernel)",
   "language": "python",
   "name": "python3"
  },
  "language_info": {
   "codemirror_mode": {
    "name": "ipython",
    "version": 3
   },
   "file_extension": ".py",
   "mimetype": "text/x-python",
   "name": "python",
   "nbconvert_exporter": "python",
   "pygments_lexer": "ipython3",
   "version": "3.9.6"
  }
 },
 "nbformat": 4,
 "nbformat_minor": 5
}
