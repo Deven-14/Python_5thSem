{
 "cells": [
  {
   "cell_type": "markdown",
   "id": "4bc23eaf",
   "metadata": {},
   "source": [
    "# Unit 1 - files"
   ]
  },
  {
   "cell_type": "markdown",
   "id": "f6b1f101",
   "metadata": {},
   "source": [
    "read(n)"
   ]
  },
  {
   "cell_type": "code",
   "execution_count": 3,
   "id": "dd81805b",
   "metadata": {},
   "outputs": [
    {
     "name": "stdout",
     "output_type": "stream",
     "text": [
      "india is m\n",
      "\n",
      "y cou\n",
      "\n",
      "ntry and all indians are my brothers and sisters. I love my country and i am proud of its rich and vary heritage.\n",
      "I shall always strive to be worthy of it.\n",
      "I shall give respect.\n",
      "\n"
     ]
    }
   ],
   "source": [
    "f = open(\"data.txt\", 'r')\n",
    "\n",
    "s1 = f.read(10)\n",
    "s2 = f.read(5)\n",
    "s3 = f.read()\n",
    "\n",
    "print(s1, s2, s3, sep=\"\\n\\n\")\n",
    "\n",
    "f.close()"
   ]
  },
  {
   "cell_type": "code",
   "execution_count": 5,
   "id": "a21cacd7",
   "metadata": {},
   "outputs": [
    {
     "name": "stdout",
     "output_type": "stream",
     "text": [
      "india is my country and all indians are my brothers and sisters. I love my country and i am proud of its rich and vary heritage.\n",
      "I shall always strive to be worthy of it.\n",
      "I shall give respect.\n",
      "\n",
      " -next- \n",
      "\n",
      " -next- \n",
      "\n"
     ]
    }
   ],
   "source": [
    "f = open(\"data.txt\", 'r')\n",
    "\n",
    "s1 = f.read()\n",
    "s2 = f.read(10)\n",
    "s3 = f.read(5)\n",
    "\n",
    "print(s1, s2, s3, sep=\"\\n -next- \\n\")\n",
    "\n",
    "f.close()"
   ]
  },
  {
   "cell_type": "markdown",
   "id": "43b2e386",
   "metadata": {},
   "source": [
    "readline(n)"
   ]
  },
  {
   "cell_type": "code",
   "execution_count": 6,
   "id": "1f6a9e8c",
   "metadata": {},
   "outputs": [
    {
     "name": "stdout",
     "output_type": "stream",
     "text": [
      "india is my country and all indians are my brothers and sisters. I love my country and i am proud of its rich and vary heritage.\n",
      "\n",
      "I shall always strive to be worthy of it.\n",
      "\n",
      "I shall gi\n"
     ]
    }
   ],
   "source": [
    "f = open(\"data.txt\", 'r')\n",
    "\n",
    "l1 = f.readline()\n",
    "l2 = f.readline()\n",
    "l3 = f.readline(10)\n",
    "\n",
    "print(l1, l2, l3, sep='\\n')\n",
    "\n",
    "f.close()"
   ]
  },
  {
   "cell_type": "markdown",
   "id": "45ff26fd",
   "metadata": {},
   "source": [
    "#### read line by line using readline"
   ]
  },
  {
   "cell_type": "code",
   "execution_count": 8,
   "id": "350806a1",
   "metadata": {},
   "outputs": [
    {
     "name": "stdout",
     "output_type": "stream",
     "text": [
      "india is my country and all indians are my brothers and sisters. I love my country and i am proud of its rich and vary heritage.\n",
      "\n",
      "I shall always strive to be worthy of it.\n",
      "\n",
      "I shall give respect.\n",
      "\n"
     ]
    }
   ],
   "source": [
    "f = open(\"data.txt\", \"r\")\n",
    "\n",
    "s = f.readline()\n",
    "while s:\n",
    "    print(s) # print(s, end=\"\") for lines without space in between them\n",
    "    s = f.readline()\n",
    "\n",
    "f.close()"
   ]
  },
  {
   "cell_type": "markdown",
   "id": "ed62da21",
   "metadata": {},
   "source": [
    "#### read line by line using for loop"
   ]
  },
  {
   "cell_type": "code",
   "execution_count": 9,
   "id": "fd423fef",
   "metadata": {},
   "outputs": [
    {
     "name": "stdout",
     "output_type": "stream",
     "text": [
      "india is my country and all indians are my brothers and sisters. I love my country and i am proud of its rich and vary heritage.\n",
      "\n",
      "I shall always strive to be worthy of it.\n",
      "\n",
      "I shall give respect.\n",
      "\n"
     ]
    }
   ],
   "source": [
    "f = open(\"data.txt\", 'r')\n",
    "\n",
    "for line in f:\n",
    "    print(line)\n",
    "    \n",
    "f.close()"
   ]
  },
  {
   "cell_type": "markdown",
   "id": "d9e5ae4b",
   "metadata": {},
   "source": [
    "#### size without using EOL or blank lines"
   ]
  },
  {
   "cell_type": "code",
   "execution_count": 11,
   "id": "110fa3a2",
   "metadata": {},
   "outputs": [
    {
     "name": "stdout",
     "output_type": "stream",
     "text": [
      "190 193\n"
     ]
    }
   ],
   "source": [
    "f = open(\"data.txt\", 'r')\n",
    "\n",
    "s, ts = 0, 0\n",
    "line = f.readline()\n",
    "while line:\n",
    "    ts += len(line)\n",
    "    s += len(line.strip())\n",
    "    line = f.readline() # ****************************\n",
    "\n",
    "print(s, ts)\n",
    "f.close()"
   ]
  },
  {
   "cell_type": "markdown",
   "id": "0757129c",
   "metadata": {},
   "source": [
    "### readlines()"
   ]
  },
  {
   "cell_type": "code",
   "execution_count": 13,
   "id": "fb7cda53",
   "metadata": {},
   "outputs": [
    {
     "name": "stdout",
     "output_type": "stream",
     "text": [
      "['india is my country and all indians are my brothers and sisters. I love my country and i am proud of its rich and vary heritage.\\n', 'I shall always strive to be worthy of it.\\n', 'I shall give respect.\\n']\n",
      "india is my country and all indians are my brothers and sisters. I love my country and i am proud of its rich and vary heritage.\n",
      "\n",
      "I shall give respect.\n",
      "\n"
     ]
    }
   ],
   "source": [
    "f = open(\"data.txt\", 'r')\n",
    "\n",
    "lines = f.readlines()\n",
    "print(lines, lines[0], lines[-1], sep='\\n')\n",
    "\n",
    "f.close()"
   ]
  },
  {
   "cell_type": "markdown",
   "id": "4cce30e7",
   "metadata": {},
   "source": [
    "#### size of file in bytes"
   ]
  },
  {
   "cell_type": "code",
   "execution_count": 15,
   "id": "9cd07535",
   "metadata": {},
   "outputs": [
    {
     "name": "stdout",
     "output_type": "stream",
     "text": [
      "193\n"
     ]
    }
   ],
   "source": [
    "f = open(\"data.txt\", 'r')\n",
    "\n",
    "print(len(f.read()))\n",
    "\n",
    "f.close()"
   ]
  },
  {
   "cell_type": "markdown",
   "id": "55888637",
   "metadata": {},
   "source": [
    "#### no. of lines in files"
   ]
  },
  {
   "cell_type": "code",
   "execution_count": 16,
   "id": "f9f349ee",
   "metadata": {},
   "outputs": [
    {
     "name": "stdout",
     "output_type": "stream",
     "text": [
      "3\n"
     ]
    }
   ],
   "source": [
    "f = open(\"data.txt\", 'r')\n",
    "\n",
    "print(len(f.readlines()))\n",
    "\n",
    "f.close()"
   ]
  },
  {
   "cell_type": "markdown",
   "id": "0e14986d",
   "metadata": {},
   "source": [
    "#### write to files"
   ]
  },
  {
   "cell_type": "code",
   "execution_count": 21,
   "id": "f987dca1",
   "metadata": {},
   "outputs": [
    {
     "name": "stdout",
     "output_type": "stream",
     "text": [
      "deven\n",
      "deven\n",
      "\n"
     ]
    }
   ],
   "source": [
    "f = open(\"student.txt\", 'w')\n",
    "\n",
    "name = \"deven\"\n",
    "f.write(name)\n",
    "f.write('\\n')\n",
    "f.write(name)\n",
    "f.write('\\n')\n",
    "\n",
    "f.close()\n",
    "\n",
    "f = open(\"student.txt\", 'r')\n",
    "print(f.read())\n",
    "f.close()"
   ]
  },
  {
   "cell_type": "markdown",
   "id": "b079561e",
   "metadata": {},
   "source": [
    "append to files"
   ]
  },
  {
   "cell_type": "code",
   "execution_count": 22,
   "id": "10d34445",
   "metadata": {},
   "outputs": [
    {
     "name": "stdout",
     "output_type": "stream",
     "text": [
      "deven\n",
      "deven\n",
      "arpita\n",
      "arpita\n",
      "\n"
     ]
    }
   ],
   "source": [
    "f = open(\"student.txt\", 'a')\n",
    "\n",
    "name = \"arpita\"\n",
    "f.write(name)\n",
    "f.write('\\n')\n",
    "f.write(name)\n",
    "f.write('\\n')\n",
    "\n",
    "f.close()\n",
    "\n",
    "f = open(\"student.txt\", 'r')\n",
    "print(f.read())\n",
    "f.close()"
   ]
  },
  {
   "cell_type": "markdown",
   "id": "785b425d",
   "metadata": {},
   "source": [
    "#### writelines"
   ]
  },
  {
   "cell_type": "code",
   "execution_count": 23,
   "id": "d4368a73",
   "metadata": {},
   "outputs": [
    {
     "name": "stdout",
     "output_type": "stream",
     "text": [
      "deven\n",
      "arpita\n",
      "abc\n",
      "\n"
     ]
    }
   ],
   "source": [
    "f = open(\"student.txt\", 'w')\n",
    "\n",
    "names = [\"deven\\n\", \"arpita\\n\", \"abc\\n\"] # \\n is important\n",
    "f.writelines(names)\n",
    "\n",
    "f.close()\n",
    "\n",
    "f = open(\"student.txt\", 'r')\n",
    "print(f.read())\n",
    "f.close()"
   ]
  },
  {
   "cell_type": "markdown",
   "id": "8fd8885c",
   "metadata": {},
   "source": [
    "#### seek( offset, whence=0 ) for text files"
   ]
  },
  {
   "cell_type": "code",
   "execution_count": 25,
   "id": "449a7c10",
   "metadata": {},
   "outputs": [
    {
     "name": "stdout",
     "output_type": "stream",
     "text": [
      "10 y country and all indians are my brothers and sisters. I love my country and i am proud of its rich and vary heritage.\n",
      "\n"
     ]
    }
   ],
   "source": [
    "f = open(\"data.txt\", \"r\")\n",
    "\n",
    "f.seek(10) # whence = 0, starting, only possible to move from beg\n",
    "print(f.tell(), f.readline())\n",
    "\n",
    "# these two also possible, stay in current pos, and move to end\n",
    "\n",
    "f.seek(0, 1)\n",
    "\n",
    "f.seek(0, 2)\n",
    "\n",
    "f.close()"
   ]
  },
  {
   "cell_type": "markdown",
   "id": "9f459d92",
   "metadata": {},
   "source": [
    "#### seek( offset, whence=0 ) for binary files"
   ]
  },
  {
   "cell_type": "code",
   "execution_count": 26,
   "id": "f10628af",
   "metadata": {},
   "outputs": [
    {
     "name": "stdout",
     "output_type": "stream",
     "text": [
      "15 b'ntry and all indians are my brothers and sisters. I love my country and i am proud of its rich and vary heritage.\\r\\n'\n",
      "140 b'ways strive to be worthy of it.\\r\\n'\n",
      "181 b'give respect.\\r\\n'\n"
     ]
    }
   ],
   "source": [
    "f = open(\"data.txt\", \"rb\")\n",
    "\n",
    "f.seek(15)\n",
    "print(f.tell(), f.readline())\n",
    "\n",
    "f.seek(10, 1)\n",
    "print(f.tell(), f.readline())\n",
    "\n",
    "f.seek(-15, 2)\n",
    "print(f.tell(), f.readline())\n",
    "\n",
    "f.close()"
   ]
  },
  {
   "cell_type": "markdown",
   "id": "e732ba6d",
   "metadata": {},
   "source": [
    "### serialization"
   ]
  },
  {
   "cell_type": "markdown",
   "id": "04fbc131",
   "metadata": {},
   "source": [
    "#### serialization with byte_object b\"\""
   ]
  },
  {
   "cell_type": "code",
   "execution_count": 27,
   "id": "a0bdfd09",
   "metadata": {},
   "outputs": [
    {
     "name": "stdout",
     "output_type": "stream",
     "text": [
      "{1: 'a', 2: 'b', 3: 'c'}\n"
     ]
    }
   ],
   "source": [
    "import pickle\n",
    "\n",
    "abc = {1: 'a', 2: 'b', 3: 'c'}\n",
    "abc_serial = pickle.dumps(abc)\n",
    "\n",
    "q = pickle.loads(abc_serial)\n",
    "print(q)"
   ]
  },
  {
   "cell_type": "markdown",
   "id": "755ad64c",
   "metadata": {},
   "source": [
    "#### serialization with files"
   ]
  },
  {
   "cell_type": "code",
   "execution_count": 29,
   "id": "a0c124c8",
   "metadata": {},
   "outputs": [
    {
     "name": "stdout",
     "output_type": "stream",
     "text": [
      "{1: 'a', 2: 'b', 3: 'c'}\n"
     ]
    }
   ],
   "source": [
    "import pickle\n",
    "\n",
    "abc = {1: 'a', 2: 'b', 3: 'c'}\n",
    "\n",
    "with open(\"data2.pickle\", \"wb\") as f:\n",
    "    pickle.dump(abc, f, pickle.HIGHEST_PROTOCOL)\n",
    "    \n",
    "with open(\"data2.pickle\", \"rb\") as f:\n",
    "    q = pickle.load(f)\n",
    "print(q)"
   ]
  },
  {
   "cell_type": "markdown",
   "id": "f63727c3",
   "metadata": {},
   "source": [
    "#### serialization of a custom class"
   ]
  },
  {
   "cell_type": "code",
   "execution_count": 32,
   "id": "e380a1bf",
   "metadata": {},
   "outputs": [
    {
     "name": "stdout",
     "output_type": "stream",
     "text": [
      "<__main__.example_class object at 0x000001C5805C25E0> None\n",
      "<__main__.example_class object at 0x000001C5805DF250> {'a': 1, 'b': 2}\n",
      "<__main__.example_class object at 0x000001C5805C2D60> {'a': 1, 'b': 2}\n"
     ]
    }
   ],
   "source": [
    "import pickle\n",
    "\n",
    "class example_class:\n",
    "    \n",
    "    def __init__(self):\n",
    "        self.n = 35\n",
    "        self.s = \"abc\"\n",
    "        self.l = [1, 2, 3]\n",
    "        self.d = {'a': 1, 'b': 2}\n",
    "        self.t = (3, 9)\n",
    "        \n",
    "obj = example_class()\n",
    "obj_s = pickle.dumps(obj)\n",
    "\n",
    "with open(\"data2.pickle\", \"wb\") as f:\n",
    "    pickle.dump(obj, f, pickle.HIGHEST_PROTOCOL)\n",
    "\n",
    "obj.d = None\n",
    "print(obj, obj.d)\n",
    "\n",
    "obj2 = pickle.loads(obj_s)\n",
    "print(obj2, obj2.d)\n",
    "    \n",
    "with open(\"data2.pickle\", \"rb\") as f:\n",
    "    q = pickle.load(f)\n",
    "    \n",
    "print(q, q.d)"
   ]
  },
  {
   "cell_type": "markdown",
   "id": "30424cd3",
   "metadata": {},
   "source": [
    "#### seek serialization assignment"
   ]
  },
  {
   "cell_type": "code",
   "execution_count": 38,
   "id": "224624e2",
   "metadata": {},
   "outputs": [
    {
     "name": "stdout",
     "output_type": "stream",
     "text": [
      "b'india is my country and all indians are my brothers and sisters. I love my country and i am proud of its rich and vary heritage.\\r\\nI shall always strive to be worthy of it.\\r\\nI shall give respect.\\r\\n'\n",
      "\n",
      "\n",
      "b'ct.\\r\\n'\n",
      "b''\n",
      "b'\\n'\n",
      "b'y country and all indians are my brothers and sisters. I love my country and i am proud of its rich and vary heritage.\\r\\nI shall always strive to be worthy of it.\\r\\nI shall give respect.\\r\\n'\n"
     ]
    }
   ],
   "source": [
    "f = open(\"data.txt\", \"rb\")\n",
    "\n",
    "print(f.read(), end=\"\\n\\n\\n\")\n",
    "\n",
    "f.seek(-5, 2)\n",
    "print(f.read()) # only 5 bytes\n",
    "\n",
    "f.seek(0, 2) # end of file ******************************\n",
    "print(f.read())\n",
    "\n",
    "f.seek(-1, 2) # last char of file ******************************\n",
    "print(f.read())\n",
    "\n",
    "f.seek(10, 0) # consuming 10 bytes from beg, so at 11th loc\n",
    "# but if they ask 10th loc from begining do this\n",
    "print(f.read())\n",
    "\n",
    "f.close()"
   ]
  },
  {
   "cell_type": "markdown",
   "id": "806a1ab3",
   "metadata": {},
   "source": [
    "#### 5) Implement a program to copy one python script into another by removing all the comment lines from the source file to destination file."
   ]
  },
  {
   "cell_type": "code",
   "execution_count": 40,
   "id": "b5f232cb",
   "metadata": {},
   "outputs": [
    {
     "name": "stdout",
     "output_type": "stream",
     "text": [
      "# welcome to this first program\n",
      "print(\"Tony Stark created the Arc Reactor inside a cave\")\n",
      "a=5\n",
      "print(f'The value of a is: {a}')\n",
      "# program end\n",
      "\n",
      "print(\"Tony Stark created the Arc Reactor inside a cave\")\n",
      "a=5\n",
      "print(f'The value of a is: {a}')\n",
      "\n"
     ]
    }
   ],
   "source": [
    "with open(\"src.txt\", 'r') as rf:\n",
    "    with open(\"dest.txt\", 'w') as wf:\n",
    "        \n",
    "        for line in rf:\n",
    "            if not line.strip().startswith(\"#\"):\n",
    "                wf.write(line)\n",
    "                \n",
    "with open(\"src.txt\", 'r') as f:\n",
    "    print(f.read())\n",
    "                \n",
    "with open(\"dest.txt\", 'r') as f:\n",
    "    print(f.read())"
   ]
  },
  {
   "cell_type": "markdown",
   "id": "49c6d838",
   "metadata": {},
   "source": [
    "#### 1) Write a program to enter the following records in a binary file:\n",
    "     \n",
    "Item No integer\n",
    "  \n",
    "Item_Name string\n",
    "     \n",
    "Qty integer\n",
    "\n",
    "Price float\n",
    "\n",
    "Number of records to be\n",
    "entered should be accepted from the user. Read the file to display the records\n",
    "in the following format:\n",
    "\n",
    "Item No:\n",
    "\n",
    "Item Name :\n",
    "\n",
    "Quantity:\n",
    "\n",
    "Price per item:\n",
    "\n",
    "Amount: ( to be calculated as Price * Qty)"
   ]
  },
  {
   "cell_type": "code",
   "execution_count": 49,
   "id": "8837365d",
   "metadata": {},
   "outputs": [],
   "source": [
    "class Item:\n",
    "    \n",
    "    def __init__(self, no, name, qty, price):\n",
    "        self.no = no\n",
    "        self.name = name\n",
    "        self.qty = qty\n",
    "        self.price = price\n",
    "        self.amount = price * qty\n",
    "    \n",
    "    def __str__(self): # don't do this in exam do print_item() function\n",
    "        return '\\n'.join([\n",
    "            \"Item No.: \" + str(self.no),\n",
    "            \"Item Name: \" + self.name,\n",
    "            \"Qty: \" + str(self.qty),\n",
    "            \"Price: \" + str(self.price),\n",
    "            \"Amount: \" + str(self.amount)\n",
    "        ])\n",
    "    \n",
    "    def print_item(self):\n",
    "        print(self.no, self.name, self.qty, self.price, self.amount)\n",
    "    "
   ]
  },
  {
   "cell_type": "code",
   "execution_count": 51,
   "id": "919fb449",
   "metadata": {},
   "outputs": [
    {
     "name": "stdout",
     "output_type": "stream",
     "text": [
      "Enter no. of records to be entered: 5\n"
     ]
    }
   ],
   "source": [
    "n = int(input(\"Enter no. of records to be entered: \"))\n",
    "lst = []\n",
    "for i in range(n):\n",
    "    obj = Item(i, \"d\"+str(i), 10*i, 100*i) # accept these also from user, \n",
    "    # maybe write a function to accept it from user... \n",
    "    lst.append(obj)"
   ]
  },
  {
   "cell_type": "code",
   "execution_count": 52,
   "id": "8283e56e",
   "metadata": {},
   "outputs": [
    {
     "name": "stdout",
     "output_type": "stream",
     "text": [
      "0 d0 0 0 0\n",
      "1 d1 10 100 1000\n",
      "2 d2 20 200 4000\n",
      "3 d3 30 300 9000\n",
      "4 d4 40 400 16000\n"
     ]
    }
   ],
   "source": [
    "import pickle\n",
    "\n",
    "with open(\"items.dat\", \"wb\") as f:\n",
    "    for item in lst:\n",
    "        pickle.dump(item, f) # highest protocol\n",
    "        \n",
    "with open(\"items.dat\", \"rb\") as f:\n",
    "    for item in lst:\n",
    "        a = pickle.load(f)\n",
    "        a.print_item()"
   ]
  },
  {
   "cell_type": "markdown",
   "id": "be75817c",
   "metadata": {},
   "source": [
    "## 2) Write a program to accept string/sentences from the user till the user enters “END” to. Save the data in a text file and then display only those sentences which begin with an uppercase alphabet"
   ]
  },
  {
   "cell_type": "code",
   "execution_count": 54,
   "id": "0c896dff",
   "metadata": {},
   "outputs": [
    {
     "name": "stdout",
     "output_type": "stream",
     "text": [
      "Enter sentence: Ab\n",
      "Enter sentence: END\n",
      "Output: \n",
      "Ab\n"
     ]
    }
   ],
   "source": [
    "with open(\"sentences.txt\", \"w\") as f:\n",
    "    \n",
    "    sentence = input(\"Enter sentence: \")\n",
    "    while sentence != \"END\":\n",
    "        f.write(sentence + \"\\n\") # \\n VVVVVVVVVVVVVVVVVVVVVVVVVVVVVVVVvvvimp\n",
    "        sentence = input(\"Enter sentence: \")\n",
    "    \n",
    "with open(\"sentences.txt\", \"r\") as f:\n",
    "    print(\"Output: \")\n",
    "    for sentence in f:\n",
    "        if sentence[0].isupper():\n",
    "            print(sentence, end=\"\") # end=\"\" coz the sentence already has \\n"
   ]
  },
  {
   "cell_type": "markdown",
   "id": "0f44ea99",
   "metadata": {},
   "source": [
    "#### 3) Write the file mode that will be used for opening the following files. Also, write the Python statements to open the following files:\n",
    "a text file “example.txt” in both read and write mode"
   ]
  },
  {
   "cell_type": "code",
   "execution_count": 55,
   "id": "5e96b3c9",
   "metadata": {},
   "outputs": [
    {
     "name": "stdout",
     "output_type": "stream",
     "text": [
      "no error\n"
     ]
    }
   ],
   "source": [
    "f = open(\"sentences.txt\", \"w+\")\n",
    "print(\"no error\")\n",
    "# w+ read and write both and create file if not exist\n",
    "f.close()"
   ]
  },
  {
   "cell_type": "code",
   "execution_count": 59,
   "id": "8e78c8c7",
   "metadata": {},
   "outputs": [
    {
     "name": "stdout",
     "output_type": "stream",
     "text": [
      "{'i': 12, 'n': 8, 'd': 6, 'a': 14, ' ': 35, 's': 11, 'm': 3, 'y': 7, 'c': 3, 'o': 8, 'u': 2, 't': 10, 'r': 12, 'l': 7, 'e': 10, 'b': 1, 'h': 5, '.': 3, 'I': 2, 'v': 3, 'p': 1, 'f': 1, 'g': 1, '\\n': 2, 'w': 1}\n"
     ]
    }
   ],
   "source": [
    "f = open(\"data.txt\", 'r')\n",
    "\n",
    "d = {}\n",
    "for char in f.read():\n",
    "    if char in d:\n",
    "        d[char] += 1\n",
    "    else:\n",
    "        d[char] = 0\n",
    "        \n",
    "print(d)\n",
    "        \n",
    "f.close()"
   ]
  },
  {
   "cell_type": "markdown",
   "id": "5d05bfd2",
   "metadata": {},
   "source": [
    "### 5) Implement a python program to validate a mobile number. The number should start with 7, 8 or 9 followed by 9 digits."
   ]
  },
  {
   "cell_type": "code",
   "execution_count": 60,
   "id": "b1bda841",
   "metadata": {},
   "outputs": [
    {
     "name": "stdout",
     "output_type": "stream",
     "text": [
      "Enter 10 digit mobile number: 7123456890\n",
      "Number is correct\n"
     ]
    }
   ],
   "source": [
    "import re\n",
    "\n",
    "n = input(\"Enter 10 digit mobile number: \")\n",
    "if re.match(r'[789]\\d{9}', n):\n",
    "    print(\"Number is correct\")\n",
    "else:\n",
    "    print(\"Number is not correct\")"
   ]
  },
  {
   "cell_type": "markdown",
   "id": "9df4679f",
   "metadata": {},
   "source": [
    "### exam papers"
   ]
  },
  {
   "cell_type": "code",
   "execution_count": 68,
   "id": "52b2b4bb",
   "metadata": {},
   "outputs": [
    {
     "name": "stdout",
     "output_type": "stream",
     "text": [
      "Line 1\n",
      "This is line 2\n",
      "That makes this line 3\n",
      "L1\n",
      "L2\n",
      "L3\n",
      "\n"
     ]
    }
   ],
   "source": [
    "# 1) a)\n",
    "tf = open(\"c.txt\", \"w+\") # 1 w+\n",
    "tf.write(\"Line 1\\n\")\n",
    "tf.write(\"This is line 2\\n\")\n",
    "tf.write(\"That makes this line 3\\n\") # 2 \"\"\n",
    "lines = [\"L1\\n\", \"L2\\n\", \"L3\\n\"] # 3 \\n 4 ; \n",
    "tf.writelines(lines)\n",
    "# a = tf.read()\n",
    "# print(a)  # only these two lines won't work\n",
    "tf.seek(0, 0) # 5 missing *****************************************\n",
    "a = tf.read()\n",
    "print(a)\n",
    "tf.close()"
   ]
  },
  {
   "cell_type": "code",
   "execution_count": 69,
   "id": "9c853138",
   "metadata": {},
   "outputs": [],
   "source": [
    "# 2) comming program top"
   ]
  },
  {
   "cell_type": "code",
   "execution_count": 73,
   "id": "bf799494",
   "metadata": {},
   "outputs": [],
   "source": [
    "# 3) obj serial top"
   ]
  },
  {
   "cell_type": "markdown",
   "id": "d4b8a4a1",
   "metadata": {},
   "source": [
    "### Write a python program to reverse the content of a file and store it in another file"
   ]
  },
  {
   "cell_type": "code",
   "execution_count": 74,
   "id": "b2f9261d",
   "metadata": {},
   "outputs": [],
   "source": [
    "# 1) a)\n",
    "with open(\"data.txt\", 'r') as rf:\n",
    "    with open(\"writefile.txt\", 'w') as wf:\n",
    "        data = rf.read()\n",
    "        data = data[::-1]\n",
    "        wf.write(data)"
   ]
  },
  {
   "cell_type": "code",
   "execution_count": 75,
   "id": "813059db",
   "metadata": {},
   "outputs": [],
   "source": [
    "# 1) b) easy, show for dict obj and an list obj using files"
   ]
  },
  {
   "cell_type": "markdown",
   "id": "a59ef64c",
   "metadata": {},
   "source": [
    "# Unit 2"
   ]
  },
  {
   "cell_type": "code",
   "execution_count": 1,
   "id": "77f397bc",
   "metadata": {},
   "outputs": [],
   "source": [
    "import sqlite3\n",
    "\n",
    "con = sqlite3.connect(\"customer.db\")\n",
    "cur = con.cursor()\n",
    "\n",
    "cur.execute(\"\"\"\n",
    "    create table customer(\n",
    "    first_name text,\n",
    "    last_name text,\n",
    "    email text)\n",
    "\"\"\")\n",
    "\n",
    "con.commit()\n",
    "con.close()"
   ]
  },
  {
   "cell_type": "code",
   "execution_count": 19,
   "id": "589c6b88",
   "metadata": {},
   "outputs": [
    {
     "name": "stdout",
     "output_type": "stream",
     "text": [
      "[(1, 'Tim', 'Smith', 'tim@code.com'), (2, 'Mary', 'Brown', 'mary@code.com'), (3, 'wes', 'brown', 'wes@code.com'), (4, 'raju', 'k', 'raju@code.com')]\n"
     ]
    }
   ],
   "source": [
    "import sqlite3\n",
    "\n",
    "con = sqlite3.connect(\"customer.db\")\n",
    "cur = con.cursor()\n",
    "\n",
    "# cur.execute(\"delete from customer\")\n",
    "# # IMPORTANT, MAKE SURE TO USE ' ' INSIDE \" \"\n",
    "# cur.execute(\"insert into customer values ('Tim', 'Smith', 'tim@code.com')\")\n",
    "# cur.execute(\"insert into customer values (?, ?, ?)\", \n",
    "#             ['Mary', 'Brown', 'mary@code.com'])\n",
    "\n",
    "# customers = [\n",
    "#     ('wes', 'brown', 'wes@code.com'),\n",
    "#     ('raju', 'k', 'raju@code.com'),\n",
    "#     ('ravi', 'k', 'ravi@code.com')\n",
    "# ]\n",
    "# cur.executemany(\"insert into customer values (?, ?, ?)\", customers)\n",
    "\n",
    "# cur.execute(\"select * from customer\")\n",
    "# print(cur.fetchone())\n",
    "# print(cur.fetchmany(2))\n",
    "# print(cur.fetchall())\n",
    "\n",
    "# cur.execute(\"select rowid, * from customer\")\n",
    "# print(cur.fetchall())\n",
    "\n",
    "# # MAKE SURE TO USE ' '  INSIDE \" \"\n",
    "# cur.execute(\"select rowid, * from customer where last_name='k'\")\n",
    "# print(cur.fetchall())\n",
    "\n",
    "# # % for zero - multiple, _ for one single char\n",
    "# cur.execute(\"select rowid, * from customer where last_name LIKE 'br%'\")\n",
    "# print(cur.fetchall())\n",
    "\n",
    "# cur.execute(\"update customer set first_name='Bob' WHERE last_name='Smith'\")\n",
    "\n",
    "# cur.execute(\"update customer set first_name='Tim' where rowid=1\")\n",
    "\n",
    "# cur.execute(\"delete from customer where rowid=5\")\n",
    "\n",
    "# # when doing order by rowid, do select rowid, *, so that u can see the change\n",
    "# # happening\n",
    "# cur.execute(\"select rowid, * from customer order by rowid desc limit 2\")\n",
    "# print(cur.fetchall())\n",
    "\n",
    "cur.execute(\"select rowid, * from customer\")\n",
    "print(cur.fetchall())\n",
    "\n",
    "con.commit()\n",
    "con.close()"
   ]
  },
  {
   "cell_type": "markdown",
   "id": "feb4abc1",
   "metadata": {},
   "source": [
    "### assignment questions"
   ]
  },
  {
   "cell_type": "markdown",
   "id": "c41890c4",
   "metadata": {},
   "source": [
    "1) Create a python program on the scenario given below: Create an Employee table with attributes such as emp_ssn, emp_name, emp_category, gross_sal, basic_sal. Insert atleast three values in to the database. Demonstrate the database concepts for the following scenario: A company management wants to compute the net salary of each group of employee based on the category of the employee such as Category A, Category B, Category C. Compute the net salary based on the following table.\n",
    "        "
   ]
  },
  {
   "cell_type": "code",
   "execution_count": 4,
   "id": "5704df0b",
   "metadata": {},
   "outputs": [],
   "source": [
    "import sqlite3\n",
    "con = sqlite3.connect(\"xyzcompany.db\")\n",
    "cur = con.cursor()"
   ]
  },
  {
   "cell_type": "code",
   "execution_count": 5,
   "id": "ddf33788",
   "metadata": {},
   "outputs": [
    {
     "data": {
      "text/plain": [
       "<sqlite3.Cursor at 0x20cdf1e2180>"
      ]
     },
     "execution_count": 5,
     "metadata": {},
     "output_type": "execute_result"
    }
   ],
   "source": [
    "cur.execute(\"\"\"\n",
    "    create table employee(\n",
    "        ssn integer primary key,\n",
    "        name text, \n",
    "        category text, \n",
    "        gross_sal real,\n",
    "        basic_sal real\n",
    "    )\n",
    "\"\"\")"
   ]
  },
  {
   "cell_type": "code",
   "execution_count": 7,
   "id": "69c97c16",
   "metadata": {},
   "outputs": [
    {
     "data": {
      "text/plain": [
       "<sqlite3.Cursor at 0x20cdf1e2180>"
      ]
     },
     "execution_count": 7,
     "metadata": {},
     "output_type": "execute_result"
    }
   ],
   "source": [
    "employees = [\n",
    "    (1, \"Rohan\", 'A', \"NULL\", 1000),\n",
    "    (2, \"Mohan\", 'B', \"NULL\", 2000),\n",
    "    (3, \"Sohan\", 'C', \"NULL\", 3000)\n",
    "]\n",
    "cur.executemany(\"insert into employee values (?, ?, ?, ?, ?)\", employees)"
   ]
  },
  {
   "cell_type": "code",
   "execution_count": 8,
   "id": "7f6be501",
   "metadata": {},
   "outputs": [],
   "source": [
    "cur.execute(\"select * from employee\")\n",
    "emps = cur.fetchall()"
   ]
  },
  {
   "cell_type": "code",
   "execution_count": 11,
   "id": "16362acd",
   "metadata": {},
   "outputs": [
    {
     "name": "stdout",
     "output_type": "stream",
     "text": [
      "name: Rohan ssn: 1 net sal: 1260.0\n",
      "name: Mohan ssn: 2 net sal: 2400.0\n",
      "name: Sohan ssn: 3 net sal: 3510.0\n"
     ]
    }
   ],
   "source": [
    "for emp in emps:\n",
    "    ssn, name, category, gross_sal, basic_sal = emp\n",
    "    if category == \"A\":\n",
    "        da = 80 / 100 * basic_sal\n",
    "        gross_sal = basic_sal + da\n",
    "        tax = 30 / 100 * gross_sal\n",
    "    elif category == \"B\":\n",
    "        da = 50 / 100 * basic_sal\n",
    "        gross_sal = basic_sal + da\n",
    "        tax = 20 / 100 * gross_sal\n",
    "    elif category == \"C\":\n",
    "        da = 30 / 100 * basic_sal\n",
    "        gross_sal = basic_sal + da\n",
    "        tax = 10 / 100 * gross_sal\n",
    "    net_sal = basic_sal + da - tax\n",
    "    \n",
    "    cur.execute(\"update employee set gross_sal=? where ssn=?\", \n",
    "                (gross_sal, ssn))\n",
    "    \n",
    "    print(\"name:\", name, \"ssn:\", ssn, \"net sal:\", net_sal)"
   ]
  },
  {
   "cell_type": "code",
   "execution_count": 12,
   "id": "6fa30b28",
   "metadata": {},
   "outputs": [
    {
     "name": "stdout",
     "output_type": "stream",
     "text": [
      "[(1, 'Rohan', 'A', 1800.0, 1000.0), (2, 'Mohan', 'B', 3000.0, 2000.0), (3, 'Sohan', 'C', 3900.0, 3000.0)]\n"
     ]
    }
   ],
   "source": [
    "cur.execute(\"select * from employee\")\n",
    "emps = cur.fetchall()\n",
    "print(emps)"
   ]
  },
  {
   "cell_type": "code",
   "execution_count": 13,
   "id": "4cc8f250",
   "metadata": {},
   "outputs": [],
   "source": [
    "con.commit()\n",
    "con.close()"
   ]
  },
  {
   "cell_type": "markdown",
   "id": "0c69a4a7",
   "metadata": {},
   "source": [
    "Implement Library management where students can borrow as well as donate books. Books table:\n",
    "\n",
    "1 id INTEGER PRIMARY KEY 2 name TEXT 3 total_count INTEGER\n",
    "\n",
    "a) Insert values to the table\n",
    "\n",
    "34,king,5\n",
    "\n",
    "123,Harry Potter,3\n",
    "\n",
    "b) Update the table based on user inputs: based on book id I) BORROW II) RETURN"
   ]
  },
  {
   "cell_type": "code",
   "execution_count": 14,
   "id": "80290d00",
   "metadata": {},
   "outputs": [],
   "source": [
    "import sqlite3\n",
    "con = sqlite3.connect(\"library.db\")\n",
    "cur = con.cursor()"
   ]
  },
  {
   "cell_type": "code",
   "execution_count": 16,
   "id": "e8626ad0",
   "metadata": {},
   "outputs": [
    {
     "data": {
      "text/plain": [
       "<sqlite3.Cursor at 0x20cdf1e2f80>"
      ]
     },
     "execution_count": 16,
     "metadata": {},
     "output_type": "execute_result"
    }
   ],
   "source": [
    "cur.execute(\"\"\"\n",
    "    create table books(\n",
    "        id integer primary key,\n",
    "        name text,\n",
    "        tcount integer\n",
    "    )\n",
    "\"\"\")"
   ]
  },
  {
   "cell_type": "code",
   "execution_count": 17,
   "id": "ee49180f",
   "metadata": {},
   "outputs": [
    {
     "data": {
      "text/plain": [
       "<sqlite3.Cursor at 0x20cdf1e2f80>"
      ]
     },
     "execution_count": 17,
     "metadata": {},
     "output_type": "execute_result"
    }
   ],
   "source": [
    "books = [\n",
    "    (34, \"king\", 5),\n",
    "    (123, \"Harry Potter\", 3)\n",
    "]\n",
    "cur.executemany(\"insert into books values (?, ?, ?)\", books)"
   ]
  },
  {
   "cell_type": "code",
   "execution_count": 18,
   "id": "9d28d408",
   "metadata": {},
   "outputs": [
    {
     "name": "stdout",
     "output_type": "stream",
     "text": [
      "[(34, 'king', 5), (123, 'Harry Potter', 3)]\n"
     ]
    }
   ],
   "source": [
    "cur.execute(\"select * from books\")\n",
    "books = cur.fetchall()\n",
    "print(books)"
   ]
  },
  {
   "cell_type": "code",
   "execution_count": 23,
   "id": "8a7d0b87",
   "metadata": {},
   "outputs": [
    {
     "name": "stdout",
     "output_type": "stream",
     "text": [
      "\n",
      "\n",
      "Menu \n",
      "1. borrow \n",
      "2. return \n",
      "3. exit\n",
      "\n",
      "Enter Option: 1\n",
      "Enter the book id: 34\n",
      "34 book borrowed\n",
      "\n",
      "\n",
      "Menu \n",
      "1. borrow \n",
      "2. return \n",
      "3. exit\n",
      "\n",
      "Enter Option: 1\n",
      "Enter the book id: 34\n",
      "34 book borrowed\n",
      "\n",
      "\n",
      "Menu \n",
      "1. borrow \n",
      "2. return \n",
      "3. exit\n",
      "\n",
      "Enter Option: 2\n",
      "Enter the book id: 123\n",
      "123 book returned\n",
      "\n",
      "\n",
      "Menu \n",
      "1. borrow \n",
      "2. return \n",
      "3. exit\n",
      "\n",
      "Enter Option: 3\n"
     ]
    }
   ],
   "source": [
    "while 1:\n",
    "    print(\"\\n\\nMenu \\n1. borrow \\n2. return \\n3. exit\")\n",
    "    opt = int(input(\"\\nEnter Option: \"))\n",
    "    if opt == 3:\n",
    "        break\n",
    "    book_id = int(input(\"Enter the book id: \"))\n",
    "    if opt == 1:\n",
    "        cur.execute(\"update books set tcount = tcount - ? where id = ?\", \n",
    "                    (1, book_id))\n",
    "        print(book_id, \"book borrowed\")\n",
    "    elif opt == 2:\n",
    "        cur.execute(\"update books set tcount = tcount + ? where id = ?\", \n",
    "                    (1, book_id))\n",
    "        print(book_id, \"book returned\")\n",
    "    else:\n",
    "        print(\"Wrong input\")"
   ]
  },
  {
   "cell_type": "code",
   "execution_count": 24,
   "id": "3856b4d1",
   "metadata": {},
   "outputs": [
    {
     "name": "stdout",
     "output_type": "stream",
     "text": [
      "[(34, 'king', 3), (123, 'Harry Potter', 4)]\n"
     ]
    }
   ],
   "source": [
    "cur.execute(\"select * from books\")\n",
    "books = cur.fetchall()\n",
    "print(books)"
   ]
  },
  {
   "cell_type": "code",
   "execution_count": 25,
   "id": "c7ce6edf",
   "metadata": {},
   "outputs": [],
   "source": [
    "con.commit()\n",
    "con.close()"
   ]
  },
  {
   "cell_type": "markdown",
   "id": "e2aa1091",
   "metadata": {},
   "source": [
    "#### see questions"
   ]
  },
  {
   "cell_type": "code",
   "execution_count": 26,
   "id": "9e972121",
   "metadata": {},
   "outputs": [],
   "source": [
    "# 2) a) b) both top"
   ]
  },
  {
   "cell_type": "code",
   "execution_count": 29,
   "id": "121ee01e",
   "metadata": {},
   "outputs": [],
   "source": [
    "# 2) a)"
   ]
  },
  {
   "cell_type": "code",
   "execution_count": 34,
   "id": "fd2f6d0d",
   "metadata": {},
   "outputs": [],
   "source": [
    "import sqlite3\n",
    "con = sqlite3.connect(\"companySEEQ.db\")\n",
    "cur = con.cursor()"
   ]
  },
  {
   "cell_type": "code",
   "execution_count": 36,
   "id": "b52eb74b",
   "metadata": {},
   "outputs": [
    {
     "data": {
      "text/plain": [
       "<sqlite3.Cursor at 0x20ce01b0260>"
      ]
     },
     "execution_count": 36,
     "metadata": {},
     "output_type": "execute_result"
    }
   ],
   "source": [
    "cur.execute(\"\"\"\n",
    "    create table company(\n",
    "        id integer, \n",
    "        name text, \n",
    "        age integer,\n",
    "        address text, \n",
    "        salary real\n",
    "    )\n",
    "\"\"\")"
   ]
  },
  {
   "cell_type": "code",
   "execution_count": 37,
   "id": "eb0d5596",
   "metadata": {},
   "outputs": [
    {
     "data": {
      "text/plain": [
       "<sqlite3.Cursor at 0x20ce01b0260>"
      ]
     },
     "execution_count": 37,
     "metadata": {},
     "output_type": "execute_result"
    }
   ],
   "source": [
    "employees = [\n",
    "    (1, \"paul\", 32, \"california\", 20000.0),\n",
    "    (2, \"allen\", 25, \"texas\", 15000.0),\n",
    "    (3, \"teddy\", 23, \"norway\", 20000.0), \n",
    "    (4, \"james\", 44, \"norway\", 5000.0),\n",
    "    (5, \"james\", 45, \"texas\", 5000.0)\n",
    "]\n",
    "\n",
    "cur.executemany(\"insert into company values (?, ?, ?, ?, ?)\", employees)"
   ]
  },
  {
   "cell_type": "code",
   "execution_count": 40,
   "id": "c538161b",
   "metadata": {},
   "outputs": [
    {
     "name": "stdout",
     "output_type": "stream",
     "text": [
      "[(2, 'allen', 25, 'texas', 15000.0), (1, 'paul', 32, 'california', 20000.0), (3, 'teddy', 23, 'norway', 20000.0)]\n"
     ]
    }
   ],
   "source": [
    "cur.execute(\"select * from company group by name having count(name) < 2\")\n",
    "print(cur.fetchall())"
   ]
  },
  {
   "cell_type": "code",
   "execution_count": 41,
   "id": "c5f46686",
   "metadata": {},
   "outputs": [
    {
     "name": "stdout",
     "output_type": "stream",
     "text": [
      "[('allen', 15000.0), ('james', 10000.0), ('paul', 20000.0), ('teddy', 20000.0)]\n"
     ]
    }
   ],
   "source": [
    "cur.execute(\"\"\"select name, sum(salary) from company group by name \n",
    "                order by name asc\"\"\")\n",
    "print(cur.fetchall())"
   ]
  },
  {
   "cell_type": "code",
   "execution_count": null,
   "id": "875491f1",
   "metadata": {},
   "outputs": [],
   "source": []
  }
 ],
 "metadata": {
  "kernelspec": {
   "display_name": "Python 3 (ipykernel)",
   "language": "python",
   "name": "python3"
  },
  "language_info": {
   "codemirror_mode": {
    "name": "ipython",
    "version": 3
   },
   "file_extension": ".py",
   "mimetype": "text/x-python",
   "name": "python",
   "nbconvert_exporter": "python",
   "pygments_lexer": "ipython3",
   "version": "3.9.6"
  }
 },
 "nbformat": 4,
 "nbformat_minor": 5
}
