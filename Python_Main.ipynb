{
 "cells": [
  {
   "cell_type": "markdown",
   "id": "1fc986a3",
   "metadata": {},
   "source": [
    "## list"
   ]
  },
  {
   "cell_type": "code",
   "execution_count": 16,
   "id": "fd72facd",
   "metadata": {},
   "outputs": [
    {
     "name": "stdout",
     "output_type": "stream",
     "text": [
      "lst3 [[2], [2], [2]]\n",
      "lst3 [[2], [], []]\n"
     ]
    }
   ],
   "source": [
    "# https://docs.python.org/3/tutorial/datastructures.html\n",
    "# https://docs.python.org/3/library/stdtypes.html\n",
    "\n",
    "lst = [4, 5, 3, 7]\n",
    "lst2 = []\n",
    "# list() or list(iterable)\n",
    "\n",
    "# append\n",
    "lst.append(5) \n",
    "# not push, a[len(a):] = [x]\n",
    "\n",
    "# extend\n",
    "lst.extend(lst2) \n",
    "# list.extend(iterable), a[len(a):] = [x]\n",
    "# lst += lst2\n",
    "# lst[i:j] = lst2   # lst2 should be iterable\n",
    "# lst[i:j:k] = lst2   # lst2 should be iterable\n",
    "\n",
    "# insert\n",
    "lst.insert(1, 2) \n",
    "# list.insert(i, x)\n",
    "# lst[i:i] = [x] # equivalent\n",
    "\n",
    "# remove and pop\n",
    "lst.remove(5) \n",
    "# lst.remove(x) throws ValueError if not found\n",
    "lst.pop(0) \n",
    "# throws IndexError if out of index\n",
    "# lst.pop() or lst.pop(i)\n",
    "# lst.pop([i]) i-index, if not sepcified then last item is popped\n",
    "\n",
    "# index\n",
    "lst.index(3, 0, len(lst)) # list.index(x, [start, [end]])\n",
    "# throws ValueError if not found\n",
    "# [start, end) inclusive of start and excluding end index\n",
    "\n",
    "n = lst.count(2) # list.count(x)\n",
    "\n",
    "# sort\n",
    "lst.sort(key=None, reverse=True)\n",
    "# lst.sort(*, key=None, reverse=False) can apply these only with keywords\n",
    "# lst.sort(key=str.lower)\n",
    "\n",
    "# REVERSE\n",
    "lst.reverse()\n",
    "# reverse the elements of the list IN PLACE*******\n",
    "# RETURNS None AS THE REVERSE IS HAPPENING IN PLACE\n",
    "\n",
    "# copy\n",
    "b = lst.copy() \n",
    "# shallow copy of list, a[:]\n",
    "# trick - works as deep copy for immutable types int, str, tuple, frozenset\n",
    "# a = [1, 2, 3]; b = a.copy(); \n",
    "# maybe like java\n",
    "# b[0] = 4; it'll create a int(4) in the memory if not already present\n",
    "# and then places it in 0th index, b[1] = 3, takes 3 already present in\n",
    "# memeory and place that in 1st and it's already there in 2nd index also.\n",
    "# a = [[1, 2], 3]; b = a.copy();\n",
    "# b[1] = 4  # a - [[1, 2], 3], b - [[1, 2], 4]\n",
    "# b[0][1] = 5  # a - [[1, 5], 3], b - [[1, 5], 4]\n",
    "\n",
    "# * operator\n",
    "lst3 = [[]] * 3\n",
    "lst3[0].append(2)\n",
    "print(\"lst3\", lst3)\n",
    "lst3 = [[] for _ in range(3)]\n",
    "lst3[0].append(2)\n",
    "print(\"lst3\", lst3)\n",
    "# lst *= 3\n",
    "\n",
    "size = len(lst)\n",
    "\n",
    "# clear\n",
    "lst.clear() # del a[:]\n",
    "# del a[i:j:k]\n",
    "# del a[i:j]"
   ]
  },
  {
   "cell_type": "markdown",
   "id": "57981dae",
   "metadata": {},
   "source": [
    "## range"
   ]
  },
  {
   "cell_type": "code",
   "execution_count": 14,
   "id": "467037ad",
   "metadata": {},
   "outputs": [
    {
     "name": "stdout",
     "output_type": "stream",
     "text": [
      "False\n",
      "True\n",
      "5\n",
      "10\n",
      "from 0 to 5 range(0, 10, 2)\n",
      "index -1 18\n"
     ]
    }
   ],
   "source": [
    "# https://docs.python.org/3/library/stdtypes.html\n",
    "\n",
    "r = range(0, 20, 2) \n",
    "# range(start, stop, step)\n",
    "\n",
    "print(11 in r) # False\n",
    "print(10 in r) # True\n",
    "\n",
    "print(r.index(10)) # 5\n",
    "print(r[5]) # 10\n",
    "\n",
    "print(\"from 0 to 5\", r[:5]) # range(0, 10, 2)\n",
    "print(\"index -1\", r[-1]) # 18"
   ]
  },
  {
   "cell_type": "markdown",
   "id": "2edc23bc",
   "metadata": {},
   "source": [
    "## str"
   ]
  },
  {
   "cell_type": "code",
   "execution_count": 15,
   "id": "b7a9e924",
   "metadata": {},
   "outputs": [],
   "source": [
    "# https://docs.python.org/3/library/stdtypes.html"
   ]
  },
  {
   "cell_type": "markdown",
   "id": "56a6ef62",
   "metadata": {},
   "source": [
    "## set, frozenset"
   ]
  },
  {
   "cell_type": "code",
   "execution_count": 26,
   "id": "f2f7ec66",
   "metadata": {},
   "outputs": [
    {
     "name": "stdout",
     "output_type": "stream",
     "text": [
      "True\n",
      "True\n",
      "False\n",
      "False False False\n",
      "False False False\n",
      "{0, 1, 2, 3, 6, 9} {0, 1, 2, 3, 6, 9}\n",
      "{6} {6}\n",
      "{0, 1, 2} {0, 1, 2}\n",
      "{0, 1, 2, 3, 9} {0, 1, 2, 3, 9}\n",
      "None\n",
      "None\n",
      "None\n",
      "None\n"
     ]
    }
   ],
   "source": [
    "# https://docs.python.org/3/library/stdtypes.html#set-types-set-frozenset\n",
    "\n",
    "s = set([1, 2, 6, 6, 2, 0, 1])\n",
    "s2 = frozenset([3, 6, 9, 3])\n",
    "\n",
    "size = len(s)\n",
    "\n",
    "print(1 in s) # is mem\n",
    "print(10 not in s) # is not mem\n",
    "\n",
    "\n",
    "# isdisjoint(other)\n",
    "print(s.isdisjoint([5, 6, 6, 2, 5, 1, 2]))\n",
    "# returns True if set has no ele in common with other.\n",
    "# other CAN BE AN ITERABLE HERE, NOT NECESSARILY A set()\n",
    "# BUT IF WE USE OPERATORS(<, >=, ...) THEN IT SHOULD BE A set()/frozenset()\n",
    "\n",
    "# issubset(other)\n",
    "print(s.issubset(s2), s < s2, s <= s2)\n",
    "# s < s2, Test whether the s is a proper subset of s2,i.e s <= s2 and s != s2\n",
    "\n",
    "# issuperset(other)\n",
    "print(s.issuperset(s2), s > s2, s >= s2)\n",
    "# s > s2, Test whether the s is a proper superset of s2,\n",
    "# i.e s >= s2 and s != s2\n",
    "\n",
    "\n",
    "# RETURNS NEW SET\n",
    "\n",
    "# union(*others)  that * is imp here\n",
    "print(s.union(s2, s2, s2), s | s2 | s2)\n",
    "# set | other1 | other2 | ...\n",
    "\n",
    "# intersection(*others) that * is imp here\n",
    "print(s.intersection(s2, s2), s & s2 & s2 & s2)\n",
    "# set & other1 & other2 & ...\n",
    "\n",
    "# difference(*other)  that * is imp here\n",
    "print(s.difference(s2, s2), s - s2 - s2)\n",
    "# set - other1 - other2 - ...\n",
    "\n",
    "# symmetric_difference(*other)  that * is imp here\n",
    "print(s.symmetric_difference(s2), s ^ s2)\n",
    "# set ^ other1 ^ other2 - ...\n",
    "# Return a new set with elements in either the set or other but not both.\n",
    "\n",
    "b = s.copy()\n",
    "# shallow copy\n",
    "\n",
    "\n",
    "# UPDATES ALREADY PRESENT SET\n",
    "\n",
    "# update(*others) that * is imp here\n",
    "print(s.update(s2, s2, s2))\n",
    "s |= s2 | s2 | s2\n",
    "# set |= other1 | other2 | ...\n",
    "\n",
    "# intersection_update(*others) that * is imp here\n",
    "print(s.intersection_update(s2, s2))\n",
    "s &= s2 & s2 & s2\n",
    "# set &= other1 & other2 & ...\n",
    "\n",
    "# difference_update(*other)  that * is imp here\n",
    "print(s.difference_update(s2, s2))\n",
    "s -= s2 - s2\n",
    "# set -= other1 - other2 - ...\n",
    "\n",
    "# symmetric_difference_update(*other)  that * is imp here\n",
    "print(s.symmetric_difference_update(s2))\n",
    "s ^= s2 ^ s2 ^ s2\n",
    "# set ^= other1 ^ other2 - ...\n",
    "# Update the set, keeping only elements found in either set, but not in both.\n",
    "\n",
    "\n",
    "# add(elem)\n",
    "s.add(100)\n",
    "\n",
    "# remove(elem) and discard(elem)\n",
    "# remove(elem) throws KeyError if elem is not contained in the set\n",
    "# discard(elem) doesn't throw KeyError\n",
    "s.remove(100)\n",
    "s.discard(100)\n",
    "\n",
    "# pop()\n",
    "s.add(5)\n",
    "s.pop()\n",
    "# Remove and return an arbitrary element from the set. \n",
    "# Raises KeyError if the set is empty.\n",
    "\n",
    "# clear()\n",
    "s.clear()\n",
    "# remove all ele\n",
    "\n",
    "# SET CAN CONTAIN SET AS IT'S ELEMENTS"
   ]
  },
  {
   "cell_type": "code",
   "execution_count": null,
   "id": "5d1a7c93",
   "metadata": {},
   "outputs": [],
   "source": []
  }
 ],
 "metadata": {
  "kernelspec": {
   "display_name": "Python 3 (ipykernel)",
   "language": "python",
   "name": "python3"
  },
  "language_info": {
   "codemirror_mode": {
    "name": "ipython",
    "version": 3
   },
   "file_extension": ".py",
   "mimetype": "text/x-python",
   "name": "python",
   "nbconvert_exporter": "python",
   "pygments_lexer": "ipython3",
   "version": "3.9.6"
  }
 },
 "nbformat": 4,
 "nbformat_minor": 5
}
