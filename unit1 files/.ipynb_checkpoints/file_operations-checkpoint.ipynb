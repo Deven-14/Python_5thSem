{
 "cells": [
  {
   "cell_type": "markdown",
   "id": "e4be0f0c",
   "metadata": {},
   "source": [
    "### how f.read([n]) works"
   ]
  },
  {
   "cell_type": "code",
   "execution_count": 5,
   "id": "2fcb0f44",
   "metadata": {},
   "outputs": [
    {
     "name": "stdout",
     "output_type": "stream",
     "text": [
      "Output of First read :\n",
      "india is m\n",
      "Output of Secound read :\n",
      "y cou\n",
      "Output of Third read :\n",
      "ntry and all indians are my brothers and sisters. I love my country and i am proud of its rich and vary heritage.\n",
      "I shall always strive to be worthy of it.\n",
      "I shall give respect.\n",
      "\n"
     ]
    }
   ],
   "source": [
    "f = open(\"data.txt\", \"r\")\n",
    "\n",
    "str1 = f.read(10)\n",
    "str2 = f.read(5)\n",
    "str3 = f.read()\n",
    "\n",
    "print(\"Output of First read :\")\n",
    "print(str1)\n",
    "\n",
    "print(\"Output of Secound read :\")\n",
    "print(str2)\n",
    "\n",
    "print(\"Output of Third read :\")\n",
    "print(str3)\n",
    "\n",
    "f.close() #VVVVVVV IMMPPPPPPPPPP"
   ]
  },
  {
   "cell_type": "code",
   "execution_count": 6,
   "id": "7aca08b8",
   "metadata": {},
   "outputs": [
    {
     "name": "stdout",
     "output_type": "stream",
     "text": [
      "Output of First read :\n",
      "india is my country and all indians are my brothers and sisters. I love my country and i am proud of its rich and vary heritage.\n",
      "I shall always strive to be worthy of it.\n",
      "I shall give respect.\n",
      "\n",
      "Output of Secound read :\n",
      "\n",
      "Output of Third read :\n",
      "\n"
     ]
    }
   ],
   "source": [
    "f = open(\"data.txt\", \"r\")\n",
    "\n",
    "str1 = f.read()\n",
    "str2 = f.read(10) # empty string\n",
    "str3 = f.read(5) # empty string\n",
    "\n",
    "print(\"Output of First read :\")\n",
    "print(str1)\n",
    "\n",
    "print(\"Output of Secound read :\")\n",
    "print(str2)\n",
    "\n",
    "print(\"Output of Third read :\")\n",
    "print(str3)\n",
    "\n",
    "f.close() #VVVVVVV IMMPPPPPPPPPP"
   ]
  },
  {
   "cell_type": "markdown",
   "id": "cc2ed5bd",
   "metadata": {},
   "source": [
    "### f.readline([n])"
   ]
  },
  {
   "cell_type": "code",
   "execution_count": 7,
   "id": "8c4a3f8d",
   "metadata": {},
   "outputs": [
    {
     "name": "stdout",
     "output_type": "stream",
     "text": [
      "india is my country and all indians are my brothers and sisters. I love my country and i am proud of its rich and vary heritage.\n",
      "\n",
      "I shall always strive to be worthy of it.\n",
      "\n",
      "I shall gi\n"
     ]
    }
   ],
   "source": [
    "f = open(\"data.txt\", \"r\")\n",
    "\n",
    "line1 = f.readline()\n",
    "line2 = f.readline()\n",
    "line3 = f.readline(10)\n",
    "\n",
    "print(line1)\n",
    "print(line2)\n",
    "print(line3)\n",
    "\n",
    "f.close()"
   ]
  },
  {
   "cell_type": "markdown",
   "id": "c406fd63",
   "metadata": {},
   "source": [
    "#### notice diff in output for r.readline([n])"
   ]
  },
  {
   "cell_type": "code",
   "execution_count": 8,
   "id": "6228e8fd",
   "metadata": {},
   "outputs": [
    {
     "name": "stdout",
     "output_type": "stream",
     "text": [
      "india is my country and all indians are my brothers and sisters. I love my country and i am proud of its rich and vary heritage.\n",
      "I shall always strive to be worthy of it.\n",
      "I shall gi\n"
     ]
    }
   ],
   "source": [
    "f = open(\"data.txt\", \"r\")\n",
    "\n",
    "line1 = f.readline()\n",
    "line2 = f.readline()\n",
    "line3 = f.readline(10)\n",
    "\n",
    "print(line1, end=\"\") # coz the read line also has a '\\n' and the print() also adds an additional '\\n'\n",
    "print(line2, end=\"\")\n",
    "print(line3)\n",
    "\n",
    "f.close()"
   ]
  },
  {
   "cell_type": "markdown",
   "id": "850b6bce",
   "metadata": {},
   "source": [
    "### read line by line using readline()"
   ]
  },
  {
   "cell_type": "code",
   "execution_count": 11,
   "id": "fdbc5893",
   "metadata": {},
   "outputs": [
    {
     "name": "stdout",
     "output_type": "stream",
     "text": [
      "india is my country and all indians are my brothers and sisters. I love my country and i am proud of its rich and vary heritage.\n",
      "I shall always strive to be worthy of it.\n",
      "I shall give respect.\n"
     ]
    }
   ],
   "source": [
    "f = open(\"data.txt\", \"r\")\n",
    "\n",
    "# str = \" \"  # SPACE SHOULD BE THERE AND NOT EMPTY STRING\n",
    "# while str:\n",
    "#     str = f.readline()\n",
    "#     print(str, end=\"\")\n",
    "    \n",
    "line = f.readline()\n",
    "while line: # len(line) > 0\n",
    "    print(line, end=\"\")\n",
    "    line = f.readline()\n",
    "\n",
    "f.close()"
   ]
  },
  {
   "cell_type": "markdown",
   "id": "f0cc660e",
   "metadata": {},
   "source": [
    "## read line by line using  LOOPS (for loop)"
   ]
  },
  {
   "cell_type": "code",
   "execution_count": 12,
   "id": "d15a9e16",
   "metadata": {},
   "outputs": [
    {
     "name": "stdout",
     "output_type": "stream",
     "text": [
      "india is my country and all indians are my brothers and sisters. I love my country and i am proud of its rich and vary heritage.\n",
      "I shall always strive to be worthy of it.\n",
      "I shall give respect.\n"
     ]
    }
   ],
   "source": [
    "f = open(\"data.txt\", \"r\")\n",
    "\n",
    "for line in f:\n",
    "    print(line, end=\"\")\n",
    "\n",
    "f.close()"
   ]
  },
  {
   "cell_type": "markdown",
   "id": "94952cb9",
   "metadata": {},
   "source": [
    "### calculating size of files without using EOL and blank lines"
   ]
  },
  {
   "cell_type": "code",
   "execution_count": 16,
   "id": "63b8ef8c",
   "metadata": {},
   "outputs": [
    {
     "name": "stdout",
     "output_type": "stream",
     "text": [
      "TotalSize :  193\n",
      "Size after removing all EOL and blank lines : 190\n"
     ]
    }
   ],
   "source": [
    "f = open(\"data.txt\", \"r\")\n",
    "\n",
    "# string = \" \" # SPACE SHOULD BE THERE AND NOT EMPTY STRING\n",
    "# size = 0\n",
    "# tsize = 0\n",
    "\n",
    "# while string:\n",
    "#     string = f.readline()\n",
    "#     tsize += len(string)\n",
    "#     size += len(string.strip())\n",
    "\n",
    "string = f.readline()\n",
    "size = 0\n",
    "tsize = 0\n",
    "\n",
    "while string:\n",
    "    tsize += len(string)\n",
    "    size += len(string.strip())\n",
    "    string = f.readline()\n",
    "\n",
    "print(\"TotalSize : \", tsize)\n",
    "print(\"Size after removing all EOL and blank lines :\", size)\n",
    "\n",
    "f.close()"
   ]
  },
  {
   "cell_type": "markdown",
   "id": "b8686e48",
   "metadata": {},
   "source": [
    "### realines()"
   ]
  },
  {
   "cell_type": "code",
   "execution_count": 17,
   "id": "5029fa06",
   "metadata": {},
   "outputs": [
    {
     "name": "stdout",
     "output_type": "stream",
     "text": [
      "['india is my country and all indians are my brothers and sisters. I love my country and i am proud of its rich and vary heritage.\\n', 'I shall always strive to be worthy of it.\\n', 'I shall give respect.\\n']\n",
      "First line is : india is my country and all indians are my brothers and sisters. I love my country and i am proud of its rich and vary heritage.\n",
      "\n",
      "Last line is : I shall give respect.\n",
      "\n"
     ]
    }
   ],
   "source": [
    "f = open(\"data.txt\", \"r\")\n",
    "\n",
    "contents = f.readlines()\n",
    "print(contents)\n",
    "print(\"First line is :\", contents[0])\n",
    "print(\"Last line is :\", contents[-1]) #contents[len(contents)-1])\n",
    "\n",
    "f.close()"
   ]
  },
  {
   "cell_type": "markdown",
   "id": "e53e9da0",
   "metadata": {},
   "source": [
    "### size of file in bytes"
   ]
  },
  {
   "cell_type": "code",
   "execution_count": 18,
   "id": "c6d51678",
   "metadata": {},
   "outputs": [
    {
     "name": "stdout",
     "output_type": "stream",
     "text": [
      "Size of file in bytes : 193\n"
     ]
    }
   ],
   "source": [
    "f = open(\"data.txt\", \"r\")\n",
    "\n",
    "string = f.read()\n",
    "size = len(string)\n",
    "print(\"Size of file in bytes :\", size)\n",
    "\n",
    "f.close()"
   ]
  },
  {
   "cell_type": "markdown",
   "id": "7b2063f4",
   "metadata": {},
   "source": [
    "### no. of lines in file"
   ]
  },
  {
   "cell_type": "code",
   "execution_count": 19,
   "id": "0f1bb072",
   "metadata": {},
   "outputs": [
    {
     "name": "stdout",
     "output_type": "stream",
     "text": [
      "No. Of lines in file : 3\n"
     ]
    }
   ],
   "source": [
    "f = open(\"data.txt\", \"r\")\n",
    "\n",
    "lines = f.readlines() # OR list(f) #VVV IMPPPPPPPPPPPPP\n",
    "n = len(lines)\n",
    "print(\"No. Of lines in file :\", n)\n",
    "\n",
    "f.close()"
   ]
  },
  {
   "cell_type": "markdown",
   "id": "5210cb1a",
   "metadata": {},
   "source": [
    "# write() to files"
   ]
  },
  {
   "cell_type": "code",
   "execution_count": 20,
   "id": "f398a455",
   "metadata": {},
   "outputs": [
    {
     "name": "stdout",
     "output_type": "stream",
     "text": [
      "Enter name to store : deven\n",
      "Enter name to store : prakash\n",
      "Enter name to store : paramaj\n",
      "\n",
      "Data Saved Successfully...\n"
     ]
    }
   ],
   "source": [
    "f = open(\"student.txt\", \"w\")\n",
    "for i in range(3):\n",
    "    name = input(\"Enter name to store : \")\n",
    "    f.write(name)\n",
    "    f.write('\\n')\n",
    "\n",
    "f.close()\n",
    "print(\"\\nData Saved Successfully...\")"
   ]
  },
  {
   "cell_type": "markdown",
   "id": "798b3d30",
   "metadata": {},
   "source": [
    "# append() to files"
   ]
  },
  {
   "cell_type": "code",
   "execution_count": 21,
   "id": "5bde6512",
   "metadata": {},
   "outputs": [
    {
     "name": "stdout",
     "output_type": "stream",
     "text": [
      "Enter name to store : arpita\n",
      "Enter name to store : arati\n",
      "Enter name to store : prakash\n",
      "\n",
      "Data Saved Successfully...\n"
     ]
    }
   ],
   "source": [
    "f = open(\"student.txt\", \"a\")\n",
    "for i in range(3):\n",
    "    name = input(\"Enter name to store : \")\n",
    "    f.write(name)\n",
    "    f.write('\\n') # VVVVVV IIMMMMMPPPPPPP\n",
    "\n",
    "f.close()\n",
    "print(\"\\nData Saved Successfully...\")"
   ]
  },
  {
   "cell_type": "markdown",
   "id": "0818f575",
   "metadata": {},
   "source": [
    "### writelines()"
   ]
  },
  {
   "cell_type": "code",
   "execution_count": 23,
   "id": "84ff169b",
   "metadata": {},
   "outputs": [
    {
     "name": "stdout",
     "output_type": "stream",
     "text": [
      "Enter name to store : deven\n",
      "Enter name to store : prakash\n",
      "Enter name to store : paramaj\n",
      "\n",
      "Data Saved Successfully...\n"
     ]
    }
   ],
   "source": [
    "f = open(\"emp.txt\", \"w\")\n",
    "mylist = []\n",
    "for i in range(3):\n",
    "    name = input(\"Enter name to store : \")\n",
    "    mylist.append(name + '\\n')\n",
    "\n",
    "f.writelines(mylist) # all the ele are written continuously and if we want we should add '\\n', it is NOT ADDED by default at the end of each ele\n",
    "f.close()\n",
    "print(\"\\nData Saved Successfully...\")"
   ]
  },
  {
   "cell_type": "markdown",
   "id": "8219562b",
   "metadata": {},
   "source": [
    "# Seek()"
   ]
  },
  {
   "cell_type": "code",
   "execution_count": 32,
   "id": "d5a82b9a",
   "metadata": {},
   "outputs": [
    {
     "name": "stdout",
     "output_type": "stream",
     "text": [
      "7\n",
      "s my country and all indians are my brothers and sisters. I love my country and i am proud of its rich and vary heritage.\n",
      "\n",
      "130\n",
      "I shall always strive to be worthy of it.\n",
      "\n",
      "196\n",
      "\n"
     ]
    }
   ],
   "source": [
    "with open(\"data.txt\", \"r\") as f:\n",
    "    \n",
    "    # whence 0, starting point\n",
    "    f.seek(7)\n",
    "    print(f.tell())\n",
    "    print(f.readline())\n",
    "    \n",
    "# In text files (those opened without a \"b\" in the mode string), \n",
    "# only seeks relative to the beginning of the file are allowed \n",
    "# (the exception being seeking to the very file end with seek(0, 2)) and \n",
    "# the only valid offset values are those returned from the f.tell(), or zero. Any other offset value produces undefined behaviour.\n",
    "    \n",
    "    \n",
    "    # only 0 offset is valid here \n",
    "    # whence 1, current position\n",
    "    f.seek(0, 1)\n",
    "    print(f.tell())\n",
    "    print(f.readline())\n",
    "    \n",
    "    # only 0 offset is valid here \n",
    "    # whence 2, end position\n",
    "    f.seek(0, 2)\n",
    "    print(f.tell())\n",
    "    print(f.readline())\n",
    "    "
   ]
  },
  {
   "cell_type": "markdown",
   "id": "ef4e5f79",
   "metadata": {},
   "source": [
    "# binary file seek()"
   ]
  },
  {
   "cell_type": "code",
   "execution_count": 39,
   "id": "1207af3e",
   "metadata": {},
   "outputs": [
    {
     "name": "stdout",
     "output_type": "stream",
     "text": [
      "7\n",
      "b's my country and all indians are my brothers and sisters. I love my country and i am proud of its rich and vary heritage.\\r\\n'\n",
      "s my country and all indians are my brothers and sisters. I love my country and i am proud of its rich and vary heritage.\r\n",
      "\n",
      "133\n",
      "b'hall always strive to be worthy of it.\\r\\n'\n",
      "184\n",
      "b'e respect.\\r\\n'\n"
     ]
    }
   ],
   "source": [
    "with open(\"data.txt\", \"rb\") as f:\n",
    "    \n",
    "    # whence 0, starting point\n",
    "    f.seek(7)\n",
    "    print(f.tell())\n",
    "    string = f.readline()\n",
    "    print(string)\n",
    "    print(string.decode('utf-8')) # to convert b\"\"(byte string) to \"\"(string)\n",
    "    \n",
    "    # whence 1, current position\n",
    "    f.seek(3, 1)\n",
    "    print(f.tell())\n",
    "    print(f.readline())\n",
    "\n",
    "    # whence 2, end position\n",
    "    f.seek(-12, 2)\n",
    "    print(f.tell())\n",
    "    print(f.readline())\n",
    "    "
   ]
  },
  {
   "cell_type": "markdown",
   "id": "f4b16236",
   "metadata": {},
   "source": [
    "# Serialization"
   ]
  },
  {
   "cell_type": "markdown",
   "id": "f8edc1ae",
   "metadata": {},
   "source": [
    "## serialization with byte_object (b\"\")"
   ]
  },
  {
   "cell_type": "code",
   "execution_count": 40,
   "id": "c849892f",
   "metadata": {},
   "outputs": [
    {
     "name": "stdout",
     "output_type": "stream",
     "text": [
      "b'\\x80\\x04\\x95#\\x00\\x00\\x00\\x00\\x00\\x00\\x00}\\x94(\\x8c\\x05Alice\\x94KY\\x8c\\x03Bob\\x94KH\\x8c\\x07Charles\\x94KWu.'\n",
      "{'Alice': 89, 'Bob': 72, 'Charles': 87}\n"
     ]
    }
   ],
   "source": [
    "import pickle\n",
    "\n",
    "grades = {\"Alice\": 89, \"Bob\": 72, \"Charles\":87}\n",
    "\n",
    "serial_grades = pickle.dumps(grades)\n",
    "print(serial_grades)\n",
    "\n",
    "received_grades = pickle.loads(serial_grades)\n",
    "print(received_grades)"
   ]
  },
  {
   "cell_type": "markdown",
   "id": "c4dd3429",
   "metadata": {},
   "source": [
    "## serialization with file"
   ]
  },
  {
   "cell_type": "code",
   "execution_count": 42,
   "id": "11410b5e",
   "metadata": {},
   "outputs": [
    {
     "name": "stdout",
     "output_type": "stream",
     "text": [
      "Pickling Completed!\n",
      "[11, 'Python', b'Love Python']\n"
     ]
    }
   ],
   "source": [
    "import pickle\n",
    "\n",
    "my_list = [11, \"Python\", b\"Love Python\"]\n",
    "\n",
    "with open(\"data1.pickle\", \"wb\") as f:\n",
    "    pickle.dump(my_list, f, pickle.HIGHEST_PROTOCOL)\n",
    "\n",
    "print(\"Pickling Completed!\")\n",
    "\n",
    "with open(\"data1.pickle\", \"rb\") as f:\n",
    "    retrieved_data = pickle.load(f)\n",
    "    print(retrieved_data)"
   ]
  },
  {
   "cell_type": "markdown",
   "id": "c1411038",
   "metadata": {},
   "source": [
    "## serializing a custom class"
   ]
  },
  {
   "cell_type": "code",
   "execution_count": 45,
   "id": "4e08029b",
   "metadata": {},
   "outputs": [
    {
     "name": "stdout",
     "output_type": "stream",
     "text": [
      "This is my pickled object : \n",
      "b'\\x80\\x04\\x95!\\x00\\x00\\x00\\x00\\x00\\x00\\x00\\x8c\\x08__main__\\x94\\x8c\\rexample_class\\x94\\x93\\x94)\\x81\\x94.'\n",
      "\n",
      "This is my Unpickled object : \n",
      "<__main__.example_class object at 0x000001B6FAB87AF0>\n",
      "\n",
      "This is a_dict of the Unpickled object : \n",
      "{'first': 'a', 'second': 2, 'third': [1, 2, 3, 4]}\n",
      "\n"
     ]
    }
   ],
   "source": [
    "import pickle\n",
    "\n",
    "class example_class:\n",
    "    a_number = 35\n",
    "    a_string = \"hey\"\n",
    "    a_list = [1, 2, 3]\n",
    "    a_dict = {\"first\": \"a\", \"second\": 2, \"third\": [1, 2, 3, 4]}\n",
    "    a_tuple = (22, 23)\n",
    "    \n",
    "my_object = example_class()\n",
    "my_pickled_object = pickle.dumps(my_object)\n",
    "print(f\"This is my pickled object : \\n{my_pickled_object}\\n\")\n",
    "\n",
    "my_object.a_dict = None\n",
    "\n",
    "my_unpickled_object = pickle.loads(my_pickled_object)\n",
    "print(f\"This is my Unpickled object : \\n{my_unpickled_object}\\n\")\n",
    "print(f\"This is a_dict of the Unpickled object : \\n{my_unpickled_object.a_dict}\\n\")"
   ]
  },
  {
   "cell_type": "code",
   "execution_count": null,
   "id": "34283f14",
   "metadata": {},
   "outputs": [],
   "source": []
  }
 ],
 "metadata": {
  "kernelspec": {
   "display_name": "Python 3 (ipykernel)",
   "language": "python",
   "name": "python3"
  },
  "language_info": {
   "codemirror_mode": {
    "name": "ipython",
    "version": 3
   },
   "file_extension": ".py",
   "mimetype": "text/x-python",
   "name": "python",
   "nbconvert_exporter": "python",
   "pygments_lexer": "ipython3",
   "version": "3.9.6"
  }
 },
 "nbformat": 4,
 "nbformat_minor": 5
}
