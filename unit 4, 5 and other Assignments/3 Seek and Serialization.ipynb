{
 "cells": [
  {
   "cell_type": "markdown",
   "id": "71a4c4ff",
   "metadata": {},
   "source": [
    "### 1) Suppose we have created a file with 500 lines of data and the file object reference is “f”. Illustrate what each of these following operations does:"
   ]
  },
  {
   "cell_type": "code",
   "execution_count": 1,
   "id": "40511da6",
   "metadata": {},
   "outputs": [],
   "source": [
    "f = open(\"lines.txt\", \"rb\") # b is imp here"
   ]
  },
  {
   "cell_type": "code",
   "execution_count": 4,
   "id": "f642c51b",
   "metadata": {},
   "outputs": [
    {
     "data": {
      "text/plain": [
       "0"
      ]
     },
     "execution_count": 4,
     "metadata": {},
     "output_type": "execute_result"
    }
   ],
   "source": [
    "f.seek(0) # beg of the file"
   ]
  },
  {
   "cell_type": "code",
   "execution_count": 5,
   "id": "bdc75d91",
   "metadata": {},
   "outputs": [
    {
     "data": {
      "text/plain": [
       "b'ac viverra ligula, at rhoncus neque. Nam fringilla nunc id ex finibus egestas. Nunc faucibus est vel ligula luctus placerat. Nullam nibh sem, fermentum in facilisis sed, efficitur id est. Mauris quis nisi in urna volutpat ullamcorper. Pellentesque sodales at nibh eget ultricies. Interdum et malesuada fames ac ante ipsum primis in faucibus. Nulla finibus lacus vel quam tempor, convallis volutpat orci ullamcorper. Donec dignissim tempus justo vitae tempor. Nam ac porta nunc. Donec porttitor tristique orci, sed porttitor sapien imperdiet vitae. Maecenas vehicula semper varius. Interdum et malesuada fames ac ante ipsum primis in faucibus. Donec feugiat eget nibh sed fermentum. Aenean accumsan nulla sit amet leo varius, et pharetra est ultrices.\\r\\n'"
      ]
     },
     "execution_count": 5,
     "metadata": {},
     "output_type": "execute_result"
    }
   ],
   "source": [
    "f.seek(100, 1) # 100 bytes ahead from current pos\n",
    "line = f.readline()\n",
    "line"
   ]
  },
  {
   "cell_type": "code",
   "execution_count": 6,
   "id": "708f3d37",
   "metadata": {},
   "outputs": [
    {
     "data": {
      "text/plain": [
       "b'ultricies.'"
      ]
     },
     "execution_count": 6,
     "metadata": {},
     "output_type": "execute_result"
    }
   ],
   "source": [
    "f.seek(-10, 2) # 10bytes behind from end of file\n",
    "line = f.readline()\n",
    "line"
   ]
  },
  {
   "cell_type": "code",
   "execution_count": 7,
   "id": "203f0a09",
   "metadata": {},
   "outputs": [
    {
     "data": {
      "text/plain": [
       "b''"
      ]
     },
     "execution_count": 7,
     "metadata": {},
     "output_type": "execute_result"
    }
   ],
   "source": [
    "f.seek(0, 2) # end of file\n",
    "line = f.readline()\n",
    "line"
   ]
  },
  {
   "cell_type": "code",
   "execution_count": 12,
   "id": "32369f83",
   "metadata": {},
   "outputs": [
    {
     "data": {
      "text/plain": [
       "3400"
      ]
     },
     "execution_count": 12,
     "metadata": {},
     "output_type": "execute_result"
    }
   ],
   "source": [
    "f.tell() # current pos"
   ]
  },
  {
   "cell_type": "code",
   "execution_count": 13,
   "id": "d5049ee1",
   "metadata": {},
   "outputs": [],
   "source": [
    "f.close()"
   ]
  },
  {
   "cell_type": "markdown",
   "id": "4c81df6e",
   "metadata": {},
   "source": [
    "### 2) Consider a file with 100 lines of data and the file object reference is “f”. Illustrate what each of these following operations does:"
   ]
  },
  {
   "cell_type": "code",
   "execution_count": 14,
   "id": "b48f92b9",
   "metadata": {},
   "outputs": [],
   "source": [
    "f = open(\"lines.txt\", \"rb\") # b is imp here"
   ]
  },
  {
   "cell_type": "code",
   "execution_count": 15,
   "id": "ef945276",
   "metadata": {},
   "outputs": [
    {
     "data": {
      "text/plain": [
       "b'orem ipsum dolor sit amet, consectetur adipiscing elit. Aenean porta facilisis nisi et dapibus. Sed ac viverra ligula, at rhoncus neque. Nam fringilla nunc id ex finibus egestas. Nunc faucibus est vel ligula luctus placerat. Nullam nibh sem, fermentum in facilisis sed, efficitur id est. Mauris quis nisi in urna volutpat ullamcorper. Pellentesque sodales at nibh eget ultricies. Interdum et malesuada fames ac ante ipsum primis in faucibus. Nulla finibus lacus vel quam tempor, convallis volutpat orci ullamcorper. Donec dignissim tempus justo vitae tempor. Nam ac porta nunc. Donec porttitor tristique orci, sed porttitor sapien imperdiet vitae. Maecenas vehicula semper varius. Interdum et malesuada fames ac ante ipsum primis in faucibus. Donec feugiat eget nibh sed fermentum. Aenean accumsan nulla sit amet leo varius, et pharetra est ultrices.\\r\\n'"
      ]
     },
     "execution_count": 15,
     "metadata": {},
     "output_type": "execute_result"
    }
   ],
   "source": [
    "f.seek(0) # beg of file\n",
    "line = f.readline()\n",
    "line"
   ]
  },
  {
   "cell_type": "code",
   "execution_count": 16,
   "id": "f7ed1412",
   "metadata": {},
   "outputs": [
    {
     "data": {
      "text/plain": [
       "b't amet et leo. Donec aliquet risus a finibus viverra. Fusce consequat enim diam, non sagittis risus aliquet vitae. Aenean ac orci commodo felis viverra malesuada. Aliquam id mollis lectus. Mauris porta imperdiet massa ac malesuada. Duis feugiat dictum risus congue posuere. Vestibulum ultricies iaculis nulla vel consectetur. Vestibulum eget tortor eu magna molestie blandit ac ut quam. Pellentesque habitant morbi tristique senectus et netus et malesuada fames ac turpis egestas. Fusce lacus orci, blandit dignissim magna a, tempus fermentum lacus. Donec volutpat magna ipsum, volutpat aliquam elit eleifend quis. Etiam lectus sem, congue id elementum ut, bibendum a nisl. Sed malesuada ex eros, ut condimentum dolor cursus in. Etiam sodales sapien at maximus fermentum.\\r\\n'"
      ]
     },
     "execution_count": 16,
     "metadata": {},
     "output_type": "execute_result"
    }
   ],
   "source": [
    "f.seek(50, 1) # 50 bytes ahead from current pos\n",
    "line = f.readline()\n",
    "line"
   ]
  },
  {
   "cell_type": "code",
   "execution_count": 17,
   "id": "b3dfb51a",
   "metadata": {},
   "outputs": [
    {
     "data": {
      "text/plain": [
       "b'cies.'"
      ]
     },
     "execution_count": 17,
     "metadata": {},
     "output_type": "execute_result"
    }
   ],
   "source": [
    "f.seek(-5, 2) # 5 bytes behind from eof\n",
    "line = f.readline()\n",
    "line"
   ]
  },
  {
   "cell_type": "code",
   "execution_count": 19,
   "id": "65d34e3a",
   "metadata": {},
   "outputs": [
    {
     "data": {
      "text/plain": [
       "b''"
      ]
     },
     "execution_count": 19,
     "metadata": {},
     "output_type": "execute_result"
    }
   ],
   "source": [
    "f.seek(0, 2) # eof\n",
    "line = f.readline()\n",
    "line"
   ]
  },
  {
   "cell_type": "code",
   "execution_count": 21,
   "id": "32d2a8fc",
   "metadata": {},
   "outputs": [
    {
     "data": {
      "text/plain": [
       "3400"
      ]
     },
     "execution_count": 21,
     "metadata": {},
     "output_type": "execute_result"
    }
   ],
   "source": [
    "f.tell() # current pos"
   ]
  },
  {
   "cell_type": "code",
   "execution_count": 22,
   "id": "990ca1f4",
   "metadata": {},
   "outputs": [],
   "source": [
    "f.close()"
   ]
  },
  {
   "cell_type": "markdown",
   "id": "500f016d",
   "metadata": {},
   "source": [
    "### 3) Demonstrate Object Serialization in python by creating a custom class called Employee. Employee will store Employee name, age, salary, married and having kid. Save it and load it up into a separate object and display the new object."
   ]
  },
  {
   "cell_type": "code",
   "execution_count": 23,
   "id": "eca80cab",
   "metadata": {},
   "outputs": [],
   "source": [
    "import pickle"
   ]
  },
  {
   "cell_type": "code",
   "execution_count": 27,
   "id": "42a9b9e2",
   "metadata": {},
   "outputs": [],
   "source": [
    "class Employee:\n",
    "    \n",
    "    def __init__(self, name, age, salary, married, having_kid):\n",
    "        self.name = name\n",
    "        self.age = age\n",
    "        self.salary = salary\n",
    "        self.married = married\n",
    "        self.having_kid = having_kid\n",
    "    \n",
    "    def __str__(self):\n",
    "        string = \" \".join([\n",
    "            self.name,\n",
    "            str(self.age),\n",
    "            str(self.salary),\n",
    "            str(self.married),\n",
    "            str(self.having_kid)\n",
    "        ])\n",
    "        return string"
   ]
  },
  {
   "cell_type": "code",
   "execution_count": 28,
   "id": "51b6fb63",
   "metadata": {},
   "outputs": [
    {
     "name": "stdout",
     "output_type": "stream",
     "text": [
      "Deven 20 10000 False False b\"\\x80\\x04\\x95]\\x00\\x00\\x00\\x00\\x00\\x00\\x00\\x8c\\x08__main__\\x94\\x8c\\x08Employee\\x94\\x93\\x94)\\x81\\x94}\\x94(\\x8c\\x04name\\x94\\x8c\\x05Deven\\x94\\x8c\\x03age\\x94K\\x14\\x8c\\x06salary\\x94M\\x10'\\x8c\\x07married\\x94\\x89\\x8c\\nhaving_kid\\x94\\x89ub.\"\n"
     ]
    }
   ],
   "source": [
    "e = Employee(\"Deven\", 20, 10000, False, False)\n",
    "serial_e = pickle.dumps(e)\n",
    "print(e, serial_e)"
   ]
  },
  {
   "cell_type": "code",
   "execution_count": 29,
   "id": "a043c378",
   "metadata": {},
   "outputs": [
    {
     "name": "stdout",
     "output_type": "stream",
     "text": [
      "Deven 20 10000 False False\n"
     ]
    }
   ],
   "source": [
    "e2 = pickle.loads(serial_e)\n",
    "print(e2)"
   ]
  },
  {
   "cell_type": "markdown",
   "id": "d0d0f668",
   "metadata": {},
   "source": [
    "### 4) Demonstrate Serialization in python by creating a custom class called Player. Player will store an id, name. Save it and load it up into a separate object and display the new object.  "
   ]
  },
  {
   "cell_type": "code",
   "execution_count": 31,
   "id": "ff9d31a2",
   "metadata": {},
   "outputs": [],
   "source": [
    "import pickle"
   ]
  },
  {
   "cell_type": "code",
   "execution_count": 34,
   "id": "07643c99",
   "metadata": {},
   "outputs": [],
   "source": [
    "class Player:\n",
    "    \n",
    "    def __init__(self, id_, name):\n",
    "        self.name = name\n",
    "        self.id = id_\n",
    "    \n",
    "    def __str__(self):\n",
    "        string = \" \".join([\n",
    "            self.name,\n",
    "            str(self.id)\n",
    "        ])\n",
    "        return string"
   ]
  },
  {
   "cell_type": "code",
   "execution_count": 36,
   "id": "3af96bcd",
   "metadata": {},
   "outputs": [
    {
     "name": "stdout",
     "output_type": "stream",
     "text": [
      "Deven 48 b'\\x80\\x04\\x955\\x00\\x00\\x00\\x00\\x00\\x00\\x00\\x8c\\x08__main__\\x94\\x8c\\x06Player\\x94\\x93\\x94)\\x81\\x94}\\x94(\\x8c\\x04name\\x94\\x8c\\x05Deven\\x94\\x8c\\x02id\\x94K0ub.'\n"
     ]
    }
   ],
   "source": [
    "p = Player(48, \"Deven\")\n",
    "serial_p = pickle.dumps(p)\n",
    "print(p, serial_p)"
   ]
  },
  {
   "cell_type": "code",
   "execution_count": 37,
   "id": "24a51ef3",
   "metadata": {},
   "outputs": [
    {
     "name": "stdout",
     "output_type": "stream",
     "text": [
      "Deven 48\n"
     ]
    }
   ],
   "source": [
    "p2 = pickle.loads(serial_p)\n",
    "print(p2)"
   ]
  },
  {
   "cell_type": "markdown",
   "id": "4f442e7d",
   "metadata": {},
   "source": [
    "### 5) Implement a program to copy one python script into another by removing all the comment lines from the source file to destination file."
   ]
  },
  {
   "cell_type": "code",
   "execution_count": 39,
   "id": "2945334a",
   "metadata": {},
   "outputs": [
    {
     "name": "stdout",
     "output_type": "stream",
     "text": [
      "Old File: \n",
      "# welcome to this first program\n",
      "print(\"Tony Stark created the Arc Reactor inside a cave\")\n",
      "a=5\n",
      "print(f'The value of a is: {a}')\n",
      "# program end\n",
      "\n",
      "New File: \n",
      "print(\"Tony Stark created the Arc Reactor inside a cave\")\n",
      "a=5\n",
      "print(f'The value of a is: {a}')\n",
      "\n"
     ]
    }
   ],
   "source": [
    "with open(\"read.txt\", \"r\") as rf:\n",
    "    with open(\"write.txt\", \"w\") as wf: # or can put \", open('w.t', \"w\") in the above line\"\n",
    "        \n",
    "        for line in rf:\n",
    "            line_of_code = line.strip()\n",
    "            if not line_of_code.startswith(\"#\"):\n",
    "                wf.write(line_of_code + '\\n')\n",
    "\n",
    "with open(\"read.txt\", \"r\") as of:\n",
    "    print(\"Old File: \", of.read(), sep='\\n')\n",
    "    \n",
    "with open(\"write.txt\", \"r\") as nf:\n",
    "    print(\"New File: \", nf.read(), sep='\\n')\n",
    "        "
   ]
  },
  {
   "cell_type": "markdown",
   "id": "e0c78364",
   "metadata": {},
   "source": [
    "### 6) Implement a program that generates a Quiz and uses two files-Questions.txt and Answers.txt. The program opens Questions.txt and reads a question and displays the question with options on the screen. The program then opens the Answers.txt file and displays the correct answers."
   ]
  },
  {
   "cell_type": "code",
   "execution_count": 41,
   "id": "bf536084",
   "metadata": {},
   "outputs": [
    {
     "name": "stdout",
     "output_type": "stream",
     "text": [
      "1 what is your name?\n",
      "\n",
      "options: \n",
      " deven\n",
      " prakash\n",
      " paramaj\n",
      " omg\n",
      "\n",
      "answer:  deven\n",
      "\n",
      "2 what is your age?\n",
      "\n",
      "options: \n",
      " 39\n",
      " 29\n",
      " 20\n",
      " 15\n",
      "\n",
      "answer:  20\n",
      "\n"
     ]
    }
   ],
   "source": [
    "with open(\"questions.txt\", \"r\") as qf:\n",
    "    with open(\"answers.txt\", \"r\") as af:\n",
    "        \n",
    "        for i in range(2):\n",
    "            question = qf.readline()\n",
    "            opt1 = qf.readline()\n",
    "            opt2 = qf.readline()\n",
    "            opt3 = qf.readline()\n",
    "            opt4 = qf.readline()\n",
    "            answer = af.readline()\n",
    "            print(i+1, question)\n",
    "            print(\"options: \\n\", opt1, opt2, opt3, opt4)\n",
    "            print(\"answer: \", answer)"
   ]
  },
  {
   "cell_type": "code",
   "execution_count": null,
   "id": "6a80edc7",
   "metadata": {},
   "outputs": [],
   "source": []
  }
 ],
 "metadata": {
  "kernelspec": {
   "display_name": "Python 3 (ipykernel)",
   "language": "python",
   "name": "python3"
  },
  "language_info": {
   "codemirror_mode": {
    "name": "ipython",
    "version": 3
   },
   "file_extension": ".py",
   "mimetype": "text/x-python",
   "name": "python",
   "nbconvert_exporter": "python",
   "pygments_lexer": "ipython3",
   "version": "3.9.6"
  }
 },
 "nbformat": 4,
 "nbformat_minor": 5
}
