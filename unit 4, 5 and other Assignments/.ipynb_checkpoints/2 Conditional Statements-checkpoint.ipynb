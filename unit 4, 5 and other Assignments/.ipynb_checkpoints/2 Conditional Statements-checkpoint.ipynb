{
 "cells": [
  {
   "cell_type": "markdown",
   "id": "cce17508",
   "metadata": {},
   "source": [
    "### 1) Write a python program to check the given number is even or odd using if-else construct."
   ]
  },
  {
   "cell_type": "code",
   "execution_count": 1,
   "id": "7edc3b26",
   "metadata": {},
   "outputs": [
    {
     "name": "stdout",
     "output_type": "stream",
     "text": [
      "Enter an integer: 5\n",
      "Odd\n"
     ]
    }
   ],
   "source": [
    "n = int(input(\"Enter an integer: \"))\n",
    "if n % 2 == 0:\n",
    "    print(\"Even\")\n",
    "else:\n",
    "    print(\"Odd\")"
   ]
  },
  {
   "cell_type": "markdown",
   "id": "f5e25036",
   "metadata": {},
   "source": [
    "### 2) Write a python program to print the largest of three numbers using if construct."
   ]
  },
  {
   "cell_type": "code",
   "execution_count": 2,
   "id": "e3f89733",
   "metadata": {},
   "outputs": [
    {
     "name": "stdout",
     "output_type": "stream",
     "text": [
      "Enter 1st integer: 5\n",
      "Enter 2nd integer: 2\n",
      "Enter 3rd integer: 3\n",
      "5 is greatest\n"
     ]
    }
   ],
   "source": [
    "n1 = int(input(\"Enter 1st integer: \"))\n",
    "n2 = int(input(\"Enter 2nd integer: \"))\n",
    "n3 = int(input(\"Enter 3rd integer: \"))\n",
    "if n2 <= n1 >= n3: # HERE n1 SHOULD BE IN MIDDLE, COZ THAT IS COMMON IN BETWEEN THAT AND CONDITION or n1 >= n2 and n1 >= n3\n",
    "    print(n1, \"is greatest\")\n",
    "elif n2 >= n3:\n",
    "    print(n2, \"is greatest\")\n",
    "else:\n",
    "    print(n3, \"is greatest\")"
   ]
  },
  {
   "cell_type": "markdown",
   "id": "4c0980dc",
   "metadata": {},
   "source": [
    "### 3) Write a python program to check the given number is positive, negative or zero using if-else construct."
   ]
  },
  {
   "cell_type": "code",
   "execution_count": 3,
   "id": "0187ff2a",
   "metadata": {},
   "outputs": [
    {
     "name": "stdout",
     "output_type": "stream",
     "text": [
      "Enter an integer: -3\n",
      "-3 is negative\n"
     ]
    }
   ],
   "source": [
    "n = int(input(\"Enter an integer: \"))\n",
    "if n > 0:\n",
    "    print(n, \"is positive\")\n",
    "elif n < 0:\n",
    "    print(n, \"is negative\")\n",
    "elif n == 0:\n",
    "    print(n, \"is zero\")\n",
    "else:\n",
    "    print(\"In valid input\")"
   ]
  },
  {
   "cell_type": "markdown",
   "id": "214d5e62",
   "metadata": {},
   "source": [
    "### 4) Write a python program the grade of the student using if-else construct."
   ]
  },
  {
   "cell_type": "code",
   "execution_count": 4,
   "id": "17d1a643",
   "metadata": {},
   "outputs": [
    {
     "name": "stdout",
     "output_type": "stream",
     "text": [
      "Enter score out of 100: 80\n",
      "A Grade\n"
     ]
    }
   ],
   "source": [
    "n = int(input(\"Enter score out of 100: \"))\n",
    "if n >= 90:\n",
    "    g = \"S\"\n",
    "elif n >= 80:\n",
    "    g = \"A\"\n",
    "elif n >= 70:\n",
    "    g = \"B\"\n",
    "elif n >= 60:\n",
    "    g = \"C\"\n",
    "elif n >= 50:\n",
    "    g = \"D\"\n",
    "elif n >= 40:\n",
    "    g = \"E\"\n",
    "else:\n",
    "    g = \"F\"\n",
    "print(g, \"Grade\")"
   ]
  },
  {
   "cell_type": "markdown",
   "id": "9963e8e6",
   "metadata": {},
   "source": [
    "### 5) Write a python program to perform arithmetic operations.\n"
   ]
  },
  {
   "cell_type": "code",
   "execution_count": 5,
   "id": "0b60d9eb",
   "metadata": {},
   "outputs": [
    {
     "name": "stdout",
     "output_type": "stream",
     "text": [
      "10.5 + 5 = 15.5\n",
      "10.5 - 5 = 5.5\n",
      "10.5 * 5 = 52.5\n",
      "10.5 ** 5 = 127628.15625\n",
      "10.5 / 5 = 2.1\n",
      "10.5 // 5 = 2.0\n"
     ]
    }
   ],
   "source": [
    "a = 10.5\n",
    "b = 5\n",
    "print(a, \"+\", b, \"=\", a + b)\n",
    "print(a, \"-\", b, \"=\", a - b)\n",
    "print(a, \"*\", b, \"=\", a * b)\n",
    "print(a, \"**\", b, \"=\", a ** b)\n",
    "print(a, \"/\", b, \"=\", a / b)\n",
    "print(a, \"//\", b, \"=\", a // b)"
   ]
  },
  {
   "cell_type": "markdown",
   "id": "4e2f3664",
   "metadata": {},
   "source": [
    "### 6)  Write a python program to check the type of triangle.\n"
   ]
  },
  {
   "cell_type": "code",
   "execution_count": 7,
   "id": "4f692f71",
   "metadata": {},
   "outputs": [
    {
     "name": "stdout",
     "output_type": "stream",
     "text": [
      "Enter the value of 1st side: 5.5\n",
      "Enter the value of 2nd side: 5.5\n",
      "Enter the value of 3rd side: 2\n",
      "Isosceles Triangle\n"
     ]
    }
   ],
   "source": [
    "a = float(input(\"Enter the value of 1st side: \"))\n",
    "b = float(input(\"Enter the value of 2nd side: \"))\n",
    "c = float(input(\"Enter the value of 3rd side: \"))\n",
    "if a == b and b == c: # a == b == c\n",
    "    print(\"Equilateral Triangle\")\n",
    "elif a == b or b == c or c == a:\n",
    "    print(\"Isosceles Triangle\")\n",
    "else:\n",
    "    print(\"Scalene Triangle\")"
   ]
  },
  {
   "cell_type": "markdown",
   "id": "561d1589",
   "metadata": {},
   "source": [
    "### 7) Write a program to print the square of two numbers from a given list l=[2,4,6,8,10] using for loop construct."
   ]
  },
  {
   "cell_type": "code",
   "execution_count": 8,
   "id": "cc14c0b1",
   "metadata": {},
   "outputs": [
    {
     "name": "stdout",
     "output_type": "stream",
     "text": [
      "4, 16, 36, 64, 100, "
     ]
    }
   ],
   "source": [
    "for i in [2, 4, 6, 8, 10]:\n",
    "    print(i ** 2, end=\", \")"
   ]
  },
  {
   "cell_type": "markdown",
   "id": "f40285b5",
   "metadata": {},
   "source": [
    "### 8) Write a program to print the sum of all numbers of the given list l=[25,42,32,12,33] using for loop construct."
   ]
  },
  {
   "cell_type": "code",
   "execution_count": 10,
   "id": "7382d80e",
   "metadata": {},
   "outputs": [
    {
     "name": "stdout",
     "output_type": "stream",
     "text": [
      "144\n"
     ]
    }
   ],
   "source": [
    "l = [25, 42, 32, 12, 33]\n",
    "total = 0\n",
    "for ele in l:\n",
    "    total += ele\n",
    "print(total)"
   ]
  },
  {
   "cell_type": "markdown",
   "id": "b58d5df4",
   "metadata": {},
   "source": [
    "### 9) Write a program to find the sum of first n natural number using range() function.\n"
   ]
  },
  {
   "cell_type": "code",
   "execution_count": 14,
   "id": "f92aef09",
   "metadata": {},
   "outputs": [
    {
     "name": "stdout",
     "output_type": "stream",
     "text": [
      "Enter an integer: 5\n",
      "15\n"
     ]
    }
   ],
   "source": [
    "n = int(input(\"Enter an integer: \"))\n",
    "# total = 0\n",
    "# for i in range(1, n+1):\n",
    "#     total += i\n",
    "total = sum(range(1, n+1))\n",
    "print(total)"
   ]
  },
  {
   "cell_type": "markdown",
   "id": "bd687783",
   "metadata": {},
   "source": [
    "### 10) Write a python program to check the given number is prime or not.\n"
   ]
  },
  {
   "cell_type": "code",
   "execution_count": 2,
   "id": "b96f6a86",
   "metadata": {},
   "outputs": [
    {
     "name": "stdout",
     "output_type": "stream",
     "text": [
      "Enter an integer: 18\n",
      "18 is not prime\n"
     ]
    }
   ],
   "source": [
    "from math import sqrt, ceil\n",
    "n = int(input(\"Enter an integer: \"))\n",
    "# flag = True\n",
    "# for i in range(2, ceil(sqrt(n))):\n",
    "#     if n % i == 0:\n",
    "#         flag = False\n",
    "#         break\n",
    "# if flag:\n",
    "#     print(n, \"is prime\")\n",
    "# else:\n",
    "#     print(n, \"is not prime\")\n",
    "    \n",
    "for i in range(2, ceil(sqrt(n))):\n",
    "    if n % i == 0:\n",
    "        print(n, \"is not prime\")\n",
    "        break\n",
    "else:\n",
    "    print(n, \"is prime\")"
   ]
  },
  {
   "cell_type": "markdown",
   "id": "77cda8f3",
   "metadata": {},
   "source": [
    "### 11) Write a python program to print the table of a given number using while loop.\n"
   ]
  },
  {
   "cell_type": "code",
   "execution_count": 21,
   "id": "6df925d4",
   "metadata": {},
   "outputs": [
    {
     "name": "stdout",
     "output_type": "stream",
     "text": [
      "Enter an integer: 5\n",
      "5 x 1 = 5\n",
      "5 x 2 = 10\n",
      "5 x 3 = 15\n",
      "5 x 4 = 20\n",
      "5 x 5 = 25\n",
      "5 x 6 = 30\n",
      "5 x 7 = 35\n",
      "5 x 8 = 40\n",
      "5 x 9 = 45\n",
      "5 x 10 = 50\n"
     ]
    }
   ],
   "source": [
    "n = int(input(\"Enter an integer: \"))\n",
    "for i in range(1, 11):\n",
    "    print(f\"{n} x {i} = {n * i}\")"
   ]
  },
  {
   "cell_type": "code",
   "execution_count": null,
   "id": "93c242f0",
   "metadata": {},
   "outputs": [],
   "source": []
  }
 ],
 "metadata": {
  "kernelspec": {
   "display_name": "Python 3 (ipykernel)",
   "language": "python",
   "name": "python3"
  },
  "language_info": {
   "codemirror_mode": {
    "name": "ipython",
    "version": 3
   },
   "file_extension": ".py",
   "mimetype": "text/x-python",
   "name": "python",
   "nbconvert_exporter": "python",
   "pygments_lexer": "ipython3",
   "version": "3.9.6"
  }
 },
 "nbformat": 4,
 "nbformat_minor": 5
}
