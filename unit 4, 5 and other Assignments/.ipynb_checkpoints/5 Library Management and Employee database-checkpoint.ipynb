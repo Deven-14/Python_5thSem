{
 "cells": [
  {
   "cell_type": "markdown",
   "id": "9416ce7a",
   "metadata": {},
   "source": [
    "1) Create a python program on the scenario given below:\n",
    "Create an Employee table with attributes such as emp_ssn,\n",
    "emp_name, emp_category, gross_sal, basic_sal.\n",
    "Insert atleast three values in to the database.\n",
    "Demonstrate the database concepts for the following scenario:\n",
    "A company management wants to compute the net salary of each\n",
    "group of employee based on the category of the employee such as\n",
    "Category A, Category B, Category C.\n",
    "Compute the net salary based on the following table."
   ]
  },
  {
   "cell_type": "code",
   "execution_count": 1,
   "id": "a12081ce",
   "metadata": {},
   "outputs": [],
   "source": [
    "import sqlite3\n",
    "con = sqlite3.connect('XYZCOMPANY.db')\n",
    "cur = con.cursor()"
   ]
  },
  {
   "cell_type": "code",
   "execution_count": 2,
   "id": "9420da9e",
   "metadata": {},
   "outputs": [
    {
     "name": "stdout",
     "output_type": "stream",
     "text": [
      "table Employees already exists\n"
     ]
    }
   ],
   "source": [
    "try:\n",
    "    cur.execute(\"\"\"\n",
    "        CREATE TABLE Employees(\n",
    "            ssn INTEGER PRIMARY KEY,\n",
    "            name TEXT,\n",
    "            category TEXT,\n",
    "            gross_sal REAL,\n",
    "            basic_sal REAL\n",
    "        )\n",
    "    \"\"\")\n",
    "except sqlite3.OperationalError as e:\n",
    "    print(e)"
   ]
  },
  {
   "cell_type": "code",
   "execution_count": 3,
   "id": "05e7045b",
   "metadata": {},
   "outputs": [],
   "source": [
    "employees = [\n",
    "    (1, 'Rohan', 'A', 'NULL', 1000),\n",
    "    (2, 'Mohan', 'B', 'NULL', 1000),\n",
    "    (3, 'Sohan', 'C', 'NULL', 1000),\n",
    "]"
   ]
  },
  {
   "cell_type": "code",
   "execution_count": 4,
   "id": "435efd83",
   "metadata": {},
   "outputs": [
    {
     "data": {
      "text/plain": [
       "<sqlite3.Cursor at 0x1940738e490>"
      ]
     },
     "execution_count": 4,
     "metadata": {},
     "output_type": "execute_result"
    }
   ],
   "source": [
    "cur.executemany(\"INSERT INTO Employees VALUES (?, ?, ?, ?, ?)\", employees)"
   ]
  },
  {
   "cell_type": "code",
   "execution_count": 5,
   "id": "4b0f01cf",
   "metadata": {},
   "outputs": [],
   "source": [
    "con.commit()"
   ]
  },
  {
   "cell_type": "code",
   "execution_count": 6,
   "id": "b61de504",
   "metadata": {},
   "outputs": [],
   "source": [
    "cur.execute(\"SELECT * FROM Employees\")\n",
    "empTuple = cur.fetchall()"
   ]
  },
  {
   "cell_type": "code",
   "execution_count": 7,
   "id": "12054aee",
   "metadata": {},
   "outputs": [
    {
     "name": "stdout",
     "output_type": "stream",
     "text": [
      "Rohan with ssn 1 has net salary 1260.0\n",
      "Mohan with ssn 2 has net salary 1170.0\n",
      "Sohan with ssn 3 has net salary 1170.0\n"
     ]
    }
   ],
   "source": [
    "for record in empTuple:\n",
    "    ssn, name, category, g_sal, b_sal = record\n",
    "    if category == 'A':\n",
    "        da = 0.8 * b_sal\n",
    "        g_sal = b_sal + da\n",
    "        taxamt = 0.3 * g_sal\n",
    "    elif category == 'A':\n",
    "        da = 0.5 * b_sal\n",
    "        g_sal = b_sal + da\n",
    "        taxamt = 0.2 * g_sal\n",
    "    else:\n",
    "        da = 0.3 * b_sal\n",
    "        g_sal = b_sal + da\n",
    "        taxamt = 0.1 * g_sal\n",
    "    finalsal = b_sal + da - taxamt\n",
    "    cur.execute(\"UPDATE Employees SET gross_sal = ? where ssn = ?\", (g_sal, ssn))\n",
    "    print(name, 'with ssn', ssn, 'has net salary', finalsal)"
   ]
  },
  {
   "cell_type": "code",
   "execution_count": 8,
   "id": "763697a6",
   "metadata": {},
   "outputs": [
    {
     "name": "stdout",
     "output_type": "stream",
     "text": [
      "1, Rohan, A, 1800.0, 1000.0\n",
      "2, Mohan, B, 1300.0, 1000.0\n",
      "3, Sohan, C, 1300.0, 1000.0\n"
     ]
    }
   ],
   "source": [
    "cur.execute(\"SELECT * FROM Employees\")\n",
    "empTuple = cur.fetchall()\n",
    "\n",
    "for item in empTuple:\n",
    "    print(*item, sep=\", \") # VV IMP, instead of using for loop, u can use *item"
   ]
  },
  {
   "cell_type": "code",
   "execution_count": 9,
   "id": "967e52c5",
   "metadata": {},
   "outputs": [],
   "source": [
    "cur.close()"
   ]
  },
  {
   "cell_type": "code",
   "execution_count": 11,
   "id": "ae7b580c",
   "metadata": {},
   "outputs": [],
   "source": [
    "# cur.execute(\"Delete from employees\")\n",
    "# con.commit() # con.commit() and not cur.commit()"
   ]
  },
  {
   "cell_type": "markdown",
   "id": "ccc682d3",
   "metadata": {},
   "source": [
    "Implement Library management where students can borrow as\n",
    "well as donate books.\n",
    "Books table:\n",
    "\n",
    "1 id INTEGER PRIMARY KEY\n",
    "2 name TEXT\n",
    "3 total_count INTEGER\n",
    "\n",
    "a) Insert values to the table\n",
    "\n",
    "34,king,5\n",
    "\n",
    "123,Harry Potter,3\n",
    "\n",
    "b) Update the table based on user inputs:\n",
    "based on book id\n",
    "I) BORROW\n",
    "II) RETURN"
   ]
  },
  {
   "cell_type": "code",
   "execution_count": 12,
   "id": "b07e83e8",
   "metadata": {},
   "outputs": [],
   "source": [
    "import sqlite3\n",
    "con = sqlite3.connect(\"Library.db\")\n",
    "cur = con.cursor()"
   ]
  },
  {
   "cell_type": "code",
   "execution_count": 13,
   "id": "e3861d2b",
   "metadata": {},
   "outputs": [],
   "source": [
    "try:\n",
    "    cur.execute(\"\"\"\n",
    "        CREATE TABLE Books (\n",
    "            id INTEGER PRIMARY KEY,\n",
    "            name TEXT,\n",
    "            amt INTEGER\n",
    "        )\n",
    "    \"\"\")\n",
    "except sqlite3.IntegrityError:\n",
    "    print(\"DB already exists\")"
   ]
  },
  {
   "cell_type": "code",
   "execution_count": 15,
   "id": "c50de526",
   "metadata": {},
   "outputs": [
    {
     "data": {
      "text/plain": [
       "<sqlite3.Cursor at 0x1940738ef10>"
      ]
     },
     "execution_count": 15,
     "metadata": {},
     "output_type": "execute_result"
    }
   ],
   "source": [
    "books = [\n",
    "    (34, \"king\", 5),\n",
    "    (123, \"Harry Potter\", 3)\n",
    "]\n",
    "\n",
    "cur.executemany(\"INSERT INTO Books VALUES (?, ?, ?)\", books)"
   ]
  },
  {
   "cell_type": "code",
   "execution_count": 16,
   "id": "312a4768",
   "metadata": {},
   "outputs": [
    {
     "name": "stdout",
     "output_type": "stream",
     "text": [
      "34, king, 5\n",
      "123, Harry Potter, 3\n"
     ]
    }
   ],
   "source": [
    "cur.execute(\"SELECT * FROM Books\")\n",
    "books = cur.fetchall()\n",
    "# for book in books:\n",
    "#     id_, name, amt = book\n",
    "#     print(f\"{id_}, {name}, {amt}\")\n",
    "for book in books:\n",
    "    print(*book, sep=\", \")"
   ]
  },
  {
   "cell_type": "code",
   "execution_count": 24,
   "id": "b8a55284",
   "metadata": {
    "scrolled": true
   },
   "outputs": [
    {
     "name": "stdout",
     "output_type": "stream",
     "text": [
      "\n",
      "\n",
      "What do you want to do \n",
      " 1. borrow \n",
      " 2. return \n",
      " 3. exit\n",
      "Enter option: 2\n",
      "Enter book id: 123\n",
      "123 Book returned\n",
      "\n",
      "\n",
      "What do you want to do \n",
      " 1. borrow \n",
      " 2. return \n",
      " 3. exit\n",
      "Enter option: 2\n",
      "Enter book id: 123\n",
      "123 Book returned\n",
      "\n",
      "\n",
      "What do you want to do \n",
      " 1. borrow \n",
      " 2. return \n",
      " 3. exit\n",
      "Enter option: 1\n",
      "Enter book id: 34\n",
      "34 Book borrowed\n",
      "\n",
      "\n",
      "What do you want to do \n",
      " 1. borrow \n",
      " 2. return \n",
      " 3. exit\n",
      "Enter option: 3\n"
     ]
    }
   ],
   "source": [
    "while 1:\n",
    "    print(\"\\n\\nWhat do you want to do \\n 1. borrow \\n 2. return \\n 3. exit\")\n",
    "    opt = int(input(\"Enter option: \"))\n",
    "    if opt == 3:\n",
    "        break\n",
    "    book_id = int(input(\"Enter book id: \"))\n",
    "#     amt = int(input(\"Enter book amt: \")) # not necessary\n",
    "    if opt == 1:\n",
    "        cur.execute(\"UPDATE Books SET amt = amt - (?) WHERE id = (?)\", (1, book_id))\n",
    "        print(book_id, \"Book borrowed\")\n",
    "        # instead of 1 it would be amt\n",
    "    elif opt == 2:\n",
    "        cur.execute(\"UPDATE Books SET amt = amt + (?) WHERE id = (?)\", (1, book_id))\n",
    "        print(book_id, \"Book returned\")\n",
    "        # instead of 1 it would be amt, for many no of books\n",
    "    else:\n",
    "        print(\"Wrong Input\")"
   ]
  },
  {
   "cell_type": "code",
   "execution_count": 25,
   "id": "db3d8f6f",
   "metadata": {},
   "outputs": [
    {
     "name": "stdout",
     "output_type": "stream",
     "text": [
      "34, king, 3\n",
      "123, Harry Potter, 7\n"
     ]
    }
   ],
   "source": [
    "cur.execute(\"SELECT * FROM Books\")\n",
    "books = cur.fetchall()\n",
    "for book in books:\n",
    "    print(*book, sep=\", \")"
   ]
  },
  {
   "cell_type": "code",
   "execution_count": 26,
   "id": "b7dcf2bd",
   "metadata": {},
   "outputs": [],
   "source": [
    "con.commit()"
   ]
  },
  {
   "cell_type": "code",
   "execution_count": 27,
   "id": "3301909b",
   "metadata": {},
   "outputs": [],
   "source": [
    "con.close()"
   ]
  },
  {
   "cell_type": "code",
   "execution_count": null,
   "id": "1e32dd29",
   "metadata": {},
   "outputs": [],
   "source": []
  }
 ],
 "metadata": {
  "kernelspec": {
   "display_name": "Python 3 (ipykernel)",
   "language": "python",
   "name": "python3"
  },
  "language_info": {
   "codemirror_mode": {
    "name": "ipython",
    "version": 3
   },
   "file_extension": ".py",
   "mimetype": "text/x-python",
   "name": "python",
   "nbconvert_exporter": "python",
   "pygments_lexer": "ipython3",
   "version": "3.9.6"
  }
 },
 "nbformat": 4,
 "nbformat_minor": 5
}
