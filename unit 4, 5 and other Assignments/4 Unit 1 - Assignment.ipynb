{
 "cells": [
  {
   "cell_type": "markdown",
   "id": "fc375c4c",
   "metadata": {},
   "source": [
    "### 1) Write a program to enter the following records in a binary file:\n",
    "     \n",
    "Item No integer\n",
    "  \n",
    "Item_Name string\n",
    "     \n",
    "Qty integer\n",
    "\n",
    "Price float\n",
    "\n",
    "Number of records to be\n",
    "entered should be accepted from the user. Read the file to display the records\n",
    "in the following format:\n",
    "\n",
    "Item No:\n",
    "\n",
    "Item Name :\n",
    "\n",
    "Quantity:\n",
    "\n",
    "Price per item:\n",
    "\n",
    "Amount: ( to be calculated as Price * Qty)"
   ]
  },
  {
   "cell_type": "code",
   "execution_count": 2,
   "id": "9e999112",
   "metadata": {},
   "outputs": [],
   "source": [
    "# Binary file, so the trick here is to use serialization"
   ]
  },
  {
   "cell_type": "code",
   "execution_count": 1,
   "id": "183a6d53",
   "metadata": {},
   "outputs": [],
   "source": [
    "class Item:\n",
    "    \n",
    "    def __init__(self, no, name, qty, price):\n",
    "        self.no = no\n",
    "        self.name = name\n",
    "        self.qty = qty\n",
    "        self.price = price\n",
    "        self.amount = self.price * self.qty\n",
    "    \n",
    "    def __str__(self): # in exam create a print_item(item) function, don't do this\n",
    "        string = '\\n'.join([\n",
    "            \"Item No.: \" + str(self.no),\n",
    "            \"Item Name: \" + self.name,\n",
    "            \"Qty: \" + str(self.qty),\n",
    "            \"Price: \" + str(self.price),\n",
    "            \"Amount: \" + str(self.amount)\n",
    "        ])\n",
    "        return string"
   ]
  },
  {
   "cell_type": "markdown",
   "id": "97c9ff27",
   "metadata": {},
   "source": [
    "**write a block to accept input from users and push that into the files and read all records...**"
   ]
  },
  {
   "cell_type": "code",
   "execution_count": 19,
   "id": "747117a9",
   "metadata": {},
   "outputs": [],
   "source": [
    "import pickle\n",
    "with open(\"items.dat\", \"wb\") as f: # wb VVVVV IMMMPPPPP, .dat imp for exam\n",
    "    item1 = Item(1, \"book\", 5, 20.2)\n",
    "    item2 = Item(2, \"pen\", 7, 5)\n",
    "    item3 = Item(3, \"pencil\", 10, 2.5)\n",
    "    \n",
    "    for item in [item1, item2, item3]:\n",
    "        pickle.dump(item, f)"
   ]
  },
  {
   "cell_type": "code",
   "execution_count": 20,
   "id": "6a47b7e1",
   "metadata": {},
   "outputs": [
    {
     "name": "stdout",
     "output_type": "stream",
     "text": [
      "No. of records to be read: 2\n",
      "Item No.: 1\n",
      "Item Name: book\n",
      "Qty: 5\n",
      "Price: 20.2\n",
      "Amount: 101.0 \n",
      "\n",
      "Item No.: 2\n",
      "Item Name: pen\n",
      "Qty: 7\n",
      "Price: 5\n",
      "Amount: 35 \n",
      "\n"
     ]
    }
   ],
   "source": [
    "n = int(input(\"No. of records to be read: \"))\n",
    "\n",
    "if n > 3:\n",
    "    print(\"So many items not present\")\n",
    "    \n",
    "with open(\"items.dat\", \"rb\") as f: # rb VVVVVVV IIIMPPPP, .dat imp for exam\n",
    "    for i in range(n):\n",
    "        item = pickle.load(f)\n",
    "        amout = item.price * item.qty\n",
    "        print(item, \"\\n\")"
   ]
  },
  {
   "cell_type": "markdown",
   "id": "674a1152",
   "metadata": {},
   "source": [
    "### 2) Write a program to accept string/sentences from the user till the user enters “END” to. Save the data in a text file and then display only those sentences which begin with an uppercase alphabet"
   ]
  },
  {
   "cell_type": "code",
   "execution_count": 17,
   "id": "c3d3e57a",
   "metadata": {},
   "outputs": [
    {
     "name": "stdout",
     "output_type": "stream",
     "text": [
      "Enter sentence: aldkfja\n",
      "Enter sentence: Adkafj\n",
      "Enter sentence: laksjdf\n",
      "Enter sentence: DLKJAF\n",
      "Enter sentence: alkdjf\n",
      "Enter sentence: END\n",
      "Output: \n",
      "Adkafj\n",
      "DLKJAF\n"
     ]
    }
   ],
   "source": [
    "with open(\"sentences.txt\", \"w\") as f:\n",
    "    \n",
    "    sentence = input(\"Enter sentence: \")\n",
    "    while sentence != \"END\":\n",
    "        f.write(sentence + \"\\n\")\n",
    "        sentence = input(\"Enter sentence: \")\n",
    "    \n",
    "with open(\"sentences.txt\", \"r\") as f:\n",
    "    print(\"Output: \")\n",
    "    for sentence in f:\n",
    "        if sentence[0].isupper():\n",
    "            print(sentence, end=\"\") # end=\"\" coz the sentence already has \\n"
   ]
  },
  {
   "cell_type": "markdown",
   "id": "319ab255",
   "metadata": {},
   "source": [
    "### 3) Write the file mode that will be used for opening the following files. Also, write the Python statements to open the following files: "
   ]
  },
  {
   "cell_type": "markdown",
   "id": "6d696a83",
   "metadata": {},
   "source": [
    "#### a text file “example.txt” in both read and write mode"
   ]
  },
  {
   "cell_type": "code",
   "execution_count": 21,
   "id": "d9f48b3f",
   "metadata": {},
   "outputs": [
    {
     "name": "stdout",
     "output_type": "stream",
     "text": [
      "no error\n"
     ]
    }
   ],
   "source": [
    "f = open(\"./4 Unit 1 - Assignment files/example.txt\", \"w+\")\n",
    "print(\"no error\")\n",
    "# w+ read and write both and create file if not exist\n",
    "f.close()"
   ]
  },
  {
   "cell_type": "markdown",
   "id": "c0c69c1f",
   "metadata": {},
   "source": [
    "#### a binary file “bfile.dat” in write mode"
   ]
  },
  {
   "cell_type": "code",
   "execution_count": 22,
   "id": "48fac734",
   "metadata": {},
   "outputs": [
    {
     "name": "stdout",
     "output_type": "stream",
     "text": [
      "no error\n"
     ]
    }
   ],
   "source": [
    "f = open(\"./4 Unit 1 - Assignment files/bfile.dat\", \"wb\")\n",
    "print(\"no error\")\n",
    "f.close()"
   ]
  },
  {
   "cell_type": "markdown",
   "id": "3ca71050",
   "metadata": {},
   "source": [
    "#### a text file “try.txt” in append and read mode"
   ]
  },
  {
   "cell_type": "code",
   "execution_count": 24,
   "id": "184dfe33",
   "metadata": {},
   "outputs": [
    {
     "name": "stdout",
     "output_type": "stream",
     "text": [
      "no error\n"
     ]
    }
   ],
   "source": [
    "f = open(\"./4 Unit 1 - Assignment files/try.txt\", \"ab+\") # a+b or ab+\n",
    "print(\"no error\")\n",
    "# a+b or ab+ read and append both and create file if not exist\n",
    "f.close()"
   ]
  },
  {
   "cell_type": "markdown",
   "id": "c8de801f",
   "metadata": {},
   "source": [
    "#### a binary file “btry.dat” in read only mode."
   ]
  },
  {
   "cell_type": "code",
   "execution_count": 29,
   "id": "5c650537",
   "metadata": {},
   "outputs": [
    {
     "name": "stdout",
     "output_type": "stream",
     "text": [
      "no error\n"
     ]
    }
   ],
   "source": [
    "# FILE SHOULD BE CREATED PHYSICALLY FIRST\n",
    "# f = open(\"./4 Unit 1 - Assignment files/btry.dat\", \"w\") \n",
    "# print(\"no error\")\n",
    "# f.close()\n",
    "\n",
    "f = open(\"./4 Unit 1 - Assignment files/btry.dat\", \"rb\") \n",
    "print(\"no error\")\n",
    "f.close()"
   ]
  },
  {
   "cell_type": "markdown",
   "id": "a61305f7",
   "metadata": {},
   "source": [
    "### 4) Implement a program that accepts filename as an input from the user. Open the file and count the number of times a character appears in the file and display the occurrence in a dictionary."
   ]
  },
  {
   "cell_type": "code",
   "execution_count": 1,
   "id": "c57160de",
   "metadata": {},
   "outputs": [
    {
     "name": "stdout",
     "output_type": "stream",
     "text": [
      "Enter file name: lines.txt\n",
      "Counter({' ': 495, 'e': 306, 'i': 285, 's': 258, 'a': 247, 'u': 238, 't': 226, 'n': 180, 'l': 157, 'r': 142, 'm': 129, 'c': 120, 'o': 105, 'd': 72, 'p': 67, '.': 65, 'b': 37, ',': 34, 'f': 34, 'q': 34, 'g': 32, 'v': 32, 'h': 17, 'P': 9, 'D': 9, 'A': 8, 'M': 8, '\\n': 8, 'C': 7, 'S': 5, 'N': 5, 'x': 5, 'I': 3, 'j': 3, 'F': 3, 'U': 3, 'V': 2, 'E': 2})\n"
     ]
    }
   ],
   "source": [
    "filename = input(\"Enter file name: \")\n",
    "f = open(filename, \"r\")\n",
    "\n",
    "string = f.read()\n",
    "# char_count = {}\n",
    "\n",
    "# for char in string:\n",
    "#     if char in char_count:\n",
    "#         char_count[char] += 1\n",
    "#     else:\n",
    "#         char_count[char] = 0\n",
    "\n",
    "# print(char_count)\n",
    "\n",
    "# or use set and dict together to create Counter\n",
    "\n",
    "from collections import Counter\n",
    "char_counts = Counter(string)\n",
    "print(char_counts)\n",
    "\n",
    "f.close()"
   ]
  },
  {
   "cell_type": "markdown",
   "id": "c7f0b3f6",
   "metadata": {},
   "source": [
    "### 5) Implement a python program to validate a mobile number. The number should start with 7, 8 or 9 followed by 9 digits."
   ]
  },
  {
   "cell_type": "code",
   "execution_count": 32,
   "id": "3a263bd3",
   "metadata": {},
   "outputs": [
    {
     "name": "stdout",
     "output_type": "stream",
     "text": [
      "Enter 10 digit mobile number: 7356837843\n",
      "Number is correct\n"
     ]
    }
   ],
   "source": [
    "import re\n",
    "\n",
    "n = input(\"Enter 10 digit mobile number: \")\n",
    "if re.match(r'[789]\\d{9}', n):\n",
    "    print(\"Number is correct\")\n",
    "else:\n",
    "    print(\"Number is not correct\")"
   ]
  },
  {
   "cell_type": "code",
   "execution_count": null,
   "id": "79dd9583",
   "metadata": {},
   "outputs": [],
   "source": []
  }
 ],
 "metadata": {
  "kernelspec": {
   "display_name": "Python 3 (ipykernel)",
   "language": "python",
   "name": "python3"
  },
  "language_info": {
   "codemirror_mode": {
    "name": "ipython",
    "version": 3
   },
   "file_extension": ".py",
   "mimetype": "text/x-python",
   "name": "python",
   "nbconvert_exporter": "python",
   "pygments_lexer": "ipython3",
   "version": "3.9.6"
  }
 },
 "nbformat": 4,
 "nbformat_minor": 5
}
