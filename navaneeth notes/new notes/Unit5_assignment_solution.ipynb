{
  "nbformat": 4,
  "nbformat_minor": 0,
  "metadata": {
    "colab": {
      "name": "Unit5_assignment_solution.ipynb",
      "provenance": []
    },
    "kernelspec": {
      "name": "python3",
      "display_name": "Python 3"
    },
    "language_info": {
      "name": "python"
    }
  },
  "cells": [
    {
      "cell_type": "code",
      "execution_count": 1,
      "metadata": {
        "id": "IEWbUWaAB1_t"
      },
      "outputs": [],
      "source": [
        "import numpy as np\n",
        "import pandas as pd"
      ]
    },
    {
      "cell_type": "code",
      "source": [
        "# Dataframe of number of sales made by an employee\n",
        "sales = {'Tony': 103,\n",
        "         'Sally': 202,\n",
        "         'Randy': 380,\n",
        "         'Ellen': 101,\n",
        "         'Fred': 82\n",
        "        }\n",
        "        \n",
        "        # Dataframe of all employees and the region they work in\n",
        "region = {'Tony': 'West',\n",
        "          'Sally': 'South',\n",
        "          'Carl': 'West',\n",
        "          'Archie': 'North',\n",
        "          'Randy': 'East',\n",
        "          'Ellen': 'South',\n",
        "          'Fred': np.nan,\n",
        "          'Mo': 'East',\n",
        "          'HanWei': np.nan,\n",
        "         }"
      ],
      "metadata": {
        "id": "ksvHK-D4B50f"
      },
      "execution_count": 2,
      "outputs": []
    },
    {
      "cell_type": "code",
      "source": [
        "# Make dataframes\n",
        "sales_df = pd.DataFrame.from_dict(sales, orient='index', \n",
        "                                  columns=['sales'])\n",
        "region_df = pd.DataFrame.from_dict(region, orient='index', \n",
        "                                   columns=['region'])"
      ],
      "metadata": {
        "id": "PND6F4W2B7ue"
      },
      "execution_count": 3,
      "outputs": []
    },
    {
      "cell_type": "code",
      "source": [
        "sales_df.loc['Tony']"
      ],
      "metadata": {
        "colab": {
          "base_uri": "https://localhost:8080/"
        },
        "id": "07VM39fXCJdg",
        "outputId": "441912fa-c4f3-49d4-9839-936b9a5cf685"
      },
      "execution_count": 4,
      "outputs": [
        {
          "output_type": "execute_result",
          "data": {
            "text/plain": [
              "sales    103\n",
              "Name: Tony, dtype: int64"
            ]
          },
          "metadata": {},
          "execution_count": 4
        }
      ]
    },
    {
      "cell_type": "code",
      "source": [
        " sales_df.index"
      ],
      "metadata": {
        "colab": {
          "base_uri": "https://localhost:8080/"
        },
        "id": "pTecMRBHCRhC",
        "outputId": "153c536f-77ee-4c05-c9dc-97a07e4877dc"
      },
      "execution_count": 5,
      "outputs": [
        {
          "output_type": "execute_result",
          "data": {
            "text/plain": [
              "Index(['Tony', 'Sally', 'Randy', 'Ellen', 'Fred'], dtype='object')"
            ]
          },
          "metadata": {},
          "execution_count": 5
        }
      ]
    },
    {
      "cell_type": "code",
      "source": [
        "joined_df = region_df.join(sales_df, how='left')\n",
        "print(joined_df)"
      ],
      "metadata": {
        "colab": {
          "base_uri": "https://localhost:8080/"
        },
        "id": "PYD8NDBlCThI",
        "outputId": "3fe1824e-508a-45a5-c5ad-bbabe1a9ec88"
      },
      "execution_count": 6,
      "outputs": [
        {
          "output_type": "stream",
          "name": "stdout",
          "text": [
            "       region  sales\n",
            "Tony     West  103.0\n",
            "Sally   South  202.0\n",
            "Carl     West    NaN\n",
            "Archie  North    NaN\n",
            "Randy    East  380.0\n",
            "Ellen   South  101.0\n",
            "Fred      NaN   82.0\n",
            "Mo       East    NaN\n",
            "HanWei    NaN    NaN\n"
          ]
        }
      ]
    },
    {
      "cell_type": "code",
      "source": [
        "joined_df = region_df.join(sales_df, how='right')\n",
        "print(joined_df)"
      ],
      "metadata": {
        "colab": {
          "base_uri": "https://localhost:8080/"
        },
        "id": "trZxh2lDCYw1",
        "outputId": "ef3e3922-6b67-4984-e1aa-a11043ab27f3"
      },
      "execution_count": 7,
      "outputs": [
        {
          "output_type": "stream",
          "name": "stdout",
          "text": [
            "      region  sales\n",
            "Tony    West    103\n",
            "Sally  South    202\n",
            "Randy   East    380\n",
            "Ellen  South    101\n",
            "Fred     NaN     82\n"
          ]
        }
      ]
    },
    {
      "cell_type": "code",
      "source": [
        "grouped_df = joined_df.groupby(by='region').sum()\n",
        "grouped_df.reset_index(inplace=True)\n",
        "print(grouped_df)"
      ],
      "metadata": {
        "colab": {
          "base_uri": "https://localhost:8080/"
        },
        "id": "iqHQaIvyCfpi",
        "outputId": "dabbbc2f-4183-41dd-d4ba-390ab43e86d0"
      },
      "execution_count": 8,
      "outputs": [
        {
          "output_type": "stream",
          "name": "stdout",
          "text": [
            "  region  sales\n",
            "0   East    380\n",
            "1  South    303\n",
            "2   West    103\n"
          ]
        }
      ]
    },
    {
      "cell_type": "code",
      "source": [
        "employee_contrib = joined_df.merge(grouped_df, how='left', \n",
        "                                         left_on='region', \n",
        "                                         right_on='region',\n",
        "                                         suffixes=('','_region'))\n",
        "print(employee_contrib)"
      ],
      "metadata": {
        "colab": {
          "base_uri": "https://localhost:8080/"
        },
        "id": "K4-C2w7qC_gh",
        "outputId": "276fc939-6b35-4c2e-ad8d-65b30cf82636"
      },
      "execution_count": 9,
      "outputs": [
        {
          "output_type": "stream",
          "name": "stdout",
          "text": [
            "  region  sales  sales_region\n",
            "0   West    103         103.0\n",
            "1  South    202         303.0\n",
            "2   East    380         380.0\n",
            "3  South    101         303.0\n",
            "4    NaN     82           NaN\n"
          ]
        }
      ]
    },
    {
      "cell_type": "code",
      "source": [
        "employee_contrib = employee_contrib.set_index(joined_df.index)\n",
        "print(employee_contrib)"
      ],
      "metadata": {
        "colab": {
          "base_uri": "https://localhost:8080/"
        },
        "id": "4Hu0fwRpDcw3",
        "outputId": "2de8146b-ee44-4bf2-c959-5ac78042dfea"
      },
      "execution_count": 10,
      "outputs": [
        {
          "output_type": "stream",
          "name": "stdout",
          "text": [
            "      region  sales  sales_region\n",
            "Tony    West    103         103.0\n",
            "Sally  South    202         303.0\n",
            "Randy   East    380         380.0\n",
            "Ellen  South    101         303.0\n",
            "Fred     NaN     82           NaN\n"
          ]
        }
      ]
    },
    {
      "cell_type": "code",
      "source": [
        "# Drop NAs in region column\n",
        "employee_contrib = employee_contrib.dropna(subset=['region'])\n",
        "print(employee_contrib)"
      ],
      "metadata": {
        "colab": {
          "base_uri": "https://localhost:8080/"
        },
        "id": "0rJdDb9JDo6x",
        "outputId": "92c540d1-40af-4a18-e9ac-ea0c92ec6366"
      },
      "execution_count": 11,
      "outputs": [
        {
          "output_type": "stream",
          "name": "stdout",
          "text": [
            "      region  sales  sales_region\n",
            "Tony    West    103         103.0\n",
            "Sally  South    202         303.0\n",
            "Randy   East    380         380.0\n",
            "Ellen  South    101         303.0\n"
          ]
        }
      ]
    },
    {
      "cell_type": "code",
      "source": [
        "# Fill NAs in sales column with 0\n",
        "employee_contrib = employee_contrib.fillna({'sales': 0})\n",
        "print(employee_contrib)"
      ],
      "metadata": {
        "colab": {
          "base_uri": "https://localhost:8080/"
        },
        "id": "5O5ZtyElDvRR",
        "outputId": "8e7b2792-5594-4a35-b924-028c8b67ac01"
      },
      "execution_count": 12,
      "outputs": [
        {
          "output_type": "stream",
          "name": "stdout",
          "text": [
            "      region  sales  sales_region\n",
            "Tony    West    103         103.0\n",
            "Sally  South    202         303.0\n",
            "Randy   East    380         380.0\n",
            "Ellen  South    101         303.0\n"
          ]
        }
      ]
    },
    {
      "cell_type": "code",
      "source": [
        "employee_contrib['%_of_sales'] = employee_contrib['sales']/employee_contrib['sales_region']"
      ],
      "metadata": {
        "id": "rpSNII0MD2M9"
      },
      "execution_count": 13,
      "outputs": []
    }
  ]
}