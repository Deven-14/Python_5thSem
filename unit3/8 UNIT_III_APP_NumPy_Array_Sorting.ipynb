{
 "cells": [
  {
   "cell_type": "markdown",
   "metadata": {
    "id": "H7T5f2ozQ4yP"
   },
   "source": [
    "NumPy provides a number of efficient sorting functions that make it very easy to sort an array. The first function for sorting is sort(), which takes in an array and returns a sorted array."
   ]
  },
  {
   "cell_type": "code",
   "execution_count": 1,
   "metadata": {
    "colab": {
     "base_uri": "https://localhost:8080/"
    },
    "id": "CX5hDlFyQ6Sx",
    "outputId": "09aaa2c1-8eec-4e11-944f-45e852850a68"
   },
   "outputs": [
    {
     "name": "stdout",
     "output_type": "stream",
     "text": [
      "The sorted ages are: [ 5 12 13 34 37]\n",
      "The ages are: [34 12 37  5 13]\n"
     ]
    }
   ],
   "source": [
    "import numpy as np\n",
    "ages = np.array([34,12,37,5,13])\n",
    "sorted_ages = np.sort(ages) \n",
    "print(\"The sorted ages are:\", sorted_ages) \n",
    "print(\"The ages are:\", ages)"
   ]
  },
  {
   "cell_type": "markdown",
   "metadata": {
    "id": "uKHqIz9gQ-Er"
   },
   "source": [
    "As we can see from the output, the sort() function does not modify the original array. Instead it returns a sorted array. If we want to sort the original array, call the sort() function on the array itself."
   ]
  },
  {
   "cell_type": "code",
   "execution_count": 2,
   "metadata": {
    "colab": {
     "base_uri": "https://localhost:8080/"
    },
    "id": "eX-vOjBjRcWG",
    "outputId": "0f8b96b4-b7ab-45ba-daf8-863f10fe29d9"
   },
   "outputs": [
    {
     "name": "stdout",
     "output_type": "stream",
     "text": [
      "The ages are: [34 12 37  5 13]\n",
      "The sorted ages are: [ 5 12 13 34 37]\n"
     ]
    }
   ],
   "source": [
    "import numpy as np\n",
    "ages = np.array([34,12,37,5,13])\n",
    "print(\"The ages are:\", ages)\n",
    "ages.sort() \n",
    "print(\"The sorted ages are:\", ages)"
   ]
  },
  {
   "cell_type": "markdown",
   "metadata": {
    "id": "FIEdevfIRehh"
   },
   "source": [
    "There is another function used for sorting; that’s argsort(). The argsort() function returns the indices that will sort an array."
   ]
  },
  {
   "cell_type": "code",
   "execution_count": 3,
   "metadata": {
    "colab": {
     "base_uri": "https://localhost:8080/"
    },
    "id": "XivP6wyuRhIH",
    "outputId": "2c796c5e-bcd7-4ab5-bed4-a6475d83269e"
   },
   "outputs": [
    {
     "name": "stdout",
     "output_type": "stream",
     "text": [
      "The index of the sorted ages are: [3 1 4 0 2]\n"
     ]
    }
   ],
   "source": [
    "import numpy as np\n",
    "ages = np.array([34,12,37,5,13])\n",
    "print(\"The index of the sorted ages are:\", ages.argsort())"
   ]
  },
  {
   "cell_type": "markdown",
   "metadata": {
    "id": "EQiH3zWHRyTy"
   },
   "source": [
    "To print the sorted ages array, use the result of argsort() as the index to the **ages** array."
   ]
  },
  {
   "cell_type": "code",
   "execution_count": 4,
   "metadata": {
    "colab": {
     "base_uri": "https://localhost:8080/"
    },
    "id": "2_uWx3CdRzJa",
    "outputId": "ad3021c5-1aa9-49bb-fc03-67d552b0c243"
   },
   "outputs": [
    {
     "name": "stdout",
     "output_type": "stream",
     "text": [
      "The sorted ages are: [ 5 12 13 34 37]\n"
     ]
    }
   ],
   "source": [
    "import numpy as np\n",
    "ages = np.array([34,12,37,5,13])\n",
    "print(\"The sorted ages are:\", ages[ages.argsort()]) "
   ]
  },
  {
   "cell_type": "markdown",
   "metadata": {
    "id": "f-dXWNPaR39h"
   },
   "source": [
    "What is the real use of argsort()? Imagine that we have three arrays representing a list of people, along with their ages and heights. Suppose that we want to sort this group of people by age. If we simply sort the ages array by itself, the other two arrays would not be sorted correctly based on age. This is where argsort() comes in really handy. Once the sort indices are obtained, simply feed them into the three arrays"
   ]
  },
  {
   "cell_type": "code",
   "execution_count": 5,
   "metadata": {
    "colab": {
     "base_uri": "https://localhost:8080/"
    },
    "id": "YbO7DXjaSJdK",
    "outputId": "81cac7db-694a-4d31-89b4-dad698e176f2"
   },
   "outputs": [
    {
     "name": "stdout",
     "output_type": "stream",
     "text": [
      "The sorted names with respect to ages are: ['Will' 'Mary' 'Joe' 'Johnny' 'Peter']\n",
      "The sorted ages are: [ 5 12 13 34 37]\n",
      "The sorted heights with respect to ages are: [0.5  1.2  1.25 1.76 1.68]\n"
     ]
    }
   ],
   "source": [
    "import numpy as np\n",
    "persons = np.array(['Johnny','Mary','Peter','Will','Joe'])\n",
    "ages = np.array([34,12,37,5,13])\n",
    "heights = np.array([1.76,1.2,1.68,0.5,1.25])\n",
    "sort_indices = np.argsort(ages) \n",
    "print(\"The sorted names with respect to ages are:\", persons[sort_indices]) \n",
    "print(\"The sorted ages are:\", ages[sort_indices]) \n",
    "print(\"The sorted heights with respect to ages are:\", heights[sort_indices])"
   ]
  },
  {
   "cell_type": "markdown",
   "metadata": {
    "id": "4NnQM62NSThC"
   },
   "source": [
    "They would now be sorted based on age. As we can see, Will is the youngest, followed by Mary, and so on. The corresponding height for each person would also be in the correct order. If we wish to sort based on name, then simply use argsort() on the persons array and feed the resulting indices into the three arrays."
   ]
  },
  {
   "cell_type": "code",
   "execution_count": 6,
   "metadata": {
    "colab": {
     "base_uri": "https://localhost:8080/"
    },
    "id": "dnbqFlOfSUZ6",
    "outputId": "6e10e93a-e6b6-4d6d-fcec-befd74b03b42"
   },
   "outputs": [
    {
     "name": "stdout",
     "output_type": "stream",
     "text": [
      "The sorted names are: ['Joe' 'Johnny' 'Mary' 'Peter' 'Will']\n",
      "The sorted ages with respect to names are: [13 34 12 37  5]\n",
      "The sorted heights with respect to names are: [1.25 1.76 1.2  1.68 0.5 ]\n"
     ]
    }
   ],
   "source": [
    "import numpy as np\n",
    "persons = np.array(['Johnny','Mary','Peter','Will','Joe'])\n",
    "ages = np.array([34,12,37,5,13])\n",
    "heights = np.array([1.76,1.2,1.68,0.5,1.25])\n",
    "sort_indices = np.argsort(persons) \n",
    "print(\"The sorted names are:\", persons[sort_indices]) \n",
    "print(\"The sorted ages with respect to names are:\", ages[sort_indices]) \n",
    "print(\"The sorted heights with respect to names are:\", heights[sort_indices])"
   ]
  },
  {
   "cell_type": "markdown",
   "metadata": {
    "id": "ikk4c-waSZFS"
   },
   "source": [
    "To reverse the order of the names and display them in descending order, use the Python[::-1] notation."
   ]
  },
  {
   "cell_type": "code",
   "execution_count": 7,
   "metadata": {
    "colab": {
     "base_uri": "https://localhost:8080/"
    },
    "id": "ivhiCZmDSZwT",
    "outputId": "2547edf6-8832-4954-8b72-3bc7e5df6710"
   },
   "outputs": [
    {
     "name": "stdout",
     "output_type": "stream",
     "text": [
      "The reverse sorted names are: ['Will' 'Peter' 'Mary' 'Johnny' 'Joe']\n",
      "The revere sorted ages with respect to names are: [ 5 37 12 34 13]\n",
      "The reverse sorted heights with respect to names are: [0.5  1.68 1.2  1.76 1.25]\n"
     ]
    }
   ],
   "source": [
    "import numpy as np\n",
    "persons = np.array(['Johnny','Mary','Peter','Will','Joe'])\n",
    "ages = np.array([34,12,37,5,13])\n",
    "heights = np.array([1.76,1.2,1.68,0.5,1.25])\n",
    "reverse_sort_indices = np.argsort(persons)[::-1] \n",
    "print(\"The reverse sorted names are:\", persons[reverse_sort_indices]) \n",
    "print(\"The revere sorted ages with respect to names are:\", ages[reverse_sort_indices]) \n",
    "print(\"The reverse sorted heights with respect to names are:\", heights[reverse_sort_indices])"
   ]
  },
  {
   "cell_type": "code",
   "execution_count": null,
   "metadata": {},
   "outputs": [],
   "source": []
  }
 ],
 "metadata": {
  "colab": {
   "collapsed_sections": [],
   "name": "UNIT-III-APP-NumPy Array Sorting.ipynb",
   "provenance": []
  },
  "kernelspec": {
   "display_name": "Python 3 (ipykernel)",
   "language": "python",
   "name": "python3"
  },
  "language_info": {
   "codemirror_mode": {
    "name": "ipython",
    "version": 3
   },
   "file_extension": ".py",
   "mimetype": "text/x-python",
   "name": "python",
   "nbconvert_exporter": "python",
   "pygments_lexer": "ipython3",
   "version": "3.9.6"
  }
 },
 "nbformat": 4,
 "nbformat_minor": 1
}
