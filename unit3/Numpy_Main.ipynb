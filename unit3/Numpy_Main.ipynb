{
 "cells": [
  {
   "cell_type": "code",
   "execution_count": 1,
   "id": "5ef5181d",
   "metadata": {},
   "outputs": [],
   "source": [
    "import numpy as np"
   ]
  },
  {
   "cell_type": "markdown",
   "id": "3cb74ac6",
   "metadata": {},
   "source": [
    "## numpy attributes"
   ]
  },
  {
   "cell_type": "code",
   "execution_count": 4,
   "id": "d0fef949",
   "metadata": {},
   "outputs": [
    {
     "name": "stdout",
     "output_type": "stream",
     "text": [
      "ndim 2\n",
      "shape (2, 3)\n",
      "size 6\n",
      "itemsize 4\n",
      "nbytes 24\n",
      "dtype int32\n"
     ]
    }
   ],
   "source": [
    "x = np.array([[1, 2, 3], [2, 3, 4]])\n",
    "print(\"ndim\", x.ndim)\n",
    "print(\"shape\", x.shape)\n",
    "print(\"size\", x.size)\n",
    "print(\"itemsize\", x.itemsize)\n",
    "print(\"nbytes\", x.nbytes)\n",
    "print(\"dtype\", x.dtype)"
   ]
  },
  {
   "cell_type": "markdown",
   "id": "6a10447b",
   "metadata": {},
   "source": [
    "## imp points\n"
   ]
  },
  {
   "cell_type": "markdown",
   "id": "3d55a54d",
   "metadata": {},
   "source": [
    "Keep in mind that, unlike Python lists, NumPy arrays have a fixed type. This means, for\n",
    "example, that if you attempt to insert a floating-point value to an integer array, the value\n",
    "will be silently truncated. Don&#39;t be caught unaware by this behavior!"
   ]
  },
  {
   "cell_type": "code",
   "execution_count": 5,
   "id": "070dbdc7",
   "metadata": {},
   "outputs": [
    {
     "data": {
      "text/plain": [
       "array([[3, 2, 3],\n",
       "       [2, 3, 4]])"
      ]
     },
     "execution_count": 5,
     "metadata": {},
     "output_type": "execute_result"
    }
   ],
   "source": [
    "x[0, 0] = 3.14159\n",
    "x"
   ]
  },
  {
   "cell_type": "markdown",
   "id": "a48351d9",
   "metadata": {},
   "source": [
    "## indexing"
   ]
  },
  {
   "cell_type": "code",
   "execution_count": 13,
   "id": "ccc29736",
   "metadata": {},
   "outputs": [
    {
     "data": {
      "text/plain": [
       "array([[[3, 6, 5, 8],\n",
       "        [9, 8, 5, 9]],\n",
       "\n",
       "       [[9, 2, 6, 3],\n",
       "        [3, 0, 1, 0]],\n",
       "\n",
       "       [[3, 1, 3, 1],\n",
       "        [8, 1, 4, 3]]])"
      ]
     },
     "execution_count": 13,
     "metadata": {},
     "output_type": "execute_result"
    }
   ],
   "source": [
    "a = np.random.randint(10, size=(3, 2, 4))\n",
    "a"
   ]
  },
  {
   "cell_type": "code",
   "execution_count": 14,
   "id": "30c896d7",
   "metadata": {},
   "outputs": [
    {
     "data": {
      "text/plain": [
       "5"
      ]
     },
     "execution_count": 14,
     "metadata": {},
     "output_type": "execute_result"
    }
   ],
   "source": [
    "a[0, 1, 2]\n",
    "# a[start:stop:step, start:so:se, sa:so:se] from outside dim to indside dim"
   ]
  },
  {
   "cell_type": "markdown",
   "id": "2640cc0f",
   "metadata": {},
   "source": [
    "Keep in mind that, unlike Python lists, NumPy arrays have a fixed type. This means, for example, that if you attempt to insert a floating-point value to an integer array, the value will be silently truncated. Don't be caught unaware by this behavior!"
   ]
  },
  {
   "cell_type": "code",
   "execution_count": 16,
   "id": "f867d369",
   "metadata": {},
   "outputs": [
    {
     "data": {
      "text/plain": [
       "array([[[  3,   6,   5,   8],\n",
       "        [  9,   8, 100,   9]],\n",
       "\n",
       "       [[  9,   2,   6,   3],\n",
       "        [  3,   0,   1,   0]],\n",
       "\n",
       "       [[  3,   1,   3,   1],\n",
       "        [  8,   1,   4,   3]]])"
      ]
     },
     "execution_count": 16,
     "metadata": {},
     "output_type": "execute_result"
    }
   ],
   "source": [
    "a[0, 1, 2] = 100.14256\n",
    "a"
   ]
  },
  {
   "cell_type": "markdown",
   "id": "c7dd9dfc",
   "metadata": {},
   "source": [
    "## Slicing"
   ]
  },
  {
   "cell_type": "markdown",
   "id": "934f4e85",
   "metadata": {},
   "source": [
    "x[start:stop:step, sa:so:se, .....]\n",
    "If any of these are unspecified, they default to the values start=0, stop=size of\n",
    "dimension, step=1."
   ]
  },
  {
   "cell_type": "code",
   "execution_count": 25,
   "id": "2e8b5acc",
   "metadata": {},
   "outputs": [
    {
     "data": {
      "text/plain": [
       "array([0, 1, 2, 3, 4, 5, 6, 7, 8, 9])"
      ]
     },
     "execution_count": 25,
     "metadata": {},
     "output_type": "execute_result"
    }
   ],
   "source": [
    "x = np.arange(10)\n",
    "x"
   ]
  },
  {
   "cell_type": "code",
   "execution_count": 26,
   "id": "ca2ee4ff",
   "metadata": {},
   "outputs": [
    {
     "data": {
      "text/plain": [
       "(array([0, 1, 2, 3, 4]), array([5, 6, 7, 8, 9]))"
      ]
     },
     "execution_count": 26,
     "metadata": {},
     "output_type": "execute_result"
    }
   ],
   "source": [
    "x[:5], x[5:]"
   ]
  },
  {
   "cell_type": "code",
   "execution_count": 28,
   "id": "8b6f12fb",
   "metadata": {},
   "outputs": [
    {
     "data": {
      "text/plain": [
       "array([4, 5, 6])"
      ]
     },
     "execution_count": 28,
     "metadata": {},
     "output_type": "execute_result"
    }
   ],
   "source": [
    "x[4:7] # EXCLUDING 7th INDEX"
   ]
  },
  {
   "cell_type": "code",
   "execution_count": 31,
   "id": "cb5dfa3e",
   "metadata": {},
   "outputs": [
    {
     "data": {
      "text/plain": [
       "(array([0, 2, 4, 6, 8]), array([1, 3, 5, 7, 9]))"
      ]
     },
     "execution_count": 31,
     "metadata": {},
     "output_type": "execute_result"
    }
   ],
   "source": [
    "x[::2], x[1::2] # FOR ODD PLACES"
   ]
  },
  {
   "cell_type": "code",
   "execution_count": 33,
   "id": "28fa73bb",
   "metadata": {},
   "outputs": [
    {
     "data": {
      "text/plain": [
       "(array([9, 8, 7, 6, 5, 4, 3, 2, 1, 0]), array([5, 3, 1]))"
      ]
     },
     "execution_count": 33,
     "metadata": {},
     "output_type": "execute_result"
    }
   ],
   "source": [
    "x[::-1], x[5::-2]"
   ]
  },
  {
   "cell_type": "markdown",
   "id": "06d39edc",
   "metadata": {},
   "source": [
    "### multidimensional slicing"
   ]
  },
  {
   "cell_type": "code",
   "execution_count": 35,
   "id": "b76b79de",
   "metadata": {},
   "outputs": [
    {
     "data": {
      "text/plain": [
       "array([[ 0,  1,  2,  3],\n",
       "       [ 4,  5,  6,  7],\n",
       "       [ 8,  9, 10, 11]])"
      ]
     },
     "execution_count": 35,
     "metadata": {},
     "output_type": "execute_result"
    }
   ],
   "source": [
    "x = np.arange(12).reshape((3, 4))\n",
    "x"
   ]
  },
  {
   "cell_type": "code",
   "execution_count": 36,
   "id": "085139a6",
   "metadata": {},
   "outputs": [
    {
     "data": {
      "text/plain": [
       "array([[0, 1, 2],\n",
       "       [4, 5, 6]])"
      ]
     },
     "execution_count": 36,
     "metadata": {},
     "output_type": "execute_result"
    }
   ],
   "source": [
    "x[:2, :3]"
   ]
  },
  {
   "cell_type": "code",
   "execution_count": 38,
   "id": "fae565f5",
   "metadata": {},
   "outputs": [
    {
     "data": {
      "text/plain": [
       "(array([[ 0,  2],\n",
       "        [ 4,  6],\n",
       "        [ 8, 10]]),\n",
       " array([[ 0,  2],\n",
       "        [ 4,  6],\n",
       "        [ 8, 10]]))"
      ]
     },
     "execution_count": 38,
     "metadata": {},
     "output_type": "execute_result"
    }
   ],
   "source": [
    "x[:3, ::2], x[:, ::2]"
   ]
  },
  {
   "cell_type": "markdown",
   "id": "91ea17c9",
   "metadata": {},
   "source": [
    "Finally, subarray dimensions can even be reversed together:"
   ]
  },
  {
   "cell_type": "code",
   "execution_count": 42,
   "id": "b85f8236",
   "metadata": {},
   "outputs": [
    {
     "data": {
      "text/plain": [
       "array([[11, 10,  9,  8],\n",
       "       [ 7,  6,  5,  4],\n",
       "       [ 3,  2,  1,  0]])"
      ]
     },
     "execution_count": 42,
     "metadata": {},
     "output_type": "execute_result"
    }
   ],
   "source": [
    "x[::-1, ::-1]"
   ]
  },
  {
   "cell_type": "markdown",
   "id": "f7bc3522",
   "metadata": {},
   "source": [
    "### accessing array rows and columns"
   ]
  },
  {
   "cell_type": "markdown",
   "id": "07cf9193",
   "metadata": {},
   "source": [
    "One commonly needed routine is accessing of single rows or columns of an array. This can\n",
    "be done by **combining indexing and slicing, using an empty slice marked by a single colon**\n",
    "(:):"
   ]
  },
  {
   "cell_type": "code",
   "execution_count": 47,
   "id": "cd5857da",
   "metadata": {},
   "outputs": [
    {
     "data": {
      "text/plain": [
       "(array([0, 4, 8]), array([0, 1, 2, 3]), array([0, 1, 2, 3]))"
      ]
     },
     "execution_count": 47,
     "metadata": {},
     "output_type": "execute_result"
    }
   ],
   "source": [
    "x[:, 0], x[0, :], x[0] # equivalent to x[0, :]"
   ]
  },
  {
   "cell_type": "markdown",
   "id": "f3097d1a",
   "metadata": {},
   "source": [
    "# Subarrays as no-copy views"
   ]
  },
  {
   "cell_type": "markdown",
   "id": "e96cc5bc",
   "metadata": {},
   "source": [
    "One important–and extremely useful–thing to know about **array slices is that they return\n",
    "views rather than copies of the array data**. This is one area in which NumPy array slicing\n",
    "differs from **Python list slicing: in lists, slices will be copies**. Consider our two-dimensional\n",
    "array from before:"
   ]
  },
  {
   "cell_type": "code",
   "execution_count": 51,
   "id": "9c746004",
   "metadata": {},
   "outputs": [
    {
     "data": {
      "text/plain": [
       "array([[8, 0, 3, 0],\n",
       "       [7, 9, 3, 4],\n",
       "       [7, 6, 4, 5]])"
      ]
     },
     "execution_count": 51,
     "metadata": {},
     "output_type": "execute_result"
    }
   ],
   "source": [
    "a = np.random.randint(10, size=(3, 4))\n",
    "a"
   ]
  },
  {
   "cell_type": "code",
   "execution_count": 53,
   "id": "d1f41414",
   "metadata": {},
   "outputs": [
    {
     "data": {
      "text/plain": [
       "array([[8, 0],\n",
       "       [7, 9]])"
      ]
     },
     "execution_count": 53,
     "metadata": {},
     "output_type": "execute_result"
    }
   ],
   "source": [
    "a2 = a[:2, :2]\n",
    "a2"
   ]
  },
  {
   "cell_type": "code",
   "execution_count": 55,
   "id": "f91bc0d2",
   "metadata": {},
   "outputs": [
    {
     "data": {
      "text/plain": [
       "(array([[99,  0],\n",
       "        [ 7,  9]]),\n",
       " array([[99,  0,  3,  0],\n",
       "        [ 7,  9,  3,  4],\n",
       "        [ 7,  6,  4,  5]]))"
      ]
     },
     "execution_count": 55,
     "metadata": {},
     "output_type": "execute_result"
    }
   ],
   "source": [
    "a2[0, 0] = 99\n",
    "a2, a"
   ]
  },
  {
   "cell_type": "markdown",
   "id": "c8a7b820",
   "metadata": {},
   "source": [
    "**This default behavior is actually quite useful: it means that when we work with large\n",
    "datasets, we can access and process pieces of these datasets without the need to copy the\n",
    "underlying data buffer.**"
   ]
  },
  {
   "cell_type": "markdown",
   "id": "07f6fb8b",
   "metadata": {},
   "source": [
    "## creating copies of arrays"
   ]
  },
  {
   "cell_type": "code",
   "execution_count": 57,
   "id": "08949abc",
   "metadata": {},
   "outputs": [
    {
     "data": {
      "text/plain": [
       "(array([[555,   0],\n",
       "        [  7,   9]]),\n",
       " array([[99,  0],\n",
       "        [ 7,  9]]))"
      ]
     },
     "execution_count": 57,
     "metadata": {},
     "output_type": "execute_result"
    }
   ],
   "source": [
    "a2_copy = a2.copy() # a[:2, :2].copy()\n",
    "a2_copy[0, 0] = 555\n",
    "a2_copy, a2"
   ]
  },
  {
   "cell_type": "markdown",
   "id": "13484cc1",
   "metadata": {},
   "source": [
    "## Reshaping of Arrays"
   ]
  },
  {
   "cell_type": "code",
   "execution_count": 59,
   "id": "2be87a14",
   "metadata": {},
   "outputs": [
    {
     "data": {
      "text/plain": [
       "array([[1, 2, 3],\n",
       "       [4, 5, 6],\n",
       "       [7, 8, 9]])"
      ]
     },
     "execution_count": 59,
     "metadata": {},
     "output_type": "execute_result"
    }
   ],
   "source": [
    "x = np.arange(1, 10).reshape((3, 3))\n",
    "x"
   ]
  },
  {
   "cell_type": "markdown",
   "id": "c0858a30",
   "metadata": {},
   "source": [
    "**Note that for this to work, the size of the initial array must match the size of the reshaped\n",
    "array. Where possible, the reshape method will use a no-copy view of the initial array, but\n",
    "with non-contiguous memory buffers this is not always the case.**`"
   ]
  },
  {
   "cell_type": "code",
   "execution_count": 64,
   "id": "aac4f425",
   "metadata": {},
   "outputs": [
    {
     "name": "stdout",
     "output_type": "stream",
     "text": [
      "[1 2 3 4 5 6 7 8 9]\n",
      "[[1 2 3]\n",
      " [4 5 6]\n",
      " [7 8 9]]\n",
      "[99  2  3  4  5  6  7  8  9]\n",
      "[[99  2  3]\n",
      " [ 4  5  6]\n",
      " [ 7  8  9]]\n"
     ]
    }
   ],
   "source": [
    "x = np.arange(1, 10)\n",
    "x.reshape((3, 3)) # IMPORTANT NOTE\n",
    "x2 = x.reshape((3, 3))\n",
    "print(x, x2, sep='\\n')\n",
    "\n",
    "# reshape does no-copy view and not copy of array\n",
    "\n",
    "x2[0, 0] = 99\n",
    "print(x, x2, sep='\\n')"
   ]
  },
  {
   "cell_type": "markdown",
   "id": "2ffecfbe",
   "metadata": {},
   "source": [
    "Another common reshaping pattern is the conversion of a one-dimensional array into a\n",
    "two-dimensional row or column matrix. **This can be done with the reshape method, or\n",
    "more easily done by making use of the newaxis keyword within a slice operation**:"
   ]
  },
  {
   "cell_type": "code",
   "execution_count": 66,
   "id": "46eead0c",
   "metadata": {},
   "outputs": [
    {
     "data": {
      "text/plain": [
       "(array([[1, 2, 3]]), array([[1, 2, 3]]))"
      ]
     },
     "execution_count": 66,
     "metadata": {},
     "output_type": "execute_result"
    }
   ],
   "source": [
    "x = np.array([1, 2, 3]) \n",
    "x.reshape((1, 3)), x[np.newaxis, :]"
   ]
  },
  {
   "cell_type": "code",
   "execution_count": 68,
   "id": "7419c2dc",
   "metadata": {},
   "outputs": [
    {
     "data": {
      "text/plain": [
       "(array([[1],\n",
       "        [2],\n",
       "        [3]]),\n",
       " array([[1],\n",
       "        [2],\n",
       "        [3]]))"
      ]
     },
     "execution_count": 68,
     "metadata": {},
     "output_type": "execute_result"
    }
   ],
   "source": [
    "x.reshape((3, 1)), x[:, np.newaxis]"
   ]
  },
  {
   "cell_type": "markdown",
   "id": "550a6742",
   "metadata": {},
   "source": [
    "## Array Concatenation and Splitting"
   ]
  },
  {
   "cell_type": "markdown",
   "id": "707c4748",
   "metadata": {},
   "source": [
    "np.concatenate(), np.vstack, np.hstack, np.dstack"
   ]
  },
  {
   "cell_type": "code",
   "execution_count": 71,
   "id": "248740d6",
   "metadata": {},
   "outputs": [
    {
     "name": "stdout",
     "output_type": "stream",
     "text": [
      "[1 2 3 3 2 1]\n",
      "[99  2  3 88  2  1] [1 2 3] [3 2 1]\n"
     ]
    }
   ],
   "source": [
    "x = np.array([1, 2, 3])\n",
    "y = np.array([3, 2, 1])\n",
    "z = np.concatenate([x, y]) \n",
    "print(z)\n",
    "z[[0, 3]] = [99, 88] # ****** VVV IIMMMPPPPP\n",
    "print(z, x, y) # np.concatenate CREATED A NEW ARRAY"
   ]
  },
  {
   "cell_type": "code",
   "execution_count": 73,
   "id": "c81bb6cb",
   "metadata": {},
   "outputs": [
    {
     "data": {
      "text/plain": [
       "array([ 1,  2,  3,  3,  2,  1, 99, 99, 99])"
      ]
     },
     "execution_count": 73,
     "metadata": {},
     "output_type": "execute_result"
    }
   ],
   "source": [
    "z = [99, 99, 99]\n",
    "np.concatenate([x, y, z])"
   ]
  },
  {
   "cell_type": "code",
   "execution_count": 76,
   "id": "9f24b450",
   "metadata": {},
   "outputs": [
    {
     "data": {
      "text/plain": [
       "(array([[1, 2, 3],\n",
       "        [4, 5, 6],\n",
       "        [1, 2, 3],\n",
       "        [4, 5, 6]]),\n",
       " array([[1, 2, 3, 1, 2, 3],\n",
       "        [4, 5, 6, 4, 5, 6]]))"
      ]
     },
     "execution_count": 76,
     "metadata": {},
     "output_type": "execute_result"
    }
   ],
   "source": [
    "a = np.array([[1, 2, 3], \n",
    "              [4, 5, 6]]) # for 2d, axis 0 is rows and axis 1 is cols\n",
    "np.concatenate([a, a]), np.concatenate([a, a], axis=1)"
   ]
  },
  {
   "cell_type": "code",
   "execution_count": 78,
   "id": "93bdbc7f",
   "metadata": {},
   "outputs": [
    {
     "data": {
      "text/plain": [
       "(array([[1, 2, 3],\n",
       "        [9, 8, 7],\n",
       "        [6, 5, 4]]),\n",
       " array([[9, 8, 7],\n",
       "        [6, 5, 4],\n",
       "        [1, 2, 3]]))"
      ]
     },
     "execution_count": 78,
     "metadata": {},
     "output_type": "execute_result"
    }
   ],
   "source": [
    "b = np.array([1, 2, 3])\n",
    "grid = np.array([[9, 8, 7], \n",
    "                [6, 5, 4]])\n",
    "np.vstack([b, grid]), np.vstack([grid, b])"
   ]
  },
  {
   "cell_type": "code",
   "execution_count": 80,
   "id": "2d8849bf",
   "metadata": {},
   "outputs": [
    {
     "data": {
      "text/plain": [
       "(array([[99,  9,  8,  7],\n",
       "        [99,  6,  5,  4]]),\n",
       " array([[ 9,  8,  7, 99],\n",
       "        [ 6,  5,  4, 99]]))"
      ]
     },
     "execution_count": 80,
     "metadata": {},
     "output_type": "execute_result"
    }
   ],
   "source": [
    "c = [[99], \n",
    "     [99]]\n",
    "np.hstack([c, grid]), np.hstack([grid, c])"
   ]
  },
  {
   "cell_type": "markdown",
   "id": "5f427bcc",
   "metadata": {},
   "source": [
    "### Similary, np.dstack will stack arrays along the third axis."
   ]
  },
  {
   "cell_type": "markdown",
   "id": "cb7e63a6",
   "metadata": {},
   "source": [
    "## Splitting the arrays"
   ]
  },
  {
   "cell_type": "markdown",
   "id": "026f7d78",
   "metadata": {},
   "source": [
    "np.split(), np.vsplit(), np.hsplit(), np.dsplit()"
   ]
  },
  {
   "cell_type": "code",
   "execution_count": 82,
   "id": "6dc55209",
   "metadata": {},
   "outputs": [
    {
     "data": {
      "text/plain": [
       "(array([1, 2, 3]), array([99, 99]), array([3, 2, 1]))"
      ]
     },
     "execution_count": 82,
     "metadata": {},
     "output_type": "execute_result"
    }
   ],
   "source": [
    "x = [1, 2, 3, 99, 99, 3, 2, 1]\n",
    "x1, x2, x3 = np.split(x, [3, 5])\n",
    "x1, x2, x3"
   ]
  },
  {
   "cell_type": "markdown",
   "id": "ec088310",
   "metadata": {},
   "source": [
    "Notice that N split-points, leads to N + 1 subarrays. The related functions np.hsplit and\n",
    "np.vsplit are similar:"
   ]
  },
  {
   "cell_type": "code",
   "execution_count": 83,
   "id": "f6586af2",
   "metadata": {},
   "outputs": [
    {
     "data": {
      "text/plain": [
       "array([[ 0,  1,  2,  3],\n",
       "       [ 4,  5,  6,  7],\n",
       "       [ 8,  9, 10, 11],\n",
       "       [12, 13, 14, 15]])"
      ]
     },
     "execution_count": 83,
     "metadata": {},
     "output_type": "execute_result"
    }
   ],
   "source": [
    "a = np.arange(16).reshape((4, 4))\n",
    "a"
   ]
  },
  {
   "cell_type": "code",
   "execution_count": 85,
   "id": "45318939",
   "metadata": {},
   "outputs": [
    {
     "data": {
      "text/plain": [
       "(array([[0, 1, 2, 3],\n",
       "        [4, 5, 6, 7]]),\n",
       " array([[ 8,  9, 10, 11],\n",
       "        [12, 13, 14, 15]]))"
      ]
     },
     "execution_count": 85,
     "metadata": {},
     "output_type": "execute_result"
    }
   ],
   "source": [
    "upper, lower = np.vsplit(a, [2])\n",
    "upper, lower"
   ]
  },
  {
   "cell_type": "code",
   "execution_count": 87,
   "id": "57a9b282",
   "metadata": {},
   "outputs": [
    {
     "data": {
      "text/plain": [
       "(array([[ 0,  1],\n",
       "        [ 4,  5],\n",
       "        [ 8,  9],\n",
       "        [12, 13]]),\n",
       " array([[ 2,  3],\n",
       "        [ 6,  7],\n",
       "        [10, 11],\n",
       "        [14, 15]]))"
      ]
     },
     "execution_count": 87,
     "metadata": {},
     "output_type": "execute_result"
    }
   ],
   "source": [
    "left, right = np.hsplit(a, [2])\n",
    "left, right"
   ]
  },
  {
   "cell_type": "markdown",
   "id": "612143cb",
   "metadata": {},
   "source": [
    "#### Similarly, np.dsplit will split arrays along the third axis."
   ]
  },
  {
   "cell_type": "code",
   "execution_count": null,
   "id": "6d19c921",
   "metadata": {},
   "outputs": [],
   "source": []
  },
  {
   "cell_type": "markdown",
   "id": "c7ebeeb1",
   "metadata": {},
   "source": [
    "## Random in numpy"
   ]
  },
  {
   "cell_type": "markdown",
   "id": "932c9e46",
   "metadata": {},
   "source": [
    "### np.random.randint()"
   ]
  },
  {
   "cell_type": "markdown",
   "id": "dace260a",
   "metadata": {},
   "source": [
    "random.randint(low, high=None, size=None, dtype=int)\n",
    "\n",
    "Return random integers from low (inclusive) to high (exclusive).\n",
    "\n",
    "Return random integers from the “discrete uniform” distribution of the specified dtype in the “half-open” interval [low, high). If high is None (the default), then results are from [0, low)."
   ]
  },
  {
   "cell_type": "code",
   "execution_count": 18,
   "id": "b61a58f4",
   "metadata": {},
   "outputs": [
    {
     "data": {
      "text/plain": [
       "array([[0, 3]])"
      ]
     },
     "execution_count": 18,
     "metadata": {},
     "output_type": "execute_result"
    }
   ],
   "source": [
    "a = np.random.randint(10, size=(1, 2))\n",
    "a"
   ]
  },
  {
   "cell_type": "markdown",
   "id": "aa366e74",
   "metadata": {},
   "source": [
    "### np.arange()"
   ]
  },
  {
   "cell_type": "markdown",
   "id": "5f8378a3",
   "metadata": {},
   "source": [
    "numpy.arange([start, ]stop, [step, ]dtype=None, *, like=None)\n",
    "\n",
    "Return evenly spaced values within a given interval.\n",
    "\n",
    "Values are generated within the half-open interval [start, stop)\n",
    "\n",
    "start: integer or **real**, optional\n",
    "Start of interval. The interval includes this value. The default start value is 0.\n",
    "\n",
    "stop: integer or **real**\n",
    "\n",
    "step: integer or **real**, optional\n",
    "\n",
    "dtype: dtype\n",
    "\n",
    "like: array_like\n",
    "Reference object to allow the creation of arrays which are not NumPy arrays. "
   ]
  },
  {
   "cell_type": "code",
   "execution_count": 24,
   "id": "60f04f05",
   "metadata": {},
   "outputs": [
    {
     "name": "stdout",
     "output_type": "stream",
     "text": [
      "[ 0  1  2  3  4  5  6  7  8  9 10 11 12 13 14]\n",
      "[ 5  8 11 14 17 20 23 26 29]\n"
     ]
    }
   ],
   "source": [
    "a = np.arange(15)\n",
    "b = np.arange(5, 30, 3)\n",
    "print(a, b, sep='\\n')"
   ]
  },
  {
   "cell_type": "code",
   "execution_count": null,
   "id": "9ca282df",
   "metadata": {},
   "outputs": [],
   "source": [
    "np.random.rand(), np.random.random(), np.random.randint(), np.random.seed()\n",
    "np.zeros(), np.ones(), np.partition(), np."
   ]
  },
  {
   "cell_type": "markdown",
   "id": "57c75635",
   "metadata": {},
   "source": [
    "### Aggregations: Min, Max, and Everything in Between"
   ]
  },
  {
   "cell_type": "code",
   "execution_count": 89,
   "id": "82622ca6",
   "metadata": {},
   "outputs": [
    {
     "data": {
      "text/plain": [
       "(array([0.53676964, 0.5463407 , 0.7785273 , 0.20295929, 0.69461177,\n",
       "        0.0487415 , 0.50881843, 0.3538618 , 0.09843193, 0.35928817]),\n",
       " 4.128350531963947,\n",
       " 4.128350531963948)"
      ]
     },
     "execution_count": 89,
     "metadata": {},
     "output_type": "execute_result"
    }
   ],
   "source": [
    "a = np.random.random(10)\n",
    "a, sum(a), np.sum(a)"
   ]
  },
  {
   "cell_type": "markdown",
   "id": "b591da27",
   "metadata": {},
   "source": [
    "However, because it executes the operation in compiled code, NumPy&#39;s version of the operation is computed much more quickly:\n",
    "\n",
    "big_array = np.random.rand(1000000)\n",
    "\n",
    "%timeit sum(big_array)\n",
    "\n",
    "%timeit np.sum(big_array)\n",
    "\n",
    "10 loops, best of 3: 104 ms per loop\n",
    "\n",
    "1000 loops, best of 3: 442 µs per loop\n",
    "\n",
    "Be careful, though: the sum function and the np.sum function are not identical, which cansometimes lead to confusion! In particular, their optional arguments have different meanings, and np.sum is aware of multiple array dimensions"
   ]
  },
  {
   "cell_type": "code",
   "execution_count": 91,
   "id": "d0d7c0d7",
   "metadata": {},
   "outputs": [
    {
     "data": {
      "text/plain": [
       "(0.04874149876806089,\n",
       " 0.04874149876806089,\n",
       " 0.7785272981483864,\n",
       " 0.7785272981483864)"
      ]
     },
     "execution_count": 91,
     "metadata": {},
     "output_type": "execute_result"
    }
   ],
   "source": [
    "min(a), np.min(a), max(a), np.max(a)"
   ]
  },
  {
   "cell_type": "markdown",
   "id": "01abf4f3",
   "metadata": {},
   "source": [
    "NumPy&#39;s corresponding functions have similar syntax, and again operate much more quickly:\n",
    "\n",
    "np.min(big_array), np.max(big_array)\n",
    "\n",
    "(1.1717128136634614e-06, 0.9999976784968716)\n",
    "\n",
    "%timeit min(big_array)\n",
    "\n",
    "%timeit np.min(big_array)\n",
    "\n",
    "10 loops, best of 3: 82.3 ms per loop\n",
    "\n",
    "1000 loops, best of 3: 497 µs per loop"
   ]
  },
  {
   "cell_type": "markdown",
   "id": "71e6d0e8",
   "metadata": {},
   "source": [
    "#### For min, max, sum, and several other NumPy aggregates, a shorter syntax is to use methods of the array object itself:"
   ]
  },
  {
   "cell_type": "code",
   "execution_count": 93,
   "id": "7c4b2288",
   "metadata": {},
   "outputs": [
    {
     "data": {
      "text/plain": [
       "(0.04874149876806089, 0.7785272981483864, 4.128350531963948)"
      ]
     },
     "execution_count": 93,
     "metadata": {},
     "output_type": "execute_result"
    }
   ],
   "source": [
    "a.min(), a.max(), a.sum()"
   ]
  },
  {
   "cell_type": "markdown",
   "id": "1151d503",
   "metadata": {},
   "source": [
    "### Multi dimensional aggregates"
   ]
  },
  {
   "cell_type": "code",
   "execution_count": 94,
   "id": "bc92335c",
   "metadata": {},
   "outputs": [
    {
     "data": {
      "text/plain": [
       "(5.4417102251277445,\n",
       " array([0.12865418, 0.37363031, 0.08335969, 0.00280732]),\n",
       " array([0.87379937, 0.88889216, 0.55743406]))"
      ]
     },
     "execution_count": 94,
     "metadata": {},
     "output_type": "execute_result"
    }
   ],
   "source": [
    "a = np.random.random((3, 4))\n",
    "a.sum(), a.min(axis=0), a.max(axis=1) # WE CAN USE axis FOR AGGREGATE FUNCS()"
   ]
  },
  {
   "cell_type": "markdown",
   "id": "0c31f27f",
   "metadata": {},
   "source": [
    "#### The axis keyword specifies the dimension of the array that will be collapsed, rather than the dimension that will be returned. So specifying axis=0 means that the first axis will be collapsed: for two-dimensional arrays, this means that values within each column will be aggregated."
   ]
  },
  {
   "cell_type": "markdown",
   "id": "726629eb",
   "metadata": {},
   "source": [
    "## other aggregate functions"
   ]
  },
  {
   "cell_type": "markdown",
   "id": "53763507",
   "metadata": {},
   "source": [
    "#### Function Name NaN-safe Version Description\n",
    "np.sum np.nansum Compute sum of elements\n",
    "\n",
    "np.prod np.nanprod Compute product of elements\n",
    "\n",
    "np.mean np.nanmean Compute mean of elements\n",
    "\n",
    "np.std np.nanstd Compute standard deviation\n",
    "\n",
    "np.var np.nanvar Compute variance\n",
    "\n",
    "np.min np.nanmin Find minimum value\n",
    "\n",
    "np.max np.nanmax Find maximum value\n",
    "\n",
    "np.argmin np.nanargmin Find index of minimum value\n",
    "\n",
    "np.argmax np.nanargmax Find index of maximum value\n",
    "\n",
    "np.median np.nanmedian Compute median of elements\n",
    "\n",
    "np.percentile np.nanpercentile Compute rank-based statistics of elements\n",
    "\n",
    "np.any N/A Evaluate whether any elements are true\n",
    "\n",
    "np.all N/A Evaluate whether all elements are true"
   ]
  },
  {
   "cell_type": "code",
   "execution_count": null,
   "id": "f745b6ac",
   "metadata": {},
   "outputs": [],
   "source": []
  },
  {
   "cell_type": "markdown",
   "id": "fecbd5b9",
   "metadata": {},
   "source": [
    "## Sorting Arrays"
   ]
  },
  {
   "cell_type": "code",
   "execution_count": 95,
   "id": "f9c9b3e4",
   "metadata": {},
   "outputs": [],
   "source": [
    "def selection_sort(x):\n",
    "    for i in range(len(x)):\n",
    "        swap = i + np.argmin(x[i:])\n",
    "        x[i], x[swap] = x[swap], x[i]\n",
    "    return x"
   ]
  },
  {
   "cell_type": "code",
   "execution_count": 96,
   "id": "33c9393c",
   "metadata": {},
   "outputs": [
    {
     "data": {
      "text/plain": [
       "array([1, 2, 3, 4, 5])"
      ]
     },
     "execution_count": 96,
     "metadata": {},
     "output_type": "execute_result"
    }
   ],
   "source": [
    "x = np.array([2, 1, 4, 3, 5])\n",
    "selection_sort(x)"
   ]
  },
  {
   "cell_type": "code",
   "execution_count": 97,
   "id": "a0a44b3a",
   "metadata": {},
   "outputs": [],
   "source": [
    "def bogosort(x): # never to be used\n",
    "    while(np.any(x[:-1] > x[1:])): # (1 > 0, 2 > 1, 3 > 2, ... indices)\n",
    "        np.random.shuffle(x)\n",
    "    return x"
   ]
  },
  {
   "cell_type": "code",
   "execution_count": 98,
   "id": "43939b21",
   "metadata": {},
   "outputs": [
    {
     "data": {
      "text/plain": [
       "array([1, 2, 3, 4, 5])"
      ]
     },
     "execution_count": 98,
     "metadata": {},
     "output_type": "execute_result"
    }
   ],
   "source": [
    "x = np.array([2, 1, 4, 3, 5])\n",
    "bogosort(x)"
   ]
  },
  {
   "cell_type": "markdown",
   "id": "456438e9",
   "metadata": {},
   "source": [
    "Although Python has built-in sort and sorted functions to work with lists, we won&#39;t\n",
    "discuss them here because NumPy&#39;s np.sort function turns out to be much more efficient\n",
    "and useful for our purposes. By default np.sort uses an , quicksort algorithm, though\n",
    "mergesort and heapsort are also available. For most applications, the default quicksort is\n",
    "more than sufficient."
   ]
  },
  {
   "cell_type": "markdown",
   "id": "8537a1a7",
   "metadata": {},
   "source": [
    "**To return a sorted version of the array without modifying the input, you can use np.sort:**"
   ]
  },
  {
   "cell_type": "code",
   "execution_count": 99,
   "id": "f45a510a",
   "metadata": {},
   "outputs": [
    {
     "data": {
      "text/plain": [
       "array([1, 2, 3, 4, 5])"
      ]
     },
     "execution_count": 99,
     "metadata": {},
     "output_type": "execute_result"
    }
   ],
   "source": [
    "x = np.array([2, 1, 4, 3, 5])\n",
    "np.sort(x)"
   ]
  },
  {
   "cell_type": "markdown",
   "id": "58eb4429",
   "metadata": {},
   "source": [
    "**If you prefer to sort the array in-place, you can instead use the sort method of arrays:**"
   ]
  },
  {
   "cell_type": "code",
   "execution_count": 101,
   "id": "64f3853f",
   "metadata": {},
   "outputs": [
    {
     "data": {
      "text/plain": [
       "array([1, 2, 3, 4, 5])"
      ]
     },
     "execution_count": 101,
     "metadata": {},
     "output_type": "execute_result"
    }
   ],
   "source": [
    "x.sort()\n",
    "x"
   ]
  },
  {
   "cell_type": "markdown",
   "id": "b4bd688b",
   "metadata": {},
   "source": [
    "**A related function is argsort, which instead returns the indices of the sorted elements:**"
   ]
  },
  {
   "cell_type": "code",
   "execution_count": 103,
   "id": "a770ae9c",
   "metadata": {},
   "outputs": [
    {
     "name": "stdout",
     "output_type": "stream",
     "text": [
      "[1 0 3 2 4] [1 2 3 4 5]\n"
     ]
    }
   ],
   "source": [
    "x = np.array([2, 1, 4, 3, 5])\n",
    "i = np.argsort(x)\n",
    "print(i)"
   ]
  },
  {
   "cell_type": "markdown",
   "id": "7b6e6505",
   "metadata": {},
   "source": [
    "**The first element of this result gives the index of the smallest element, the second value gives the index of the second smallest, and so on. These indices can then be used (via fancy indexing) to construct the sorted array if desired:**"
   ]
  },
  {
   "cell_type": "code",
   "execution_count": 105,
   "id": "be53caae",
   "metadata": {},
   "outputs": [
    {
     "data": {
      "text/plain": [
       "array([1, 2, 3, 4, 5])"
      ]
     },
     "execution_count": 105,
     "metadata": {},
     "output_type": "execute_result"
    }
   ],
   "source": [
    "x[i]"
   ]
  },
  {
   "cell_type": "markdown",
   "id": "6fe701f4",
   "metadata": {},
   "source": [
    "### Sorting along rows and columns"
   ]
  },
  {
   "cell_type": "code",
   "execution_count": 106,
   "id": "4d5c800c",
   "metadata": {},
   "outputs": [
    {
     "name": "stdout",
     "output_type": "stream",
     "text": [
      "[[6 3 7 4 6 9]\n",
      " [2 6 7 4 3 7]\n",
      " [7 2 5 4 1 7]\n",
      " [5 1 4 0 9 5]]\n"
     ]
    }
   ],
   "source": [
    "rand = np.random.RandomState(42)\n",
    "x = rand.randint(0, 10, (4, 6))\n",
    "print(x)"
   ]
  },
  {
   "cell_type": "code",
   "execution_count": 107,
   "id": "99ecbeaa",
   "metadata": {},
   "outputs": [
    {
     "data": {
      "text/plain": [
       "array([[2, 1, 4, 0, 1, 5],\n",
       "       [5, 2, 5, 4, 3, 7],\n",
       "       [6, 3, 7, 4, 6, 7],\n",
       "       [7, 6, 7, 4, 9, 9]])"
      ]
     },
     "execution_count": 107,
     "metadata": {},
     "output_type": "execute_result"
    }
   ],
   "source": [
    "np.sort(x, axis=0)"
   ]
  },
  {
   "cell_type": "code",
   "execution_count": 108,
   "id": "b27a2e67",
   "metadata": {},
   "outputs": [
    {
     "data": {
      "text/plain": [
       "array([[3, 4, 6, 6, 7, 9],\n",
       "       [2, 3, 4, 6, 7, 7],\n",
       "       [1, 2, 4, 5, 7, 7],\n",
       "       [0, 1, 4, 5, 5, 9]])"
      ]
     },
     "execution_count": 108,
     "metadata": {},
     "output_type": "execute_result"
    }
   ],
   "source": [
    "np.sort(x, axis=1)"
   ]
  },
  {
   "cell_type": "markdown",
   "id": "db7f0d51",
   "metadata": {},
   "source": [
    "## Partial Sorts: Partitioning"
   ]
  },
  {
   "cell_type": "markdown",
   "id": "ab8a5df0",
   "metadata": {},
   "source": [
    "#### Sometimes we&#39;re not interested in sorting the entire array, but simply want to find the k smallest values in the array. NumPy provides this in the np.partition function. np.partition takes an array and a number K; the result is a new array with the smallest K values to the left of the partition, and the remaining values to the right, in arbitrary order:"
   ]
  },
  {
   "cell_type": "code",
   "execution_count": 110,
   "id": "51b72912",
   "metadata": {},
   "outputs": [
    {
     "data": {
      "text/plain": [
       "array([2, 1, 3, 4, 6, 5, 7])"
      ]
     },
     "execution_count": 110,
     "metadata": {},
     "output_type": "execute_result"
    }
   ],
   "source": [
    "x = np.array([7, 2, 3, 1, 6, 5, 4])\n",
    "np.partition(x, 3)"
   ]
  },
  {
   "cell_type": "markdown",
   "id": "3224a9f1",
   "metadata": {},
   "source": [
    "#### Note that the first three values in the resulting array are the three smallest in the array, and the remaining array positions contain the remaining values. Within the two partitions, the elements have arbitrary order."
   ]
  },
  {
   "cell_type": "code",
   "execution_count": 119,
   "id": "8cf75efc",
   "metadata": {},
   "outputs": [
    {
     "data": {
      "text/plain": [
       "(array([[3, 4, 6, 6, 7, 9],\n",
       "        [2, 3, 4, 6, 7, 7],\n",
       "        [2, 1, 4, 5, 7, 7],\n",
       "        [0, 4, 1, 5, 9, 5]]),\n",
       " array([[6, 3, 7, 4, 6, 9],\n",
       "        [2, 6, 7, 4, 3, 7],\n",
       "        [7, 2, 5, 4, 1, 7],\n",
       "        [5, 1, 4, 0, 9, 5]]))"
      ]
     },
     "execution_count": 119,
     "metadata": {},
     "output_type": "execute_result"
    }
   ],
   "source": [
    "rand = np.random.RandomState(42)\n",
    "x = rand.randint(0, 10, (4, 6))\n",
    "np.partition(x, 3, axis=1), x"
   ]
  },
  {
   "cell_type": "code",
   "execution_count": 120,
   "id": "c6d8c3e9",
   "metadata": {},
   "outputs": [
    {
     "data": {
      "text/plain": [
       "array([[1, 3, 4, 0, 2, 5],\n",
       "       [0, 4, 3, 1, 2, 5],\n",
       "       [1, 4, 3, 2, 0, 5],\n",
       "       [3, 2, 1, 0, 4, 5]], dtype=int64)"
      ]
     },
     "execution_count": 120,
     "metadata": {},
     "output_type": "execute_result"
    }
   ],
   "source": [
    "np.argpartition(x, 3, axis=1)"
   ]
  },
  {
   "cell_type": "code",
   "execution_count": null,
   "id": "280d47be",
   "metadata": {},
   "outputs": [],
   "source": []
  }
 ],
 "metadata": {
  "kernelspec": {
   "display_name": "Python 3 (ipykernel)",
   "language": "python",
   "name": "python3"
  },
  "language_info": {
   "codemirror_mode": {
    "name": "ipython",
    "version": 3
   },
   "file_extension": ".py",
   "mimetype": "text/x-python",
   "name": "python",
   "nbconvert_exporter": "python",
   "pygments_lexer": "ipython3",
   "version": "3.9.6"
  }
 },
 "nbformat": 4,
 "nbformat_minor": 5
}
