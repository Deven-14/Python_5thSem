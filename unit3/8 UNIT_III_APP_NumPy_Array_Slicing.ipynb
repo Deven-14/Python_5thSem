{
 "cells": [
  {
   "cell_type": "markdown",
   "metadata": {
    "id": "dbNZbh8rSsl5"
   },
   "source": [
    "Slicing in NumPy arrays is similar to how it works with a Python list"
   ]
  },
  {
   "cell_type": "code",
   "execution_count": 1,
   "metadata": {
    "colab": {
     "base_uri": "https://localhost:8080/"
    },
    "id": "88f6qLBISuCy",
    "outputId": "90834364-76fb-46b7-9af5-ed8495b17e69"
   },
   "outputs": [
    {
     "name": "stdout",
     "output_type": "stream",
     "text": [
      "The NumPy Array is:\n",
      "[[1 2 3 4 5]\n",
      " [4 5 6 7 8]\n",
      " [9 8 7 6 5]]\n",
      "The Sliced NumPy Array is:\n",
      "[[4 5 6]\n",
      " [9 8 7]]\n"
     ]
    }
   ],
   "source": [
    "import numpy as np\n",
    "arr = np.array([[1,2,3,4,5], [4,5,6,7,8], [9,8,7,6,5]]) \n",
    "print(\"The NumPy Array is:\")\n",
    "print(arr) \n",
    "arr1 = arr[1:3, :3] # row 1 to 3 (not inclusive) and first 3 columns \n",
    "print(\"The Sliced NumPy Array is:\")\n",
    "print(arr1)"
   ]
  },
  {
   "cell_type": "markdown",
   "metadata": {
    "id": "m_TdXO0fS0ih"
   },
   "source": [
    "Slicing in python means taking elements from one given index to another given index.\n",
    "\n",
    "We pass slice instead of index like this: [start: end].\n",
    "\n",
    "We can also define the step, like this: [start: end: step].\n",
    "\n",
    "If we don't pass start its considered 0.\n",
    "\n",
    "If we don't pass end it’s considered length of array in that dimension.\n",
    "\n",
    "If we don't pass step it’s considered 1."
   ]
  },
  {
   "cell_type": "markdown",
   "metadata": {
    "id": "Z-tKG7zmS4iZ"
   },
   "source": [
    "**Program 2: Slice elements from index 1 to index 5 from the following array**."
   ]
  },
  {
   "cell_type": "code",
   "execution_count": 2,
   "metadata": {
    "colab": {
     "base_uri": "https://localhost:8080/"
    },
    "id": "veVPEQu7S6RR",
    "outputId": "f5693a9d-aecd-4949-9d45-76ae15b15f8c"
   },
   "outputs": [
    {
     "name": "stdout",
     "output_type": "stream",
     "text": [
      "[2 3 4 5]\n"
     ]
    }
   ],
   "source": [
    "import numpy as np\n",
    "arr = np.array([1, 2, 3, 4, 5, 6, 7])\n",
    "print(arr[1:5])\n",
    "#Note: The result includes the start index, but excludes the end index."
   ]
  },
  {
   "cell_type": "markdown",
   "metadata": {
    "id": "1wBJCOBFS8Ro"
   },
   "source": [
    "**Program 3: Slice elements from index 4 to the end of the array**"
   ]
  },
  {
   "cell_type": "code",
   "execution_count": 3,
   "metadata": {
    "colab": {
     "base_uri": "https://localhost:8080/"
    },
    "id": "roQZDMc0TESY",
    "outputId": "da41f4a3-3a00-4c5c-b67a-798471900f61"
   },
   "outputs": [
    {
     "name": "stdout",
     "output_type": "stream",
     "text": [
      "[5 6 7]\n"
     ]
    }
   ],
   "source": [
    "import numpy as np\n",
    "arr = np.array([1, 2, 3, 4, 5, 6, 7])\n",
    "print(arr[4:])\n"
   ]
  },
  {
   "cell_type": "markdown",
   "metadata": {
    "id": "Tq-3Zl9sTHEb"
   },
   "source": [
    "**Program 4: Slice elements from the beginning to index 4 (not included).**"
   ]
  },
  {
   "cell_type": "code",
   "execution_count": 4,
   "metadata": {
    "colab": {
     "base_uri": "https://localhost:8080/"
    },
    "id": "m15emjLqTJoa",
    "outputId": "8ed61c9c-65f1-4b09-abd7-90023f8d29ee"
   },
   "outputs": [
    {
     "name": "stdout",
     "output_type": "stream",
     "text": [
      "[1 2 3 4]\n"
     ]
    }
   ],
   "source": [
    "import numpy as np\n",
    "arr = np.array([1, 2, 3, 4, 5, 6, 7])\n",
    "print(arr[:4])"
   ]
  },
  {
   "cell_type": "markdown",
   "metadata": {
    "id": "lYpdBwBXTNb6"
   },
   "source": [
    "***Negative Slicing: Use the minus operator to refer to an index from the end.***"
   ]
  },
  {
   "cell_type": "markdown",
   "metadata": {
    "id": "Y6CSZIauTPrS"
   },
   "source": [
    "**Program 5: Slice from the index 3 from the end to index 1 from the end.**"
   ]
  },
  {
   "cell_type": "code",
   "execution_count": 5,
   "metadata": {
    "colab": {
     "base_uri": "https://localhost:8080/"
    },
    "id": "sgeqVoMmTU0R",
    "outputId": "2323b2d2-babe-49af-866b-c554a0196ed0"
   },
   "outputs": [
    {
     "name": "stdout",
     "output_type": "stream",
     "text": [
      "[5 6]\n"
     ]
    }
   ],
   "source": [
    "import numpy as np \n",
    "arr = np.array([1, 2, 3, 4, 5, 6, 7]) \n",
    "print(arr[-3:-1])"
   ]
  },
  {
   "cell_type": "markdown",
   "metadata": {
    "id": "B3Sk4ghoTcBK"
   },
   "source": [
    "***STEP: Use the step value to determine the step of the slicing.***\n",
    "\n",
    "**Program 6: Return every other element from index 1 to index 5.**"
   ]
  },
  {
   "cell_type": "code",
   "execution_count": 6,
   "metadata": {
    "colab": {
     "base_uri": "https://localhost:8080/"
    },
    "id": "Z1AyaHmdTeSZ",
    "outputId": "8bcc90d7-53b3-48df-9970-cd3f80e3517c"
   },
   "outputs": [
    {
     "name": "stdout",
     "output_type": "stream",
     "text": [
      "[2 4]\n"
     ]
    }
   ],
   "source": [
    "import numpy as np\n",
    "arr = np.array([1, 2, 3, 4, 5, 6, 7])\n",
    "print(arr[1:5:2])"
   ]
  },
  {
   "cell_type": "markdown",
   "metadata": {
    "id": "6GGPlYWgTgV5"
   },
   "source": [
    "**Program 7: Return every other element from the entire array**."
   ]
  },
  {
   "cell_type": "code",
   "execution_count": 7,
   "metadata": {
    "colab": {
     "base_uri": "https://localhost:8080/"
    },
    "id": "wpblrtXnTj-v",
    "outputId": "c055edf8-a682-4f46-c4b8-a7a2da3d070b"
   },
   "outputs": [
    {
     "name": "stdout",
     "output_type": "stream",
     "text": [
      "[1 3 5 7]\n"
     ]
    }
   ],
   "source": [
    "import numpy as np\n",
    "arr = np.array([1, 2, 3, 4, 5, 6, 7])\n",
    "print(arr[::2])"
   ]
  },
  {
   "cell_type": "markdown",
   "metadata": {
    "id": "xwcXtQiBTnRZ"
   },
   "source": [
    "**Slicing 2-D Array’s**\n",
    "\n",
    "**Program 8: From the second element, slice elements from index 1 to index 4 (not included).** "
   ]
  },
  {
   "cell_type": "code",
   "execution_count": 8,
   "metadata": {
    "colab": {
     "base_uri": "https://localhost:8080/"
    },
    "id": "KhMzM6DpTr2q",
    "outputId": "0d39c37b-86de-4413-b0bc-154469a6408a"
   },
   "outputs": [
    {
     "name": "stdout",
     "output_type": "stream",
     "text": [
      "[7 8 9]\n"
     ]
    }
   ],
   "source": [
    "import numpy as np\n",
    "arr = np.array([[1, 2, 3, 4, 5], [6, 7, 8, 9, 10]])\n",
    "print(arr[1, 1:4]) # from second element, so only 1, \n",
    "# they didn't say from second till end and stuff like that\n",
    "\n",
    "# NOTICE THAT THE RESULT IS A ONE DIMENSTIONAL ARRAY"
   ]
  },
  {
   "cell_type": "markdown",
   "metadata": {
    "id": "XKe52ESRTyuJ"
   },
   "source": [
    "**Program 9: From both elements, return index 2.**"
   ]
  },
  {
   "cell_type": "code",
   "execution_count": 9,
   "metadata": {
    "colab": {
     "base_uri": "https://localhost:8080/"
    },
    "id": "MZSU4qB9Tz6G",
    "outputId": "5707b1c3-1163-4f64-8ada-40df2a6abf81"
   },
   "outputs": [
    {
     "name": "stdout",
     "output_type": "stream",
     "text": [
      "[3 8]\n"
     ]
    }
   ],
   "source": [
    "import numpy as np\n",
    "arr = np.array([[1, 2, 3, 4, 5], [6, 7, 8, 9, 10]])\n",
    "print(arr[0:2, 2]) # from both elements - both rows\n",
    "\n",
    "# NOTICE THAT THE RESULT IS A ONE DIMENSTIONAL ARRAY"
   ]
  },
  {
   "cell_type": "markdown",
   "metadata": {
    "id": "kNnnbbXqUAjT"
   },
   "source": [
    "**Program 10: From both elements, slice index 1 to index 4 (not included), this will return a 2-D array**"
   ]
  },
  {
   "cell_type": "code",
   "execution_count": 10,
   "metadata": {
    "colab": {
     "base_uri": "https://localhost:8080/"
    },
    "id": "rBs7_sxtT_M6",
    "outputId": "457416a8-afa8-4f74-8689-25761e17a4f3"
   },
   "outputs": [
    {
     "name": "stdout",
     "output_type": "stream",
     "text": [
      "[[2 3 4]\n",
      " [7 8 9]]\n"
     ]
    }
   ],
   "source": [
    "import numpy as np\n",
    "arr = np.array([[1, 2, 3, 4, 5], [6, 7, 8, 9, 10]])\n",
    "print(arr[0:2, 1:4])"
   ]
  },
  {
   "cell_type": "code",
   "execution_count": null,
   "metadata": {},
   "outputs": [],
   "source": []
  }
 ],
 "metadata": {
  "colab": {
   "collapsed_sections": [],
   "name": "UNIT-II -APP-NumPy Array Slicing.ipynb",
   "provenance": []
  },
  "kernelspec": {
   "display_name": "Python 3 (ipykernel)",
   "language": "python",
   "name": "python3"
  },
  "language_info": {
   "codemirror_mode": {
    "name": "ipython",
    "version": 3
   },
   "file_extension": ".py",
   "mimetype": "text/x-python",
   "name": "python",
   "nbconvert_exporter": "python",
   "pygments_lexer": "ipython3",
   "version": "3.9.6"
  }
 },
 "nbformat": 4,
 "nbformat_minor": 1
}
