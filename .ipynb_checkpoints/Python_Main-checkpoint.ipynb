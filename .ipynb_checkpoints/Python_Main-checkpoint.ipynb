{
 "cells": [
  {
   "cell_type": "markdown",
   "id": "1fc986a3",
   "metadata": {},
   "source": [
    "# list"
   ]
  },
  {
   "cell_type": "markdown",
   "id": "cb8c4565",
   "metadata": {},
   "source": [
    "#### https://docs.python.org/3/tutorial/datastructures.html\n",
    "#### https://docs.python.org/3/library/stdtypes.html"
   ]
  },
  {
   "cell_type": "code",
   "execution_count": 1,
   "id": "4361aa09",
   "metadata": {},
   "outputs": [],
   "source": [
    "# list() or list(iterable)\n",
    "lst = [4, 5, 3, 7]\n",
    "lst2 = []"
   ]
  },
  {
   "cell_type": "code",
   "execution_count": 2,
   "id": "6c027035",
   "metadata": {},
   "outputs": [
    {
     "data": {
      "text/plain": [
       "[4, 5]"
      ]
     },
     "execution_count": 2,
     "metadata": {},
     "output_type": "execute_result"
    }
   ],
   "source": [
    "lst[0:2] # [start, end) inclusive of start and excluding end index"
   ]
  },
  {
   "cell_type": "code",
   "execution_count": 3,
   "id": "ed800d7a",
   "metadata": {},
   "outputs": [],
   "source": [
    "# append\n",
    "lst.append(5) \n",
    "# NOT push, a[len(a):] = [x]"
   ]
  },
  {
   "cell_type": "code",
   "execution_count": 4,
   "id": "fe81dcf1",
   "metadata": {},
   "outputs": [],
   "source": [
    "# extend\n",
    "lst.extend(lst2) \n",
    "# list.extend(iterable), a[len(a):] = [x]\n",
    "# lst += lst2\n",
    "# lst[i:j] = lst2   # lst2 should be iterable\n",
    "# lst[i:j:k] = lst2   # lst2 should be iterable"
   ]
  },
  {
   "cell_type": "code",
   "execution_count": 5,
   "id": "4eac55c2",
   "metadata": {},
   "outputs": [],
   "source": [
    "# insert\n",
    "lst.insert(1, 2) \n",
    "# list.insert(i, x)\n",
    "# lst[i:i] = [x] # equivalent # OBSERVE"
   ]
  },
  {
   "cell_type": "code",
   "execution_count": 6,
   "id": "b2a20f5c",
   "metadata": {},
   "outputs": [
    {
     "data": {
      "text/plain": [
       "4"
      ]
     },
     "execution_count": 6,
     "metadata": {},
     "output_type": "execute_result"
    }
   ],
   "source": [
    "# remove and pop\n",
    "lst.remove(5) \n",
    "# lst.remove(x) throws ValueError if not found\n",
    "lst.pop(0) \n",
    "# throws IndexError if out of index\n",
    "# lst.pop() or lst.pop(i)\n",
    "# lst.pop([i]) i-index, if not sepcified then last item is popped"
   ]
  },
  {
   "cell_type": "code",
   "execution_count": 7,
   "id": "7d4613c4",
   "metadata": {},
   "outputs": [
    {
     "data": {
      "text/plain": [
       "1"
      ]
     },
     "execution_count": 7,
     "metadata": {},
     "output_type": "execute_result"
    }
   ],
   "source": [
    "# index\n",
    "lst.index(3) # same as below\n",
    "lst.index(3, 0) # same as below\n",
    "lst.index(3, 0, len(lst)) # list.index(x, [start, [end]])\n",
    "# throws ValueError if not found\n",
    "# [start, end) inclusive of start and excluding end index"
   ]
  },
  {
   "cell_type": "code",
   "execution_count": 8,
   "id": "df95a511",
   "metadata": {},
   "outputs": [],
   "source": [
    "# list.count(x)\n",
    "n = lst.count(2)"
   ]
  },
  {
   "cell_type": "code",
   "execution_count": 9,
   "id": "25fb2c01",
   "metadata": {},
   "outputs": [],
   "source": [
    "# sort\n",
    "lst.sort(key=None, reverse=True)\n",
    "# lst.sort(*, key=None, reverse=False) can apply these only with keywords\n",
    "# lst.sort(key=str.lower)"
   ]
  },
  {
   "cell_type": "code",
   "execution_count": 10,
   "id": "0a72548b",
   "metadata": {},
   "outputs": [],
   "source": [
    "# REVERSE\n",
    "lst.reverse()\n",
    "# reverse the elements of the list IN PLACE*******\n",
    "# RETURNS None AS THE REVERSE IS HAPPENING IN PLACE"
   ]
  },
  {
   "cell_type": "code",
   "execution_count": 11,
   "id": "21658414",
   "metadata": {},
   "outputs": [],
   "source": [
    "# copy\n",
    "b = lst.copy() \n",
    "# shallow copy of list, a[:]\n",
    "# trick - works as deep copy for immutable types int, str, tuple, frozenset\n",
    "# a = [1, 2, 3]; b = a.copy(); \n",
    "# maybe like java\n",
    "# b[0] = 4; it'll create a int(4) in the memory if not already present\n",
    "# and then places it in 0th index, b[1] = 3, takes 3 already present in\n",
    "# memeory and place that in 1st and it's already there in 2nd index also."
   ]
  },
  {
   "cell_type": "code",
   "execution_count": 12,
   "id": "b542c0e8",
   "metadata": {},
   "outputs": [
    {
     "name": "stdout",
     "output_type": "stream",
     "text": [
      "[[1, 2], 3] [[1, 2], 4]\n",
      "[[1, 5], 3] [[1, 5], 4]\n"
     ]
    }
   ],
   "source": [
    "# copy\n",
    "a = [[1, 2], 3]\n",
    "b = a.copy() # RETURNS A SHALLOW COPY, I.E., equivalent to a[:]\n",
    "b[1] = 4\n",
    "print(a, b) # a - [[1, 2], 3], b - [[1, 2], 4]\n",
    "b[0][1] = 5  # a - [[1, 5], 3], b - [[1, 5], 4]\n",
    "print(a, b)"
   ]
  },
  {
   "cell_type": "code",
   "execution_count": 13,
   "id": "86169750",
   "metadata": {},
   "outputs": [
    {
     "name": "stdout",
     "output_type": "stream",
     "text": [
      "[[1, 5], 3] [[1, 5], 6]\n",
      "[[1, 9], 3] [[1, 9], 6]\n"
     ]
    }
   ],
   "source": [
    "# copy\n",
    "b = a[:]\n",
    "b[1] = 6\n",
    "print(a, b)\n",
    "b[0][1] = 9\n",
    "print(a, b)"
   ]
  },
  {
   "cell_type": "code",
   "execution_count": 14,
   "id": "449ca720",
   "metadata": {},
   "outputs": [
    {
     "name": "stdout",
     "output_type": "stream",
     "text": [
      "lst3 [[2], [2], [2]]\n",
      "lst3 [[2], [], []]\n"
     ]
    }
   ],
   "source": [
    "# * operator\n",
    "lst3 = [[]] * 3\n",
    "lst3[0].append(2)\n",
    "print(\"lst3\", lst3)\n",
    "\n",
    "lst3 = [[] for _ in range(3)]\n",
    "lst3[0].append(2)\n",
    "print(\"lst3\", lst3)\n",
    "# lst *= 3"
   ]
  },
  {
   "cell_type": "code",
   "execution_count": 15,
   "id": "fd72facd",
   "metadata": {},
   "outputs": [],
   "source": [
    "# len(list)\n",
    "size = len(lst)"
   ]
  },
  {
   "cell_type": "code",
   "execution_count": 16,
   "id": "4686f4e5",
   "metadata": {},
   "outputs": [],
   "source": [
    "# clear\n",
    "lst.clear() # del a[:]\n",
    "# del a[i:j:k]\n",
    "# del a[i:j]"
   ]
  },
  {
   "cell_type": "code",
   "execution_count": 17,
   "id": "de33118d",
   "metadata": {},
   "outputs": [
    {
     "data": {
      "text/plain": [
       "([1, 3, 5, 7, 9], [], [1], [1, 2, 3], [], [1, 2, 3])"
      ]
     },
     "execution_count": 17,
     "metadata": {},
     "output_type": "execute_result"
    }
   ],
   "source": [
    "# list comprehension, ways to create list\n",
    "a = [x for x in range(1, 11, 2)]\n",
    "b = []\n",
    "c = [1]\n",
    "d = [1, 2, 3]\n",
    "e = list()\n",
    "f = list(d) # list(iterable)\n",
    "a, b, c, d, e, f"
   ]
  },
  {
   "cell_type": "markdown",
   "id": "07779a15",
   "metadata": {},
   "source": [
    "# tuple"
   ]
  },
  {
   "cell_type": "code",
   "execution_count": 18,
   "id": "9a0d9046",
   "metadata": {},
   "outputs": [
    {
     "data": {
      "text/plain": [
       "((), (1,), (1, 2, 3), (1, 2, 3), (), (1, 2, 3))"
      ]
     },
     "execution_count": 18,
     "metadata": {},
     "output_type": "execute_result"
    }
   ],
   "source": [
    "a = ()\n",
    "b = 1,\n",
    "c = 1, 2, 3\n",
    "d = (1, 2, 3)\n",
    "e = tuple()\n",
    "f = tuple(d) # tuple(iterable)\n",
    "a, b, c, d, e, f"
   ]
  },
  {
   "cell_type": "markdown",
   "id": "57981dae",
   "metadata": {},
   "source": [
    "# range"
   ]
  },
  {
   "cell_type": "markdown",
   "id": "9b1bd6da",
   "metadata": {},
   "source": [
    "#### https://docs.python.org/3/library/stdtypes.html"
   ]
  },
  {
   "cell_type": "code",
   "execution_count": 19,
   "id": "467037ad",
   "metadata": {},
   "outputs": [
    {
     "name": "stdout",
     "output_type": "stream",
     "text": [
      "False\n",
      "True\n",
      "5\n",
      "10\n",
      "from 0 to 5 range(0, 10, 2)\n",
      "index -1 18\n"
     ]
    }
   ],
   "source": [
    "r = range(0, 20, 2) \n",
    "# range(start, stop, step)\n",
    "\n",
    "print(11 in r) # False\n",
    "print(10 in r) # True\n",
    "\n",
    "print(r.index(10)) # 5\n",
    "print(r[5]) # 10\n",
    "\n",
    "print(\"from 0 to 5\", r[:5]) # range(0, 10, 2)\n",
    "print(\"index -1\", r[-1]) # 18"
   ]
  },
  {
   "cell_type": "markdown",
   "id": "2edc23bc",
   "metadata": {},
   "source": [
    "# str"
   ]
  },
  {
   "cell_type": "markdown",
   "id": "fbf541aa",
   "metadata": {},
   "source": [
    "#### https://docs.python.org/3/library/stdtypes.html"
   ]
  },
  {
   "cell_type": "markdown",
   "id": "56a6ef62",
   "metadata": {},
   "source": [
    "# set, frozenset"
   ]
  },
  {
   "cell_type": "markdown",
   "id": "e3924733",
   "metadata": {},
   "source": [
    "#### https://docs.python.org/3/library/stdtypes.html#set-types-set-frozenset"
   ]
  },
  {
   "cell_type": "code",
   "execution_count": 20,
   "id": "21b14a5f",
   "metadata": {},
   "outputs": [],
   "source": [
    "s = set([1, 2, 6, 6, 2, 0, 1])\n",
    "s2 = frozenset([3, 6, 9, 3])"
   ]
  },
  {
   "cell_type": "code",
   "execution_count": 21,
   "id": "43368554",
   "metadata": {},
   "outputs": [],
   "source": [
    "size = len(s)"
   ]
  },
  {
   "cell_type": "code",
   "execution_count": 22,
   "id": "29f15e66",
   "metadata": {},
   "outputs": [
    {
     "name": "stdout",
     "output_type": "stream",
     "text": [
      "True\n",
      "True\n"
     ]
    }
   ],
   "source": [
    "print(1 in s) # is mem\n",
    "print(10 not in s) # is not mem"
   ]
  },
  {
   "cell_type": "code",
   "execution_count": 23,
   "id": "0a575074",
   "metadata": {},
   "outputs": [
    {
     "name": "stdout",
     "output_type": "stream",
     "text": [
      "False\n"
     ]
    }
   ],
   "source": [
    "# isdisjoint(other)\n",
    "print(s.isdisjoint([5, 6, 6, 2, 5, 1, 2]))\n",
    "# returns True if set has no ele in common with other."
   ]
  },
  {
   "cell_type": "markdown",
   "id": "301d8eaf",
   "metadata": {},
   "source": [
    "**\"other\" CAN BE AN ITERABLE HERE, NOT NECESSARILY A set()**"
   ]
  },
  {
   "cell_type": "markdown",
   "id": "3c54ab59",
   "metadata": {},
   "source": [
    "**BUT IF WE USE OPERATORS(<, >=, ...) THEN IT SHOULD BE A set()/frozenset()**"
   ]
  },
  {
   "cell_type": "code",
   "execution_count": 24,
   "id": "fb87056d",
   "metadata": {},
   "outputs": [],
   "source": [
    "# s |= [1, 2, 3, 4, 5, 2, 5, 1] not possible"
   ]
  },
  {
   "cell_type": "code",
   "execution_count": 25,
   "id": "e8f731ea",
   "metadata": {},
   "outputs": [
    {
     "name": "stdout",
     "output_type": "stream",
     "text": [
      "False False False\n"
     ]
    }
   ],
   "source": [
    "# issubset(other)\n",
    "print(s.issubset(s2), s < s2, s <= s2)\n",
    "# s < s2, Test whether the s is a proper subset of s2,i.e s <= s2 and s != s2"
   ]
  },
  {
   "cell_type": "code",
   "execution_count": 26,
   "id": "37571950",
   "metadata": {},
   "outputs": [
    {
     "name": "stdout",
     "output_type": "stream",
     "text": [
      "False False False\n"
     ]
    }
   ],
   "source": [
    "# issuperset(other)\n",
    "print(s.issuperset(s2), s > s2, s >= s2)\n",
    "# s > s2, Test whether the s is a proper superset of s2,\n",
    "# i.e s >= s2 and s != s2"
   ]
  },
  {
   "cell_type": "markdown",
   "id": "7a72c7d0",
   "metadata": {},
   "source": [
    "**BELOW OPERATIONS return a NEW set**"
   ]
  },
  {
   "cell_type": "code",
   "execution_count": 27,
   "id": "135f73c8",
   "metadata": {},
   "outputs": [
    {
     "name": "stdout",
     "output_type": "stream",
     "text": [
      "{0, 1, 2, 3, 6, 9} {0, 1, 2, 3, 6, 9}\n"
     ]
    }
   ],
   "source": [
    "# union(*others)  that * is imp here\n",
    "print(s.union(s2, s2, s2), s | s2 | s2)\n",
    "# set | other1 | other2 | ..."
   ]
  },
  {
   "cell_type": "code",
   "execution_count": 28,
   "id": "d34f39ec",
   "metadata": {},
   "outputs": [
    {
     "name": "stdout",
     "output_type": "stream",
     "text": [
      "{6} {6}\n"
     ]
    }
   ],
   "source": [
    "# intersection(*others) that * is imp here\n",
    "print(s.intersection(s2, s2), s & s2 & s2 & s2)\n",
    "# set & other1 & other2 & ..."
   ]
  },
  {
   "cell_type": "code",
   "execution_count": 29,
   "id": "8ff61fa3",
   "metadata": {},
   "outputs": [
    {
     "name": "stdout",
     "output_type": "stream",
     "text": [
      "{0, 1, 2} {0, 1, 2}\n"
     ]
    }
   ],
   "source": [
    "# difference(*other)  that * is imp here\n",
    "print(s.difference(s2, s2), s - s2 - s2)\n",
    "# set - other1 - other2 - ..."
   ]
  },
  {
   "cell_type": "code",
   "execution_count": 30,
   "id": "f1de8cc2",
   "metadata": {},
   "outputs": [
    {
     "name": "stdout",
     "output_type": "stream",
     "text": [
      "{0, 1, 2, 3, 9} {0, 1, 2, 3, 9}\n"
     ]
    }
   ],
   "source": [
    "# symmetric_difference(*other)  that * is imp here\n",
    "print(s.symmetric_difference(s2), s ^ s2)\n",
    "# set ^ other1 ^ other2 - ...\n",
    "# Return a new set with elements in either the set or other but not both."
   ]
  },
  {
   "cell_type": "code",
   "execution_count": 31,
   "id": "54e28da8",
   "metadata": {},
   "outputs": [],
   "source": [
    "b = s.copy()\n",
    "# shallow copy"
   ]
  },
  {
   "cell_type": "markdown",
   "id": "296c6f86",
   "metadata": {},
   "source": [
    "**update UPDATES ALREADY PRESENT SET**"
   ]
  },
  {
   "cell_type": "code",
   "execution_count": 32,
   "id": "d78a6892",
   "metadata": {},
   "outputs": [
    {
     "name": "stdout",
     "output_type": "stream",
     "text": [
      "None\n"
     ]
    }
   ],
   "source": [
    "# update(*others) that * is imp here\n",
    "print(s.update(s2, s2, s2))\n",
    "s |= s2 | s2 | s2\n",
    "# set |= other1 | other2 | ..."
   ]
  },
  {
   "cell_type": "markdown",
   "id": "b2711e04",
   "metadata": {},
   "source": [
    "**difference between union and update, union - returns new set, update - updates in place**"
   ]
  },
  {
   "cell_type": "code",
   "execution_count": 33,
   "id": "94583109",
   "metadata": {},
   "outputs": [
    {
     "name": "stdout",
     "output_type": "stream",
     "text": [
      "None\n"
     ]
    }
   ],
   "source": [
    "# intersection_update(*others) that * is imp here\n",
    "print(s.intersection_update(s2, s2))\n",
    "s &= s2 & s2 & s2\n",
    "# set &= other1 & other2 & ..."
   ]
  },
  {
   "cell_type": "code",
   "execution_count": 34,
   "id": "5f417737",
   "metadata": {},
   "outputs": [
    {
     "name": "stdout",
     "output_type": "stream",
     "text": [
      "None\n"
     ]
    }
   ],
   "source": [
    "# difference_update(*other)  that * is imp here\n",
    "print(s.difference_update(s2, s2))\n",
    "s -= s2 - s2\n",
    "# set -= other1 - other2 - ..."
   ]
  },
  {
   "cell_type": "code",
   "execution_count": 35,
   "id": "f8a51e01",
   "metadata": {},
   "outputs": [
    {
     "name": "stdout",
     "output_type": "stream",
     "text": [
      "None\n"
     ]
    }
   ],
   "source": [
    "# symmetric_difference_update(*other)  that * is imp here\n",
    "print(s.symmetric_difference_update(s2))\n",
    "s ^= s2 ^ s2 ^ s2\n",
    "# set ^= other1 ^ other2 - ...\n",
    "# Update the set, keeping only elements found in either set, but not in both."
   ]
  },
  {
   "cell_type": "code",
   "execution_count": 36,
   "id": "08feb944",
   "metadata": {},
   "outputs": [],
   "source": [
    "# add(elem)\n",
    "s.add(100)"
   ]
  },
  {
   "cell_type": "code",
   "execution_count": 37,
   "id": "271216a4",
   "metadata": {},
   "outputs": [],
   "source": [
    "# remove(elem) and discard(elem)\n",
    "\n",
    "# remove(elem) throws KeyError if elem is not contained in the set\n",
    "# discard(elem) doesn't throw KeyError\n",
    "\n",
    "s.remove(100)\n",
    "s.discard(100)"
   ]
  },
  {
   "cell_type": "code",
   "execution_count": 38,
   "id": "c2097a72",
   "metadata": {},
   "outputs": [
    {
     "data": {
      "text/plain": [
       "5"
      ]
     },
     "execution_count": 38,
     "metadata": {},
     "output_type": "execute_result"
    }
   ],
   "source": [
    "# pop()\n",
    "s.add(5)\n",
    "s.pop()\n",
    "# Remove and return an arbitrary element from the set. \n",
    "# Raises KeyError if the set is empty."
   ]
  },
  {
   "cell_type": "code",
   "execution_count": 39,
   "id": "52e0a664",
   "metadata": {},
   "outputs": [],
   "source": [
    "# clear()\n",
    "s.clear()\n",
    "# remove all ele"
   ]
  },
  {
   "cell_type": "markdown",
   "id": "ff95335b",
   "metadata": {},
   "source": [
    "**set CAN CONTAIN frozenset AS IT'S ELEMENTS BUT NOT set AS IT'S ELEMENTS**"
   ]
  },
  {
   "cell_type": "code",
   "execution_count": 40,
   "id": "5d1a7c93",
   "metadata": {},
   "outputs": [
    {
     "data": {
      "text/plain": [
       "{frozenset({3, 6, 9})}"
      ]
     },
     "execution_count": 40,
     "metadata": {},
     "output_type": "execute_result"
    }
   ],
   "source": [
    "s3 = {s2, s2}\n",
    "s3"
   ]
  },
  {
   "cell_type": "code",
   "execution_count": 41,
   "id": "5306dd28",
   "metadata": {},
   "outputs": [
    {
     "data": {
      "text/plain": [
       "({'d', 'r'},\n",
       " {'jack', 'sjoerd'},\n",
       " set(),\n",
       " {'a', 'b', 'f', 'o', 'r'},\n",
       " {'a', 'b', 'foo'})"
      ]
     },
     "execution_count": 41,
     "metadata": {},
     "output_type": "execute_result"
    }
   ],
   "source": [
    "# set comprehension, ways to create set\n",
    "a = {c for c in 'abracadabra' if c not in 'abc'}\n",
    "b = {'jack', 'sjoerd'}\n",
    "c = set()\n",
    "d = set('foobar')\n",
    "e = set(['a', 'b', 'foo'])\n",
    "a, b, c, d, e"
   ]
  },
  {
   "cell_type": "markdown",
   "id": "2ed776a4",
   "metadata": {},
   "source": [
    "# dict"
   ]
  },
  {
   "cell_type": "markdown",
   "id": "ca2a36b5",
   "metadata": {},
   "source": [
    "https://docs.python.org/3/library/stdtypes.html#mapping-types-dict"
   ]
  },
  {
   "cell_type": "markdown",
   "id": "e2cdcc20",
   "metadata": {},
   "source": [
    "class dict(**kwargs)\n",
    "\n",
    "class dict(mapping, **kwargs)\n",
    "\n",
    "class dict(iterable, **kwargs)"
   ]
  },
  {
   "cell_type": "code",
   "execution_count": 42,
   "id": "2223a5c5",
   "metadata": {},
   "outputs": [
    {
     "data": {
      "text/plain": [
       "({'jack': 4098, 'sjoerd': 4127},\n",
       " {4098: 'jack', 4127: 'sjoerd'},\n",
       " set(),\n",
       " {0: 0, 1: 1, 2: 4, 3: 9, 4: 16, 5: 25, 6: 36, 7: 49, 8: 64, 9: 81},\n",
       " {},\n",
       " {'foo': 100, 'bar': 200},\n",
       " {'foo': 100, 'bar': 200})"
      ]
     },
     "execution_count": 42,
     "metadata": {},
     "output_type": "execute_result"
    }
   ],
   "source": [
    "# ways to create\n",
    "a = {'jack': 4098, 'sjoerd': 4127}\n",
    "b = {4098: 'jack', 4127: 'sjoerd'}\n",
    "e = {}\n",
    "d = {x: x ** 2 for x in range(10)}\n",
    "e = dict()\n",
    "f = dict([('foo', 100), ('bar', 200)])\n",
    "g = dict(foo=100, bar=200)\n",
    "a, b, c, d, e, f, g"
   ]
  },
  {
   "cell_type": "code",
   "execution_count": 43,
   "id": "1149fbb6",
   "metadata": {},
   "outputs": [
    {
     "data": {
      "text/plain": [
       "[0, 1, 2, 3, 4, 5, 6, 7, 8, 9]"
      ]
     },
     "execution_count": 43,
     "metadata": {},
     "output_type": "execute_result"
    }
   ],
   "source": [
    "# return keys using list\n",
    "list(d)"
   ]
  },
  {
   "cell_type": "code",
   "execution_count": 44,
   "id": "e0ed67ae",
   "metadata": {},
   "outputs": [
    {
     "data": {
      "text/plain": [
       "10"
      ]
     },
     "execution_count": 44,
     "metadata": {},
     "output_type": "execute_result"
    }
   ],
   "source": [
    "len(d)"
   ]
  },
  {
   "cell_type": "code",
   "execution_count": 45,
   "id": "150e9ce5",
   "metadata": {},
   "outputs": [
    {
     "data": {
      "text/plain": [
       "25"
      ]
     },
     "execution_count": 45,
     "metadata": {},
     "output_type": "execute_result"
    }
   ],
   "source": [
    "d[5]\n",
    "# Return the item of d with key key. Raises a KeyError if key is not in the map."
   ]
  },
  {
   "cell_type": "markdown",
   "id": "7017aa5f",
   "metadata": {},
   "source": [
    "class Counter(dict): <br>\n",
    "    def __missing__(self, key): <br>\n",
    "        return 0 <br>\n",
    "c = Counter() <br>\n",
    "c['red'] <br>\n",
    "c['red'] += 1 <br>\n",
    "c['red'] <br>\n",
    "1"
   ]
  },
  {
   "cell_type": "code",
   "execution_count": 46,
   "id": "94fcc0ec",
   "metadata": {},
   "outputs": [],
   "source": [
    "d[10] = 10 ** 2"
   ]
  },
  {
   "cell_type": "code",
   "execution_count": 47,
   "id": "1b089d2d",
   "metadata": {},
   "outputs": [],
   "source": [
    "del d[2]"
   ]
  },
  {
   "cell_type": "code",
   "execution_count": 48,
   "id": "63b4e2f1",
   "metadata": {},
   "outputs": [
    {
     "data": {
      "text/plain": [
       "True"
      ]
     },
     "execution_count": 48,
     "metadata": {},
     "output_type": "execute_result"
    }
   ],
   "source": [
    "3 in d"
   ]
  },
  {
   "cell_type": "code",
   "execution_count": 49,
   "id": "f52bb72a",
   "metadata": {},
   "outputs": [
    {
     "data": {
      "text/plain": [
       "True"
      ]
     },
     "execution_count": 49,
     "metadata": {},
     "output_type": "execute_result"
    }
   ],
   "source": [
    "2 not in d"
   ]
  },
  {
   "cell_type": "code",
   "execution_count": 50,
   "id": "0cfb8628",
   "metadata": {},
   "outputs": [
    {
     "data": {
      "text/plain": [
       "<dict_keyiterator at 0x22b56cf8c70>"
      ]
     },
     "execution_count": 50,
     "metadata": {},
     "output_type": "execute_result"
    }
   ],
   "source": [
    "iter(d)"
   ]
  },
  {
   "cell_type": "markdown",
   "id": "df6f32aa",
   "metadata": {},
   "source": [
    "**Return an iterator over the keys of the dictionary. This is a shortcut for iter(d.keys()).**"
   ]
  },
  {
   "cell_type": "code",
   "execution_count": 51,
   "id": "76dd3149",
   "metadata": {},
   "outputs": [
    {
     "data": {
      "text/plain": [
       "{}"
      ]
     },
     "execution_count": 51,
     "metadata": {},
     "output_type": "execute_result"
    }
   ],
   "source": [
    "f.clear()\n",
    "f"
   ]
  },
  {
   "cell_type": "code",
   "execution_count": 52,
   "id": "b3b1bc2e",
   "metadata": {},
   "outputs": [
    {
     "data": {
      "text/plain": [
       "{'foo': 100, 'bar': 200}"
      ]
     },
     "execution_count": 52,
     "metadata": {},
     "output_type": "execute_result"
    }
   ],
   "source": [
    "h = g.copy() # Return a shallow copy of the dictionary.\n",
    "h"
   ]
  },
  {
   "cell_type": "markdown",
   "id": "5ca4f779",
   "metadata": {},
   "source": [
    "**classmethod fromkeys(iterable[, value])** <br>\n",
    "Create a new dictionary with keys from iterable and values set to value.\n",
    "\n",
    "fromkeys() is a class method that returns a new dictionary. **value defaults to None**. All of the values refer to just a single instance, so it generally **doesn’t make sense for value to be a mutable object** such as an empty list. To get distinct values, use a dict comprehension instead."
   ]
  },
  {
   "cell_type": "code",
   "execution_count": 53,
   "id": "5778aafe",
   "metadata": {},
   "outputs": [
    {
     "data": {
      "text/plain": [
       "{1: 0, 2: 0, 7: 0, 4: 0}"
      ]
     },
     "execution_count": 53,
     "metadata": {},
     "output_type": "execute_result"
    }
   ],
   "source": [
    "dict.fromkeys([1, 2, 7, 4, 2, 1, 1, 1], 0) # VVVV IIMMPPPP"
   ]
  },
  {
   "cell_type": "markdown",
   "id": "1d9df30f",
   "metadata": {},
   "source": [
    "get(key[, default]) <br>\n",
    "Return the value for key if key is in the dictionary, else default. If default is not given, it defaults to None, so that this method never raises a KeyError"
   ]
  },
  {
   "cell_type": "code",
   "execution_count": 54,
   "id": "ff253b6d",
   "metadata": {},
   "outputs": [
    {
     "data": {
      "text/plain": [
       "(69, 9)"
      ]
     },
     "execution_count": 54,
     "metadata": {},
     "output_type": "execute_result"
    }
   ],
   "source": [
    "d.get(2, 69), d.get(3) # deleted 2 earlier"
   ]
  },
  {
   "cell_type": "code",
   "execution_count": 55,
   "id": "46d6dabd",
   "metadata": {},
   "outputs": [
    {
     "data": {
      "text/plain": [
       "dict_items([(0, 0), (1, 1), (3, 9), (4, 16), (5, 25), (6, 36), (7, 49), (8, 64), (9, 81), (10, 100)])"
      ]
     },
     "execution_count": 55,
     "metadata": {},
     "output_type": "execute_result"
    }
   ],
   "source": [
    "d.items()"
   ]
  },
  {
   "cell_type": "code",
   "execution_count": 56,
   "id": "e74795a1",
   "metadata": {},
   "outputs": [
    {
     "data": {
      "text/plain": [
       "dict_keys([0, 1, 3, 4, 5, 6, 7, 8, 9, 10])"
      ]
     },
     "execution_count": 56,
     "metadata": {},
     "output_type": "execute_result"
    }
   ],
   "source": [
    "d.keys()"
   ]
  },
  {
   "cell_type": "markdown",
   "id": "668d024d",
   "metadata": {},
   "source": [
    "pop(key[, default]) <br>\n",
    "If key is in the dictionary, remove it and return its value, else return default. If default is not given and key is not in the dictionary, a KeyError is raised."
   ]
  },
  {
   "cell_type": "code",
   "execution_count": 57,
   "id": "82e96ce2",
   "metadata": {},
   "outputs": [
    {
     "data": {
      "text/plain": [
       "(69, 16)"
      ]
     },
     "execution_count": 57,
     "metadata": {},
     "output_type": "execute_result"
    }
   ],
   "source": [
    "d.pop(2, 69), d.pop(4)"
   ]
  },
  {
   "cell_type": "markdown",
   "id": "4532e271",
   "metadata": {},
   "source": [
    "popitem() <br>\n",
    "Remove and return a (key, value) pair from the dictionary. Pairs are returned in LIFO order. <br>\n",
    "If the dictionary is empty, calling popitem() raises a KeyError."
   ]
  },
  {
   "cell_type": "code",
   "execution_count": 58,
   "id": "e6e9cdda",
   "metadata": {},
   "outputs": [
    {
     "data": {
      "text/plain": [
       "(10, 100)"
      ]
     },
     "execution_count": 58,
     "metadata": {},
     "output_type": "execute_result"
    }
   ],
   "source": [
    "d.popitem()"
   ]
  },
  {
   "cell_type": "markdown",
   "id": "c11dba22",
   "metadata": {},
   "source": [
    "reversed(d) <br>\n",
    "Return a reverse iterator over the keys of the dictionary. This is a shortcut for reversed(d.keys())."
   ]
  },
  {
   "cell_type": "code",
   "execution_count": 59,
   "id": "fd07e6b8",
   "metadata": {},
   "outputs": [
    {
     "data": {
      "text/plain": [
       "[9, 8, 7, 6, 5, 3, 1, 0]"
      ]
     },
     "execution_count": 59,
     "metadata": {},
     "output_type": "execute_result"
    }
   ],
   "source": [
    "list(reversed(d))"
   ]
  },
  {
   "cell_type": "markdown",
   "id": "fbae8b6f",
   "metadata": {},
   "source": [
    "setdefault(key[, default]) <br>\n",
    "If key is in the dictionary, return its value. **If not, insert key with a value of default and return default**. <br>\n",
    "**default defaults to None.**"
   ]
  },
  {
   "cell_type": "code",
   "execution_count": 60,
   "id": "bc0bc307",
   "metadata": {},
   "outputs": [
    {
     "data": {
      "text/plain": [
       "{0: 0, 1: 1, 3: 9, 5: 25, 6: 36, 7: 49, 8: 64, 9: 81, 2: 69}"
      ]
     },
     "execution_count": 60,
     "metadata": {},
     "output_type": "execute_result"
    }
   ],
   "source": [
    "d.setdefault(2, 69)  \n",
    "d"
   ]
  },
  {
   "cell_type": "markdown",
   "id": "9b33e230",
   "metadata": {},
   "source": [
    "difference between get() and setdefault(), get() just returns the value with default if not present, setdefault() INSERTS and return the value"
   ]
  },
  {
   "cell_type": "markdown",
   "id": "bbf0af16",
   "metadata": {},
   "source": [
    "**update([other])** <br>\n",
    "Update the dictionary with the key/value pairs from other, overwriting existing keys. Return None.\n",
    "\n",
    "update() accepts either another dictionary object or an iterable of key/value pairs (as tuples or other iterables of length two). If keyword arguments are specified, the dictionary is then updated with those key/value pairs: d.update(red=1, blue=2)."
   ]
  },
  {
   "cell_type": "code",
   "execution_count": 61,
   "id": "1e926a81",
   "metadata": {},
   "outputs": [
    {
     "data": {
      "text/plain": [
       "dict_values([0, 1, 9, 25, 36, 49, 64, 81, 69])"
      ]
     },
     "execution_count": 61,
     "metadata": {},
     "output_type": "execute_result"
    }
   ],
   "source": [
    "d.values()"
   ]
  },
  {
   "cell_type": "code",
   "execution_count": 62,
   "id": "fe806eff",
   "metadata": {},
   "outputs": [
    {
     "data": {
      "text/plain": [
       "(dict_keys([0, 1, 3, 5, 6, 7, 8, 9, 2]),\n",
       " dict_values([0, 1, 9, 25, 36, 49, 64, 81, 69]),\n",
       " dict_items([(0, 0), (1, 1), (3, 9), (5, 25), (6, 36), (7, 49), (8, 64), (9, 81), (2, 69)]))"
      ]
     },
     "execution_count": 62,
     "metadata": {},
     "output_type": "execute_result"
    }
   ],
   "source": [
    "d.keys(), d.values(), d.items()"
   ]
  },
  {
   "cell_type": "code",
   "execution_count": 63,
   "id": "21f235fb",
   "metadata": {},
   "outputs": [
    {
     "data": {
      "text/plain": [
       "{0: 0,\n",
       " 1: 1,\n",
       " 3: 9,\n",
       " 5: 25,\n",
       " 6: 36,\n",
       " 7: 49,\n",
       " 8: 64,\n",
       " 9: 81,\n",
       " 2: 69,\n",
       " 'foo': 100,\n",
       " 'bar': 200}"
      ]
     },
     "execution_count": 63,
     "metadata": {},
     "output_type": "execute_result"
    }
   ],
   "source": [
    "d | g\n",
    "# d | [(\"a\", \"b\"), (\"b\", \"c\"), (\"a\", \"c\")] NOT WORKING, ONLY FOR |= POSSIBLE"
   ]
  },
  {
   "cell_type": "code",
   "execution_count": 64,
   "id": "dccab270",
   "metadata": {},
   "outputs": [
    {
     "data": {
      "text/plain": [
       "{0: 0,\n",
       " 1: 1,\n",
       " 3: 9,\n",
       " 5: 25,\n",
       " 6: 36,\n",
       " 7: 49,\n",
       " 8: 64,\n",
       " 9: 81,\n",
       " 2: 69,\n",
       " 'a': 'c',\n",
       " 'b': 'c'}"
      ]
     },
     "execution_count": 64,
     "metadata": {},
     "output_type": "execute_result"
    }
   ],
   "source": [
    "# d |= g\n",
    "d |= [(\"a\", \"b\"), (\"b\", \"c\"), (\"a\", \"c\")] # POSSIBLE ONLY FOR |= IN DICT\n",
    "d"
   ]
  },
  {
   "cell_type": "markdown",
   "id": "614107ca",
   "metadata": {},
   "source": [
    "# collections"
   ]
  },
  {
   "cell_type": "markdown",
   "id": "7e2fe344",
   "metadata": {},
   "source": [
    "https://docs.python.org/3/library/collections.html"
   ]
  },
  {
   "cell_type": "markdown",
   "id": "ac5e58aa",
   "metadata": {},
   "source": [
    "namedtuple() - factory function for creating tuple subclasses with named fields\n",
    "\n",
    "deque - list-like container with fast appends and pops on either end\n",
    "\n",
    "ChainMap - dict-like class for creating a single view of multiple mappings\n",
    "\n",
    "Counter - dict subclass for counting hashable objects\n",
    "\n",
    "OrderedDict - dict subclass that remembers the order entries were added\n",
    "\n",
    "defaultdict - dict subclass that calls a factory function to supply missing values\n",
    "\n",
    "UserDict - wrapper around dictionary objects for easier dict subclassing\n",
    "UserList - wrapper around list objects for easier list subclassing\n",
    "UserString - wrapper around string objects for easier string subclassing"
   ]
  },
  {
   "cell_type": "markdown",
   "id": "9fe5da3f",
   "metadata": {},
   "source": [
    "### ChainMaps(*maps)"
   ]
  },
  {
   "cell_type": "code",
   "execution_count": 65,
   "id": "2cd9d7b6",
   "metadata": {},
   "outputs": [],
   "source": [
    "from collections import ChainMap"
   ]
  },
  {
   "cell_type": "code",
   "execution_count": 66,
   "id": "ce10c961",
   "metadata": {},
   "outputs": [],
   "source": [
    "a = {1: 1, 2: 2}\n",
    "b = {2: 5, 3: 3, 4: 4}\n",
    "c = {1: 9, 4: 9, 7: 7}\n",
    "d = ChainMap(a, b, c)"
   ]
  },
  {
   "cell_type": "code",
   "execution_count": 67,
   "id": "d4a0609a",
   "metadata": {},
   "outputs": [
    {
     "data": {
      "text/plain": [
       "[{1: 1, 2: 2}, {2: 5, 3: 3, 4: 4}, {1: 9, 4: 9, 7: 7}]"
      ]
     },
     "execution_count": 67,
     "metadata": {},
     "output_type": "execute_result"
    }
   ],
   "source": [
    "d.maps"
   ]
  },
  {
   "cell_type": "code",
   "execution_count": 68,
   "id": "1be99a60",
   "metadata": {},
   "outputs": [
    {
     "data": {
      "text/plain": [
       "(1, 2, 4, 7)"
      ]
     },
     "execution_count": 68,
     "metadata": {},
     "output_type": "execute_result"
    }
   ],
   "source": [
    "d[1], d[2], d[4], d[7]"
   ]
  },
  {
   "cell_type": "code",
   "execution_count": 69,
   "id": "f05168d1",
   "metadata": {},
   "outputs": [
    {
     "data": {
      "text/plain": [
       "ChainMap({1: 69, 2: 2}, {2: 5, 3: 3, 4: 4}, {1: 9, 4: 9, 7: 7})"
      ]
     },
     "execution_count": 69,
     "metadata": {},
     "output_type": "execute_result"
    }
   ],
   "source": [
    "d[1] = 69\n",
    "d"
   ]
  },
  {
   "cell_type": "markdown",
   "id": "e1b31c21",
   "metadata": {},
   "source": [
    "**new_child(m=None, **kwargs)** <br>\n",
    "Returns a new ChainMap containing a new map followed by all of the maps in the current instance. If m is specified, it becomes the new map at the front of the list of mappings; if not specified, an empty dict is used, so that a call to d.new_child() is equivalent to: ChainMap({}, *d.maps). \n",
    "\n",
    "If any keyword arguments are specified, **they update passed map or new empty dict.** This method is used for creating subcontexts that can be updated without altering values in any of the parent mappings."
   ]
  },
  {
   "cell_type": "code",
   "execution_count": 70,
   "id": "e97220ca",
   "metadata": {},
   "outputs": [
    {
     "data": {
      "text/plain": [
       "ChainMap({}, {1: 69, 2: 2}, {2: 5, 3: 3, 4: 4}, {1: 9, 4: 9, 7: 7})"
      ]
     },
     "execution_count": 70,
     "metadata": {},
     "output_type": "execute_result"
    }
   ],
   "source": [
    "d.new_child()"
   ]
  },
  {
   "cell_type": "code",
   "execution_count": 71,
   "id": "457b7638",
   "metadata": {},
   "outputs": [
    {
     "data": {
      "text/plain": [
       "ChainMap({10: 10, 11: 11}, {1: 69, 2: 2}, {2: 5, 3: 3, 4: 4}, {1: 9, 4: 9, 7: 7})"
      ]
     },
     "execution_count": 71,
     "metadata": {},
     "output_type": "execute_result"
    }
   ],
   "source": [
    "e = {10: 10, 11: 11}\n",
    "f = d.new_child(e)\n",
    "f"
   ]
  },
  {
   "cell_type": "code",
   "execution_count": 72,
   "id": "3ac92a78",
   "metadata": {},
   "outputs": [],
   "source": [
    "# f = d.new_child(e, 1=66, 2=77, 10=99) # INTEGER CAN'T BE KEYS\n",
    "# f = d.new_child(e, **{1:66, 2:77, 10:99}) # keys must be strings\n",
    "# f = d.new_child(e, a=66, b=77, c=99) # wrong as there is no elements with\n",
    "# a, b, c in any dicts\n",
    "e = {\"a\": 5, 'b': 6}\n",
    "f = {'a': 99, 'd': 66}\n",
    "g = d.new_child(e)\n",
    "# h = g.new_child(f, a=100, d=200) # unknow keyword argument\n",
    "# h = g.new_child(f, **{'a':100, 'd':200}) # not working"
   ]
  },
  {
   "cell_type": "code",
   "execution_count": 73,
   "id": "400a64d7",
   "metadata": {},
   "outputs": [
    {
     "data": {
      "text/plain": [
       "(ChainMap({}, {1: 69, 2: 2}, {2: 5, 3: 3, 4: 4}, {1: 9, 4: 9, 7: 7}),\n",
       " ChainMap({1: 69, 2: 2}, {2: 5, 3: 3, 4: 4}, {1: 9, 4: 9, 7: 7}))"
      ]
     },
     "execution_count": 73,
     "metadata": {},
     "output_type": "execute_result"
    }
   ],
   "source": [
    "e = d.new_child()\n",
    "e, e.parents # ChainMap(*d.maps[1:]) equivalent"
   ]
  },
  {
   "cell_type": "markdown",
   "id": "139ad974",
   "metadata": {},
   "source": [
    "**del e[1] # says key not found in the first map, for deleting, key has to be present in the first map**"
   ]
  },
  {
   "cell_type": "markdown",
   "id": "b923d969",
   "metadata": {},
   "source": [
    "# Counter"
   ]
  },
  {
   "cell_type": "markdown",
   "id": "bfdd9612",
   "metadata": {},
   "source": [
    "https://docs.python.org/3/library/collections.html"
   ]
  },
  {
   "cell_type": "code",
   "execution_count": 74,
   "id": "9d05efca",
   "metadata": {},
   "outputs": [],
   "source": [
    "from collections import Counter"
   ]
  },
  {
   "cell_type": "code",
   "execution_count": 75,
   "id": "e74667f8",
   "metadata": {},
   "outputs": [
    {
     "data": {
      "text/plain": [
       "Counter({'red': 2, 'blue': 3, 'green': 1})"
      ]
     },
     "execution_count": 75,
     "metadata": {},
     "output_type": "execute_result"
    }
   ],
   "source": [
    "# Tally occurrences of words in a list\n",
    "cnt = Counter()\n",
    "for word in ['red', 'blue', 'red', 'green', 'blue', 'blue']:\n",
    "    cnt[word] += 1\n",
    "cnt"
   ]
  },
  {
   "cell_type": "markdown",
   "id": "4a8ede75",
   "metadata": {},
   "source": [
    "Find the ten most common words in Hamlet<br>\n",
    "import re <br>\n",
    "words = re.findall(r'\\w+', open('hamlet.txt').read().lower()) <br>\n",
    "Counter(words).most_common(10)"
   ]
  },
  {
   "cell_type": "code",
   "execution_count": 76,
   "id": "567580bc",
   "metadata": {},
   "outputs": [
    {
     "data": {
      "text/plain": [
       "(Counter(),\n",
       " Counter({'g': 1, 'a': 3, 'l': 2, 'h': 1, 'd': 1}),\n",
       " Counter({'red': 4, 'blue': 2}),\n",
       " Counter({'cats': 4, 'dogs': 8}),\n",
       " Counter({'eggs': 1, 'ham': 1}))"
      ]
     },
     "execution_count": 76,
     "metadata": {},
     "output_type": "execute_result"
    }
   ],
   "source": [
    "# ways to create Counter\n",
    "a = Counter()\n",
    "b = Counter(\"gallahad\")\n",
    "c = Counter({\"red\": 4, \"blue\": 2})\n",
    "d = Counter(cats=4, dogs=8)\n",
    "e = Counter([\"eggs\", \"ham\"]) # TAKEN AS 1 AND NOT 0, *********************\n",
    "a, b, c, d, e"
   ]
  },
  {
   "cell_type": "code",
   "execution_count": 77,
   "id": "74ba0949",
   "metadata": {},
   "outputs": [
    {
     "data": {
      "text/plain": [
       "(0, Counter({'eggs': 1, 'ham': 1}))"
      ]
     },
     "execution_count": 77,
     "metadata": {},
     "output_type": "execute_result"
    }
   ],
   "source": [
    "c = Counter([\"eggs\", \"ham\"]) # TAKEN AS 1 AND NOT 0, *********************\n",
    "c[\"bacon\"], c # missing values are return 0, instead of KeyError"
   ]
  },
  {
   "cell_type": "markdown",
   "id": "a902ab5e",
   "metadata": {},
   "source": [
    "Setting a count to zero does not remove an element from a counter. Use del to remove it entirely:"
   ]
  },
  {
   "cell_type": "code",
   "execution_count": 78,
   "id": "d1fc8581",
   "metadata": {},
   "outputs": [],
   "source": [
    "c[\"sausage\"] = 0   # counter entry with a zero count\n",
    "del c[\"sausage\"]   # counter entry with a zero count\n",
    "# remember this, for iteration it will be required"
   ]
  },
  {
   "cell_type": "markdown",
   "id": "c3ff0743",
   "metadata": {},
   "source": [
    "As a dict subclass, Counter Inherited the capability to remember insertion order. Math operations on Counter objects also preserve order. Results are ordered according to when an element is first encountered in the left operand and then by the order encountered in the right operand."
   ]
  },
  {
   "cell_type": "code",
   "execution_count": 79,
   "id": "fb96eb6e",
   "metadata": {},
   "outputs": [
    {
     "name": "stdout",
     "output_type": "stream",
     "text": [
      "Counter({'eggs': 2, 'ham': 1})\n"
     ]
    }
   ],
   "source": [
    "c = Counter([\"eggs\", \"ham\"])\n",
    "c[\"eggs\"] += 1\n",
    "print(c) # it remembers insertion order, not modification order"
   ]
  },
  {
   "cell_type": "markdown",
   "id": "fa4a957d",
   "metadata": {},
   "source": [
    "**elements()** <br>\n",
    ">Return an iterator over elements repeating each as many times as its count. Elements are returned in the order first encountered. **If an element’s count is less than one, elements() will ignore it.**"
   ]
  },
  {
   "cell_type": "code",
   "execution_count": 80,
   "id": "7f2442a5",
   "metadata": {},
   "outputs": [
    {
     "data": {
      "text/plain": [
       "(['g', 'a', 'a', 'a', 'l', 'l', 'h', 'd'],\n",
       " ['a', 'a', 'a', 'd', 'g', 'h', 'l', 'l'])"
      ]
     },
     "execution_count": 80,
     "metadata": {},
     "output_type": "execute_result"
    }
   ],
   "source": [
    "c = Counter(\"gallahad\")\n",
    "c[\"e\"] = -3\n",
    "c[\"f\"] = 0\n",
    "list(c.elements()), sorted(c.elements())"
   ]
  },
  {
   "cell_type": "markdown",
   "id": "65a8eb4f",
   "metadata": {},
   "source": [
    "**most_common([n])** <br>\n",
    ">Return a list of the n most common elements and their counts from the most common to the least. If n is omitted or None, most_common() returns all elements in the counter. **Elements with equal counts are ordered in the order first encountered:**"
   ]
  },
  {
   "cell_type": "code",
   "execution_count": 81,
   "id": "05c17c55",
   "metadata": {},
   "outputs": [
    {
     "data": {
      "text/plain": [
       "[('a', 5), ('b', 2), ('r', 2)]"
      ]
     },
     "execution_count": 81,
     "metadata": {},
     "output_type": "execute_result"
    }
   ],
   "source": [
    "# n most common elements\n",
    "n = 3\n",
    "Counter('abracadabra').most_common(n)"
   ]
  },
  {
   "cell_type": "code",
   "execution_count": 82,
   "id": "853a1c8b",
   "metadata": {},
   "outputs": [
    {
     "name": "stdout",
     "output_type": "stream",
     "text": [
      "reverse [('d', 1), ('c', 1), ('r', 2)]\n"
     ]
    }
   ],
   "source": [
    "# n least common elements\n",
    "c = Counter('abracadabra')\n",
    "print(\"reverse\", c.most_common()[:-n-1:-1])\n",
    "# here, since we are reversing the order, we get \n",
    "# Elements with equal counts are ordered in the order LAST encountered"
   ]
  },
  {
   "cell_type": "code",
   "execution_count": 83,
   "id": "db95ff3a",
   "metadata": {},
   "outputs": [
    {
     "name": "stdout",
     "output_type": "stream",
     "text": [
      "[('r', 2), ('c', 1), ('d', 1)]\n",
      "in order [('c', 1), ('d', 1), ('r', 2)]\n"
     ]
    }
   ],
   "source": [
    "# so to avoid that, we can do\n",
    "print(c.most_common()[-n:])\n",
    "print(\"in order\", sorted(c.most_common()[-n:], key=lambda x: x[1]))\n",
    "# since it maintains relative order of equal elements, we can sort on the\n",
    "# no of times it is repeated"
   ]
  },
  {
   "cell_type": "code",
   "execution_count": 84,
   "id": "2acccfac",
   "metadata": {},
   "outputs": [
    {
     "data": {
      "text/plain": [
       "[('c', 1), ('d', 1), ('r', 2)]"
      ]
     },
     "execution_count": 84,
     "metadata": {},
     "output_type": "execute_result"
    }
   ],
   "source": [
    "from operator import itemgetter\n",
    "sorted(c.most_common()[-n:], key=itemgetter(1))"
   ]
  },
  {
   "cell_type": "markdown",
   "id": "8d8137ef",
   "metadata": {},
   "source": [
    "**subtract([iterable-or-mapping])** <br>\n",
    ">Elements are subtracted from an iterable or from another mapping (or counter). Like dict.update() but subtracts counts instead of replacing them. Both inputs and outputs may be zero or negative."
   ]
  },
  {
   "cell_type": "code",
   "execution_count": 85,
   "id": "b47428c4",
   "metadata": {},
   "outputs": [
    {
     "data": {
      "text/plain": [
       "Counter({'a': 3, 'b': 0, 'c': -3, 'd': -6})"
      ]
     },
     "execution_count": 85,
     "metadata": {},
     "output_type": "execute_result"
    }
   ],
   "source": [
    "c = Counter(a=4, b=2, c=0, d=-2)\n",
    "d = Counter(a=1, b=2, c=3, d=4)\n",
    "c.subtract(d)\n",
    "c"
   ]
  },
  {
   "cell_type": "code",
   "execution_count": 86,
   "id": "8411440f",
   "metadata": {},
   "outputs": [],
   "source": [
    "# total()\n",
    "# c.total() # new in version 3.10"
   ]
  },
  {
   "cell_type": "markdown",
   "id": "f475eb1e",
   "metadata": {},
   "source": [
    "fromkeys(iterable)\n",
    "This class method is **NOT implemented** for Counter objects."
   ]
  },
  {
   "cell_type": "markdown",
   "id": "9e63a6ea",
   "metadata": {},
   "source": [
    "**update([iterable-or-mapping])** <br>\n",
    ">Elements are counted from an iterable or added-in from another mapping (or counter). Like dict.update() but adds counts instead of replacing them. Also, **the iterable is expected to be a sequence of elements, not a sequence of (key, value) pairs.**<br>\n",
    "**HAPPENS IN PLACE**"
   ]
  },
  {
   "cell_type": "code",
   "execution_count": 87,
   "id": "6f2a2af8",
   "metadata": {},
   "outputs": [
    {
     "data": {
      "text/plain": [
       "Counter({'a': 4, 'b': 2, 'c': 0, 'd': -2})"
      ]
     },
     "execution_count": 87,
     "metadata": {},
     "output_type": "execute_result"
    }
   ],
   "source": [
    "c.update(d)\n",
    "c"
   ]
  },
  {
   "cell_type": "code",
   "execution_count": 88,
   "id": "79701638",
   "metadata": {},
   "outputs": [
    {
     "data": {
      "text/plain": [
       "Counter({'a': 9, 'b': 4, 'c': 2, 'd': 1})"
      ]
     },
     "execution_count": 88,
     "metadata": {},
     "output_type": "execute_result"
    }
   ],
   "source": [
    "c.update(\"abbaaccddaad\") # sequence of elements, not (k,v) pairs\n",
    "c"
   ]
  },
  {
   "cell_type": "markdown",
   "id": "14d2ecfd",
   "metadata": {},
   "source": [
    "Counters support rich comparison operators for equality, subset, and superset relationships: ==, !=, <, <=, >, >=. All of those tests treat missing elements as having zero counts so that Counter(a=1) == Counter(a=1, b=0) returns true.\n",
    "\n",
    "Changed in version 3.10: **In equality tests, missing elements are treated as having zero counts. Formerly, Counter(a=3) and Counter(a=3, b=0) were considered distinct.**"
   ]
  },
  {
   "cell_type": "markdown",
   "id": "01d0a76d",
   "metadata": {},
   "source": [
    "c.total()                       # total of all counts <br>\n",
    "c.clear()                       # reset all counts <br>\n",
    "list(c)                         # list unique elements <br>\n",
    "set(c)                          # convert to a set <br>\n",
    "dict(c)                         # convert to a regular dictionary <br>\n",
    "c.items()                       # convert to a list of (elem, cnt) pairs <br>\n",
    "Counter(dict(list_of_pairs))    # convert from a list of (elem, cnt) pairs <br>\n",
    "c.most_common()[:-n-1:-1]       # n least common elements <br>\n",
    "sorted(c.most_common()[-n:], key=itemgetter(1)) # n least common eles in order of their first occurance <br>\n",
    "+c                              # remove zero and negative counts <br>\n",
    "-c # interchanges negative and positive and removes -ve and 0 values"
   ]
  },
  {
   "cell_type": "code",
   "execution_count": 89,
   "id": "403f35e7",
   "metadata": {},
   "outputs": [
    {
     "data": {
      "text/plain": [
       "(Counter({'a': 2}), Counter({'b': 4}))"
      ]
     },
     "execution_count": 89,
     "metadata": {},
     "output_type": "execute_result"
    }
   ],
   "source": [
    "c = Counter(a=2, b= -4, c=0)\n",
    "+c, -c"
   ]
  },
  {
   "cell_type": "markdown",
   "id": "80794a4c",
   "metadata": {},
   "source": [
    "unary plus, unary minus, and in-place multiset operations are also available.\n",
    "\n",
    "The multiset methods are designed only for use cases with positive values. The inputs may be negative or zero, but only outputs with positive values are created. There are no type restrictions, but the value type needs to support addition, subtraction, and comparison."
   ]
  },
  {
   "cell_type": "markdown",
   "id": "eab0bb63",
   "metadata": {},
   "source": [
    "# deque"
   ]
  },
  {
   "cell_type": "markdown",
   "id": "b437c790",
   "metadata": {},
   "source": [
    "https://docs.python.org/3/library/collections.html#collections.defaultdict.default_factory"
   ]
  },
  {
   "cell_type": "markdown",
   "id": "460aa44e",
   "metadata": {},
   "source": [
    "**deque([iterable[, maxlen]])** <br>\n",
    "If maxlen is not specified or is None, deques may grow to an arbitrary length. Otherwise, the deque is bounded to the specified maximum length. Once a bounded length deque is full, when new items are added, a corresponding number of items are discarded from the opposite end."
   ]
  },
  {
   "cell_type": "code",
   "execution_count": 90,
   "id": "025aee2f",
   "metadata": {},
   "outputs": [],
   "source": [
    "from collections import deque"
   ]
  },
  {
   "cell_type": "code",
   "execution_count": 91,
   "id": "137f3c16",
   "metadata": {},
   "outputs": [],
   "source": [
    "d = deque([\"a\", \"b\", \"c\", \"d\", \"a\", \"c\"], maxlen=10)"
   ]
  },
  {
   "cell_type": "code",
   "execution_count": 92,
   "id": "8f8073c5",
   "metadata": {},
   "outputs": [
    {
     "data": {
      "text/plain": [
       "deque(['a', 'b', 'c', 'd', 'a', 'c', 'f'])"
      ]
     },
     "execution_count": 92,
     "metadata": {},
     "output_type": "execute_result"
    }
   ],
   "source": [
    "d.append(\"f\")\n",
    "d"
   ]
  },
  {
   "cell_type": "code",
   "execution_count": 93,
   "id": "ad30e6bf",
   "metadata": {},
   "outputs": [
    {
     "data": {
      "text/plain": [
       "deque(['g', 'a', 'b', 'c', 'd', 'a', 'c', 'f'])"
      ]
     },
     "execution_count": 93,
     "metadata": {},
     "output_type": "execute_result"
    }
   ],
   "source": [
    "d.appendleft(\"g\")\n",
    "d"
   ]
  },
  {
   "cell_type": "code",
   "execution_count": 94,
   "id": "2c8fe6dd",
   "metadata": {},
   "outputs": [],
   "source": [
    "e = d.copy() # shallow copy"
   ]
  },
  {
   "cell_type": "code",
   "execution_count": 95,
   "id": "cfda96b1",
   "metadata": {},
   "outputs": [
    {
     "data": {
      "text/plain": [
       "2"
      ]
     },
     "execution_count": 95,
     "metadata": {},
     "output_type": "execute_result"
    }
   ],
   "source": [
    "d.count(\"a\")"
   ]
  },
  {
   "cell_type": "code",
   "execution_count": 96,
   "id": "046f20f5",
   "metadata": {},
   "outputs": [
    {
     "data": {
      "text/plain": [
       "deque(['a', 'b', 'c', 'a', 'b', 'c', 'd', 'e', 'f', 'g'])"
      ]
     },
     "execution_count": 96,
     "metadata": {},
     "output_type": "execute_result"
    }
   ],
   "source": [
    "d.extend([\"a\", \"b\", \"c\"])\n",
    "d.extend(\"abcdefg\") # iterable\n",
    "d"
   ]
  },
  {
   "cell_type": "code",
   "execution_count": 97,
   "id": "69c52fcd",
   "metadata": {},
   "outputs": [
    {
     "data": {
      "text/plain": [
       "deque(['d', 's', 'l', 'k', 'f', 's', 'd', 'a', 'b', 'c'])"
      ]
     },
     "execution_count": 97,
     "metadata": {},
     "output_type": "execute_result"
    }
   ],
   "source": [
    "d.extendleft(\"dsfklsd\")\n",
    "d"
   ]
  },
  {
   "cell_type": "code",
   "execution_count": 98,
   "id": "b896d704",
   "metadata": {},
   "outputs": [
    {
     "data": {
      "text/plain": [
       "7"
      ]
     },
     "execution_count": 98,
     "metadata": {},
     "output_type": "execute_result"
    }
   ],
   "source": [
    "d.index(\"a\") # index(x[, start[, stop]])"
   ]
  },
  {
   "cell_type": "markdown",
   "id": "e819e27b",
   "metadata": {},
   "source": [
    "insert(i, x)\n",
    "Insert x into the deque at position i.\n",
    "\n",
    "**If the insertion would cause a bounded deque to grow beyond maxlen, an IndexError is raised.**"
   ]
  },
  {
   "cell_type": "code",
   "execution_count": 99,
   "id": "336a1319",
   "metadata": {},
   "outputs": [
    {
     "data": {
      "text/plain": [
       "deque(['d', 's', 'l', 'k', 'f', 's', 'd', 'a', 'b', 'c'])"
      ]
     },
     "execution_count": 99,
     "metadata": {},
     "output_type": "execute_result"
    }
   ],
   "source": [
    "# d.insert(5, \"i\") # cannot insert if maxlen is already reached\n",
    "d"
   ]
  },
  {
   "cell_type": "code",
   "execution_count": 100,
   "id": "a6fd0dc3",
   "metadata": {},
   "outputs": [
    {
     "data": {
      "text/plain": [
       "'c'"
      ]
     },
     "execution_count": 100,
     "metadata": {},
     "output_type": "execute_result"
    }
   ],
   "source": [
    "d.pop()"
   ]
  },
  {
   "cell_type": "code",
   "execution_count": 101,
   "id": "cbe593b3",
   "metadata": {},
   "outputs": [
    {
     "data": {
      "text/plain": [
       "'d'"
      ]
     },
     "execution_count": 101,
     "metadata": {},
     "output_type": "execute_result"
    }
   ],
   "source": [
    "d.popleft()"
   ]
  },
  {
   "cell_type": "code",
   "execution_count": 102,
   "id": "238ed69e",
   "metadata": {},
   "outputs": [
    {
     "data": {
      "text/plain": [
       "deque(['s', 'l', 'k', 'f', 's', 'd', 'a', 'b'])"
      ]
     },
     "execution_count": 102,
     "metadata": {},
     "output_type": "execute_result"
    }
   ],
   "source": [
    "d"
   ]
  },
  {
   "cell_type": "code",
   "execution_count": 103,
   "id": "3f96c9c3",
   "metadata": {},
   "outputs": [],
   "source": [
    "d.remove(\"a\") \n",
    "# Remove the first occurrence of value. If not found, raises a ValueError."
   ]
  },
  {
   "cell_type": "code",
   "execution_count": 104,
   "id": "cf0ffd50",
   "metadata": {},
   "outputs": [
    {
     "data": {
      "text/plain": [
       "deque(['b', 'd', 's', 'f', 'k', 'l', 's'])"
      ]
     },
     "execution_count": 104,
     "metadata": {},
     "output_type": "execute_result"
    }
   ],
   "source": [
    "# reverse\n",
    "d.reverse()\n",
    "d"
   ]
  },
  {
   "cell_type": "markdown",
   "id": "cc71ac52",
   "metadata": {},
   "source": [
    "**rotate(n=1)** <br>\n",
    "**Rotate the deque n steps to the right. If n is negative, rotate to the left.**\n",
    "\n",
    "When the deque is not empty, rotating one step to the right is equivalent to d.appendleft(d.pop()), and rotating one step to the left is equivalent to d.append(d.popleft())."
   ]
  },
  {
   "cell_type": "code",
   "execution_count": 105,
   "id": "33e70cea",
   "metadata": {},
   "outputs": [
    {
     "data": {
      "text/plain": [
       "deque(['s', 'b', 'd', 's', 'f', 'k', 'l'])"
      ]
     },
     "execution_count": 105,
     "metadata": {},
     "output_type": "execute_result"
    }
   ],
   "source": [
    "d.rotate(1)\n",
    "d"
   ]
  },
  {
   "cell_type": "code",
   "execution_count": 106,
   "id": "5b100e8c",
   "metadata": {},
   "outputs": [
    {
     "data": {
      "text/plain": [
       "deque(['d', 's', 'f', 'k', 'l', 's', 'b'])"
      ]
     },
     "execution_count": 106,
     "metadata": {},
     "output_type": "execute_result"
    }
   ],
   "source": [
    "d.rotate(-2)\n",
    "d"
   ]
  },
  {
   "cell_type": "code",
   "execution_count": 107,
   "id": "e2ea98e4",
   "metadata": {},
   "outputs": [
    {
     "data": {
      "text/plain": [
       "10"
      ]
     },
     "execution_count": 107,
     "metadata": {},
     "output_type": "execute_result"
    }
   ],
   "source": [
    "d.maxlen # read-only"
   ]
  },
  {
   "cell_type": "code",
   "execution_count": 108,
   "id": "8d0a3fac",
   "metadata": {},
   "outputs": [],
   "source": [
    "def tail(filename, n=10):\n",
    "    'Return the last n lines of a file'\n",
    "    with open(filename) as f:\n",
    "        return deque(f, n)"
   ]
  },
  {
   "cell_type": "code",
   "execution_count": 109,
   "id": "1c3e5178",
   "metadata": {},
   "outputs": [],
   "source": [
    "# same logic for sum of moving window\n",
    "def moving_average(iterable, n=3):\n",
    "    # moving_average([40, 30, 50, 46, 39, 44]) --> 40.0 42.0 45.0 43.0\n",
    "    # http://en.wikipedia.org/wiki/Moving_average\n",
    "    it = iter(iterable)\n",
    "    d = deque(itertools.islice(it, n-1))\n",
    "    d.appendleft(0)\n",
    "    s = sum(d)\n",
    "    for elem in it:\n",
    "        s += elem - d.popleft()\n",
    "        d.append(elem)\n",
    "        yield s / n"
   ]
  },
  {
   "cell_type": "code",
   "execution_count": 110,
   "id": "20418753",
   "metadata": {},
   "outputs": [],
   "source": [
    "def delete_nth(d, n):\n",
    "    d.rotate(-n)\n",
    "    d.popleft()\n",
    "    d.rotate(n)"
   ]
  },
  {
   "cell_type": "markdown",
   "id": "db7cb3f1",
   "metadata": {},
   "source": [
    "To implement deque slicing, use a similar approach applying rotate() to bring a target element to the left side of the deque. Remove old entries with popleft(), add new entries with extend(), and then reverse the rotation. With minor variations on that approach, it is easy to implement Forth style stack manipulations such as dup, drop, swap, over, pick, rot, and roll."
   ]
  },
  {
   "cell_type": "markdown",
   "id": "f936ef0a",
   "metadata": {},
   "source": [
    "# defaultdict"
   ]
  },
  {
   "cell_type": "markdown",
   "id": "651380ee",
   "metadata": {},
   "source": [
    "https://docs.python.org/3/library/collections.html#collections.defaultdict.default_factory"
   ]
  },
  {
   "cell_type": "code",
   "execution_count": 111,
   "id": "e525f1c7",
   "metadata": {},
   "outputs": [],
   "source": [
    "from collections import defaultdict"
   ]
  },
  {
   "cell_type": "markdown",
   "id": "cf666ea9",
   "metadata": {},
   "source": [
    "**defaultdict(default_factory=None, /[, ...])**\n",
    "\n",
    "If the default_factory attribute is None, this raises a KeyError exception with the key as argument.\n",
    "\n",
    "If default_factory is not None, **it is called without arguments to provide a default value for the given key, this value is inserted in the dictionary for the key, and returned.**"
   ]
  },
  {
   "cell_type": "code",
   "execution_count": 112,
   "id": "d16d56b8",
   "metadata": {},
   "outputs": [
    {
     "data": {
      "text/plain": [
       "[('blue', [2, 4]), ('red', [1]), ('yellow', [1, 3])]"
      ]
     },
     "execution_count": 112,
     "metadata": {},
     "output_type": "execute_result"
    }
   ],
   "source": [
    "s = [('yellow', 1), ('blue', 2), ('yellow', 3), ('blue', 4), ('red', 1)]\n",
    "d = defaultdict(list)\n",
    "for k, v in s:\n",
    "    d[k].append(v)\n",
    "sorted(d.items())"
   ]
  },
  {
   "cell_type": "code",
   "execution_count": 113,
   "id": "6451c3eb",
   "metadata": {},
   "outputs": [
    {
     "data": {
      "text/plain": [
       "([],\n",
       " defaultdict(list,\n",
       "             {'yellow': [1, 3], 'blue': [2, 4], 'red': [1], 'green': []}))"
      ]
     },
     "execution_count": 113,
     "metadata": {},
     "output_type": "execute_result"
    }
   ],
   "source": [
    "d[\"green\"], d # the element is inserted if it is not present"
   ]
  },
  {
   "cell_type": "code",
   "execution_count": 114,
   "id": "fe089fca",
   "metadata": {},
   "outputs": [
    {
     "data": {
      "text/plain": [
       "[('i', 4), ('m', 1), ('p', 2), ('s', 4)]"
      ]
     },
     "execution_count": 114,
     "metadata": {},
     "output_type": "execute_result"
    }
   ],
   "source": [
    "s = 'mississippi'\n",
    "d = defaultdict(int) # for 0\n",
    "for k in s:\n",
    "    d[k] += 1\n",
    "sorted(d.items())"
   ]
  },
  {
   "cell_type": "markdown",
   "id": "5b295a30",
   "metadata": {},
   "source": [
    "**The function int() which always returns zero is just a special case of constant functions. A faster and more flexible way to create constant functions is to use a lambda function which can supply any constant value (not just zero):**"
   ]
  },
  {
   "cell_type": "code",
   "execution_count": 115,
   "id": "151fab3d",
   "metadata": {},
   "outputs": [],
   "source": [
    "def constant_factory(value):\n",
    "    return lambda: value"
   ]
  },
  {
   "cell_type": "code",
   "execution_count": 116,
   "id": "92f84a86",
   "metadata": {},
   "outputs": [
    {
     "name": "stdout",
     "output_type": "stream",
     "text": [
      "John ran to <missing>\n"
     ]
    }
   ],
   "source": [
    "d = defaultdict(constant_factory('<missing>'))\n",
    "d.update(name='John', action='ran')\n",
    "print(f'{d[\"name\"]} {d[\"action\"]} to {d[\"object\"]}')"
   ]
  },
  {
   "cell_type": "code",
   "execution_count": 117,
   "id": "87f99601",
   "metadata": {},
   "outputs": [
    {
     "data": {
      "text/plain": [
       "[('blue', {2, 4}), ('red', {1, 3})]"
      ]
     },
     "execution_count": 117,
     "metadata": {},
     "output_type": "execute_result"
    }
   ],
   "source": [
    "# using set as default_factory\n",
    "s = [('red', 1), ('blue', 2), ('red', 3), ('blue', 4), \n",
    "     ('red', 1), ('blue', 4)]\n",
    "d = defaultdict(set)\n",
    "for k, v in s:\n",
    "    d[k].add(v)\n",
    "sorted(d.items())"
   ]
  },
  {
   "cell_type": "markdown",
   "id": "58940217",
   "metadata": {},
   "source": [
    "# namedtuple"
   ]
  },
  {
   "cell_type": "markdown",
   "id": "5ea20bb5",
   "metadata": {},
   "source": [
    "https://docs.python.org/3/library/collections.html#namedtuple-factory-function-for-tuples-with-named-fields"
   ]
  },
  {
   "cell_type": "markdown",
   "id": "c365c787",
   "metadata": {},
   "source": [
    "**namedtuple(typename, field_names, *, rename=False, defaults=None, module=None)** <br>\n",
    "\n",
    "The field_names are a sequence of strings such as ['x', 'y']. Alternatively, field_names can be a single string with each fieldname separated by whitespace and/or commas, for example 'x y' or 'x, y'.\n",
    "\n",
    "If rename is true, invalid fieldnames are automatically replaced with positional names. For example, ['abc', 'def', 'ghi', 'abc'] is converted to ['abc', '_1', 'ghi', '_3'], eliminating the keyword def and the duplicate fieldname abc.\n",
    "\n",
    "defaults can be None or an iterable of default values. Since fields with a default value must come after any fields without a default, the defaults are applied to the rightmost parameters. For example, if the fieldnames are ['x', 'y', 'z'] and the defaults are (1, 2), then x will be a required argument, y will default to 1, and z will default to 2.\n",
    "\n",
    "If module is defined, the __module__ attribute of the named tuple is set to that value."
   ]
  },
  {
   "cell_type": "code",
   "execution_count": 118,
   "id": "5fff150a",
   "metadata": {},
   "outputs": [],
   "source": [
    "from collections import namedtuple"
   ]
  },
  {
   "cell_type": "code",
   "execution_count": 119,
   "id": "643b0d8b",
   "metadata": {},
   "outputs": [
    {
     "data": {
      "text/plain": [
       "33"
      ]
     },
     "execution_count": 119,
     "metadata": {},
     "output_type": "execute_result"
    }
   ],
   "source": [
    "Point = namedtuple('Point', ['x', 'y'])\n",
    "p = Point(11, y=22)     # instantiate with positional or keyword arguments\n",
    "p[0] + p[1]             # indexable like the plain tuple (11, 22)"
   ]
  },
  {
   "cell_type": "code",
   "execution_count": 120,
   "id": "a0fe215b",
   "metadata": {},
   "outputs": [
    {
     "data": {
      "text/plain": [
       "(11, 22)"
      ]
     },
     "execution_count": 120,
     "metadata": {},
     "output_type": "execute_result"
    }
   ],
   "source": [
    "x, y = p                # unpack like a regular tuple\n",
    "x, y"
   ]
  },
  {
   "cell_type": "code",
   "execution_count": 121,
   "id": "2224ee8e",
   "metadata": {},
   "outputs": [
    {
     "name": "stdout",
     "output_type": "stream",
     "text": [
      "33\n"
     ]
    },
    {
     "data": {
      "text/plain": [
       "Point(x=11, y=22)"
      ]
     },
     "execution_count": 121,
     "metadata": {},
     "output_type": "execute_result"
    }
   ],
   "source": [
    "print(p.x + p.y)               # fields also accessible by name\n",
    "p                       # readable __repr__ with a name=value style"
   ]
  },
  {
   "cell_type": "markdown",
   "id": "83cc587a",
   "metadata": {},
   "source": [
    "**classmethod somenamedtuple._make(iterable)**\n",
    "Class method that makes a new instance from an existing sequence or iterable."
   ]
  },
  {
   "cell_type": "code",
   "execution_count": 122,
   "id": "b5dcae79",
   "metadata": {},
   "outputs": [
    {
     "data": {
      "text/plain": [
       "Point(x=11, y=12)"
      ]
     },
     "execution_count": 122,
     "metadata": {},
     "output_type": "execute_result"
    }
   ],
   "source": [
    "t = [11, 12]\n",
    "Point._make(t)"
   ]
  },
  {
   "cell_type": "code",
   "execution_count": 123,
   "id": "d9d9b31c",
   "metadata": {},
   "outputs": [
    {
     "data": {
      "text/plain": [
       "{'x': 11, 'y': 22}"
      ]
     },
     "execution_count": 123,
     "metadata": {},
     "output_type": "execute_result"
    }
   ],
   "source": [
    "p._asdict()"
   ]
  },
  {
   "cell_type": "markdown",
   "id": "7c4c056d",
   "metadata": {},
   "source": [
    "**somenamedtuple._replace( **kwargs)** <br>\n",
    "Return a new instance of the named tuple replacing specified fields with new values:"
   ]
  },
  {
   "cell_type": "code",
   "execution_count": 124,
   "id": "0906310e",
   "metadata": {},
   "outputs": [
    {
     "data": {
      "text/plain": [
       "Point(x=33, y=22)"
      ]
     },
     "execution_count": 124,
     "metadata": {},
     "output_type": "execute_result"
    }
   ],
   "source": [
    "p = Point(x=11, y=22)\n",
    "p._replace(x=33)"
   ]
  },
  {
   "cell_type": "markdown",
   "id": "ee881575",
   "metadata": {},
   "source": [
    "**somenamedtuple._fields** <br>\n",
    "Tuple of strings listing the field names. Useful for introspection and for creating new named tuple types from existing named tuples."
   ]
  },
  {
   "cell_type": "code",
   "execution_count": 125,
   "id": "39faaed4",
   "metadata": {},
   "outputs": [
    {
     "data": {
      "text/plain": [
       "Pixel(x=11, y=22, red=128, green=255, blue=0)"
      ]
     },
     "execution_count": 125,
     "metadata": {},
     "output_type": "execute_result"
    }
   ],
   "source": [
    "Color = namedtuple('Color', 'red green blue')\n",
    "Pixel = namedtuple('Pixel', Point._fields + Color._fields)\n",
    "Pixel(11, 22, 128, 255, 0)"
   ]
  },
  {
   "cell_type": "markdown",
   "id": "5ef414d7",
   "metadata": {},
   "source": [
    "**somenamedtuple._field_defaults** <br>\n",
    "Dictionary mapping field names to default values."
   ]
  },
  {
   "cell_type": "code",
   "execution_count": 126,
   "id": "84c9f5ed",
   "metadata": {},
   "outputs": [
    {
     "data": {
      "text/plain": [
       "{'balance': 0}"
      ]
     },
     "execution_count": 126,
     "metadata": {},
     "output_type": "execute_result"
    }
   ],
   "source": [
    "Account = namedtuple('Account', ['type', 'balance'], defaults=[0])\n",
    "Account._field_defaults"
   ]
  },
  {
   "cell_type": "code",
   "execution_count": 127,
   "id": "4c074ab5",
   "metadata": {},
   "outputs": [
    {
     "data": {
      "text/plain": [
       "Account(type='premium', balance=0)"
      ]
     },
     "execution_count": 127,
     "metadata": {},
     "output_type": "execute_result"
    }
   ],
   "source": [
    "Account('premium')"
   ]
  },
  {
   "cell_type": "code",
   "execution_count": 128,
   "id": "a3ab6e39",
   "metadata": {},
   "outputs": [
    {
     "data": {
      "text/plain": [
       "11"
      ]
     },
     "execution_count": 128,
     "metadata": {},
     "output_type": "execute_result"
    }
   ],
   "source": [
    "getattr(p, 'x')"
   ]
  },
  {
   "cell_type": "code",
   "execution_count": 129,
   "id": "84704cf6",
   "metadata": {},
   "outputs": [
    {
     "data": {
      "text/plain": [
       "Point(x=11, y=22)"
      ]
     },
     "execution_count": 129,
     "metadata": {},
     "output_type": "execute_result"
    }
   ],
   "source": [
    "d = {'x': 11, 'y': 22}\n",
    "Point(**d)"
   ]
  },
  {
   "cell_type": "markdown",
   "id": "893d95d1",
   "metadata": {},
   "source": [
    "# OrderedDict"
   ]
  },
  {
   "cell_type": "markdown",
   "id": "39a6042e",
   "metadata": {},
   "source": [
    "https://docs.python.org/3/library/collections.html#collections.OrderedDict"
   ]
  },
  {
   "cell_type": "markdown",
   "id": "0b627618",
   "metadata": {},
   "source": [
    "**popitem(last=True)**\n",
    ">The popitem() method for ordered dictionaries returns and removes a (key, value) pair. The pairs are returned in **LIFO order if last is true** or **FIFO order if false.**"
   ]
  },
  {
   "cell_type": "markdown",
   "id": "4d6ec2c4",
   "metadata": {},
   "source": [
    "**move_to_end(key, last=True)**\n",
    ">Move an existing key to either end of an ordered dictionary. The item is moved to the right end if last is true (the default) or to the beginning if last is false. Raises KeyError if the key does not exist:"
   ]
  },
  {
   "cell_type": "code",
   "execution_count": 130,
   "id": "a21b3caf",
   "metadata": {},
   "outputs": [],
   "source": [
    "from collections import OrderedDict"
   ]
  },
  {
   "cell_type": "code",
   "execution_count": 131,
   "id": "51cefa18",
   "metadata": {},
   "outputs": [
    {
     "data": {
      "text/plain": [
       "OrderedDict([('a', None), ('c', None), ('d', None), ('e', None), ('b', None)])"
      ]
     },
     "execution_count": 131,
     "metadata": {},
     "output_type": "execute_result"
    }
   ],
   "source": [
    "d = OrderedDict.fromkeys(\"abcde\")\n",
    "d.move_to_end('b')\n",
    "d"
   ]
  },
  {
   "cell_type": "code",
   "execution_count": 132,
   "id": "bd98c307",
   "metadata": {},
   "outputs": [
    {
     "data": {
      "text/plain": [
       "'acdeb'"
      ]
     },
     "execution_count": 132,
     "metadata": {},
     "output_type": "execute_result"
    }
   ],
   "source": [
    "''.join(d)"
   ]
  },
  {
   "cell_type": "code",
   "execution_count": 133,
   "id": "4b0d150e",
   "metadata": {},
   "outputs": [
    {
     "data": {
      "text/plain": [
       "'bacde'"
      ]
     },
     "execution_count": 133,
     "metadata": {},
     "output_type": "execute_result"
    }
   ],
   "source": [
    "d.move_to_end('b', last=False)\n",
    "''.join(d)"
   ]
  },
  {
   "cell_type": "code",
   "execution_count": 134,
   "id": "78d4dffb",
   "metadata": {},
   "outputs": [],
   "source": [
    "class LastUpdatedOrderedDict(OrderedDict):\n",
    "    'Store items in the order the keys were last added'\n",
    "\n",
    "    def __setitem__(self, key, value):\n",
    "        super().__setitem__(key, value)\n",
    "        self.move_to_end(key)"
   ]
  },
  {
   "cell_type": "markdown",
   "id": "8881f9f2",
   "metadata": {},
   "source": [
    "**UserDict objects**<br>\n",
    "UserDict([initialdata])\n",
    "\n",
    "**UserList objects**<br>\n",
    "UserList([list])\n",
    "\n",
    "**UserString objects**<br>\n",
    "UserString(seq)"
   ]
  },
  {
   "cell_type": "markdown",
   "id": "af450550",
   "metadata": {},
   "source": [
    "dict, list, str inside these classes can be accessed using **self.data** or **object.data**"
   ]
  },
  {
   "cell_type": "code",
   "execution_count": 135,
   "id": "f41db707",
   "metadata": {},
   "outputs": [],
   "source": [
    "from collections import UserDict"
   ]
  },
  {
   "cell_type": "code",
   "execution_count": 136,
   "id": "86dab673",
   "metadata": {},
   "outputs": [],
   "source": [
    "class MyDict(UserDict):\n",
    "     \n",
    "    # Function to stop deletion\n",
    "    # from dictionary\n",
    "    def __del__(self):\n",
    "        raise RuntimeError(\"Deletion not allowed\")\n",
    "         \n",
    "    # Function to stop pop from\n",
    "    # dictionary\n",
    "    def pop(self, s = None):\n",
    "        raise RuntimeError(\"Deletion not allowed\")\n",
    "         \n",
    "    # Function to stop popitem\n",
    "    # from Dictionary\n",
    "    def popitem(self, s = None):\n",
    "        raise RuntimeError(\"Deletion not allowed\")"
   ]
  },
  {
   "cell_type": "code",
   "execution_count": 137,
   "id": "959646a3",
   "metadata": {},
   "outputs": [
    {
     "name": "stdout",
     "output_type": "stream",
     "text": [
      "Original Dictionary\n",
      "{'a': 1, 'b': 2, 'c': 3}\n"
     ]
    }
   ],
   "source": [
    "d = MyDict({'a':1,\n",
    "    'b': 2,\n",
    "    'c': 3})\n",
    " \n",
    "print(\"Original Dictionary\")\n",
    "print(d)\n",
    " \n",
    "# d.pop(1)"
   ]
  },
  {
   "cell_type": "markdown",
   "id": "97f7e61a",
   "metadata": {},
   "source": [
    "# Itertools"
   ]
  },
  {
   "cell_type": "markdown",
   "id": "448602cd",
   "metadata": {},
   "source": [
    "## infinite itertors"
   ]
  },
  {
   "cell_type": "markdown",
   "id": "4bc6c46e",
   "metadata": {},
   "source": [
    "**count ( [ start=0 [, step=1 ] ] )**\n",
    "\n",
    "count()\n",
    "\n",
    "start, [step]\n",
    "\n",
    "start, start+step, start+2*step, …\n",
    "\n",
    "count(10) --> 10 11 12 13 14 ..."
   ]
  },
  {
   "cell_type": "code",
   "execution_count": 138,
   "id": "f2c59c3c",
   "metadata": {},
   "outputs": [],
   "source": [
    "from itertools import count"
   ]
  },
  {
   "cell_type": "code",
   "execution_count": 139,
   "id": "51079907",
   "metadata": {},
   "outputs": [
    {
     "name": "stdout",
     "output_type": "stream",
     "text": [
      "0, 1, 2, 3, 4, 5, 6, 7, 8, 9, 10, 11, 12, "
     ]
    }
   ],
   "source": [
    "for i in count():\n",
    "    print(i, end=\", \")\n",
    "    if i == 12:\n",
    "        break"
   ]
  },
  {
   "cell_type": "code",
   "execution_count": 140,
   "id": "a86f682c",
   "metadata": {},
   "outputs": [
    {
     "name": "stdout",
     "output_type": "stream",
     "text": [
      "15, 16, 17, 18, 19, 20, 21, 22, 23, 24, 25, 26, 27, 28, 29, 30, 31, 32, "
     ]
    }
   ],
   "source": [
    "for i in count(15):\n",
    "    print(i, end=\", \")\n",
    "    if i == 32:\n",
    "        break"
   ]
  },
  {
   "cell_type": "code",
   "execution_count": 141,
   "id": "6d849168",
   "metadata": {},
   "outputs": [
    {
     "name": "stdout",
     "output_type": "stream",
     "text": [
      "15, 18, 21, 24, 27, 30, 33, "
     ]
    }
   ],
   "source": [
    "for i in count(15, 3):\n",
    "    print(i, end=\", \")\n",
    "    if i >= 32:\n",
    "        break"
   ]
  },
  {
   "cell_type": "code",
   "execution_count": 142,
   "id": "25e0c692",
   "metadata": {},
   "outputs": [
    {
     "name": "stdout",
     "output_type": "stream",
     "text": [
      "15.2, 16.0, 16.8, 17.6, 18.400000000000002, 19.200000000000003, 20.000000000000004, 20.800000000000004, 21.600000000000005, 22.400000000000006, 23.200000000000006, 24.000000000000007, 24.800000000000008, 25.60000000000001, 26.40000000000001, 27.20000000000001, 28.00000000000001, 28.80000000000001, 29.600000000000012, 30.400000000000013, 31.200000000000014, 32.000000000000014, "
     ]
    }
   ],
   "source": [
    "for i in count(15.2, 0.8):\n",
    "    print(i, end=\", \")\n",
    "    if i >= 32:\n",
    "        break"
   ]
  },
  {
   "cell_type": "markdown",
   "id": "e98d8169",
   "metadata": {},
   "source": [
    "**cycle ( iterable )**\n",
    "\n",
    "cycle()\n",
    "\n",
    "p\n",
    "\n",
    "p0, p1, … plast, p0, p1, …\n",
    "\n",
    "cycle('ABCD') --> A B C D A B C D ..."
   ]
  },
  {
   "cell_type": "code",
   "execution_count": 143,
   "id": "05aa6160",
   "metadata": {},
   "outputs": [],
   "source": [
    "from itertools import cycle"
   ]
  },
  {
   "cell_type": "code",
   "execution_count": 144,
   "id": "51604f5f",
   "metadata": {},
   "outputs": [
    {
     "name": "stdout",
     "output_type": "stream",
     "text": [
      "a, b, c, d, e, a, b, c, d, e, a, b, c, d, e, a, "
     ]
    }
   ],
   "source": [
    "i = 0\n",
    "for char in cycle(\"abcde\"):\n",
    "    print(char, end=\", \")\n",
    "    if i == 15:\n",
    "        break\n",
    "    i += 1"
   ]
  },
  {
   "cell_type": "markdown",
   "id": "fc68ecd6",
   "metadata": {},
   "source": [
    "**repeat( elem [, n] )**\n",
    "\n",
    "repeat()\n",
    "\n",
    "elem [,n]\n",
    "\n",
    "elem, elem, elem, … endlessly or up to n times\n",
    "\n",
    "repeat(10, 3) --> 10 10 10"
   ]
  },
  {
   "cell_type": "code",
   "execution_count": 145,
   "id": "7c932fd3",
   "metadata": {},
   "outputs": [],
   "source": [
    "from itertools import repeat"
   ]
  },
  {
   "cell_type": "code",
   "execution_count": 146,
   "id": "d7ce0aca",
   "metadata": {},
   "outputs": [
    {
     "name": "stdout",
     "output_type": "stream",
     "text": [
      "23.2, 23.2, 23.2, 23.2, 23.2, 23.2, 23.2, "
     ]
    }
   ],
   "source": [
    "for i in repeat(23.2, 7):\n",
    "    print(i, end=\", \")"
   ]
  },
  {
   "cell_type": "code",
   "execution_count": 147,
   "id": "1c4abcdd",
   "metadata": {},
   "outputs": [
    {
     "name": "stdout",
     "output_type": "stream",
     "text": [
      "abc, abc, abc, abc, abc, abc, abc, "
     ]
    }
   ],
   "source": [
    "for i in repeat(\"abc\", 7):\n",
    "    print(i, end=\", \")"
   ]
  },
  {
   "cell_type": "code",
   "execution_count": 148,
   "id": "e86bfaa5",
   "metadata": {},
   "outputs": [
    {
     "name": "stdout",
     "output_type": "stream",
     "text": [
      "[1, 2, 3], [1, 2, 3], [1, 2, 3], [1, 2, 3], [1, 2, 3], [1, 2, 3], [1, 2, 3], "
     ]
    }
   ],
   "source": [
    "for i in repeat([1, 2, 3], 7):\n",
    "    print(i, end=\", \")"
   ]
  },
  {
   "cell_type": "markdown",
   "id": "3ba68d70",
   "metadata": {},
   "source": [
    "A common use for repeat is to supply a stream of constant values to map or zip:"
   ]
  },
  {
   "cell_type": "code",
   "execution_count": 149,
   "id": "68f7c38a",
   "metadata": {},
   "outputs": [
    {
     "data": {
      "text/plain": [
       "[0, 1, 4, 9, 16, 25, 36, 49, 64, 81]"
      ]
     },
     "execution_count": 149,
     "metadata": {},
     "output_type": "execute_result"
    }
   ],
   "source": [
    "list(map(pow, range(10), repeat(2)))"
   ]
  },
  {
   "cell_type": "markdown",
   "id": "4735d1d3",
   "metadata": {},
   "source": [
    "## Iterators terminating on the shortest input sequence:"
   ]
  },
  {
   "cell_type": "markdown",
   "id": "5d689c1d",
   "metadata": {},
   "source": [
    "**accumulate( iterable [, func=operator.add, *, initial=None ] )**\n",
    "\n",
    "accumulate()\n",
    "\n",
    "p [,func=operator.add, *, initial=None]\n",
    "\n",
    "p0, p0+p1, p0+p1+p2, …\n",
    "\n",
    "accumulate([1,2,3,4,5]) --> 1 3 6 10 15"
   ]
  },
  {
   "cell_type": "code",
   "execution_count": 150,
   "id": "ff908d9f",
   "metadata": {},
   "outputs": [],
   "source": [
    "from itertools import accumulate"
   ]
  },
  {
   "cell_type": "code",
   "execution_count": 151,
   "id": "c5e2fb9c",
   "metadata": {},
   "outputs": [
    {
     "name": "stdout",
     "output_type": "stream",
     "text": [
      "6, 13, 15, 21, 25, 27, 28, 28, "
     ]
    }
   ],
   "source": [
    "for i in accumulate([6, 7, 2, 6, 4, 2, 1, 0]):\n",
    "    print(i, end=\", \")"
   ]
  },
  {
   "cell_type": "code",
   "execution_count": 152,
   "id": "320d789f",
   "metadata": {},
   "outputs": [
    {
     "name": "stdout",
     "output_type": "stream",
     "text": [
      "999, 1005, 1012, 1014, 1020, 1024, 1026, 1027, 1027, "
     ]
    }
   ],
   "source": [
    "for i in accumulate([6, 7, 2, 6, 4, 2, 1, 0], initial=999):\n",
    "    print(i, end=\", \")"
   ]
  },
  {
   "cell_type": "code",
   "execution_count": 153,
   "id": "857d793b",
   "metadata": {},
   "outputs": [
    {
     "name": "stdout",
     "output_type": "stream",
     "text": [
      "6, 42, 84, 504, 2016, 4032, 4032, 0, "
     ]
    }
   ],
   "source": [
    "from operator import mul\n",
    "\n",
    "for i in accumulate([6, 7, 2, 6, 4, 2, 1, 0], mul):\n",
    "    print(i, end=\", \")"
   ]
  },
  {
   "cell_type": "code",
   "execution_count": 154,
   "id": "6f318e89",
   "metadata": {},
   "outputs": [
    {
     "name": "stdout",
     "output_type": "stream",
     "text": [
      "999, 1007, 1016, 1020, 1028, 1034, 1038, 1041, 1043, "
     ]
    }
   ],
   "source": [
    "plus2 = lambda x, y: x + y + 2\n",
    "\n",
    "for i in accumulate([6, 7, 2, 6, 4, 2, 1, 0], plus2, initial=999):\n",
    "    print(i, end=\", \")"
   ]
  },
  {
   "cell_type": "code",
   "execution_count": 155,
   "id": "077e29b5",
   "metadata": {},
   "outputs": [
    {
     "name": "stdout",
     "output_type": "stream",
     "text": [
      "a, ab, abc, abcd, abcde, abcdef, "
     ]
    }
   ],
   "source": [
    "# with strings\n",
    "for i in accumulate(\"abcdef\"):\n",
    "    print(i, end=\", \")"
   ]
  },
  {
   "cell_type": "code",
   "execution_count": 156,
   "id": "32653100",
   "metadata": {},
   "outputs": [],
   "source": [
    "data = [3, 4, 6, 2, 1, 9, 0, 7, 5, 8]"
   ]
  },
  {
   "cell_type": "code",
   "execution_count": 157,
   "id": "f73c9737",
   "metadata": {},
   "outputs": [
    {
     "data": {
      "text/plain": [
       "[3, 12, 72, 144, 144, 1296, 0, 0, 0, 0]"
      ]
     },
     "execution_count": 157,
     "metadata": {},
     "output_type": "execute_result"
    }
   ],
   "source": [
    "# running product\n",
    "list(accumulate(data, mul))"
   ]
  },
  {
   "cell_type": "code",
   "execution_count": 158,
   "id": "d575b3ce",
   "metadata": {},
   "outputs": [
    {
     "data": {
      "text/plain": [
       "[3, 4, 6, 6, 6, 9, 9, 9, 9, 9]"
      ]
     },
     "execution_count": 158,
     "metadata": {},
     "output_type": "execute_result"
    }
   ],
   "source": [
    "# RUNNING MAXIMUM\n",
    "list(accumulate(data, max))              # running maximum"
   ]
  },
  {
   "cell_type": "code",
   "execution_count": 159,
   "id": "2c797527",
   "metadata": {},
   "outputs": [
    {
     "data": {
      "text/plain": [
       "[1000, 960.0, 918.0, 873.9000000000001, 827.5950000000001]"
      ]
     },
     "execution_count": 159,
     "metadata": {},
     "output_type": "execute_result"
    }
   ],
   "source": [
    "# Amortize a 5% loan of 1000 with 4 annual payments of 90\n",
    "cashflows = [1000, -90, -90, -90, -90]\n",
    "list(accumulate(cashflows, lambda bal, pmt: bal*1.05 + pmt))"
   ]
  },
  {
   "cell_type": "code",
   "execution_count": 160,
   "id": "32e86bd5",
   "metadata": {},
   "outputs": [
    {
     "name": "stdout",
     "output_type": "stream",
     "text": [
      "['0.40', '0.91', '0.30', '0.81', '0.60', '0.92', '0.29', '0.79', '0.63', '0.88', '0.39', '0.90', '0.33', '0.84', '0.52', '0.95', '0.18', '0.57', '0.93', '0.25', '0.71', '0.79', '0.63', '0.88', '0.39', '0.91', '0.32', '0.83', '0.54', '0.95', '0.20', '0.60', '0.91', '0.30', '0.80', '0.60']\n"
     ]
    }
   ],
   "source": [
    "logistic_map = lambda x, _:  r * x * (1 - x)\n",
    "r = 3.8\n",
    "x0 = 0.4\n",
    "inputs = repeat(x0, 36)     # only the initial value is used\n",
    "print([format(x, '.2f') for x in accumulate(inputs, logistic_map)])"
   ]
  },
  {
   "cell_type": "code",
   "execution_count": 161,
   "id": "5fa1ae70",
   "metadata": {},
   "outputs": [],
   "source": [
    "# functools.reduce - returns only the final accumulated value"
   ]
  },
  {
   "cell_type": "markdown",
   "id": "ca37f869",
   "metadata": {},
   "source": [
    "**chain( *iterables )**\n",
    "\n",
    "chain()\n",
    "\n",
    "p, q, …\n",
    "\n",
    "p0, p1, … plast, q0, q1, …\n",
    "\n",
    "chain('ABC', 'DEF') --> A B C D E F"
   ]
  },
  {
   "cell_type": "code",
   "execution_count": 162,
   "id": "ae6331a2",
   "metadata": {},
   "outputs": [],
   "source": [
    "from itertools import chain"
   ]
  },
  {
   "cell_type": "code",
   "execution_count": 163,
   "id": "9a7e441c",
   "metadata": {},
   "outputs": [
    {
     "data": {
      "text/plain": [
       "(<itertools.chain at 0x22b56d8f3d0>, ['A', 'B', 'C', 'D', 'E', 'F'], 'ABCDEF')"
      ]
     },
     "execution_count": 163,
     "metadata": {},
     "output_type": "execute_result"
    }
   ],
   "source": [
    "a = chain(\"ABC\", \"DEF\") # all these functions return a iterator\n",
    "b = list(a)\n",
    "a, b, ''.join(b)"
   ]
  },
  {
   "cell_type": "code",
   "execution_count": 164,
   "id": "1ae1383c",
   "metadata": {},
   "outputs": [
    {
     "data": {
      "text/plain": [
       "[1, 2, 3, 4, 5, 6]"
      ]
     },
     "execution_count": 164,
     "metadata": {},
     "output_type": "execute_result"
    }
   ],
   "source": [
    "list(chain([1, 2, 3], [4, 5, 6]))"
   ]
  },
  {
   "cell_type": "markdown",
   "id": "7f6d4429",
   "metadata": {},
   "source": [
    "**chain.from_iterable(iterable)**\n",
    "Alternate constructor for chain(). Gets chained inputs from a single iterable argument that is evaluated lazily.\n",
    "\n",
    "chain.from_iterable()\n",
    "\n",
    "iterable\n",
    "\n",
    "p0, p1, … plast, q0, q1, …\n",
    "\n",
    "chain.from_iterable(['ABC', 'DEF']) --> A B C D E F"
   ]
  },
  {
   "cell_type": "code",
   "execution_count": 165,
   "id": "29490854",
   "metadata": {},
   "outputs": [
    {
     "data": {
      "text/plain": [
       "['A', 'B', 'C', 'D', 'E', 'F']"
      ]
     },
     "execution_count": 165,
     "metadata": {},
     "output_type": "execute_result"
    }
   ],
   "source": [
    "list(chain.from_iterable([\"ABC\", \"DEF\"]))"
   ]
  },
  {
   "cell_type": "code",
   "execution_count": 166,
   "id": "5efd6ba6",
   "metadata": {},
   "outputs": [
    {
     "data": {
      "text/plain": [
       "[1, 2, 3, 4, 5, 6]"
      ]
     },
     "execution_count": 166,
     "metadata": {},
     "output_type": "execute_result"
    }
   ],
   "source": [
    "list(chain.from_iterable([[1, 2, 3], [4, 5, 6]]))"
   ]
  },
  {
   "cell_type": "markdown",
   "id": "15e1c7e4",
   "metadata": {},
   "source": [
    "**compress( iterable, selectors )**\n",
    "\n",
    "compress()\n",
    "\n",
    "data, selectors\n",
    "\n",
    "( d[0] if s[0] ), ( d[1] if s[1] ), …\n",
    "\n",
    "compress('ABCDEF', [1,0,1,0,1,1]) --> A C E F"
   ]
  },
  {
   "cell_type": "code",
   "execution_count": 167,
   "id": "7b71e1e1",
   "metadata": {},
   "outputs": [],
   "source": [
    "from itertools import compress"
   ]
  },
  {
   "cell_type": "code",
   "execution_count": 168,
   "id": "b0ee20a2",
   "metadata": {},
   "outputs": [
    {
     "data": {
      "text/plain": [
       "['A', 'C', 'E', 'F']"
      ]
     },
     "execution_count": 168,
     "metadata": {},
     "output_type": "execute_result"
    }
   ],
   "source": [
    "list(compress(\"ABCDEF\", [1, 0, 1, 0, 1, 1]))"
   ]
  },
  {
   "cell_type": "code",
   "execution_count": 169,
   "id": "1bec33ff",
   "metadata": {},
   "outputs": [
    {
     "data": {
      "text/plain": [
       "['A', 'C', 'E', 'F']"
      ]
     },
     "execution_count": 169,
     "metadata": {},
     "output_type": "execute_result"
    }
   ],
   "source": [
    "list(compress(\"ABCDEF\", [True, False, True, False, True, True]))"
   ]
  },
  {
   "cell_type": "markdown",
   "id": "74256dfa",
   "metadata": {},
   "source": [
    "**dropwhile( func, iterable )**\n",
    "\n",
    "dropwhile()\n",
    "\n",
    "pred, seq\n",
    "\n",
    "seq[n], seq[n+1], starting when pred fails\n",
    "\n",
    "dropwhile(lambda x: x<5, [1,4,6,4,1]) --> 6 4 1"
   ]
  },
  {
   "cell_type": "code",
   "execution_count": 170,
   "id": "2da60c3f",
   "metadata": {},
   "outputs": [],
   "source": [
    "from itertools import dropwhile"
   ]
  },
  {
   "cell_type": "code",
   "execution_count": 171,
   "id": "6424c37b",
   "metadata": {},
   "outputs": [
    {
     "data": {
      "text/plain": [
       "[6, 4, 1]"
      ]
     },
     "execution_count": 171,
     "metadata": {},
     "output_type": "execute_result"
    }
   ],
   "source": [
    "list(dropwhile(lambda x: x < 5, [1, 4, 6, 4, 1]))"
   ]
  },
  {
   "cell_type": "markdown",
   "id": "b7c03dea",
   "metadata": {},
   "source": [
    "**takewhile( func, iterable )**\n",
    "\n",
    "takewhile()\n",
    "\n",
    "pred, seq\n",
    "\n",
    "seq[0], seq[1], until pred fails\n",
    "\n",
    "takewhile(lambda x: x<5, [1,4,6,4,1]) --> 1 4"
   ]
  },
  {
   "cell_type": "code",
   "execution_count": 172,
   "id": "34fc2726",
   "metadata": {},
   "outputs": [],
   "source": [
    "from itertools import takewhile"
   ]
  },
  {
   "cell_type": "code",
   "execution_count": 173,
   "id": "07cc37bb",
   "metadata": {},
   "outputs": [
    {
     "data": {
      "text/plain": [
       "[1, 4]"
      ]
     },
     "execution_count": 173,
     "metadata": {},
     "output_type": "execute_result"
    }
   ],
   "source": [
    "list(takewhile(lambda x: x < 5, [1, 4, 6, 4, 1]))"
   ]
  },
  {
   "cell_type": "markdown",
   "id": "b366c690",
   "metadata": {},
   "source": [
    "**filterfalse( func, iterable )**\n",
    "\n",
    "filterfalse()\n",
    "\n",
    "pred, seq\n",
    "\n",
    "elements of seq where pred(elem) is false\n",
    "\n",
    "filterfalse(lambda x: x%2, range(10)) --> 0 2 4 6 8\n",
    "\n",
    "if func(item) if False, eg: 0, or len=0 then it's val is returned"
   ]
  },
  {
   "cell_type": "code",
   "execution_count": 174,
   "id": "8b3f6bba",
   "metadata": {},
   "outputs": [],
   "source": [
    "from itertools import filterfalse"
   ]
  },
  {
   "cell_type": "code",
   "execution_count": 175,
   "id": "8083751d",
   "metadata": {},
   "outputs": [
    {
     "data": {
      "text/plain": [
       "[0, 2, 4, 6, 8]"
      ]
     },
     "execution_count": 175,
     "metadata": {},
     "output_type": "execute_result"
    }
   ],
   "source": [
    "list(filterfalse(lambda x: x % 2, range(10)))"
   ]
  },
  {
   "cell_type": "markdown",
   "id": "a32afa5d",
   "metadata": {},
   "source": [
    "**If predicate is None, return the items that are false. i.e., items whose bool value is False**"
   ]
  },
  {
   "cell_type": "code",
   "execution_count": 176,
   "id": "634969b5",
   "metadata": {},
   "outputs": [
    {
     "data": {
      "text/plain": [
       "[0]"
      ]
     },
     "execution_count": 176,
     "metadata": {},
     "output_type": "execute_result"
    }
   ],
   "source": [
    "list(filterfalse(None, range(10)))"
   ]
  },
  {
   "cell_type": "markdown",
   "id": "597f31e7",
   "metadata": {},
   "source": [
    "**with built in function filter**"
   ]
  },
  {
   "cell_type": "code",
   "execution_count": 177,
   "id": "09997e56",
   "metadata": {},
   "outputs": [
    {
     "data": {
      "text/plain": [
       "[1, 3, 5, 7, 9]"
      ]
     },
     "execution_count": 177,
     "metadata": {},
     "output_type": "execute_result"
    }
   ],
   "source": [
    "list(filter(lambda x: x % 2, range(10)))"
   ]
  },
  {
   "cell_type": "code",
   "execution_count": 178,
   "id": "934d9b6b",
   "metadata": {},
   "outputs": [
    {
     "data": {
      "text/plain": [
       "[1, 2, 3, 4, 5, 6, 7, 8, 9]"
      ]
     },
     "execution_count": 178,
     "metadata": {},
     "output_type": "execute_result"
    }
   ],
   "source": [
    "list(filter(None, range(10)))"
   ]
  },
  {
   "cell_type": "markdown",
   "id": "81bbca1b",
   "metadata": {},
   "source": [
    "**groupby( iterable [, key = None ] )**\n",
    "\n",
    "groupby()\n",
    "\n",
    "iterable[, key]\n",
    "\n",
    "sub-iterators grouped by value of key(v)\n",
    "\n",
    "key argument here is like sort() function key, just to manipulate the value before comparing"
   ]
  },
  {
   "cell_type": "markdown",
   "id": "189f8b6a",
   "metadata": {},
   "source": [
    "**The operation of groupby() is similar to the uniq filter in Unix. It generates a break or new group every time the value of the key function changes (which is why it is usually necessary to have sorted the data using the same key function). That behavior differs from SQL’s GROUP BY which aggregates common elements regardless of their input order.**"
   ]
  },
  {
   "cell_type": "code",
   "execution_count": 179,
   "id": "7e6359c8",
   "metadata": {},
   "outputs": [],
   "source": [
    "from itertools import groupby"
   ]
  },
  {
   "cell_type": "code",
   "execution_count": 180,
   "id": "c8f5f04a",
   "metadata": {},
   "outputs": [
    {
     "data": {
      "text/plain": [
       "(['a', 'b', 'f'],\n",
       " [['A', 'a', 'a', 'a', 'a', 'a', 'a', 'A', 'A', 'A', 'A'],\n",
       "  ['b', 'b', 'b', 'B', 'B', 'B'],\n",
       "  ['f']])"
      ]
     },
     "execution_count": 180,
     "metadata": {},
     "output_type": "execute_result"
    }
   ],
   "source": [
    "data = \"AaababafabaBAABABA\"\n",
    "keyfunc = str.lower\n",
    "\n",
    "groups = []\n",
    "uniquekeys = []\n",
    "data = sorted(data, key=keyfunc)\n",
    "for k, g in groupby(data, keyfunc):\n",
    "    groups.append(list(g))      # Store group iterator as a list\n",
    "    uniquekeys.append(k)\n",
    "\n",
    "uniquekeys, groups"
   ]
  },
  {
   "cell_type": "code",
   "execution_count": 181,
   "id": "79a216c8",
   "metadata": {},
   "outputs": [
    {
     "name": "stdout",
     "output_type": "stream",
     "text": [
      "['a', 'b', 'a', 'b', 'a', 'f', 'a', 'b', 'a', 'b', 'a', 'b', 'a', 'b', 'a']\n",
      "\n",
      "[['A', 'a', 'a'], ['b'], ['a'], ['b'], ['a'], ['f'], ['a'], ['b'], ['a'], ['B'], ['A', 'A'], ['B'], ['A'], ['B'], ['A']]\n"
     ]
    }
   ],
   "source": [
    "data = \"AaababafabaBAABABA\"\n",
    "keyfunc = str.lower\n",
    "\n",
    "groups = []\n",
    "uniquekeys = []\n",
    "# with sorting\n",
    "for k, g in groupby(data, keyfunc):\n",
    "    groups.append(list(g))      # Store group iterator as a list\n",
    "    uniquekeys.append(k)\n",
    "\n",
    "print(uniquekeys, groups, sep=\"\\n\\n\")"
   ]
  },
  {
   "cell_type": "code",
   "execution_count": 182,
   "id": "cccaae5d",
   "metadata": {},
   "outputs": [
    {
     "name": "stdout",
     "output_type": "stream",
     "text": [
      "['A', 'a', 'b', 'a', 'b', 'a', 'f', 'a', 'b', 'a', 'B', 'A', 'B', 'A', 'B', 'A']\n",
      "\n",
      "[['A'], ['a', 'a'], ['b'], ['a'], ['b'], ['a'], ['f'], ['a'], ['b'], ['a'], ['B'], ['A', 'A'], ['B'], ['A'], ['B'], ['A']]\n"
     ]
    }
   ],
   "source": [
    "data = \"AaababafabaBAABABA\"\n",
    "keyfunc = None # without keyfunc i.e keyfunc = None\n",
    "\n",
    "groups = []\n",
    "uniquekeys = []\n",
    "# with sorting\n",
    "for k, g in groupby(data, keyfunc):\n",
    "    groups.append(list(g))      # Store group iterator as a list\n",
    "    uniquekeys.append(k)\n",
    "\n",
    "print(uniquekeys, groups, sep=\"\\n\\n\")"
   ]
  },
  {
   "cell_type": "markdown",
   "id": "8f32fe1b",
   "metadata": {},
   "source": [
    "**EXAMPLES**"
   ]
  },
  {
   "cell_type": "code",
   "execution_count": 183,
   "id": "0b415004",
   "metadata": {},
   "outputs": [
    {
     "data": {
      "text/plain": [
       "['A', 'B', 'C', 'D', 'A', 'B']"
      ]
     },
     "execution_count": 183,
     "metadata": {},
     "output_type": "execute_result"
    }
   ],
   "source": [
    "[k for k, g in groupby('AAAABBBCCDAABBB')]"
   ]
  },
  {
   "cell_type": "code",
   "execution_count": 184,
   "id": "812831e0",
   "metadata": {},
   "outputs": [
    {
     "data": {
      "text/plain": [
       "[['A', 'A', 'A', 'A'], ['B', 'B', 'B'], ['C', 'C'], ['D']]"
      ]
     },
     "execution_count": 184,
     "metadata": {},
     "output_type": "execute_result"
    }
   ],
   "source": [
    "[list(g) for k, g in groupby('AAAABBBCCD')]"
   ]
  },
  {
   "cell_type": "markdown",
   "id": "1f55327e",
   "metadata": {},
   "source": [
    "**islice( iterable, [ start, ] stop [, step=1 ] )**\n",
    "\n",
    "islice()\n",
    "\n",
    "seq, [start,] stop [, step]\n",
    "\n",
    "elements from seq[start:stop:step]\n",
    "\n",
    "islice('ABCDEFG', 2, None) --> C D E F G"
   ]
  },
  {
   "cell_type": "markdown",
   "id": "9f07eeea",
   "metadata": {},
   "source": [
    "variations\n",
    "\n",
    "islice( iterable, stop )\n",
    "\n",
    "islice( iterable, start, None ) # None for going till the end\n",
    "\n",
    "islice( iterable, start, stop )\n",
    "\n",
    "islice( iterable, start, stop, step )\n",
    "\n",
    "**Unlike regular slicing, islice() does not support negative values for start, stop, or step.**"
   ]
  },
  {
   "cell_type": "code",
   "execution_count": 185,
   "id": "ad08cd68",
   "metadata": {},
   "outputs": [],
   "source": [
    "from itertools import islice"
   ]
  },
  {
   "cell_type": "code",
   "execution_count": 186,
   "id": "4080b752",
   "metadata": {},
   "outputs": [
    {
     "data": {
      "text/plain": [
       "['A', 'B']"
      ]
     },
     "execution_count": 186,
     "metadata": {},
     "output_type": "execute_result"
    }
   ],
   "source": [
    "list(islice('ABCDEFG', 2))"
   ]
  },
  {
   "cell_type": "code",
   "execution_count": 187,
   "id": "399b3fbd",
   "metadata": {},
   "outputs": [
    {
     "data": {
      "text/plain": [
       "['C', 'D']"
      ]
     },
     "execution_count": 187,
     "metadata": {},
     "output_type": "execute_result"
    }
   ],
   "source": [
    "list(islice('ABCDEFG', 2, 4))"
   ]
  },
  {
   "cell_type": "code",
   "execution_count": 188,
   "id": "b4ea6873",
   "metadata": {},
   "outputs": [
    {
     "data": {
      "text/plain": [
       "['C', 'D', 'E', 'F', 'G']"
      ]
     },
     "execution_count": 188,
     "metadata": {},
     "output_type": "execute_result"
    }
   ],
   "source": [
    "list(islice('ABCDEFG', 2, None))"
   ]
  },
  {
   "cell_type": "code",
   "execution_count": 189,
   "id": "3fb7545b",
   "metadata": {},
   "outputs": [
    {
     "data": {
      "text/plain": [
       "['A', 'C', 'E', 'G']"
      ]
     },
     "execution_count": 189,
     "metadata": {},
     "output_type": "execute_result"
    }
   ],
   "source": [
    "list(islice('ABCDEFG', 0, None, 2))"
   ]
  },
  {
   "cell_type": "markdown",
   "id": "d83202a6",
   "metadata": {},
   "source": [
    "**pairwise( iterable )**\n",
    "\n",
    "pairwise()\n",
    "\n",
    "iterable\n",
    "\n",
    "(p[0], p[1]), (p[1], p[2])\n",
    "\n",
    "pairwise('ABCDEFG') --> AB BC CD DE EF FG"
   ]
  },
  {
   "cell_type": "code",
   "execution_count": 190,
   "id": "992c21d2",
   "metadata": {},
   "outputs": [],
   "source": [
    "# new in 3.10"
   ]
  },
  {
   "cell_type": "code",
   "execution_count": 191,
   "id": "55eac341",
   "metadata": {},
   "outputs": [],
   "source": [
    "# list(pairwise(\"ABCDEFGH\"))"
   ]
  },
  {
   "cell_type": "markdown",
   "id": "b09cc8dd",
   "metadata": {},
   "source": [
    "**starmap( func, iterable )**\n",
    "\n",
    "starmap()\n",
    "\n",
    "func, seq\n",
    "\n",
    "func(*seq[0]), func(*seq[1]), …\n",
    "\n",
    "starmap(pow, [(2,5), (3,2), (10,3)]) --> 32 9 1000"
   ]
  },
  {
   "cell_type": "code",
   "execution_count": 192,
   "id": "eb4f26a5",
   "metadata": {},
   "outputs": [],
   "source": [
    "from itertools import starmap"
   ]
  },
  {
   "cell_type": "code",
   "execution_count": 193,
   "id": "5f06acc8",
   "metadata": {},
   "outputs": [
    {
     "data": {
      "text/plain": [
       "[32, 9, 1000]"
      ]
     },
     "execution_count": 193,
     "metadata": {},
     "output_type": "execute_result"
    }
   ],
   "source": [
    "list(starmap(pow, [(2,5), (3,2), (10,3)]))"
   ]
  },
  {
   "cell_type": "code",
   "execution_count": 194,
   "id": "c712aa36",
   "metadata": {},
   "outputs": [],
   "source": [
    "# for map built in "
   ]
  },
  {
   "cell_type": "code",
   "execution_count": 195,
   "id": "d62072aa",
   "metadata": {},
   "outputs": [
    {
     "data": {
      "text/plain": [
       "[32, 9, 1000]"
      ]
     },
     "execution_count": 195,
     "metadata": {},
     "output_type": "execute_result"
    }
   ],
   "source": [
    "n = [2, 3, 10]\n",
    "powers = [5, 2, 3]\n",
    "list(map(pow, n, powers))"
   ]
  },
  {
   "cell_type": "markdown",
   "id": "9662b8ee",
   "metadata": {},
   "source": [
    "**tee( iterable, n = 2 )**\n",
    "\n",
    "tee()\n",
    "\n",
    "it, n\n",
    "\n",
    "it1, it2, … itn splits one iterator into n\n",
    "\n",
    "**gives n independent iterators which all start from the begining**"
   ]
  },
  {
   "cell_type": "code",
   "execution_count": 196,
   "id": "8b6a5bbb",
   "metadata": {},
   "outputs": [],
   "source": [
    "from itertools import tee"
   ]
  },
  {
   "cell_type": "code",
   "execution_count": 199,
   "id": "0d964e09",
   "metadata": {},
   "outputs": [
    {
     "name": "stdout",
     "output_type": "stream",
     "text": [
      "1 2 3\n",
      "2 3 4\n",
      "3 4 5\n",
      "4 5 6\n",
      "5 6 7\n"
     ]
    }
   ],
   "source": [
    "a, b, c = tee([1, 2, 3, 4, 5, 6, 7], 3)\n",
    "next(b)\n",
    "next(c)\n",
    "next(c)\n",
    "\n",
    "a_val, b_val, c_val = next(a), next(b), next(c)\n",
    "\n",
    "while c_val:\n",
    "    print(a_val, b_val, c_val)\n",
    "    a_val, b_val, c_val = next(a), next(b), next(c, None)\n",
    "     # some mistake here"
   ]
  },
  {
   "cell_type": "code",
   "execution_count": 200,
   "id": "7867bb80",
   "metadata": {},
   "outputs": [
    {
     "data": {
      "text/plain": [
       "[(1, 2, 3), (2, 3, 4), (3, 4, 5), (4, 5, 6), (5, 6, 7)]"
      ]
     },
     "execution_count": 200,
     "metadata": {},
     "output_type": "execute_result"
    }
   ],
   "source": [
    "a, b, c = tee([1, 2, 3, 4, 5, 6, 7], 3)\n",
    "next(b)\n",
    "next(c)\n",
    "next(c)\n",
    "list(zip(a, b, c))"
   ]
  },
  {
   "cell_type": "markdown",
   "id": "123e42df",
   "metadata": {},
   "source": [
    "**zip_longes( *iterables, fillvalue=None )**\n",
    "\n",
    "zip_longest()\n",
    "\n",
    "p, q, …\n",
    "\n",
    "(p[0], q[0]), (p[1], q[1]), …\n",
    "\n",
    "zip_longest('ABCD', 'xy', fillvalue='-') --> Ax By C- D-"
   ]
  },
  {
   "cell_type": "code",
   "execution_count": 201,
   "id": "d27d32e4",
   "metadata": {},
   "outputs": [],
   "source": [
    "from itertools import zip_longest"
   ]
  },
  {
   "cell_type": "code",
   "execution_count": 203,
   "id": "eaba10d2",
   "metadata": {},
   "outputs": [
    {
     "data": {
      "text/plain": [
       "[('A', 'X'), ('B', 'Y'), ('C', 'Z'), ('D', '-'), ('E', '-'), ('F', '-')]"
      ]
     },
     "execution_count": 203,
     "metadata": {},
     "output_type": "execute_result"
    }
   ],
   "source": [
    "list(zip_longest(\"ABCDEF\", \"XYZ\", fillvalue=\"-\"))"
   ]
  },
  {
   "cell_type": "markdown",
   "id": "25af038e",
   "metadata": {},
   "source": [
    "## Combinatoric iterators"
   ]
  },
  {
   "cell_type": "markdown",
   "id": "80e92cd3",
   "metadata": {},
   "source": [
    "Examples\n",
    "\n",
    "Results\n",
    "\n",
    "product('ABCD', repeat=2)\n",
    "\n",
    "AA AB AC AD BA BB BC BD CA CB CC CD DA DB DC DD\n",
    "\n",
    "permutations('ABCD', 2)\n",
    "\n",
    "AB AC AD BA BC BD CA CB CD DA DB DC\n",
    "\n",
    "combinations('ABCD', 2)\n",
    "\n",
    "AB AC AD BC BD CD\n",
    "\n",
    "combinations_with_replacement('ABCD', 2)\n",
    "\n",
    "AA AB AC AD BB BC BD CC CD DD"
   ]
  },
  {
   "cell_type": "markdown",
   "id": "21e25813",
   "metadata": {},
   "source": [
    "**product( *iterables [, repeat = 1 ] )**\n",
    "\n",
    "product()\n",
    "\n",
    "p, q, … [repeat=1]\n",
    "\n",
    "cartesian product, equivalent to a nested for-loop\n",
    "\n",
    "product('ABCD', repeat=2)\n",
    "\n",
    "AA AB AC AD BA BB BC BD CA CB CC CD DA DB DC DD"
   ]
  },
  {
   "cell_type": "markdown",
   "id": "48bf534a",
   "metadata": {},
   "source": [
    "product(A, B) returns the same as ((x,y) for x in A for y in B).\n",
    "\n",
    "product(A, repeat=4) means the same as product(A, A, A, A).\n",
    "\n",
    "product(A, B, repeat=2) means the same as product(A, B, A, B)"
   ]
  },
  {
   "cell_type": "code",
   "execution_count": 213,
   "id": "032ca75f",
   "metadata": {},
   "outputs": [],
   "source": [
    "from itertools import product"
   ]
  },
  {
   "cell_type": "code",
   "execution_count": 214,
   "id": "64c64656",
   "metadata": {},
   "outputs": [
    {
     "data": {
      "text/plain": [
       "[('A', 'x'),\n",
       " ('A', 'y'),\n",
       " ('B', 'x'),\n",
       " ('B', 'y'),\n",
       " ('C', 'x'),\n",
       " ('C', 'y'),\n",
       " ('D', 'x'),\n",
       " ('D', 'y')]"
      ]
     },
     "execution_count": 214,
     "metadata": {},
     "output_type": "execute_result"
    }
   ],
   "source": [
    "list(product(\"ABCD\", \"xy\"))"
   ]
  },
  {
   "cell_type": "code",
   "execution_count": 215,
   "id": "42c30566",
   "metadata": {},
   "outputs": [
    {
     "data": {
      "text/plain": [
       "[(0, 0, 0),\n",
       " (0, 0, 1),\n",
       " (0, 1, 0),\n",
       " (0, 1, 1),\n",
       " (1, 0, 0),\n",
       " (1, 0, 1),\n",
       " (1, 1, 0),\n",
       " (1, 1, 1)]"
      ]
     },
     "execution_count": 215,
     "metadata": {},
     "output_type": "execute_result"
    }
   ],
   "source": [
    "# FOR BINARY FORM OF NUMBERS\n",
    "list(product(range(2), repeat=3))"
   ]
  },
  {
   "cell_type": "code",
   "execution_count": 216,
   "id": "68678ee7",
   "metadata": {},
   "outputs": [
    {
     "data": {
      "text/plain": [
       "[(0, 0, 0),\n",
       " (0, 0, 1),\n",
       " (0, 1, 0),\n",
       " (0, 1, 1),\n",
       " (1, 0, 0),\n",
       " (1, 0, 1),\n",
       " (1, 1, 0),\n",
       " (1, 1, 1)]"
      ]
     },
     "execution_count": 216,
     "metadata": {},
     "output_type": "execute_result"
    }
   ],
   "source": [
    "# can also be\n",
    "list(product([0, 1], repeat=3))"
   ]
  },
  {
   "cell_type": "code",
   "execution_count": 217,
   "id": "e691a5f3",
   "metadata": {},
   "outputs": [
    {
     "name": "stdout",
     "output_type": "stream",
     "text": [
      "[('A', 'x', 'A', 'x'), ('A', 'x', 'A', 'y'), ('A', 'x', 'B', 'x'), ('A', 'x', 'B', 'y'), ('A', 'y', 'A', 'x'), ('A', 'y', 'A', 'y'), ('A', 'y', 'B', 'x'), ('A', 'y', 'B', 'y'), ('B', 'x', 'A', 'x'), ('B', 'x', 'A', 'y'), ('B', 'x', 'B', 'x'), ('B', 'x', 'B', 'y'), ('B', 'y', 'A', 'x'), ('B', 'y', 'A', 'y'), ('B', 'y', 'B', 'x'), ('B', 'y', 'B', 'y')]\n"
     ]
    }
   ],
   "source": [
    "print(list(product(\"AB\", \"xy\", repeat=2)))"
   ]
  },
  {
   "cell_type": "markdown",
   "id": "9d897308",
   "metadata": {},
   "source": [
    "**permutations( p [, r] )**\n",
    "\n",
    "permutations()\n",
    "\n",
    "p[, r]\n",
    "\n",
    "r-length tuples, all possible orderings, no repeated elements\n",
    "\n",
    "permutations('ABCD', 2)\n",
    "\n",
    "AB AC AD BA BC BD CA CB CD DA DB DC"
   ]
  },
  {
   "cell_type": "code",
   "execution_count": 220,
   "id": "ad66e034",
   "metadata": {},
   "outputs": [],
   "source": [
    "from itertools import permutations # S "
   ]
  },
  {
   "cell_type": "code",
   "execution_count": 222,
   "id": "4855eae5",
   "metadata": {},
   "outputs": [
    {
     "data": {
      "text/plain": [
       "[('A', 'B'), ('A', 'C'), ('B', 'A'), ('B', 'C'), ('C', 'A'), ('C', 'B')]"
      ]
     },
     "execution_count": 222,
     "metadata": {},
     "output_type": "execute_result"
    }
   ],
   "source": [
    "list(permutations(\"ABC\", 2))"
   ]
  },
  {
   "cell_type": "code",
   "execution_count": 226,
   "id": "a3bfd86e",
   "metadata": {},
   "outputs": [
    {
     "data": {
      "text/plain": [
       "[('A', 'B', 'C'),\n",
       " ('A', 'C', 'B'),\n",
       " ('B', 'A', 'C'),\n",
       " ('B', 'C', 'A'),\n",
       " ('C', 'A', 'B'),\n",
       " ('C', 'B', 'A')]"
      ]
     },
     "execution_count": 226,
     "metadata": {},
     "output_type": "execute_result"
    }
   ],
   "source": [
    "list(permutations(\"ABC\"))"
   ]
  },
  {
   "cell_type": "code",
   "execution_count": 230,
   "id": "733f9967",
   "metadata": {},
   "outputs": [
    {
     "data": {
      "text/plain": [
       "[(0, 1), (0, 2), (1, 0), (1, 2), (2, 0), (2, 1)]"
      ]
     },
     "execution_count": 230,
     "metadata": {},
     "output_type": "execute_result"
    }
   ],
   "source": [
    "list(permutations(range(3), 2))"
   ]
  },
  {
   "cell_type": "markdown",
   "id": "f8867204",
   "metadata": {},
   "source": [
    "**combinations( p, r )**\n",
    "\n",
    "combinations()\n",
    "\n",
    "p, r\n",
    "\n",
    "r-length tuples, in sorted order, no repeated elements\n",
    "\n",
    "combinations('ABCD', 2)\n",
    "\n",
    "AB AC AD BC BD CD\n",
    "\n",
    "**r doesn't have a default value**"
   ]
  },
  {
   "cell_type": "code",
   "execution_count": 225,
   "id": "2d6a8d6d",
   "metadata": {},
   "outputs": [],
   "source": [
    "from itertools import combinations"
   ]
  },
  {
   "cell_type": "code",
   "execution_count": 232,
   "id": "b8304867",
   "metadata": {},
   "outputs": [
    {
     "data": {
      "text/plain": [
       "[('A', 'B'), ('A', 'C'), ('A', 'D'), ('B', 'C'), ('B', 'D'), ('C', 'D')]"
      ]
     },
     "execution_count": 232,
     "metadata": {},
     "output_type": "execute_result"
    }
   ],
   "source": [
    "list(combinations('ABCD', 2))"
   ]
  },
  {
   "cell_type": "code",
   "execution_count": 233,
   "id": "16457b78",
   "metadata": {},
   "outputs": [
    {
     "data": {
      "text/plain": [
       "[(0, 1, 2), (0, 1, 3), (0, 2, 3), (1, 2, 3)]"
      ]
     },
     "execution_count": 233,
     "metadata": {},
     "output_type": "execute_result"
    }
   ],
   "source": [
    "list(combinations(range(4), 3))"
   ]
  },
  {
   "cell_type": "markdown",
   "id": "9555173c",
   "metadata": {},
   "source": [
    "**combinations_with_replacement( iterable, r )**\n",
    "\n",
    "combinations_with_replacement()\n",
    "\n",
    "p, r\n",
    "\n",
    "r-length tuples, in sorted order, with repeated elements\n",
    "\n",
    "combinations_with_replacement('ABCD', 2)\n",
    "\n",
    "AA AB AC AD BB BC BD CC CD DD"
   ]
  },
  {
   "cell_type": "code",
   "execution_count": 235,
   "id": "b007355a",
   "metadata": {},
   "outputs": [],
   "source": [
    "from itertools import combinations_with_replacement"
   ]
  },
  {
   "cell_type": "code",
   "execution_count": 236,
   "id": "dbb62b18",
   "metadata": {},
   "outputs": [
    {
     "data": {
      "text/plain": [
       "[('A', 'A'), ('A', 'B'), ('A', 'C'), ('B', 'B'), ('B', 'C'), ('C', 'C')]"
      ]
     },
     "execution_count": 236,
     "metadata": {},
     "output_type": "execute_result"
    }
   ],
   "source": [
    "list(combinations_with_replacement('ABC', 2))"
   ]
  },
  {
   "cell_type": "code",
   "execution_count": 237,
   "id": "ed2ab8d4",
   "metadata": {},
   "outputs": [
    {
     "data": {
      "text/plain": [
       "[(0, 0), (0, 1), (0, 2), (1, 1), (1, 2), (2, 2)]"
      ]
     },
     "execution_count": 237,
     "metadata": {},
     "output_type": "execute_result"
    }
   ],
   "source": [
    "list(combinations_with_replacement(range(3), 2))"
   ]
  },
  {
   "cell_type": "code",
   "execution_count": null,
   "id": "52f2c73f",
   "metadata": {},
   "outputs": [],
   "source": []
  }
 ],
 "metadata": {
  "kernelspec": {
   "display_name": "Python 3 (ipykernel)",
   "language": "python",
   "name": "python3"
  },
  "language_info": {
   "codemirror_mode": {
    "name": "ipython",
    "version": 3
   },
   "file_extension": ".py",
   "mimetype": "text/x-python",
   "name": "python",
   "nbconvert_exporter": "python",
   "pygments_lexer": "ipython3",
   "version": "3.9.6"
  }
 },
 "nbformat": 4,
 "nbformat_minor": 5
}
